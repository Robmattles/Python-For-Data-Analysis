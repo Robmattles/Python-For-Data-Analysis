{
 "cells": [
  {
   "cell_type": "markdown",
   "metadata": {},
   "source": [
    "# Importing Data from Forms"
   ]
  },
  {
   "cell_type": "markdown",
   "metadata": {},
   "source": [
    "Open and Explore the Data File in a Word Processor\n",
    "\n",
    "Paypal Samples/AccountInfo-harrypotter@hotmail.com-2304074730245993858-20190503054243.txt"
   ]
  },
  {
   "cell_type": "markdown",
   "metadata": {},
   "source": [
    "Open and view a single file in Python"
   ]
  },
  {
   "cell_type": "code",
   "execution_count": 4,
   "metadata": {},
   "outputs": [
    {
     "name": "stdout",
     "output_type": "stream",
     "text": [
      "                           Global Investigations\n",
      "\n",
      "\n",
      "\n",
      "                           Law Enforcement Officer:                                                       Smith, John SA\n",
      "\n",
      "\n",
      "\n",
      "                           Law Enforcement Agency:                                                        FBI - Manassas, VA\n",
      "\n",
      "\n",
      "\n",
      "\n",
      "\n",
      "\n",
      "\n",
      "                           Law Enforcement Reference:\n",
      "\n",
      "\n",
      "\n",
      "                           All times indicated in this document refer to time zone GMT\n",
      "\n",
      "\n",
      "\n",
      "                           Registration Information\n",
      "\n",
      "\n",
      "\n",
      "                           User Info\n",
      "\n",
      "\n",
      "\n",
      "                           First Name                                                                     Harry\n",
      "\n",
      "\n",
      "\n",
      "                           Middle Name                                                                    James\n",
      "\n",
      "\n",
      "\n",
      "                           Last Name                                                                      Potter\n",
      "\n",
      "\n",
      "\n",
      "                           DOB                                                                            7-May-97\n",
      "\n",
      "\n",
      "\n",
      "                                                                                                                                Phone Numbers\n",
      "\n",
      "\n",
      "\n",
      "                           Phone Number                                                                   Confirmation Status                                                                             Type\n",
      "\n",
      "\n",
      "\n",
      "                           +1 555555555                                                                  Confirmed                                                                                       Mobile - Deleted\n",
      "\n",
      "\n",
      "\n",
      "                           +1 6666666666                                                                  Unconfirmed                                                                                     Mobile - Deleted\n",
      "\n",
      "\n",
      "\n",
      "                           +1 7777777777                                                                  Unconfirmed                                                                                     Mobile - Deleted\n",
      "\n",
      "\n",
      "\n",
      "                                                                                                                                         Addresses\n",
      "\n",
      "\n",
      "\n",
      "                           Address                                                                                                                                    Use                                                                     Date Entered\n",
      "\n",
      "\n",
      "\n",
      "                           Closet Under the Stairs, Little Wynching                                                                                    Home Or Work                                                            05/01/19\n",
      "\n",
      "\n",
      "\n",
      "                           Hogwarts School of Witchcraft and Wizardry                                                           10/30/18\n",
      "\n"
     ]
    }
   ],
   "source": [
    "with open(r'C:\\Users\\mwbarr\\OneDrive - Federal Bureau of Investigation\\Python_for_Data_Analysis\\Data Files\\Paypal Samples/AccountInfo-harrypotter-hotmail.com-2304074730245993858-20190503054243.txt','r') as f:\n",
    "    for line in f:\n",
    "        print(line)"
   ]
  },
  {
   "cell_type": "markdown",
   "metadata": {},
   "source": [
    "Extracting first name, last name, and DOB from file"
   ]
  },
  {
   "cell_type": "code",
   "execution_count": 6,
   "metadata": {},
   "outputs": [
    {
     "data": {
      "text/plain": [
       "('                           First Name                                                                     Harry\\n',\n",
       " '                           Last Name                                                                      Potter\\n',\n",
       " '                           DOB                                                                            7-May-97\\n')"
      ]
     },
     "execution_count": 6,
     "metadata": {},
     "output_type": "execute_result"
    }
   ],
   "source": [
    "with open(r'C:\\Users\\mwbarr\\OneDrive - Federal Bureau of Investigation\\Python_for_Data_Analysis\\Data Files\\Paypal Samples/AccountInfo-harrypotter-hotmail.com-2304074730245993858-20190503054243.txt','r') as f:\n",
    "    for line in f:\n",
    "        if 'First Name' in line:\n",
    "            firstName=line\n",
    "        if 'Last Name' in line:\n",
    "            lastName=line\n",
    "        if 'DOB' in line:\n",
    "            dob=line\n",
    "firstName,lastName,dob"
   ]
  },
  {
   "cell_type": "markdown",
   "metadata": {},
   "source": [
    "Cleaning Text"
   ]
  },
  {
   "cell_type": "code",
   "execution_count": 7,
   "metadata": {},
   "outputs": [
    {
     "data": {
      "text/plain": [
       "('Harry', 'Potter', '7-May-97')"
      ]
     },
     "execution_count": 7,
     "metadata": {},
     "output_type": "execute_result"
    }
   ],
   "source": [
    "cleanedFirstName=firstName.replace('First Name','').strip()\n",
    "cleanedLastName=lastName.replace('Last Name','').strip()\n",
    "cleanedDob=dob.replace('DOB','').strip()\n",
    "cleanedFirstName,cleanedLastName,cleanedDob"
   ]
  },
  {
   "cell_type": "markdown",
   "metadata": {},
   "source": [
    "Locating Nested Tables using Key Terms and Toggles"
   ]
  },
  {
   "cell_type": "code",
   "execution_count": 9,
   "metadata": {},
   "outputs": [
    {
     "name": "stdout",
     "output_type": "stream",
     "text": [
      "\n",
      "\n",
      "                           Phone Number                                                                   Confirmation Status                                                                             Type\n",
      "\n",
      "\n",
      "\n",
      "                           +1 555555555                                                                  Confirmed                                                                                       Mobile - Deleted\n",
      "\n",
      "\n",
      "\n",
      "                           +1 6666666666                                                                  Unconfirmed                                                                                     Mobile - Deleted\n",
      "\n",
      "\n",
      "\n",
      "                           +1 7777777777                                                                  Unconfirmed                                                                                     Mobile - Deleted\n",
      "\n",
      "\n",
      "\n"
     ]
    }
   ],
   "source": [
    "inPhoneNumbersSection=False\n",
    "with open(r'C:\\Users\\mwbarr\\OneDrive - Federal Bureau of Investigation\\Python_for_Data_Analysis\\Data Files\\Paypal Samples/AccountInfo-harrypotter-hotmail.com-2304074730245993858-20190503054243.txt','r') as f:\n",
    "    for line in f:\n",
    "        if 'Addresses' in line:\n",
    "            inPhoneNumbersSection=False\n",
    "        if inPhoneNumbersSection==True:\n",
    "            print(line)\n",
    "        if 'Phone Numbers' in line:\n",
    "            inPhoneNumbersSection=True\n",
    "\n",
    "            "
   ]
  },
  {
   "cell_type": "markdown",
   "metadata": {},
   "source": [
    "Storing Data from Nested Tables"
   ]
  },
  {
   "cell_type": "code",
   "execution_count": 12,
   "metadata": {},
   "outputs": [
    {
     "data": {
      "text/plain": [
       "[['Phone', 'Number', 'Confirmation', 'Status', 'Type'],\n",
       " ['+1', '555555555', 'Confirmed', 'Mobile', '-', 'Deleted'],\n",
       " ['+1', '6666666666', 'Unconfirmed', 'Mobile', '-', 'Deleted'],\n",
       " ['+1', '7777777777', 'Unconfirmed', 'Mobile', '-', 'Deleted']]"
      ]
     },
     "execution_count": 12,
     "metadata": {},
     "output_type": "execute_result"
    }
   ],
   "source": [
    "inPhoneNumbersSection=False\n",
    "phoneNumberRows=[]\n",
    "with open(r'C:\\Users\\mwbarr\\OneDrive - Federal Bureau of Investigation\\Python_for_Data_Analysis\\Data Files\\Paypal Samples/AccountInfo-harrypotter-hotmail.com-2304074730245993858-20190503054243.txt','r') as f:\n",
    "    for line in f:\n",
    "        if 'Addresses' in line:\n",
    "            inPhoneNumbersSection=False\n",
    "        if inPhoneNumbersSection==True:\n",
    "            if len(line)>10:\n",
    "                phoneNumberRows.append(line.split())\n",
    "        if 'Phone Numbers' in line:\n",
    "            inPhoneNumbersSection=True\n",
    "phoneNumberRows\n",
    "        "
   ]
  },
  {
   "cell_type": "markdown",
   "metadata": {},
   "source": [
    "Convert Extracted Data to Data Frame"
   ]
  },
  {
   "cell_type": "code",
   "execution_count": 13,
   "metadata": {},
   "outputs": [
    {
     "data": {
      "text/html": [
       "<div>\n",
       "<style scoped>\n",
       "    .dataframe tbody tr th:only-of-type {\n",
       "        vertical-align: middle;\n",
       "    }\n",
       "\n",
       "    .dataframe tbody tr th {\n",
       "        vertical-align: top;\n",
       "    }\n",
       "\n",
       "    .dataframe thead th {\n",
       "        text-align: right;\n",
       "    }\n",
       "</style>\n",
       "<table border=\"1\" class=\"dataframe\">\n",
       "  <thead>\n",
       "    <tr style=\"text-align: right;\">\n",
       "      <th></th>\n",
       "      <th>0</th>\n",
       "      <th>1</th>\n",
       "      <th>2</th>\n",
       "      <th>3</th>\n",
       "      <th>4</th>\n",
       "      <th>5</th>\n",
       "    </tr>\n",
       "  </thead>\n",
       "  <tbody>\n",
       "    <tr>\n",
       "      <th>0</th>\n",
       "      <td>Phone</td>\n",
       "      <td>Number</td>\n",
       "      <td>Confirmation</td>\n",
       "      <td>Status</td>\n",
       "      <td>Type</td>\n",
       "      <td>None</td>\n",
       "    </tr>\n",
       "    <tr>\n",
       "      <th>1</th>\n",
       "      <td>+1</td>\n",
       "      <td>555555555</td>\n",
       "      <td>Confirmed</td>\n",
       "      <td>Mobile</td>\n",
       "      <td>-</td>\n",
       "      <td>Deleted</td>\n",
       "    </tr>\n",
       "    <tr>\n",
       "      <th>2</th>\n",
       "      <td>+1</td>\n",
       "      <td>6666666666</td>\n",
       "      <td>Unconfirmed</td>\n",
       "      <td>Mobile</td>\n",
       "      <td>-</td>\n",
       "      <td>Deleted</td>\n",
       "    </tr>\n",
       "    <tr>\n",
       "      <th>3</th>\n",
       "      <td>+1</td>\n",
       "      <td>7777777777</td>\n",
       "      <td>Unconfirmed</td>\n",
       "      <td>Mobile</td>\n",
       "      <td>-</td>\n",
       "      <td>Deleted</td>\n",
       "    </tr>\n",
       "  </tbody>\n",
       "</table>\n",
       "</div>"
      ],
      "text/plain": [
       "       0           1             2       3     4        5\n",
       "0  Phone      Number  Confirmation  Status  Type     None\n",
       "1     +1   555555555     Confirmed  Mobile     -  Deleted\n",
       "2     +1  6666666666   Unconfirmed  Mobile     -  Deleted\n",
       "3     +1  7777777777   Unconfirmed  Mobile     -  Deleted"
      ]
     },
     "execution_count": 13,
     "metadata": {},
     "output_type": "execute_result"
    }
   ],
   "source": [
    "import pandas as pd\n",
    "phoneNumbers=pd.DataFrame(phoneNumberRows)\n",
    "phoneNumbers"
   ]
  },
  {
   "cell_type": "markdown",
   "metadata": {},
   "source": [
    "Change Column Headers, then drop the first row"
   ]
  },
  {
   "cell_type": "code",
   "execution_count": 14,
   "metadata": {},
   "outputs": [
    {
     "data": {
      "text/html": [
       "<div>\n",
       "<style scoped>\n",
       "    .dataframe tbody tr th:only-of-type {\n",
       "        vertical-align: middle;\n",
       "    }\n",
       "\n",
       "    .dataframe tbody tr th {\n",
       "        vertical-align: top;\n",
       "    }\n",
       "\n",
       "    .dataframe thead th {\n",
       "        text-align: right;\n",
       "    }\n",
       "</style>\n",
       "<table border=\"1\" class=\"dataframe\">\n",
       "  <thead>\n",
       "    <tr style=\"text-align: right;\">\n",
       "      <th></th>\n",
       "      <th>Country Code</th>\n",
       "      <th>Number</th>\n",
       "      <th>Confirmation</th>\n",
       "      <th>Type</th>\n",
       "      <th>Additional Info</th>\n",
       "      <th>Deleted</th>\n",
       "    </tr>\n",
       "  </thead>\n",
       "  <tbody>\n",
       "    <tr>\n",
       "      <th>1</th>\n",
       "      <td>+1</td>\n",
       "      <td>555555555</td>\n",
       "      <td>Confirmed</td>\n",
       "      <td>Mobile</td>\n",
       "      <td>-</td>\n",
       "      <td>Deleted</td>\n",
       "    </tr>\n",
       "    <tr>\n",
       "      <th>2</th>\n",
       "      <td>+1</td>\n",
       "      <td>6666666666</td>\n",
       "      <td>Unconfirmed</td>\n",
       "      <td>Mobile</td>\n",
       "      <td>-</td>\n",
       "      <td>Deleted</td>\n",
       "    </tr>\n",
       "    <tr>\n",
       "      <th>3</th>\n",
       "      <td>+1</td>\n",
       "      <td>7777777777</td>\n",
       "      <td>Unconfirmed</td>\n",
       "      <td>Mobile</td>\n",
       "      <td>-</td>\n",
       "      <td>Deleted</td>\n",
       "    </tr>\n",
       "  </tbody>\n",
       "</table>\n",
       "</div>"
      ],
      "text/plain": [
       "  Country Code      Number Confirmation    Type Additional Info  Deleted\n",
       "1           +1   555555555    Confirmed  Mobile               -  Deleted\n",
       "2           +1  6666666666  Unconfirmed  Mobile               -  Deleted\n",
       "3           +1  7777777777  Unconfirmed  Mobile               -  Deleted"
      ]
     },
     "execution_count": 14,
     "metadata": {},
     "output_type": "execute_result"
    }
   ],
   "source": [
    "phoneNumbers.columns=['Country Code','Number','Confirmation','Type','Additional Info','Deleted']\n",
    "phoneNumbers=phoneNumbers.drop(0)\n",
    "phoneNumbers"
   ]
  },
  {
   "cell_type": "markdown",
   "metadata": {},
   "source": [
    "Listing Files in a folder"
   ]
  },
  {
   "cell_type": "code",
   "execution_count": 15,
   "metadata": {},
   "outputs": [
    {
     "data": {
      "text/plain": [
       "['AccountInfo-harrypotter-hotmail.com-2304074730245993858-20190503054243.txt',\n",
       " 'AccountInfo-hermionegranger-gmail.com-1949742777572609669-20190503045620.txt']"
      ]
     },
     "execution_count": 15,
     "metadata": {},
     "output_type": "execute_result"
    }
   ],
   "source": [
    "import os\n",
    "files=os.listdir(r'C:\\Users\\mwbarr\\OneDrive - Federal Bureau of Investigation\\Python_for_Data_Analysis\\Data Files\\Paypal Samples/')\n",
    "files"
   ]
  },
  {
   "cell_type": "markdown",
   "metadata": {},
   "source": [
    "Putting Bio Info from Multiple Files Together"
   ]
  },
  {
   "cell_type": "code",
   "execution_count": 17,
   "metadata": {},
   "outputs": [
    {
     "data": {
      "text/plain": [
       "(['Harry', 'Hermione'], ['Potter', 'Granger'], ['7-May-97', '22-May-92'])"
      ]
     },
     "execution_count": 17,
     "metadata": {},
     "output_type": "execute_result"
    }
   ],
   "source": [
    "firstNames=[]\n",
    "lastNames=[]\n",
    "dobs=[]\n",
    "for file in files:\n",
    "    with open(r'C:\\Users\\mwbarr\\OneDrive - Federal Bureau of Investigation\\Python_for_Data_Analysis\\Data Files\\Paypal Samples/'+file,'r') as f:\n",
    "        for line in f:\n",
    "            if 'First Name' in line:\n",
    "                firstName=line\n",
    "            if 'Last Name' in line:\n",
    "                lastName=line\n",
    "            if ' DOB ' in line:\n",
    "                dob=line\n",
    "        cleanedFirstName=firstName.replace('First Name','').strip()\n",
    "        cleanedLastName=lastName.replace('Last Name','').strip()\n",
    "        cleanedDob=dob.replace('DOB','').strip()\n",
    "        firstNames.append(cleanedFirstName)\n",
    "        lastNames.append(cleanedLastName)\n",
    "        dobs.append(cleanedDob)\n",
    "firstNames,lastNames,dobs"
   ]
  },
  {
   "cell_type": "markdown",
   "metadata": {},
   "source": [
    "Convert Bio Info to Dataframe"
   ]
  },
  {
   "cell_type": "code",
   "execution_count": 18,
   "metadata": {},
   "outputs": [
    {
     "data": {
      "text/html": [
       "<div>\n",
       "<style scoped>\n",
       "    .dataframe tbody tr th:only-of-type {\n",
       "        vertical-align: middle;\n",
       "    }\n",
       "\n",
       "    .dataframe tbody tr th {\n",
       "        vertical-align: top;\n",
       "    }\n",
       "\n",
       "    .dataframe thead th {\n",
       "        text-align: right;\n",
       "    }\n",
       "</style>\n",
       "<table border=\"1\" class=\"dataframe\">\n",
       "  <thead>\n",
       "    <tr style=\"text-align: right;\">\n",
       "      <th></th>\n",
       "      <th>First Name</th>\n",
       "      <th>Last Name</th>\n",
       "      <th>DOB</th>\n",
       "    </tr>\n",
       "  </thead>\n",
       "  <tbody>\n",
       "    <tr>\n",
       "      <th>0</th>\n",
       "      <td>Harry</td>\n",
       "      <td>Potter</td>\n",
       "      <td>7-May-97</td>\n",
       "    </tr>\n",
       "    <tr>\n",
       "      <th>1</th>\n",
       "      <td>Hermione</td>\n",
       "      <td>Granger</td>\n",
       "      <td>22-May-92</td>\n",
       "    </tr>\n",
       "  </tbody>\n",
       "</table>\n",
       "</div>"
      ],
      "text/plain": [
       "  First Name Last Name        DOB\n",
       "0      Harry    Potter   7-May-97\n",
       "1   Hermione   Granger  22-May-92"
      ]
     },
     "execution_count": 18,
     "metadata": {},
     "output_type": "execute_result"
    }
   ],
   "source": [
    "bioDf=pd.DataFrame({'First Name':firstNames,'Last Name':lastNames,'DOB':dobs})\n",
    "bioDf"
   ]
  },
  {
   "cell_type": "markdown",
   "metadata": {},
   "source": [
    "Concatenating Phone Number Tables"
   ]
  },
  {
   "cell_type": "code",
   "execution_count": 20,
   "metadata": {},
   "outputs": [
    {
     "data": {
      "text/html": [
       "<div>\n",
       "<style scoped>\n",
       "    .dataframe tbody tr th:only-of-type {\n",
       "        vertical-align: middle;\n",
       "    }\n",
       "\n",
       "    .dataframe tbody tr th {\n",
       "        vertical-align: top;\n",
       "    }\n",
       "\n",
       "    .dataframe thead th {\n",
       "        text-align: right;\n",
       "    }\n",
       "</style>\n",
       "<table border=\"1\" class=\"dataframe\">\n",
       "  <thead>\n",
       "    <tr style=\"text-align: right;\">\n",
       "      <th></th>\n",
       "      <th>Country Code</th>\n",
       "      <th>Number</th>\n",
       "      <th>Confirmation</th>\n",
       "      <th>Type</th>\n",
       "      <th>Additional Info</th>\n",
       "      <th>Deleted</th>\n",
       "    </tr>\n",
       "  </thead>\n",
       "  <tbody>\n",
       "    <tr>\n",
       "      <th>1</th>\n",
       "      <td>+1</td>\n",
       "      <td>555555555</td>\n",
       "      <td>Confirmed</td>\n",
       "      <td>Mobile</td>\n",
       "      <td>-</td>\n",
       "      <td>Deleted</td>\n",
       "    </tr>\n",
       "    <tr>\n",
       "      <th>2</th>\n",
       "      <td>+1</td>\n",
       "      <td>6666666666</td>\n",
       "      <td>Unconfirmed</td>\n",
       "      <td>Mobile</td>\n",
       "      <td>-</td>\n",
       "      <td>Deleted</td>\n",
       "    </tr>\n",
       "    <tr>\n",
       "      <th>3</th>\n",
       "      <td>+1</td>\n",
       "      <td>7777777777</td>\n",
       "      <td>Unconfirmed</td>\n",
       "      <td>Mobile</td>\n",
       "      <td>-</td>\n",
       "      <td>Deleted</td>\n",
       "    </tr>\n",
       "    <tr>\n",
       "      <th>5</th>\n",
       "      <td>+1</td>\n",
       "      <td>555555555</td>\n",
       "      <td>Confirmed</td>\n",
       "      <td>Mobile</td>\n",
       "      <td>-</td>\n",
       "      <td>Deleted</td>\n",
       "    </tr>\n",
       "    <tr>\n",
       "      <th>6</th>\n",
       "      <td>+1</td>\n",
       "      <td>6666666666</td>\n",
       "      <td>Unconfirmed</td>\n",
       "      <td>Mobile</td>\n",
       "      <td>-</td>\n",
       "      <td>Deleted</td>\n",
       "    </tr>\n",
       "    <tr>\n",
       "      <th>7</th>\n",
       "      <td>+1</td>\n",
       "      <td>7777777777</td>\n",
       "      <td>Unconfirmed</td>\n",
       "      <td>Mobile</td>\n",
       "      <td>-</td>\n",
       "      <td>Deleted</td>\n",
       "    </tr>\n",
       "    <tr>\n",
       "      <th>1</th>\n",
       "      <td>+1</td>\n",
       "      <td>555555555</td>\n",
       "      <td>Confirmed</td>\n",
       "      <td>Mobile</td>\n",
       "      <td>-</td>\n",
       "      <td>Deleted</td>\n",
       "    </tr>\n",
       "    <tr>\n",
       "      <th>2</th>\n",
       "      <td>+1</td>\n",
       "      <td>6666666666</td>\n",
       "      <td>Unconfirmed</td>\n",
       "      <td>Mobile</td>\n",
       "      <td>-</td>\n",
       "      <td>Deleted</td>\n",
       "    </tr>\n",
       "    <tr>\n",
       "      <th>3</th>\n",
       "      <td>+1</td>\n",
       "      <td>7777777777</td>\n",
       "      <td>Unconfirmed</td>\n",
       "      <td>Mobile</td>\n",
       "      <td>-</td>\n",
       "      <td>Deleted</td>\n",
       "    </tr>\n",
       "    <tr>\n",
       "      <th>5</th>\n",
       "      <td>+1</td>\n",
       "      <td>555555555</td>\n",
       "      <td>Confirmed</td>\n",
       "      <td>Mobile</td>\n",
       "      <td>-</td>\n",
       "      <td>Deleted</td>\n",
       "    </tr>\n",
       "    <tr>\n",
       "      <th>6</th>\n",
       "      <td>+1</td>\n",
       "      <td>6666666666</td>\n",
       "      <td>Unconfirmed</td>\n",
       "      <td>Mobile</td>\n",
       "      <td>-</td>\n",
       "      <td>Deleted</td>\n",
       "    </tr>\n",
       "    <tr>\n",
       "      <th>7</th>\n",
       "      <td>+1</td>\n",
       "      <td>7777777777</td>\n",
       "      <td>Unconfirmed</td>\n",
       "      <td>Mobile</td>\n",
       "      <td>-</td>\n",
       "      <td>Deleted</td>\n",
       "    </tr>\n",
       "    <tr>\n",
       "      <th>9</th>\n",
       "      <td>+57</td>\n",
       "      <td>33333333333333333</td>\n",
       "      <td>Unconfirmed</td>\n",
       "      <td>Mobile</td>\n",
       "      <td>None</td>\n",
       "      <td>None</td>\n",
       "    </tr>\n",
       "  </tbody>\n",
       "</table>\n",
       "</div>"
      ],
      "text/plain": [
       "  Country Code             Number Confirmation    Type Additional Info  \\\n",
       "1           +1          555555555    Confirmed  Mobile               -   \n",
       "2           +1         6666666666  Unconfirmed  Mobile               -   \n",
       "3           +1         7777777777  Unconfirmed  Mobile               -   \n",
       "5           +1          555555555    Confirmed  Mobile               -   \n",
       "6           +1         6666666666  Unconfirmed  Mobile               -   \n",
       "7           +1         7777777777  Unconfirmed  Mobile               -   \n",
       "1           +1          555555555    Confirmed  Mobile               -   \n",
       "2           +1         6666666666  Unconfirmed  Mobile               -   \n",
       "3           +1         7777777777  Unconfirmed  Mobile               -   \n",
       "5           +1          555555555    Confirmed  Mobile               -   \n",
       "6           +1         6666666666  Unconfirmed  Mobile               -   \n",
       "7           +1         7777777777  Unconfirmed  Mobile               -   \n",
       "9          +57  33333333333333333  Unconfirmed  Mobile            None   \n",
       "\n",
       "   Deleted  \n",
       "1  Deleted  \n",
       "2  Deleted  \n",
       "3  Deleted  \n",
       "5  Deleted  \n",
       "6  Deleted  \n",
       "7  Deleted  \n",
       "1  Deleted  \n",
       "2  Deleted  \n",
       "3  Deleted  \n",
       "5  Deleted  \n",
       "6  Deleted  \n",
       "7  Deleted  \n",
       "9     None  "
      ]
     },
     "execution_count": 20,
     "metadata": {},
     "output_type": "execute_result"
    }
   ],
   "source": [
    "phoneNumbers=pd.DataFrame()\n",
    "for file in files:\n",
    "    with open(r'C:\\Users\\mwbarr\\OneDrive - Federal Bureau of Investigation\\Python_for_Data_Analysis\\Data Files\\Paypal Samples/'+file,'r') as f:\n",
    "        for line in f:\n",
    "            if 'Addresses' in line:\n",
    "                inPhoneNumbersSection=False\n",
    "            if inPhoneNumbersSection==True:\n",
    "                if len(line)>10:\n",
    "                    phoneNumberRows.append(line.split())\n",
    "            if 'Phone Numbers' in line:\n",
    "                inPhoneNumbersSection=True\n",
    "    phoneNumbers=pd.concat([phoneNumbers,pd.DataFrame(phoneNumberRows)])\n",
    "\n",
    "phoneNumbers.columns=['Country Code','Number','Confirmation','Type','Additional Info','Deleted']\n",
    "phoneNumbers=phoneNumbers[phoneNumbers['Number']!='Number']\n",
    "phoneNumbers\n"
   ]
  },
  {
   "cell_type": "code",
   "execution_count": null,
   "metadata": {
    "collapsed": true
   },
   "outputs": [],
   "source": []
  }
 ],
 "metadata": {
  "kernelspec": {
   "display_name": "Python 3",
   "language": "python",
   "name": "python3"
  },
  "language_info": {
   "codemirror_mode": {
    "name": "ipython",
    "version": 3
   },
   "file_extension": ".py",
   "mimetype": "text/x-python",
   "name": "python",
   "nbconvert_exporter": "python",
   "pygments_lexer": "ipython3",
   "version": "3.7.3"
  }
 },
 "nbformat": 4,
 "nbformat_minor": 2
}
