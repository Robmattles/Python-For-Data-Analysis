{
 "cells": [
  {
   "cell_type": "markdown",
   "metadata": {},
   "source": [
    "# Module 10: Extracting Data from Websites"
   ]
  },
  {
   "cell_type": "markdown",
   "metadata": {},
   "source": [
    "Html overview using AUDL standings"
   ]
  },
  {
   "cell_type": "markdown",
   "metadata": {},
   "source": [
    "Importing Beautiful Soup/Description of BeautifulSoup"
   ]
  },
  {
   "cell_type": "code",
   "execution_count": null,
   "metadata": {},
   "outputs": [],
   "source": []
  },
  {
   "cell_type": "markdown",
   "metadata": {},
   "source": [
    "Reading File into BeautifulSoup"
   ]
  },
  {
   "cell_type": "code",
   "execution_count": 3,
   "metadata": {},
   "outputs": [],
   "source": [
    "from bs4 import BeautifulSoup\n",
    "soup = BeautifulSoup (open(r\"C:\\Users\\mwbarr\\OneDrive - Federal Bureau of Investigation\\Python_for_Data_Analysis\\Data Files\\standings.htm\")\n",
    "                     )"
   ]
  },
  {
   "cell_type": "markdown",
   "metadata": {},
   "source": [
    "Findall"
   ]
  },
  {
   "cell_type": "code",
   "execution_count": 5,
   "metadata": {},
   "outputs": [
    {
     "data": {
      "text/plain": [
       "<td class=\"views-field views-field-team-field-team-thumbnail-image\"><img alt=\"\" class=\"image-style-none\" src=\"Standings_files/empire_thumbnail.png\" typeof=\"foaf:Image\"/> </td>"
      ]
     },
     "execution_count": 5,
     "metadata": {},
     "output_type": "execute_result"
    }
   ],
   "source": [
    "soup.find_all('td')[0]"
   ]
  },
  {
   "cell_type": "markdown",
   "metadata": {},
   "source": [
    "Get"
   ]
  },
  {
   "cell_type": "code",
   "execution_count": 7,
   "metadata": {},
   "outputs": [
    {
     "data": {
      "text/plain": [
       "['views-field', 'views-field-team-field-team-thumbnail-image']"
      ]
     },
     "execution_count": 7,
     "metadata": {},
     "output_type": "execute_result"
    }
   ],
   "source": [
    "soup.find_all('td')[0].get('class')"
   ]
  },
  {
   "cell_type": "markdown",
   "metadata": {},
   "source": [
    "Contents"
   ]
  },
  {
   "cell_type": "code",
   "execution_count": 21,
   "metadata": {},
   "outputs": [
    {
     "data": {
      "text/plain": [
       "'            8-2          \\n'"
      ]
     },
     "execution_count": 21,
     "metadata": {},
     "output_type": "execute_result"
    }
   ],
   "source": [
    "soup.find_all('td')[165].contents[0]"
   ]
  },
  {
   "cell_type": "markdown",
   "metadata": {},
   "source": [
    "Putting it together with loops"
   ]
  },
  {
   "cell_type": "code",
   "execution_count": 38,
   "metadata": {},
   "outputs": [],
   "source": [
    "winList=[]\n",
    "lossList=[]\n",
    "nameList=[]\n",
    "for tableCell in soup.find_all('td'):\n",
    "    for className in tableCell.get('class'):\n",
    "        if 'wins' in className:\n",
    "            winList.append(tableCell.contents[0])\n",
    "        if 'losses' in className:\n",
    "            lossList.append(tableCell.contents[0])\n",
    "        if 'display-name' in className and '\\n' in tableCell.contents[0]:\n",
    "            nameList.append(tableCell.contents[0])"
   ]
  },
  {
   "cell_type": "code",
   "execution_count": 50,
   "metadata": {},
   "outputs": [
    {
     "data": {
      "text/html": [
       "<div>\n",
       "<style scoped>\n",
       "    .dataframe tbody tr th:only-of-type {\n",
       "        vertical-align: middle;\n",
       "    }\n",
       "\n",
       "    .dataframe tbody tr th {\n",
       "        vertical-align: top;\n",
       "    }\n",
       "\n",
       "    .dataframe thead th {\n",
       "        text-align: right;\n",
       "    }\n",
       "</style>\n",
       "<table border=\"1\" class=\"dataframe\">\n",
       "  <thead>\n",
       "    <tr style=\"text-align: right;\">\n",
       "      <th></th>\n",
       "      <th>Wins</th>\n",
       "      <th>Losses</th>\n",
       "      <th>Team Name</th>\n",
       "    </tr>\n",
       "  </thead>\n",
       "  <tbody>\n",
       "    <tr>\n",
       "      <th>0</th>\n",
       "      <td>11</td>\n",
       "      <td>0</td>\n",
       "      <td>New York Empire</td>\n",
       "    </tr>\n",
       "    <tr>\n",
       "      <th>1</th>\n",
       "      <td>7</td>\n",
       "      <td>4</td>\n",
       "      <td>DC Breeze</td>\n",
       "    </tr>\n",
       "    <tr>\n",
       "      <th>2</th>\n",
       "      <td>6</td>\n",
       "      <td>5</td>\n",
       "      <td>Toronto Rush</td>\n",
       "    </tr>\n",
       "    <tr>\n",
       "      <th>3</th>\n",
       "      <td>3</td>\n",
       "      <td>6</td>\n",
       "      <td>Philadelphia Phoenix</td>\n",
       "    </tr>\n",
       "    <tr>\n",
       "      <th>4</th>\n",
       "      <td>3</td>\n",
       "      <td>7</td>\n",
       "      <td>Montreal Royal</td>\n",
       "    </tr>\n",
       "    <tr>\n",
       "      <th>5</th>\n",
       "      <td>2</td>\n",
       "      <td>8</td>\n",
       "      <td>Ottawa Outlaws</td>\n",
       "    </tr>\n",
       "    <tr>\n",
       "      <th>6</th>\n",
       "      <td>8</td>\n",
       "      <td>2</td>\n",
       "      <td>Raleigh Flyers</td>\n",
       "    </tr>\n",
       "    <tr>\n",
       "      <th>7</th>\n",
       "      <td>8</td>\n",
       "      <td>2</td>\n",
       "      <td>Dallas Roughnecks</td>\n",
       "    </tr>\n",
       "    <tr>\n",
       "      <th>8</th>\n",
       "      <td>4</td>\n",
       "      <td>7</td>\n",
       "      <td>Tampa Bay Cannons</td>\n",
       "    </tr>\n",
       "    <tr>\n",
       "      <th>9</th>\n",
       "      <td>4</td>\n",
       "      <td>7</td>\n",
       "      <td>Atlanta Hustle</td>\n",
       "    </tr>\n",
       "    <tr>\n",
       "      <th>10</th>\n",
       "      <td>3</td>\n",
       "      <td>9</td>\n",
       "      <td>Austin Sol</td>\n",
       "    </tr>\n",
       "    <tr>\n",
       "      <th>11</th>\n",
       "      <td>9</td>\n",
       "      <td>2</td>\n",
       "      <td>San Diego Growlers</td>\n",
       "    </tr>\n",
       "    <tr>\n",
       "      <th>12</th>\n",
       "      <td>8</td>\n",
       "      <td>3</td>\n",
       "      <td>Los Angeles Aviators</td>\n",
       "    </tr>\n",
       "    <tr>\n",
       "      <th>13</th>\n",
       "      <td>3</td>\n",
       "      <td>8</td>\n",
       "      <td>San Jose Spiders</td>\n",
       "    </tr>\n",
       "    <tr>\n",
       "      <th>14</th>\n",
       "      <td>2</td>\n",
       "      <td>9</td>\n",
       "      <td>Seattle Cascades</td>\n",
       "    </tr>\n",
       "    <tr>\n",
       "      <th>15</th>\n",
       "      <td>7</td>\n",
       "      <td>3</td>\n",
       "      <td>Chicago Wildfire</td>\n",
       "    </tr>\n",
       "    <tr>\n",
       "      <th>16</th>\n",
       "      <td>7</td>\n",
       "      <td>3</td>\n",
       "      <td>Indianapolis AlleyCats     ...</td>\n",
       "    </tr>\n",
       "    <tr>\n",
       "      <th>17</th>\n",
       "      <td>5</td>\n",
       "      <td>4</td>\n",
       "      <td>Pittsburgh Thunderbirds    ...</td>\n",
       "    </tr>\n",
       "    <tr>\n",
       "      <th>18</th>\n",
       "      <td>6</td>\n",
       "      <td>5</td>\n",
       "      <td>Minnesota Wind Chill</td>\n",
       "    </tr>\n",
       "    <tr>\n",
       "      <th>19</th>\n",
       "      <td>4</td>\n",
       "      <td>6</td>\n",
       "      <td>Madison Radicals</td>\n",
       "    </tr>\n",
       "    <tr>\n",
       "      <th>20</th>\n",
       "      <td>0</td>\n",
       "      <td>10</td>\n",
       "      <td>Detroit Mechanix</td>\n",
       "    </tr>\n",
       "  </tbody>\n",
       "</table>\n",
       "</div>"
      ],
      "text/plain": [
       "                               Wins                           Losses  \\\n",
       "0               11   \n",
       "                            0  \n",
       "                 \n",
       "1                7    \n",
       "                           4  \n",
       "                 \n",
       "2                6    \n",
       "                           5  \n",
       "                 \n",
       "3                3    \n",
       "                           6  \n",
       "                 \n",
       "4                3    \n",
       "                           7  \n",
       "                 \n",
       "5                2    \n",
       "                           8  \n",
       "                 \n",
       "6                8    \n",
       "                           2  \n",
       "                 \n",
       "7                8    \n",
       "                           2  \n",
       "                 \n",
       "8                4    \n",
       "                           7  \n",
       "                 \n",
       "9                4    \n",
       "                           7  \n",
       "                 \n",
       "10               3    \n",
       "                           9  \n",
       "                 \n",
       "11               9    \n",
       "                           2  \n",
       "                 \n",
       "12               8    \n",
       "                           3  \n",
       "                 \n",
       "13               3    \n",
       "                           8  \n",
       "                 \n",
       "14               2    \n",
       "                           9  \n",
       "                 \n",
       "15               7    \n",
       "                           3  \n",
       "                 \n",
       "16               7    \n",
       "                           3  \n",
       "                 \n",
       "17               5    \n",
       "                           4  \n",
       "                 \n",
       "18               6    \n",
       "                           5  \n",
       "                 \n",
       "19               4    \n",
       "                           6  \n",
       "                 \n",
       "20               0    \n",
       "                          10 \n",
       "                  \n",
       "\n",
       "                                            Team Name  \n",
       "0         \n",
       "                 New York Empire            \n",
       "1               \n",
       "                 DC Breeze            \n",
       "2            \n",
       "                 Toronto Rush            \n",
       "3    \n",
       "                 Philadelphia Phoenix            \n",
       "4          \n",
       "                 Montreal Royal            \n",
       "5          \n",
       "                 Ottawa Outlaws            \n",
       "6          \n",
       "                 Raleigh Flyers            \n",
       "7       \n",
       "                 Dallas Roughnecks            \n",
       "8       \n",
       "                 Tampa Bay Cannons            \n",
       "9          \n",
       "                 Atlanta Hustle            \n",
       "10             \n",
       "                 Austin Sol            \n",
       "11     \n",
       "                 San Diego Growlers            \n",
       "12   \n",
       "                 Los Angeles Aviators            \n",
       "13       \n",
       "                 San Jose Spiders            \n",
       "14       \n",
       "                 Seattle Cascades            \n",
       "15       \n",
       "                 Chicago Wildfire            \n",
       "16   \n",
       "                 Indianapolis AlleyCats     ...  \n",
       "17   \n",
       "                 Pittsburgh Thunderbirds    ...  \n",
       "18   \n",
       "                 Minnesota Wind Chill            \n",
       "19       \n",
       "                 Madison Radicals            \n",
       "20       \n",
       "                 Detroit Mechanix            "
      ]
     },
     "execution_count": 50,
     "metadata": {},
     "output_type": "execute_result"
    }
   ],
   "source": [
    "import pandas as pd\n",
    "    \n",
    "pd.DataFrame({'Wins':winList,'Losses':lossList,'Team Name':nameList})"
   ]
  },
  {
   "cell_type": "code",
   "execution_count": null,
   "metadata": {},
   "outputs": [],
   "source": []
  }
 ],
 "metadata": {
  "kernelspec": {
   "display_name": "Python 3",
   "language": "python",
   "name": "python3"
  },
  "language_info": {
   "codemirror_mode": {
    "name": "ipython",
    "version": 3
   },
   "file_extension": ".py",
   "mimetype": "text/x-python",
   "name": "python",
   "nbconvert_exporter": "python",
   "pygments_lexer": "ipython3",
   "version": "3.7.3"
  }
 },
 "nbformat": 4,
 "nbformat_minor": 2
}
