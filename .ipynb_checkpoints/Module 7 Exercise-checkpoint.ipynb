{
 "cells": [
  {
   "cell_type": "markdown",
   "metadata": {},
   "source": [
    "# Module 7: Grouping"
   ]
  },
  {
   "cell_type": "markdown",
   "metadata": {},
   "source": [
    "### Prelude"
   ]
  },
  {
   "cell_type": "markdown",
   "metadata": {},
   "source": [
    "Import pandas and numpy"
   ]
  },
  {
   "cell_type": "code",
   "execution_count": 1,
   "metadata": {},
   "outputs": [],
   "source": [
    "import pandas as pd\n",
    "import numpy as np"
   ]
  },
  {
   "cell_type": "markdown",
   "metadata": {},
   "source": [
    "Read in the csv file from exercise 4"
   ]
  },
  {
   "cell_type": "code",
   "execution_count": 2,
   "metadata": {},
   "outputs": [
    {
     "data": {
      "text/html": [
       "<div>\n",
       "<style scoped>\n",
       "    .dataframe tbody tr th:only-of-type {\n",
       "        vertical-align: middle;\n",
       "    }\n",
       "\n",
       "    .dataframe tbody tr th {\n",
       "        vertical-align: top;\n",
       "    }\n",
       "\n",
       "    .dataframe thead th {\n",
       "        text-align: right;\n",
       "    }\n",
       "</style>\n",
       "<table border=\"1\" class=\"dataframe\">\n",
       "  <thead>\n",
       "    <tr style=\"text-align: right;\">\n",
       "      <th></th>\n",
       "      <th>Unnamed: 0</th>\n",
       "      <th>Subject</th>\n",
       "      <th>From</th>\n",
       "      <th>To</th>\n",
       "      <th>cc</th>\n",
       "      <th>bcc</th>\n",
       "      <th>Folder</th>\n",
       "      <th>Origin</th>\n",
       "      <th>FileName</th>\n",
       "      <th>content</th>\n",
       "      <th>user</th>\n",
       "      <th>labeled</th>\n",
       "      <th>dollarValueMentionedinMessage</th>\n",
       "      <th>messageLength</th>\n",
       "      <th>Date</th>\n",
       "    </tr>\n",
       "  </thead>\n",
       "  <tbody>\n",
       "    <tr>\n",
       "      <th>0</th>\n",
       "      <td>0</td>\n",
       "      <td>RTO Orders - Grid South, SE Trans, SPP and Ent...</td>\n",
       "      <td>Fulton, Donna &lt;/O=ENRON/OU=NA/CN=RECIPIENTS/CN...</td>\n",
       "      <td>Kean, Steven &lt;/O=ENRON/OU=NA/CN=RECIPIENTS/CN=...</td>\n",
       "      <td>NaN</td>\n",
       "      <td>NaN</td>\n",
       "      <td>\\GWHALLE (Non-Privileged)\\Markets</td>\n",
       "      <td>WHALLEY-G</td>\n",
       "      <td>GWHALLE (Non-Privileged).pst</td>\n",
       "      <td>The Southeast RTO orders are out and have foll...</td>\n",
       "      <td>whalley-g</td>\n",
       "      <td>False</td>\n",
       "      <td>NaN</td>\n",
       "      <td>2570</td>\n",
       "      <td>2001-07-13 19:47:20</td>\n",
       "    </tr>\n",
       "    <tr>\n",
       "      <th>1</th>\n",
       "      <td>1</td>\n",
       "      <td>More UC/CSU Info</td>\n",
       "      <td>Delainey, David &lt;/O=ENRON/OU=NA/CN=RECIPIENTS/...</td>\n",
       "      <td>Greg Whalley/HOU/ECT@ENRON, Lavorato, John &lt;/O...</td>\n",
       "      <td>NaN</td>\n",
       "      <td>NaN</td>\n",
       "      <td>\\GWHALLE (Non-Privileged)\\Markets</td>\n",
       "      <td>WHALLEY-G</td>\n",
       "      <td>GWHALLE (Non-Privileged).pst</td>\n",
       "      <td>---------------------- Forwarded by David W De...</td>\n",
       "      <td>whalley-g</td>\n",
       "      <td>False</td>\n",
       "      <td>NaN</td>\n",
       "      <td>3761</td>\n",
       "      <td>2001-07-12 11:36:58</td>\n",
       "    </tr>\n",
       "    <tr>\n",
       "      <th>2</th>\n",
       "      <td>2</td>\n",
       "      <td>California Update 07.09.01</td>\n",
       "      <td>Dasovich, Jeff &lt;/O=ENRON/OU=NA/CN=RECIPIENTS/C...</td>\n",
       "      <td>skean@enron.com, Shapiro, Richard &lt;/O=ENRON/OU...</td>\n",
       "      <td>NaN</td>\n",
       "      <td>NaN</td>\n",
       "      <td>\\GWHALLE (Non-Privileged)\\Markets</td>\n",
       "      <td>WHALLEY-G</td>\n",
       "      <td>GWHALLE (Non-Privileged).pst</td>\n",
       "      <td>The Bond Legislation The Democrats in the Asse...</td>\n",
       "      <td>whalley-g</td>\n",
       "      <td>False</td>\n",
       "      <td>NaN</td>\n",
       "      <td>1348</td>\n",
       "      <td>2001-07-10 00:47:51</td>\n",
       "    </tr>\n",
       "    <tr>\n",
       "      <th>3</th>\n",
       "      <td>3</td>\n",
       "      <td>Davis &amp; Company -- incompetence personified</td>\n",
       "      <td>Shapiro, Richard &lt;/O=ENRON/OU=NA/CN=RECIPIENTS...</td>\n",
       "      <td>Lavorato, John &lt;/O=ENRON/OU=NA/CN=RECIPIENTS/C...</td>\n",
       "      <td>NaN</td>\n",
       "      <td>NaN</td>\n",
       "      <td>\\GWHALLE (Non-Privileged)\\Markets</td>\n",
       "      <td>WHALLEY-G</td>\n",
       "      <td>GWHALLE (Non-Privileged).pst</td>\n",
       "      <td>FYI ---------------------- Forwarded by Richar...</td>\n",
       "      <td>whalley-g</td>\n",
       "      <td>False</td>\n",
       "      <td>37.0</td>\n",
       "      <td>2592</td>\n",
       "      <td>2001-07-06 20:45:05</td>\n",
       "    </tr>\n",
       "    <tr>\n",
       "      <th>4</th>\n",
       "      <td>4</td>\n",
       "      <td>Link to DWR contract info</td>\n",
       "      <td>Shapiro, Richard &lt;/O=ENRON/OU=NA/CN=RECIPIENTS...</td>\n",
       "      <td>Lavorato, John &lt;/O=ENRON/OU=NA/CN=RECIPIENTS/C...</td>\n",
       "      <td>NaN</td>\n",
       "      <td>NaN</td>\n",
       "      <td>\\GWHALLE (Non-Privileged)\\Markets</td>\n",
       "      <td>WHALLEY-G</td>\n",
       "      <td>GWHALLE (Non-Privileged).pst</td>\n",
       "      <td>FYI ---------------------- Forwarded by Richar...</td>\n",
       "      <td>whalley-g</td>\n",
       "      <td>False</td>\n",
       "      <td>43.0</td>\n",
       "      <td>1774</td>\n",
       "      <td>2001-07-06 20:44:33</td>\n",
       "    </tr>\n",
       "  </tbody>\n",
       "</table>\n",
       "</div>"
      ],
      "text/plain": [
       "   Unnamed: 0                                            Subject  \\\n",
       "0           0  RTO Orders - Grid South, SE Trans, SPP and Ent...   \n",
       "1           1                                   More UC/CSU Info   \n",
       "2           2                         California Update 07.09.01   \n",
       "3           3        Davis & Company -- incompetence personified   \n",
       "4           4                          Link to DWR contract info   \n",
       "\n",
       "                                                From  \\\n",
       "0  Fulton, Donna </O=ENRON/OU=NA/CN=RECIPIENTS/CN...   \n",
       "1  Delainey, David </O=ENRON/OU=NA/CN=RECIPIENTS/...   \n",
       "2  Dasovich, Jeff </O=ENRON/OU=NA/CN=RECIPIENTS/C...   \n",
       "3  Shapiro, Richard </O=ENRON/OU=NA/CN=RECIPIENTS...   \n",
       "4  Shapiro, Richard </O=ENRON/OU=NA/CN=RECIPIENTS...   \n",
       "\n",
       "                                                  To   cc  bcc  \\\n",
       "0  Kean, Steven </O=ENRON/OU=NA/CN=RECIPIENTS/CN=...  NaN  NaN   \n",
       "1  Greg Whalley/HOU/ECT@ENRON, Lavorato, John </O...  NaN  NaN   \n",
       "2  skean@enron.com, Shapiro, Richard </O=ENRON/OU...  NaN  NaN   \n",
       "3  Lavorato, John </O=ENRON/OU=NA/CN=RECIPIENTS/C...  NaN  NaN   \n",
       "4  Lavorato, John </O=ENRON/OU=NA/CN=RECIPIENTS/C...  NaN  NaN   \n",
       "\n",
       "                              Folder     Origin                      FileName  \\\n",
       "0  \\GWHALLE (Non-Privileged)\\Markets  WHALLEY-G  GWHALLE (Non-Privileged).pst   \n",
       "1  \\GWHALLE (Non-Privileged)\\Markets  WHALLEY-G  GWHALLE (Non-Privileged).pst   \n",
       "2  \\GWHALLE (Non-Privileged)\\Markets  WHALLEY-G  GWHALLE (Non-Privileged).pst   \n",
       "3  \\GWHALLE (Non-Privileged)\\Markets  WHALLEY-G  GWHALLE (Non-Privileged).pst   \n",
       "4  \\GWHALLE (Non-Privileged)\\Markets  WHALLEY-G  GWHALLE (Non-Privileged).pst   \n",
       "\n",
       "                                             content       user  labeled  \\\n",
       "0  The Southeast RTO orders are out and have foll...  whalley-g    False   \n",
       "1  ---------------------- Forwarded by David W De...  whalley-g    False   \n",
       "2  The Bond Legislation The Democrats in the Asse...  whalley-g    False   \n",
       "3  FYI ---------------------- Forwarded by Richar...  whalley-g    False   \n",
       "4  FYI ---------------------- Forwarded by Richar...  whalley-g    False   \n",
       "\n",
       "   dollarValueMentionedinMessage  messageLength                 Date  \n",
       "0                            NaN           2570  2001-07-13 19:47:20  \n",
       "1                            NaN           3761  2001-07-12 11:36:58  \n",
       "2                            NaN           1348  2001-07-10 00:47:51  \n",
       "3                           37.0           2592  2001-07-06 20:45:05  \n",
       "4                           43.0           1774  2001-07-06 20:44:33  "
      ]
     },
     "execution_count": 2,
     "metadata": {},
     "output_type": "execute_result"
    }
   ],
   "source": [
    "df=pd.read_csv(r'C:\\Users\\mwbarr\\OneDrive - Federal Bureau of Investigation\\Python_for_Data_Analysis\\Python for Data Analysis\\enronRenamed.csv')\n",
    "df.head()"
   ]
  },
  {
   "cell_type": "markdown",
   "metadata": {},
   "source": [
    "### Part 1:  Single Column Grouping"
   ]
  },
  {
   "cell_type": "markdown",
   "metadata": {},
   "source": [
    "**1a** Group the dataframe by user.  No need to aggregate yet"
   ]
  },
  {
   "cell_type": "code",
   "execution_count": 4,
   "metadata": {},
   "outputs": [
    {
     "data": {
      "text/plain": [
       "<pandas.core.groupby.generic.DataFrameGroupBy object at 0x00000000099585F8>"
      ]
     },
     "execution_count": 4,
     "metadata": {},
     "output_type": "execute_result"
    }
   ],
   "source": [
    "groupedByUser=df.groupby('user')\n",
    "groupedByUser"
   ]
  },
  {
   "cell_type": "markdown",
   "metadata": {},
   "source": [
    "**1b** Find the size of each group.  This should give you the same result as value_counts on the user column"
   ]
  },
  {
   "cell_type": "code",
   "execution_count": 5,
   "metadata": {},
   "outputs": [
    {
     "data": {
      "text/plain": [
       "user\n",
       "whalley-g       336\n",
       "whalley-l      3335\n",
       "white-s        3272\n",
       "whitt-m         807\n",
       "williams-j     1213\n",
       "williams-w3    3440\n",
       "wolfe-j        1587\n",
       "ybarbo-p       1291\n",
       "zipper-a       1563\n",
       "zufferli-j      557\n",
       "dtype: int64"
      ]
     },
     "execution_count": 5,
     "metadata": {},
     "output_type": "execute_result"
    }
   ],
   "source": [
    "sizes=groupedByUser.size()\n",
    "sizes"
   ]
  },
  {
   "cell_type": "markdown",
   "metadata": {},
   "source": [
    "**1c** Aggregate the dollarValueMentionedinMessage using the sum function"
   ]
  },
  {
   "cell_type": "code",
   "execution_count": 8,
   "metadata": {},
   "outputs": [
    {
     "data": {
      "text/plain": [
       "user\n",
       "whalley-g      7.789567e+08\n",
       "whalley-l      1.883690e+09\n",
       "white-s        2.585873e+09\n",
       "whitt-m        2.464367e+08\n",
       "williams-j     6.190834e+07\n",
       "williams-w3    1.276773e+07\n",
       "wolfe-j        1.244216e+09\n",
       "ybarbo-p       1.464423e+07\n",
       "zipper-a       6.507451e+06\n",
       "zufferli-j     4.870386e+06\n",
       "Name: dollarValueMentionedinMessage, dtype: float64"
      ]
     },
     "execution_count": 8,
     "metadata": {},
     "output_type": "execute_result"
    }
   ],
   "source": [
    "dollarSums=groupedByUser['dollarValueMentionedinMessage'].agg(sum)\n",
    "dollarSums"
   ]
  },
  {
   "cell_type": "markdown",
   "metadata": {},
   "source": [
    "**1d** Aggregate the dollarValueMentionedinMessage using the sum function **and** the messageLength column using the mean function from numpy"
   ]
  },
  {
   "cell_type": "code",
   "execution_count": 10,
   "metadata": {},
   "outputs": [
    {
     "data": {
      "text/html": [
       "<div>\n",
       "<style scoped>\n",
       "    .dataframe tbody tr th:only-of-type {\n",
       "        vertical-align: middle;\n",
       "    }\n",
       "\n",
       "    .dataframe tbody tr th {\n",
       "        vertical-align: top;\n",
       "    }\n",
       "\n",
       "    .dataframe thead th {\n",
       "        text-align: right;\n",
       "    }\n",
       "</style>\n",
       "<table border=\"1\" class=\"dataframe\">\n",
       "  <thead>\n",
       "    <tr style=\"text-align: right;\">\n",
       "      <th></th>\n",
       "      <th>dollarValueMentionedinMessage</th>\n",
       "      <th>messageLength</th>\n",
       "    </tr>\n",
       "    <tr>\n",
       "      <th>user</th>\n",
       "      <th></th>\n",
       "      <th></th>\n",
       "    </tr>\n",
       "  </thead>\n",
       "  <tbody>\n",
       "    <tr>\n",
       "      <th>whalley-g</th>\n",
       "      <td>7.789567e+08</td>\n",
       "      <td>894.285714</td>\n",
       "    </tr>\n",
       "    <tr>\n",
       "      <th>whalley-l</th>\n",
       "      <td>1.883690e+09</td>\n",
       "      <td>1477.378711</td>\n",
       "    </tr>\n",
       "    <tr>\n",
       "      <th>white-s</th>\n",
       "      <td>2.585873e+09</td>\n",
       "      <td>794.793093</td>\n",
       "    </tr>\n",
       "    <tr>\n",
       "      <th>whitt-m</th>\n",
       "      <td>2.464367e+08</td>\n",
       "      <td>1504.915737</td>\n",
       "    </tr>\n",
       "    <tr>\n",
       "      <th>williams-j</th>\n",
       "      <td>6.190834e+07</td>\n",
       "      <td>1893.497115</td>\n",
       "    </tr>\n",
       "    <tr>\n",
       "      <th>williams-w3</th>\n",
       "      <td>1.276773e+07</td>\n",
       "      <td>817.192151</td>\n",
       "    </tr>\n",
       "    <tr>\n",
       "      <th>wolfe-j</th>\n",
       "      <td>1.244216e+09</td>\n",
       "      <td>1280.096408</td>\n",
       "    </tr>\n",
       "    <tr>\n",
       "      <th>ybarbo-p</th>\n",
       "      <td>1.464423e+07</td>\n",
       "      <td>2067.535244</td>\n",
       "    </tr>\n",
       "    <tr>\n",
       "      <th>zipper-a</th>\n",
       "      <td>6.507451e+06</td>\n",
       "      <td>1137.747921</td>\n",
       "    </tr>\n",
       "    <tr>\n",
       "      <th>zufferli-j</th>\n",
       "      <td>4.870386e+06</td>\n",
       "      <td>1163.635548</td>\n",
       "    </tr>\n",
       "  </tbody>\n",
       "</table>\n",
       "</div>"
      ],
      "text/plain": [
       "             dollarValueMentionedinMessage  messageLength\n",
       "user                                                     \n",
       "whalley-g                     7.789567e+08     894.285714\n",
       "whalley-l                     1.883690e+09    1477.378711\n",
       "white-s                       2.585873e+09     794.793093\n",
       "whitt-m                       2.464367e+08    1504.915737\n",
       "williams-j                    6.190834e+07    1893.497115\n",
       "williams-w3                   1.276773e+07     817.192151\n",
       "wolfe-j                       1.244216e+09    1280.096408\n",
       "ybarbo-p                      1.464423e+07    2067.535244\n",
       "zipper-a                      6.507451e+06    1137.747921\n",
       "zufferli-j                    4.870386e+06    1163.635548"
      ]
     },
     "execution_count": 10,
     "metadata": {},
     "output_type": "execute_result"
    }
   ],
   "source": [
    "dollarsAndLengths=groupedByUser.agg({'dollarValueMentionedinMessage':sum, 'messageLength':np.mean})\n",
    "dollarsAndLengths"
   ]
  },
  {
   "cell_type": "markdown",
   "metadata": {},
   "source": [
    "**1e** Use the grouped item to transform the data by subtracting the group mean from each item in the messageLength column"
   ]
  },
  {
   "cell_type": "code",
   "execution_count": 27,
   "metadata": {},
   "outputs": [
    {
     "data": {
      "text/plain": [
       "0    1675.714286\n",
       "1    2866.714286\n",
       "2     453.714286\n",
       "3    1697.714286\n",
       "4     879.714286\n",
       "Name: messageLength, dtype: float64"
      ]
     },
     "execution_count": 27,
     "metadata": {},
     "output_type": "execute_result"
    }
   ],
   "source": [
    "meansSubtracted=groupedByUser.transform(lambda x: x-x.mean())['messageLength']\n",
    "meansSubtracted.head()"
   ]
  },
  {
   "cell_type": "markdown",
   "metadata": {},
   "source": [
    "### Part 2:  Grouping using multiple columns"
   ]
  },
  {
   "cell_type": "markdown",
   "metadata": {},
   "source": [
    "**2a** Group the dataframe by user and from. No need to aggregate yet"
   ]
  },
  {
   "cell_type": "code",
   "execution_count": 11,
   "metadata": {},
   "outputs": [
    {
     "data": {
      "text/plain": [
       "<pandas.core.groupby.generic.DataFrameGroupBy object at 0x000000000582DDA0>"
      ]
     },
     "execution_count": 11,
     "metadata": {},
     "output_type": "execute_result"
    }
   ],
   "source": [
    "groupedByBoth=df.groupby(['user','From'])\n",
    "groupedByBoth"
   ]
  },
  {
   "cell_type": "markdown",
   "metadata": {},
   "source": [
    "**2b** Aggregate the dollarValueMentionedinMessage using standard deviation and the messageLength column using the median function from numpy"
   ]
  },
  {
   "cell_type": "code",
   "execution_count": 20,
   "metadata": {},
   "outputs": [
    {
     "data": {
      "text/html": [
       "<div>\n",
       "<style scoped>\n",
       "    .dataframe tbody tr th:only-of-type {\n",
       "        vertical-align: middle;\n",
       "    }\n",
       "\n",
       "    .dataframe tbody tr th {\n",
       "        vertical-align: top;\n",
       "    }\n",
       "\n",
       "    .dataframe thead th {\n",
       "        text-align: right;\n",
       "    }\n",
       "</style>\n",
       "<table border=\"1\" class=\"dataframe\">\n",
       "  <thead>\n",
       "    <tr style=\"text-align: right;\">\n",
       "      <th></th>\n",
       "      <th></th>\n",
       "      <th>dollarValueMentionedinMessage</th>\n",
       "      <th>messageLength</th>\n",
       "    </tr>\n",
       "    <tr>\n",
       "      <th>user</th>\n",
       "      <th>From</th>\n",
       "      <th></th>\n",
       "      <th></th>\n",
       "    </tr>\n",
       "  </thead>\n",
       "  <tbody>\n",
       "    <tr>\n",
       "      <th rowspan=\"10\" valign=\"top\">zufferli-j</th>\n",
       "      <th>Wang, Steve &lt;/O=ENRON/OU=NA/CN=RECIPIENTS/CN=SWANG3&gt;</th>\n",
       "      <td>NaN</td>\n",
       "      <td>1004.0</td>\n",
       "    </tr>\n",
       "    <tr>\n",
       "      <th>Watt, Ryan &lt;/O=ENRON/OU=NA/CN=RECIPIENTS/CN=RWATT&gt;</th>\n",
       "      <td>NaN</td>\n",
       "      <td>672.0</td>\n",
       "    </tr>\n",
       "    <tr>\n",
       "      <th>White, Stacey W. &lt;/O=ENRON/OU=NA/CN=RECIPIENTS/CN=SWHITE&gt;</th>\n",
       "      <td>NaN</td>\n",
       "      <td>397.0</td>\n",
       "    </tr>\n",
       "    <tr>\n",
       "      <th>Zufferli, John &lt;/O=ENRON/OU=NA/CN=RECIPIENTS/CN=JZUFFER&gt;</th>\n",
       "      <td>429224.561239</td>\n",
       "      <td>592.0</td>\n",
       "    </tr>\n",
       "    <tr>\n",
       "      <th>acedirect@aircanada.ca</th>\n",
       "      <td>NaN</td>\n",
       "      <td>8520.0</td>\n",
       "    </tr>\n",
       "    <tr>\n",
       "      <th>carol.moline@powerpool.ab.ca@ENRON</th>\n",
       "      <td>20.506097</td>\n",
       "      <td>205.0</td>\n",
       "    </tr>\n",
       "    <tr>\n",
       "      <th>david_paul_smith@attbi.com@ENRON</th>\n",
       "      <td>NaN</td>\n",
       "      <td>127.0</td>\n",
       "    </tr>\n",
       "    <tr>\n",
       "      <th>davidpsmith@att.net</th>\n",
       "      <td>NaN</td>\n",
       "      <td>96.0</td>\n",
       "    </tr>\n",
       "    <tr>\n",
       "      <th>gregwhalley &lt;8777865122@skytel.com&gt;@ENRON</th>\n",
       "      <td>NaN</td>\n",
       "      <td>146.0</td>\n",
       "    </tr>\n",
       "    <tr>\n",
       "      <th>tradersummary@syncrasy.com@ENRON</th>\n",
       "      <td>0.000000</td>\n",
       "      <td>10826.5</td>\n",
       "    </tr>\n",
       "  </tbody>\n",
       "</table>\n",
       "</div>"
      ],
      "text/plain": [
       "                                                               dollarValueMentionedinMessage  \\\n",
       "user       From                                                                                \n",
       "zufferli-j Wang, Steve </O=ENRON/OU=NA/CN=RECIPIENTS/CN=SW...                            NaN   \n",
       "           Watt, Ryan </O=ENRON/OU=NA/CN=RECIPIENTS/CN=RWATT>                            NaN   \n",
       "           White, Stacey W. </O=ENRON/OU=NA/CN=RECIPIENTS/...                            NaN   \n",
       "           Zufferli, John </O=ENRON/OU=NA/CN=RECIPIENTS/CN...                  429224.561239   \n",
       "           acedirect@aircanada.ca                                                        NaN   \n",
       "           carol.moline@powerpool.ab.ca@ENRON                                      20.506097   \n",
       "           david_paul_smith@attbi.com@ENRON                                              NaN   \n",
       "           davidpsmith@att.net                                                           NaN   \n",
       "           gregwhalley <8777865122@skytel.com>@ENRON                                     NaN   \n",
       "           tradersummary@syncrasy.com@ENRON                                         0.000000   \n",
       "\n",
       "                                                               messageLength  \n",
       "user       From                                                               \n",
       "zufferli-j Wang, Steve </O=ENRON/OU=NA/CN=RECIPIENTS/CN=SW...         1004.0  \n",
       "           Watt, Ryan </O=ENRON/OU=NA/CN=RECIPIENTS/CN=RWATT>          672.0  \n",
       "           White, Stacey W. </O=ENRON/OU=NA/CN=RECIPIENTS/...          397.0  \n",
       "           Zufferli, John </O=ENRON/OU=NA/CN=RECIPIENTS/CN...          592.0  \n",
       "           acedirect@aircanada.ca                                     8520.0  \n",
       "           carol.moline@powerpool.ab.ca@ENRON                          205.0  \n",
       "           david_paul_smith@attbi.com@ENRON                            127.0  \n",
       "           davidpsmith@att.net                                          96.0  \n",
       "           gregwhalley <8777865122@skytel.com>@ENRON                   146.0  \n",
       "           tradersummary@syncrasy.com@ENRON                          10826.5  "
      ]
     },
     "execution_count": 20,
     "metadata": {},
     "output_type": "execute_result"
    }
   ],
   "source": [
    "dollarsAndLengths=groupedByBoth.agg({'dollarValueMentionedinMessage':np.std, 'messageLength':np.median})\n",
    "dollarsAndLengths.tail(10)"
   ]
  },
  {
   "cell_type": "markdown",
   "metadata": {},
   "source": [
    "**2c** Define a function that computes the range of a series (maximum-minimum)"
   ]
  },
  {
   "cell_type": "code",
   "execution_count": 16,
   "metadata": {},
   "outputs": [
    {
     "name": "stdout",
     "output_type": "stream",
     "text": [
      "5\n"
     ]
    }
   ],
   "source": [
    "def numRange(column):\n",
    "    return column.max()-column.min()\n",
    "print(numRange(pd.Series([1,2,3,4,5,6])))"
   ]
  },
  {
   "cell_type": "markdown",
   "metadata": {},
   "source": [
    "**2d** Use that function to aggregate messageLength in your groupedByBoth object"
   ]
  },
  {
   "cell_type": "code",
   "execution_count": 23,
   "metadata": {},
   "outputs": [
    {
     "data": {
      "text/plain": [
       "user        From                                     \n",
       "zufferli-j  carol.moline@powerpool.ab.ca@ENRON           956\n",
       "            david_paul_smith@attbi.com@ENRON               0\n",
       "            davidpsmith@att.net                            0\n",
       "            gregwhalley <8777865122@skytel.com>@ENRON      0\n",
       "            tradersummary@syncrasy.com@ENRON             975\n",
       "Name: messageLength, dtype: int64"
      ]
     },
     "execution_count": 23,
     "metadata": {},
     "output_type": "execute_result"
    }
   ],
   "source": [
    "rangeAggregated=groupedByBoth.agg(numRange)['messageLength']\n",
    "rangeAggregated.tail()"
   ]
  },
  {
   "cell_type": "markdown",
   "metadata": {},
   "source": [
    "### If you have time"
   ]
  },
  {
   "cell_type": "markdown",
   "metadata": {},
   "source": [
    "Aggregate the groupedByUser messageLength column using **both** mean and standard deviation **and** aggregate the dollarValueMentionedinMessage column by sum.  "
   ]
  },
  {
   "cell_type": "code",
   "execution_count": 31,
   "metadata": {},
   "outputs": [
    {
     "data": {
      "text/html": [
       "<div>\n",
       "<style scoped>\n",
       "    .dataframe tbody tr th:only-of-type {\n",
       "        vertical-align: middle;\n",
       "    }\n",
       "\n",
       "    .dataframe tbody tr th {\n",
       "        vertical-align: top;\n",
       "    }\n",
       "\n",
       "    .dataframe thead tr th {\n",
       "        text-align: left;\n",
       "    }\n",
       "\n",
       "    .dataframe thead tr:last-of-type th {\n",
       "        text-align: right;\n",
       "    }\n",
       "</style>\n",
       "<table border=\"1\" class=\"dataframe\">\n",
       "  <thead>\n",
       "    <tr>\n",
       "      <th></th>\n",
       "      <th colspan=\"2\" halign=\"left\">messageLength</th>\n",
       "      <th>dollarValueMentionedinMessage</th>\n",
       "    </tr>\n",
       "    <tr>\n",
       "      <th></th>\n",
       "      <th>mean</th>\n",
       "      <th>std</th>\n",
       "      <th>sum</th>\n",
       "    </tr>\n",
       "    <tr>\n",
       "      <th>user</th>\n",
       "      <th></th>\n",
       "      <th></th>\n",
       "      <th></th>\n",
       "    </tr>\n",
       "  </thead>\n",
       "  <tbody>\n",
       "    <tr>\n",
       "      <th>whalley-g</th>\n",
       "      <td>894.285714</td>\n",
       "      <td>1457.428818</td>\n",
       "      <td>7.789567e+08</td>\n",
       "    </tr>\n",
       "    <tr>\n",
       "      <th>whalley-l</th>\n",
       "      <td>1477.378711</td>\n",
       "      <td>2340.370011</td>\n",
       "      <td>1.883690e+09</td>\n",
       "    </tr>\n",
       "    <tr>\n",
       "      <th>white-s</th>\n",
       "      <td>794.793093</td>\n",
       "      <td>1285.820477</td>\n",
       "      <td>2.585873e+09</td>\n",
       "    </tr>\n",
       "    <tr>\n",
       "      <th>whitt-m</th>\n",
       "      <td>1504.915737</td>\n",
       "      <td>2151.249966</td>\n",
       "      <td>2.464367e+08</td>\n",
       "    </tr>\n",
       "    <tr>\n",
       "      <th>williams-j</th>\n",
       "      <td>1893.497115</td>\n",
       "      <td>2984.633307</td>\n",
       "      <td>6.190834e+07</td>\n",
       "    </tr>\n",
       "    <tr>\n",
       "      <th>williams-w3</th>\n",
       "      <td>817.192151</td>\n",
       "      <td>1195.052131</td>\n",
       "      <td>1.276773e+07</td>\n",
       "    </tr>\n",
       "    <tr>\n",
       "      <th>wolfe-j</th>\n",
       "      <td>1280.096408</td>\n",
       "      <td>2089.572928</td>\n",
       "      <td>1.244216e+09</td>\n",
       "    </tr>\n",
       "    <tr>\n",
       "      <th>ybarbo-p</th>\n",
       "      <td>2067.535244</td>\n",
       "      <td>6536.185872</td>\n",
       "      <td>1.464423e+07</td>\n",
       "    </tr>\n",
       "    <tr>\n",
       "      <th>zipper-a</th>\n",
       "      <td>1137.747921</td>\n",
       "      <td>3443.050325</td>\n",
       "      <td>6.507451e+06</td>\n",
       "    </tr>\n",
       "    <tr>\n",
       "      <th>zufferli-j</th>\n",
       "      <td>1163.635548</td>\n",
       "      <td>1737.819408</td>\n",
       "      <td>4.870386e+06</td>\n",
       "    </tr>\n",
       "  </tbody>\n",
       "</table>\n",
       "</div>"
      ],
      "text/plain": [
       "            messageLength              dollarValueMentionedinMessage\n",
       "                     mean          std                           sum\n",
       "user                                                                \n",
       "whalley-g      894.285714  1457.428818                  7.789567e+08\n",
       "whalley-l     1477.378711  2340.370011                  1.883690e+09\n",
       "white-s        794.793093  1285.820477                  2.585873e+09\n",
       "whitt-m       1504.915737  2151.249966                  2.464367e+08\n",
       "williams-j    1893.497115  2984.633307                  6.190834e+07\n",
       "williams-w3    817.192151  1195.052131                  1.276773e+07\n",
       "wolfe-j       1280.096408  2089.572928                  1.244216e+09\n",
       "ybarbo-p      2067.535244  6536.185872                  1.464423e+07\n",
       "zipper-a      1137.747921  3443.050325                  6.507451e+06\n",
       "zufferli-j    1163.635548  1737.819408                  4.870386e+06"
      ]
     },
     "execution_count": 31,
     "metadata": {},
     "output_type": "execute_result"
    }
   ],
   "source": [
    "aggregated=groupedByUser.aggregate({'messageLength':[np.mean,np.std], 'dollarValueMentionedinMessage':sum})\n",
    "aggregated"
   ]
  },
  {
   "cell_type": "markdown",
   "metadata": {},
   "source": [
    "Use dictionaries in the aggregate statement to name the aggregated columns Average, Standard Deviation, and Sum respectively"
   ]
  },
  {
   "cell_type": "code",
   "execution_count": 33,
   "metadata": {},
   "outputs": [
    {
     "name": "stderr",
     "output_type": "stream",
     "text": [
      "C:\\Users\\mwbarr\\AppData\\Local\\Continuum\\anaconda3\\lib\\site-packages\\pandas\\core\\groupby\\generic.py:1315: FutureWarning: using a dict with renaming is deprecated and will be removed in a future version\n",
      "  return super(DataFrameGroupBy, self).aggregate(arg, *args, **kwargs)\n"
     ]
    },
    {
     "data": {
      "text/html": [
       "<div>\n",
       "<style scoped>\n",
       "    .dataframe tbody tr th:only-of-type {\n",
       "        vertical-align: middle;\n",
       "    }\n",
       "\n",
       "    .dataframe tbody tr th {\n",
       "        vertical-align: top;\n",
       "    }\n",
       "\n",
       "    .dataframe thead tr th {\n",
       "        text-align: left;\n",
       "    }\n",
       "\n",
       "    .dataframe thead tr:last-of-type th {\n",
       "        text-align: right;\n",
       "    }\n",
       "</style>\n",
       "<table border=\"1\" class=\"dataframe\">\n",
       "  <thead>\n",
       "    <tr>\n",
       "      <th></th>\n",
       "      <th colspan=\"2\" halign=\"left\">messageLength</th>\n",
       "      <th>dollarValueMentionedinMessage</th>\n",
       "    </tr>\n",
       "    <tr>\n",
       "      <th></th>\n",
       "      <th>Average</th>\n",
       "      <th>Standard Deviation</th>\n",
       "      <th>Sum</th>\n",
       "    </tr>\n",
       "    <tr>\n",
       "      <th>user</th>\n",
       "      <th></th>\n",
       "      <th></th>\n",
       "      <th></th>\n",
       "    </tr>\n",
       "  </thead>\n",
       "  <tbody>\n",
       "    <tr>\n",
       "      <th>whalley-g</th>\n",
       "      <td>894.285714</td>\n",
       "      <td>1457.428818</td>\n",
       "      <td>7.789567e+08</td>\n",
       "    </tr>\n",
       "    <tr>\n",
       "      <th>whalley-l</th>\n",
       "      <td>1477.378711</td>\n",
       "      <td>2340.370011</td>\n",
       "      <td>1.883690e+09</td>\n",
       "    </tr>\n",
       "    <tr>\n",
       "      <th>white-s</th>\n",
       "      <td>794.793093</td>\n",
       "      <td>1285.820477</td>\n",
       "      <td>2.585873e+09</td>\n",
       "    </tr>\n",
       "    <tr>\n",
       "      <th>whitt-m</th>\n",
       "      <td>1504.915737</td>\n",
       "      <td>2151.249966</td>\n",
       "      <td>2.464367e+08</td>\n",
       "    </tr>\n",
       "    <tr>\n",
       "      <th>williams-j</th>\n",
       "      <td>1893.497115</td>\n",
       "      <td>2984.633307</td>\n",
       "      <td>6.190834e+07</td>\n",
       "    </tr>\n",
       "    <tr>\n",
       "      <th>williams-w3</th>\n",
       "      <td>817.192151</td>\n",
       "      <td>1195.052131</td>\n",
       "      <td>1.276773e+07</td>\n",
       "    </tr>\n",
       "    <tr>\n",
       "      <th>wolfe-j</th>\n",
       "      <td>1280.096408</td>\n",
       "      <td>2089.572928</td>\n",
       "      <td>1.244216e+09</td>\n",
       "    </tr>\n",
       "    <tr>\n",
       "      <th>ybarbo-p</th>\n",
       "      <td>2067.535244</td>\n",
       "      <td>6536.185872</td>\n",
       "      <td>1.464423e+07</td>\n",
       "    </tr>\n",
       "    <tr>\n",
       "      <th>zipper-a</th>\n",
       "      <td>1137.747921</td>\n",
       "      <td>3443.050325</td>\n",
       "      <td>6.507451e+06</td>\n",
       "    </tr>\n",
       "    <tr>\n",
       "      <th>zufferli-j</th>\n",
       "      <td>1163.635548</td>\n",
       "      <td>1737.819408</td>\n",
       "      <td>4.870386e+06</td>\n",
       "    </tr>\n",
       "  </tbody>\n",
       "</table>\n",
       "</div>"
      ],
      "text/plain": [
       "            messageLength                    dollarValueMentionedinMessage\n",
       "                  Average Standard Deviation                           Sum\n",
       "user                                                                      \n",
       "whalley-g      894.285714        1457.428818                  7.789567e+08\n",
       "whalley-l     1477.378711        2340.370011                  1.883690e+09\n",
       "white-s        794.793093        1285.820477                  2.585873e+09\n",
       "whitt-m       1504.915737        2151.249966                  2.464367e+08\n",
       "williams-j    1893.497115        2984.633307                  6.190834e+07\n",
       "williams-w3    817.192151        1195.052131                  1.276773e+07\n",
       "wolfe-j       1280.096408        2089.572928                  1.244216e+09\n",
       "ybarbo-p      2067.535244        6536.185872                  1.464423e+07\n",
       "zipper-a      1137.747921        3443.050325                  6.507451e+06\n",
       "zufferli-j    1163.635548        1737.819408                  4.870386e+06"
      ]
     },
     "execution_count": 33,
     "metadata": {},
     "output_type": "execute_result"
    }
   ],
   "source": [
    "aggregated=groupedByUser.aggregate({'messageLength':{'Average':np.mean,'Standard Deviation':np.std}, 'dollarValueMentionedinMessage':{'Sum':sum}})\n",
    "aggregated"
   ]
  },
  {
   "cell_type": "code",
   "execution_count": null,
   "metadata": {},
   "outputs": [],
   "source": []
  }
 ],
 "metadata": {
  "kernelspec": {
   "display_name": "Python 3",
   "language": "python",
   "name": "python3"
  },
  "language_info": {
   "codemirror_mode": {
    "name": "ipython",
    "version": 3
   },
   "file_extension": ".py",
   "mimetype": "text/x-python",
   "name": "python",
   "nbconvert_exporter": "python",
   "pygments_lexer": "ipython3",
   "version": "3.7.3"
  }
 },
 "nbformat": 4,
 "nbformat_minor": 2
}
