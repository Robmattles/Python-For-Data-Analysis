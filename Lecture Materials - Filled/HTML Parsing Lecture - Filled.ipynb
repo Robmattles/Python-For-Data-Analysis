{
 "cells": [
  {
   "cell_type": "markdown",
   "metadata": {},
   "source": [
    "# Module 10: Extracting Data from Websites"
   ]
  },
  {
   "cell_type": "markdown",
   "metadata": {},
   "source": [
    "Html overview using AUDL standings"
   ]
  },
  {
   "cell_type": "markdown",
   "metadata": {},
   "source": [
    "Getting data from the internet"
   ]
  },
  {
   "cell_type": "code",
   "execution_count": 2,
   "metadata": {},
   "outputs": [
    {
     "data": {
      "text/plain": [
       "b'<!DOCTYPE html>\\n<!--[if lt IE 7]><html class=\"lt-ie9 lt-ie8 lt-ie7\" lang=\"en\" dir=\"ltr\"><![endif]-->\\n<!--[if IE 7]><html class=\"lt-ie9 lt-ie8\" lang=\"en\" dir=\"ltr\"><![endif]-->\\n<!--[if IE 8]><html class=\"lt-ie9\" lang=\"en\" dir=\"ltr\"><![endif]-->\\n<!--[if gt IE 8]><!--><html lang=\"en\" dir=\"ltr\" prefix=\"og: http://ogp.me/ns# article: http://ogp.me/ns/article# book: http://ogp.me/ns/book# profile: http://ogp.me/ns/profile# video: http://ogp.me/ns/video# product: http://ogp.me/ns/product# content: http://purl.org/rss/1.0/modules/content/ dc: http://purl.org/dc/terms/ foaf: http://xmlns.com/foaf/0.1/ rdfs: http://www.w3.org/2000/01/rdf-schema# sioc: http://rdfs.org/sioc/ns# sioct: http://rdfs.org/sioc/types# skos: http://www.w3.org/2004/02/skos/core# xsd: http://www.w3.org/2001/XMLSchema#\"><!--<![endif]-->\\n<head>\\n<meta charset=\"utf-8\" />\\n<link rel=\"shortcut icon\" href=\"https://theaudl.com/sites/default/files/AUDL.ico\" type=\"image/vnd.microsoft.icon\" />\\n<meta name=\"viewport\" content=\"width=device-width, initial-scale=1.0, user-scalable=yes\" />\\n<meta name=\"description\" content=\"The American Ultimate Disc League (AUDL) is the top professional ultimate league in the world. Games are played across North America April through August.\" />\\n<meta name=\"MobileOptimized\" content=\"width\" />\\n<meta name=\"HandheldFriendly\" content=\"1\" />\\n<meta name=\"apple-mobile-web-app-capable\" content=\"yes\" />\\n<meta name=\"keywords\" content=\"ultimate, frisbee, AUDL, pro, sport\" />\\n<meta name=\"generator\" content=\"Drupal 7 (http://drupal.org)\" />\\n<link rel=\"canonical\" href=\"https://theaudl.com/league/standings\" />\\n<link rel=\"shortlink\" href=\"https://theaudl.com/league/standings\" />\\n<meta property=\"og:site_name\" content=\"AUDL\" />\\n<meta property=\"og:type\" content=\"article\" />\\n<meta property=\"og:url\" content=\"https://theaudl.com/league/standings\" />\\n<meta name=\"twitter:card\" content=\"summary\" />\\n<meta name=\"twitter:url\" content=\"https://theaudl.com/league/standings\" />\\n<script async src=\"//pagead2.googlesyndication.com/pagead/js/adsbygoogle.js\"></script>\\n<script>\\n  (adsbygoogle = window.adsbygoogle || []).push({\\n    google_ad_client: \"ca-pub-4434027895246532\",\\n    enable_page_level_ads: true\\n  });\\n</script><title>League Standings | AUDL</title>\\n<link type=\"text/css\" rel=\"stylesheet\" href=\"https://theaudl.com/sites/default/files/css/css_xE-rWrJf-fncB6ztZfd2huxqgxu4WO-qwma6Xer30m4.css\" media=\"all\" />\\n<link type=\"text/css\" rel=\"stylesheet\" href=\"https://theaudl.com/sites/default/files/css/css_a3S8AAs53kVSCsZ6Wprls5Ryj5Iq-WLHCIaSbHc-Se0.css\" media=\"all\" />\\n<link type=\"text/css\" rel=\"stylesheet\" href=\"https://theaudl.com/sites/default/files/css/css_rLuAyQuX7BPtpzXOWyYx_LEwz57920TGZwVQKJsCS8A.css\" media=\"all\" />\\n<link type=\"text/css\" rel=\"stylesheet\" href=\"https://theaudl.com/sites/default/files/css/css_hzYFrvAQLW_Fjesec9PavRBsC3frF7nCTM0IcPs6rvc.css\" media=\"screen\" />\\n<link type=\"text/css\" rel=\"stylesheet\" href=\"https://theaudl.com/sites/default/files/css/css_-vXy82Ng2XyMd6wK7ckDfYJoWBHoAKvX7r5HRXN5CFY.css\" media=\"only screen\" />\\n\\n<!--[if lt IE 9]>\\n<link type=\"text/css\" rel=\"stylesheet\" href=\"https://theaudl.com/sites/default/files/css/css_Vj3ujlQ6MXazYUYtS0q4JJvG9WGletwvEBGW47SE9u8.css\" media=\"screen\" />\\n<![endif]-->\\n<script type=\"text/javascript\" src=\"https://theaudl.com/sites/default/files/js/js_SmgcDXQV0gcwSIOH9DFsKplDhCcI5aV-OS4RYYC_-lY.js\"></script>\\n<script type=\"text/javascript\" src=\"https://theaudl.com/sites/default/files/js/js_ptR1ZjZnexk8gj2Q9mIgM2M_6ztR4ckK-i_6gzFmlNM.js\"></script>\\n<script type=\"text/javascript\" src=\"https://theaudl.com/sites/default/files/js/js_nHWnWWLwGuklj2ITz1qNaZeJYuI2W0VDw29KVwlLDmA.js\"></script>\\n<script type=\"text/javascript\">\\n<!--//--><![CDATA[//><!--\\n(function(i,s,o,g,r,a,m){i[\"GoogleAnalyticsObject\"]=r;i[r]=i[r]||function(){(i[r].q=i[r].q||[]).push(arguments)},i[r].l=1*new Date();a=s.createElement(o),m=s.getElementsByTagName(o)[0];a.async=1;a.src=g;m.parentNode.insertBefore(a,m)})(window,document,\"script\",\"https://www.google-analytics.com/analytics.js\",\"ga\");ga(\"create\", \"UA-35858663-1\", {\"cookieDomain\":\"auto\"});ga(\"set\", \"anonymizeIp\", true);ga(\"send\", \"pageview\");\\n//--><!]]>\\n</script>\\n<script type=\"text/javascript\">\\n<!--//--><![CDATA[//><!--\\njQuery.extend(Drupal.settings, {\"basePath\":\"\\\\/\",\"pathPrefix\":\"\",\"ajaxPageState\":{\"theme\":\"AUDL\",\"theme_token\":\"Ydl9vfaig-df8I4oGpwqcw5ou6MfYTtiuMhESyQy8Xk\",\"js\":{\"sites\\\\/all\\\\/modules\\\\/jquery_update\\\\/replace\\\\/jquery\\\\/1.10\\\\/jquery.min.js\":1,\"misc\\\\/jquery.once.js\":1,\"misc\\\\/drupal.js\":1,\"sites\\\\/all\\\\/libraries\\\\/fitvids\\\\/jquery.fitvids.js\":1,\"sites\\\\/all\\\\/modules\\\\/fitvids\\\\/fitvids.js\":1,\"sites\\\\/all\\\\/modules\\\\/adsense\\\\/contrib\\\\/adsense_click\\\\/adsense_click.js\":1,\"sites\\\\/all\\\\/modules\\\\/responsive_menus\\\\/styles\\\\/responsive_menus_simple\\\\/js\\\\/responsive_menus_simple.js\":1,\"sites\\\\/all\\\\/modules\\\\/google_analytics\\\\/googleanalytics.js\":1,\"0\":1},\"css\":{\"modules\\\\/system\\\\/system.base.css\":1,\"modules\\\\/system\\\\/system.menus.css\":1,\"modules\\\\/system\\\\/system.messages.css\":1,\"modules\\\\/system\\\\/system.theme.css\":1,\"modules\\\\/comment\\\\/comment.css\":1,\"sites\\\\/all\\\\/modules\\\\/date\\\\/date_api\\\\/date.css\":1,\"sites\\\\/all\\\\/modules\\\\/date\\\\/date_popup\\\\/themes\\\\/datepicker.1.7.css\":1,\"modules\\\\/field\\\\/theme\\\\/field.css\":1,\"sites\\\\/all\\\\/modules\\\\/fitvids\\\\/fitvids.css\":1,\"modules\\\\/node\\\\/node.css\":1,\"modules\\\\/search\\\\/search.css\":1,\"modules\\\\/user\\\\/user.css\":1,\"sites\\\\/all\\\\/modules\\\\/youtube\\\\/css\\\\/youtube.css\":1,\"modules\\\\/forum\\\\/forum.css\":1,\"sites\\\\/all\\\\/modules\\\\/views\\\\/css\\\\/views.css\":1,\"sites\\\\/all\\\\/modules\\\\/ckeditor\\\\/css\\\\/ckeditor.css\":1,\"sites\\\\/all\\\\/modules\\\\/ctools\\\\/css\\\\/ctools.css\":1,\"sites\\\\/all\\\\/modules\\\\/panels\\\\/css\\\\/panels.css\":1,\"sites\\\\/all\\\\/modules\\\\/responsive_menus\\\\/styles\\\\/responsive_menus_simple\\\\/css\\\\/responsive_menus_simple.css\":1,\"themes\\\\/adaptivetheme\\\\/at_core\\\\/css\\\\/at.layout.css\":1,\"themes\\\\/AUDL_theme\\\\/css\\\\/global.base.css\":1,\"themes\\\\/AUDL_theme\\\\/css\\\\/global.styles.css\":1,\"public:\\\\/\\\\/adaptivetheme\\\\/AUDL_files\\\\/AUDL.responsive.layout.css\":1,\"public:\\\\/\\\\/adaptivetheme\\\\/AUDL_files\\\\/AUDL.responsive.styles.css\":1,\"public:\\\\/\\\\/adaptivetheme\\\\/AUDL_files\\\\/AUDL.lt-ie9.layout.css\":1}},\"fitvids\":{\"custom_domains\":[\"iframe[src^=\\\\u0027https:\\\\/\\\\/player.pbs.org\\\\/viralplayer\\\\/3007039689\\\\/\\\\u0027]\",\"iframe[src^=\\\\u0027https:\\\\/\\\\/www.facebook.com\\\\/plugins\\\\/video.php?href=https%3A%2F%2Fwww.facebook.com%2FtheAUDL%2Fvideos%2F923070074395714%2F\\\\u0026show_text=0\\\\u0026width=560\\\\u0027]\",\"iframe[src^=\\\\u0027https:\\\\/\\\\/www.facebook.com\\\\/plugins\\\\/video.php?href=https%3A%2F%2Fwww.facebook.com%2FtheAUDL%2Fvideos%2F1650284945007553%2F\\\\u0026show_text=0\\\\u0026width=560\\\\u0027]\"],\"selectors\":[\"#block-views-all-article-content-block\\\\r\",\".view-game-center-videos\\\\r\",\".node-league-page\\\\r\",\".page-league-schedule\\\\r\",\".node-type-article\\\\r\",\".node-type-video\\\\r\",\".page-league-dish\"],\"simplifymarkup\":1},\"responsive_menus\":[{\"toggler_text\":\"\\\\u2630 Menu\",\"selectors\":[\"#main-menu\",\".MMMenu\"],\"media_size\":\"768\",\"media_unit\":\"px\",\"absolute\":\"1\",\"remove_attributes\":\"1\",\"responsive_menus_style\":\"responsive_menus_simple\"}],\"googleanalytics\":{\"trackOutbound\":1,\"trackMailto\":1,\"trackDownload\":1,\"trackDownloadExtensions\":\"7z|aac|arc|arj|asf|asx|avi|bin|csv|doc(x|m)?|dot(x|m)?|exe|flv|gif|gz|gzip|hqx|jar|jpe?g|js|mp(2|3|4|e?g)|mov(ie)?|msi|msp|pdf|phps|png|ppt(x|m)?|pot(x|m)?|pps(x|m)?|ppam|sld(x|m)?|thmx|qtm?|ra(m|r)?|sea|sit|tar|tgz|torrent|txt|wav|wma|wmv|wpd|xls(x|m|b)?|xlt(x|m)|xlam|xml|z|zip\"},\"urlIsAjaxTrusted\":{\"\\\\/search\\\\/node\":true},\"adaptivetheme\":{\"AUDL\":{\"layout_settings\":{\"bigscreen\":\"three-col-grail\",\"tablet_landscape\":\"three-col-grail\",\"tablet_portrait\":\"one-col-vert\",\"smalltouch_landscape\":\"one-col-stack\",\"smalltouch_portrait\":\"one-col-stack\"},\"media_query_settings\":{\"bigscreen\":\"only screen and (min-width:1025px)\",\"tablet_landscape\":\"only screen and (min-width:769px) and (max-width:1024px)\",\"tablet_portrait\":\"only screen and (min-width:581px) and (max-width:768px)\",\"smalltouch_landscape\":\"only screen and (min-width:321px) and (max-width:580px)\",\"smalltouch_portrait\":\"only screen and (max-width:320px)\"}}}});\\n//--><!]]>\\n</script>\\n<!--[if lt IE 9]>\\n<script src=\"https://theaudl.com/themes/adaptivetheme/at_core/scripts/html5.js?q7pgap\"></script>\\n<![endif]-->\\n<!-- Table Sort JS & CSS -->\\n<script src=\"https://ajax.googleapis.com/ajax/libs/jquery/3.4.1/jquery.min.js\"></script>\\n<link rel=\"stylesheet\" type=\"text/css\" href=\"https://cdn.datatables.net/1.10.19/css/jquery.dataTables.min.css\"/>\\n<script type=\"text/javascript\" src=\"https://cdn.datatables.net/v/dt/dt-1.10.18/datatables.min.js\"></script>\\n</head>\\n<body class=\"html not-front not-logged-in two-sidebars page-league page-league-standings i18n-en site-name-hidden atr-7.x-3.x atv-7.x-3.4 page-panels\">\\n  <div id=\"skip-link\" class=\"nocontent\">\\n    <a href=\"#main-content\" class=\"element-invisible element-focusable\">Skip to main content</a>\\n  </div>\\n    <div id=\"page-wrapper\">\\n  <div id=\"page\" class=\"container page\">\\n\\n    <!-- !Leaderboard Region -->\\n    \\n    <header id=\"header\" class=\"clearfix\" role=\"banner\">\\n\\n              <!-- !Branding -->\\n        <div id=\"branding\" class=\"branding-elements clearfix\">\\n\\n          \\n                      <!-- !Site name and Slogan -->\\n            <div class=\"element-invisible h-group\" id=\"name-and-slogan\">\\n\\n                              <h1 class=\"element-invisible\" id=\"site-name\"><a href=\"/\" title=\"Home page\">AUDL</a></h1>\\n              \\n              \\n            </div>\\n          \\n        </div>\\n      \\n      <!-- !Header Region -->\\n      <div class=\"region region-header\"><div class=\"region-inner clearfix\"><div id=\"block-panels-mini-header-home-a\" class=\"block block-panels-mini no-title odd first block-count-1 block-region-header block-header-home-a\" >  \\n  \\n  <div class=\"block-content content\"><div class=\"one-column at-panel panel-display clearfix\" id=\"mini-panel-header_home_a\">\\n  <div class=\"region region-one-main\">\\n    <div class=\"region-inner clearfix\">\\n      <div class=\"panel-pane pane-panels-mini pane-header-home no-margin home-bg  no-title block\">\\n  <div class=\"block-inner clearfix\">\\n    \\n            \\n    \\n    <div class=\"block-content\">\\n      <div class=\"three-25-50-25 at-panel panel-display clearfix\" id=\"mini-panel-header_home\">\\n    <div class=\"region region-three-25-50-25-first\">\\n    <div class=\"region-inner clearfix\">\\n      <div class=\"panel-pane pane-custom pane-2 no-margin-bottom no-title block\">\\n  <div class=\"block-inner clearfix\">\\n    \\n            \\n    \\n    <div class=\"block-content\">\\n      <!--smart_paging_autop_filter--><!--smart_paging_filter--><div class=\"main-logo2\"><a href=\"/\"><img alt=\"\" src=\"/themes/AUDL_theme/css/images/headers/SITE-logo-AUDL-2.png\" /></a></div>\\n    </div>\\n\\n    \\n    \\n  </div>\\n</div>\\n    </div>\\n  </div>\\n  <div class=\"region region-three-25-50-25-second\">\\n    <div class=\"region-inner clearfix\">\\n      <div class=\"panel-pane pane-block pane-menu-menu-sample MMMenu no-title block\" id=\"dropp\">\\n  <div class=\"block-inner clearfix\">\\n    \\n            \\n    \\n    <div class=\"block-content\">\\n      <ul class=\"menu clearfix\"><li class=\"first expanded menu-depth-1 menu-item-921\"><a href=\"/league/teams\">Teams</a><ul class=\"menu clearfix\"><li class=\"first last leaf menu-depth-2 menu-item-507\"><a href=\"/league/schedule/week-1\">Schedule</a></li></ul></li><li class=\"leaf menu-depth-1 menu-item-996\"><a href=\"/league/standings\" class=\"active\">Standings</a></li><li class=\"collapsed menu-depth-1 menu-item-944\"><a href=\"/league/stats\">Stats</a></li><li class=\"leaf menu-depth-1 menu-item-910\"><a href=\"/league/news\">News</a></li><li class=\"leaf menu-depth-1 menu-item-1106\"><a href=\"/league/schedule/week-1\">Scores</a></li><li class=\"expanded menu-depth-1 menu-item-1113\"><a href=\"https://theaudl.com/league/watch\">Watch</a><ul class=\"menu clearfix\"><li class=\"first leaf menu-depth-2 menu-item-1245\"><a href=\"https://www.audl.tv\">AUDL.tv</a></li><li class=\"last leaf menu-depth-2 menu-item-1244\"><a href=\"https://www.youtube.com/user/TheAUDLChannel\">Youtube </a></li></ul></li><li class=\"expanded menu-depth-1 menu-item-1079\"><a href=\"/league/about\">About</a><ul class=\"menu clearfix\"><li class=\"first leaf menu-depth-2 menu-item-1125\"><a href=\"https://theaudl.com/league/tryouts\">Tryout</a></li><li class=\"leaf menu-depth-2 menu-item-779\"><a href=\"/league/contact\">Contact </a></li><li class=\"leaf menu-depth-2 menu-item-1162\"><a href=\"/league/news/audl-expansion-opportunities\">Expansion</a></li><li class=\"last leaf menu-depth-2 menu-item-508\"><a href=\"/league/ultimate101\">Ultimate 101</a></li></ul></li><li class=\"leaf menu-depth-1 menu-item-868\"><a href=\"https://shop.theaudl.com\">Shop</a></li><li class=\"last expanded menu-depth-1 menu-item-1289\"><a href=\"/league/community\">Community</a><ul class=\"menu clearfix\"><li class=\"first leaf menu-depth-2 menu-item-1179\"><a href=\"/league/youth\">Youth</a></li><li class=\"last leaf menu-depth-2 menu-item-1135\"><a href=\"/league/camps\">Camps</a></li></ul></li></ul>    </div>\\n\\n    \\n    \\n  </div>\\n</div>\\n    </div>\\n  </div>\\n  <div class=\"region region-three-25-50-25-third\">\\n    <div class=\"region-inner clearfix\">\\n      <div class=\"panel-pane pane-custom pane-3 no-title block\">\\n  <div class=\"block-inner clearfix\">\\n    \\n            \\n    \\n    <div class=\"block-content\">\\n      <!--smart_paging_autop_filter--><!--smart_paging_filter--><div class=\"social-home\">\\n<a href=\"/search\"><img src=\"/themes/AUDL_theme/css/images/headers/search.png\" alt=\"search\" /></a>\\n<a href=\"https://www.youtube.com/user/TheAUDLChannel\"><img src=\"/themes/AUDL_theme/css/images/headers/SOCIAL-youtube.png\" alt=\"youtube\" /></a>\\n<a href=\"https://www.instagram.com/theaudl/\"><img src=\"/themes/AUDL_theme/css/images/headers/SOCIAL-instagram.png\" alt=\"instagram\" /></a>\\n<a href=\"https://twitter.com/theAUDL\"><img src=\"/themes/AUDL_theme/css/images/headers/SOCIAL-twitter.png\" alt=\"twitter\" /></a>\\n<a href=\"https://www.facebook.com/theAUDL?ref=hl\"><img id=\"marg-left-fix\" src=\"/themes/AUDL_theme/css/images/headers/SOCIAL-facebook.png\" alt=\"facebook\" /></a>\\n</div>\\n<div class=\"clear\"></div>    </div>\\n\\n    \\n    \\n  </div>\\n</div>\\n    </div>\\n  </div>\\n  </div>\\n    </div>\\n\\n    \\n    \\n  </div>\\n</div>\\n    </div>\\n  </div>\\n</div>\\n</div>\\n  </div><div id=\"block-block-6\" class=\"block block-block no-title even last block-count-2 block-region-header block-6\" ><div class=\"block-inner clearfix\">  \\n  \\n  <div class=\"block-content content\"><!--smart_paging_autop_filter--><!--smart_paging_filter--><div style=\"text-align:center\"><a href=\"https://www.deschutesbrewery.com\"><img alt=\"\" height=\"90\" src=\"/sites/default/files/BLOCK-bannerAD-deschutes_top.jpg\" width=\"970\" /></a></div>\\n</div>\\n  </div></div></div></div>\\n    </header>\\n\\n    <!-- !Navigation -->\\n            \\n    <!-- !Breadcrumbs -->\\n    \\n    <!-- !Messages and Help -->\\n        \\n    <!-- !Secondary Content Region -->\\n    \\n    <div id=\"columns\" class=\"columns clearfix\">\\n      <main id=\"content-column\" class=\"content-column\" role=\"main\">\\n        <div class=\"content-inner\">\\n\\n          <!-- !Highlighted region -->\\n          \\n          <div id=\"main-content\">\\n\\n            \\n            <!-- !Main Content Header -->\\n            \\n            <!-- !Main Content -->\\n                          <div id=\"content\" class=\"region\">\\n                <div id=\"block-views-current-standings-block\" class=\"block block-views no-title odd first last block-count-3 block-region-content block-current-standings-block\" >  \\n  \\n  <div class=\"view view-current-standings view-id-current_standings view-display-id-block view-dom-id-d74e95d8da40d42f3b01b17d935b5590\">\\n        \\n  \\n  \\n      <div class=\"view-content\">\\n      <table  class=\"views-table cols-5\">\\n        <caption><div class=\"cap caption-division-atlantic\"><span class=\"cap-img\"><img typeof=\"foaf:Image\" class=\"image-style-none\" src=\"https://theaudl.com/sites/default/files/AtlanticSmall_0.png\" alt=\"\" /></span><span class=\"division-atlantic\">Atlantic</span></div></caption>\\n        <thead>\\n      <tr>\\n                  <th  class=\"views-field views-field-team-field-team-thumbnail-image\" scope=\"col\">\\n                      </th>\\n                  <th  class=\"views-field views-field-team-field-team-display-name views-align-left\" scope=\"col\">\\n            Team          </th>\\n                  <th  class=\"views-field views-field-wins views-align-left\" scope=\"col\">\\n            W          </th>\\n                  <th  class=\"views-field views-field-losses views-align-left\" scope=\"col\">\\n            L          </th>\\n                  <th  class=\"views-field views-field-ties\" scope=\"col\">\\n            T          </th>\\n              </tr>\\n    </thead>\\n    <tbody>\\n          <tr  class=\"odd views-row-first\">\\n                  <td  class=\"views-field views-field-team-field-team-thumbnail-image\">\\n            <img typeof=\"foaf:Image\" class=\"image-style-none\" src=\"https://theaudl.com/sites/default/files/teams/phoenix/phoenix_thumbnail.png\" alt=\"\" />          </td>\\n                  <td  class=\"views-field views-field-team-field-team-display-name views-align-left\">\\n            Philadelphia Phoenix          </td>\\n                  <td  class=\"views-field views-field-wins views-align-left\">\\n            0          </td>\\n                  <td  class=\"views-field views-field-losses views-align-left\">\\n            0          </td>\\n                  <td  class=\"views-field views-field-ties\">\\n            0          </td>\\n              </tr>\\n          <tr  class=\"even views-row-last\">\\n                  <td  class=\"views-field views-field-team-field-team-thumbnail-image\">\\n            <img typeof=\"foaf:Image\" class=\"image-style-none\" src=\"https://theaudl.com/sites/default/files/teams/flyers/flyers_thumbnail.png\" alt=\"\" />          </td>\\n                  <td  class=\"views-field views-field-team-field-team-display-name views-align-left\">\\n            Raleigh Flyers          </td>\\n                  <td  class=\"views-field views-field-wins views-align-left\">\\n            0          </td>\\n                  <td  class=\"views-field views-field-losses views-align-left\">\\n            0          </td>\\n                  <td  class=\"views-field views-field-ties\">\\n            0          </td>\\n              </tr>\\n          <tr  class=\"odd\">\\n                  <td  class=\"views-field views-field-team-field-team-thumbnail-image\">\\n            <img typeof=\"foaf:Image\" class=\"image-style-none\" src=\"https://theaudl.com/sites/default/files/teams/hustle/hustle_thumbnail.png\" alt=\"\" />          </td>\\n                  <td  class=\"views-field views-field-team-field-team-display-name views-align-left\">\\n            Atlanta Hustle          </td>\\n                  <td  class=\"views-field views-field-wins views-align-left\">\\n            0          </td>\\n                  <td  class=\"views-field views-field-losses views-align-left\">\\n            0          </td>\\n                  <td  class=\"views-field views-field-ties\">\\n            0          </td>\\n              </tr>\\n          <tr  class=\"even\">\\n                  <td  class=\"views-field views-field-team-field-team-thumbnail-image\">\\n            <img typeof=\"foaf:Image\" class=\"image-style-none\" src=\"https://theaudl.com/sites/default/files/teams/thunderbirds/thunderbirds_thumbnail.png\" alt=\"\" />          </td>\\n                  <td  class=\"views-field views-field-team-field-team-display-name views-align-left\">\\n            Pittsburgh Thunderbirds          </td>\\n                  <td  class=\"views-field views-field-wins views-align-left\">\\n            0          </td>\\n                  <td  class=\"views-field views-field-losses views-align-left\">\\n            0          </td>\\n                  <td  class=\"views-field views-field-ties\">\\n            0          </td>\\n              </tr>\\n          <tr  class=\"odd\">\\n                  <td  class=\"views-field views-field-team-field-team-thumbnail-image\">\\n            <img typeof=\"foaf:Image\" class=\"image-style-none\" src=\"https://theaudl.com/sites/default/files/teams/breeze/breeze_thumbnail.png\" alt=\"\" />          </td>\\n                  <td  class=\"views-field views-field-team-field-team-display-name views-align-left\">\\n            DC Breeze          </td>\\n                  <td  class=\"views-field views-field-wins views-align-left\">\\n            0          </td>\\n                  <td  class=\"views-field views-field-losses views-align-left\">\\n            0          </td>\\n                  <td  class=\"views-field views-field-ties\">\\n            0          </td>\\n              </tr>\\n          <tr  class=\"even\">\\n                  <td  class=\"views-field views-field-team-field-team-thumbnail-image\">\\n            <img typeof=\"foaf:Image\" class=\"image-style-none\" src=\"https://theaudl.com/sites/default/files/teams/cannons/cannons_thumbnail.png\" alt=\"\" />          </td>\\n                  <td  class=\"views-field views-field-team-field-team-display-name views-align-left\">\\n            Tampa Bay Cannons          </td>\\n                  <td  class=\"views-field views-field-wins views-align-left\">\\n            0          </td>\\n                  <td  class=\"views-field views-field-losses views-align-left\">\\n            0          </td>\\n                  <td  class=\"views-field views-field-ties\">\\n            0          </td>\\n              </tr>\\n      </tbody>\\n</table>\\n<table  class=\"views-table cols-5\">\\n        <caption><div class=\"cap caption-division-central\"><span class=\"cap-img\"><img typeof=\"foaf:Image\" class=\"image-style-none\" src=\"https://theaudl.com/sites/default/files/CentralSmall_0.png\" alt=\"\" /></span><span class=\"division-central\">Central</span></div></caption>\\n        <thead>\\n      <tr>\\n                  <th  class=\"views-field views-field-team-field-team-thumbnail-image\" scope=\"col\">\\n                      </th>\\n                  <th  class=\"views-field views-field-team-field-team-display-name views-align-left\" scope=\"col\">\\n            Team          </th>\\n                  <th  class=\"views-field views-field-wins views-align-left\" scope=\"col\">\\n            W          </th>\\n                  <th  class=\"views-field views-field-losses views-align-left\" scope=\"col\">\\n            L          </th>\\n                  <th  class=\"views-field views-field-ties\" scope=\"col\">\\n            T          </th>\\n              </tr>\\n    </thead>\\n    <tbody>\\n          <tr  class=\"odd\">\\n                  <td  class=\"views-field views-field-team-field-team-thumbnail-image\">\\n            <img typeof=\"foaf:Image\" class=\"image-style-none\" src=\"https://theaudl.com/sites/default/files/teams/windchill/windchill_thumbnail.png\" alt=\"\" />          </td>\\n                  <td  class=\"views-field views-field-team-field-team-display-name views-align-left\">\\n            Minnesota Wind Chill          </td>\\n                  <td  class=\"views-field views-field-wins views-align-left\">\\n            0          </td>\\n                  <td  class=\"views-field views-field-losses views-align-left\">\\n            0          </td>\\n                  <td  class=\"views-field views-field-ties\">\\n            0          </td>\\n              </tr>\\n          <tr  class=\"even\">\\n                  <td  class=\"views-field views-field-team-field-team-thumbnail-image\">\\n            <img typeof=\"foaf:Image\" class=\"image-style-none\" src=\"https://theaudl.com/sites/default/files/teams/mechanix/mechanix_thumbnail.png\" alt=\"\" />          </td>\\n                  <td  class=\"views-field views-field-team-field-team-display-name views-align-left\">\\n            Detroit Mechanix          </td>\\n                  <td  class=\"views-field views-field-wins views-align-left\">\\n            0          </td>\\n                  <td  class=\"views-field views-field-losses views-align-left\">\\n            0          </td>\\n                  <td  class=\"views-field views-field-ties\">\\n            0          </td>\\n              </tr>\\n          <tr  class=\"odd\">\\n                  <td  class=\"views-field views-field-team-field-team-thumbnail-image\">\\n            <img typeof=\"foaf:Image\" class=\"image-style-none\" src=\"https://theaudl.com/sites/default/files/teams/radicals/radicals_thumbnail.png\" alt=\"\" />          </td>\\n                  <td  class=\"views-field views-field-team-field-team-display-name views-align-left\">\\n            Madison Radicals          </td>\\n                  <td  class=\"views-field views-field-wins views-align-left\">\\n            0          </td>\\n                  <td  class=\"views-field views-field-losses views-align-left\">\\n            0          </td>\\n                  <td  class=\"views-field views-field-ties\">\\n            0          </td>\\n              </tr>\\n          <tr  class=\"even\">\\n                  <td  class=\"views-field views-field-team-field-team-thumbnail-image\">\\n            <img typeof=\"foaf:Image\" class=\"image-style-none\" src=\"https://theaudl.com/sites/default/files/teams/alleycats/alleycats_thumbnail.png\" alt=\"\" />          </td>\\n                  <td  class=\"views-field views-field-team-field-team-display-name views-align-left\">\\n            Indianapolis AlleyCats          </td>\\n                  <td  class=\"views-field views-field-wins views-align-left\">\\n            0          </td>\\n                  <td  class=\"views-field views-field-losses views-align-left\">\\n            0          </td>\\n                  <td  class=\"views-field views-field-ties\">\\n            0          </td>\\n              </tr>\\n          <tr  class=\"odd\">\\n                  <td  class=\"views-field views-field-team-field-team-thumbnail-image\">\\n            <img typeof=\"foaf:Image\" class=\"image-style-none\" src=\"https://theaudl.com/sites/default/files/teams/wildfire/wildfire_thumbnail.png\" alt=\"\" />          </td>\\n                  <td  class=\"views-field views-field-team-field-team-display-name views-align-left\">\\n            Chicago Wildfire          </td>\\n                  <td  class=\"views-field views-field-wins views-align-left\">\\n            0          </td>\\n                  <td  class=\"views-field views-field-losses views-align-left\">\\n            0          </td>\\n                  <td  class=\"views-field views-field-ties\">\\n            0          </td>\\n              </tr>\\n      </tbody>\\n</table>\\n<table  class=\"views-table cols-5\">\\n        <caption><div class=\"cap caption-division-east\"><span class=\"cap-img\"><img typeof=\"foaf:Image\" class=\"image-style-none\" src=\"https://theaudl.com/sites/default/files/E%400%2C1x.png\" alt=\"\" /></span><span class=\"division-east\">East</span></div></caption>\\n        <thead>\\n      <tr>\\n                  <th  class=\"views-field views-field-team-field-team-thumbnail-image\" scope=\"col\">\\n                      </th>\\n                  <th  class=\"views-field views-field-team-field-team-display-name views-align-left\" scope=\"col\">\\n            Team          </th>\\n                  <th  class=\"views-field views-field-wins views-align-left\" scope=\"col\">\\n            W          </th>\\n                  <th  class=\"views-field views-field-losses views-align-left\" scope=\"col\">\\n            L          </th>\\n                  <th  class=\"views-field views-field-ties\" scope=\"col\">\\n            T          </th>\\n              </tr>\\n    </thead>\\n    <tbody>\\n          <tr  class=\"odd\">\\n                  <td  class=\"views-field views-field-team-field-team-thumbnail-image\">\\n            <img typeof=\"foaf:Image\" class=\"image-style-none\" src=\"https://theaudl.com/sites/default/files/teams/empire/empire_thumbnail.png\" alt=\"\" />          </td>\\n                  <td  class=\"views-field views-field-team-field-team-display-name views-align-left\">\\n            New York Empire          </td>\\n                  <td  class=\"views-field views-field-wins views-align-left\">\\n            0          </td>\\n                  <td  class=\"views-field views-field-losses views-align-left\">\\n            0          </td>\\n                  <td  class=\"views-field views-field-ties\">\\n            0          </td>\\n              </tr>\\n          <tr  class=\"even\">\\n                  <td  class=\"views-field views-field-team-field-team-thumbnail-image\">\\n            <img typeof=\"foaf:Image\" class=\"image-style-none\" src=\"https://theaudl.com/sites/default/files/teams/outlaws/outlaws_thumbnail.png\" alt=\"\" />          </td>\\n                  <td  class=\"views-field views-field-team-field-team-display-name views-align-left\">\\n            Ottawa Outlaws          </td>\\n                  <td  class=\"views-field views-field-wins views-align-left\">\\n            0          </td>\\n                  <td  class=\"views-field views-field-losses views-align-left\">\\n            0          </td>\\n                  <td  class=\"views-field views-field-ties\">\\n            0          </td>\\n              </tr>\\n          <tr  class=\"odd\">\\n                  <td  class=\"views-field views-field-team-field-team-thumbnail-image\">\\n            <img typeof=\"foaf:Image\" class=\"image-style-none\" src=\"https://theaudl.com/sites/default/files/teams/royal/royal_thumbnail.png\" alt=\"\" />          </td>\\n                  <td  class=\"views-field views-field-team-field-team-display-name views-align-left\">\\n            Montreal Royal          </td>\\n                  <td  class=\"views-field views-field-wins views-align-left\">\\n            0          </td>\\n                  <td  class=\"views-field views-field-losses views-align-left\">\\n            0          </td>\\n                  <td  class=\"views-field views-field-ties\">\\n            0          </td>\\n              </tr>\\n          <tr  class=\"even\">\\n                  <td  class=\"views-field views-field-team-field-team-thumbnail-image\">\\n            <img typeof=\"foaf:Image\" class=\"image-style-none\" src=\"https://theaudl.com/sites/default/files/teams/rush/rush_thumbnail.png\" alt=\"\" />          </td>\\n                  <td  class=\"views-field views-field-team-field-team-display-name views-align-left\">\\n            Toronto Rush          </td>\\n                  <td  class=\"views-field views-field-wins views-align-left\">\\n            0          </td>\\n                  <td  class=\"views-field views-field-losses views-align-left\">\\n            0          </td>\\n                  <td  class=\"views-field views-field-ties\">\\n            0          </td>\\n              </tr>\\n          <tr  class=\"odd\">\\n                  <td  class=\"views-field views-field-team-field-team-thumbnail-image\">\\n            <img typeof=\"foaf:Image\" class=\"image-style-none\" src=\"https://theaudl.com/sites/default/files/teams/glory/glory_thumbnail.png\" alt=\"\" />          </td>\\n                  <td  class=\"views-field views-field-team-field-team-display-name views-align-left\">\\n            Boston Glory          </td>\\n                  <td  class=\"views-field views-field-wins views-align-left\">\\n            0          </td>\\n                  <td  class=\"views-field views-field-losses views-align-left\">\\n            0          </td>\\n                  <td  class=\"views-field views-field-ties\">\\n            0          </td>\\n              </tr>\\n      </tbody>\\n</table>\\n<table  class=\"views-table cols-5\">\\n        <caption><div class=\"cap caption-division-west\"><span class=\"cap-img\"><img typeof=\"foaf:Image\" class=\"image-style-none\" src=\"https://theaudl.com/sites/default/files/W%400%2C1x.png\" alt=\"\" /></span><span class=\"division-west\">West</span></div></caption>\\n        <thead>\\n      <tr>\\n                  <th  class=\"views-field views-field-team-field-team-thumbnail-image\" scope=\"col\">\\n                      </th>\\n                  <th  class=\"views-field views-field-team-field-team-display-name views-align-left\" scope=\"col\">\\n            Team          </th>\\n                  <th  class=\"views-field views-field-wins views-align-left\" scope=\"col\">\\n            W          </th>\\n                  <th  class=\"views-field views-field-losses views-align-left\" scope=\"col\">\\n            L          </th>\\n                  <th  class=\"views-field views-field-ties\" scope=\"col\">\\n            T          </th>\\n              </tr>\\n    </thead>\\n    <tbody>\\n          <tr  class=\"odd\">\\n                  <td  class=\"views-field views-field-team-field-team-thumbnail-image\">\\n            <img typeof=\"foaf:Image\" class=\"image-style-none\" src=\"https://theaudl.com/sites/default/files/teams/aviators/aviators_thumbnail.png\" alt=\"\" />          </td>\\n                  <td  class=\"views-field views-field-team-field-team-display-name views-align-left\">\\n            Los Angeles Aviators          </td>\\n                  <td  class=\"views-field views-field-wins views-align-left\">\\n            0          </td>\\n                  <td  class=\"views-field views-field-losses views-align-left\">\\n            0          </td>\\n                  <td  class=\"views-field views-field-ties\">\\n            0          </td>\\n              </tr>\\n          <tr  class=\"even\">\\n                  <td  class=\"views-field views-field-team-field-team-thumbnail-image\">\\n            <img typeof=\"foaf:Image\" class=\"image-style-none\" src=\"https://theaudl.com/sites/default/files/teams/spiders/spiders_thumbnail.png\" alt=\"\" />          </td>\\n                  <td  class=\"views-field views-field-team-field-team-display-name views-align-left\">\\n            San Jose Spiders          </td>\\n                  <td  class=\"views-field views-field-wins views-align-left\">\\n            0          </td>\\n                  <td  class=\"views-field views-field-losses views-align-left\">\\n            0          </td>\\n                  <td  class=\"views-field views-field-ties\">\\n            0          </td>\\n              </tr>\\n          <tr  class=\"odd\">\\n                  <td  class=\"views-field views-field-team-field-team-thumbnail-image\">\\n            <img typeof=\"foaf:Image\" class=\"image-style-none\" src=\"https://theaudl.com/sites/default/files/teams/sol/sol_thumbnail.png\" alt=\"\" />          </td>\\n                  <td  class=\"views-field views-field-team-field-team-display-name views-align-left\">\\n            Austin Sol          </td>\\n                  <td  class=\"views-field views-field-wins views-align-left\">\\n            0          </td>\\n                  <td  class=\"views-field views-field-losses views-align-left\">\\n            0          </td>\\n                  <td  class=\"views-field views-field-ties\">\\n            0          </td>\\n              </tr>\\n          <tr  class=\"even\">\\n                  <td  class=\"views-field views-field-team-field-team-thumbnail-image\">\\n            <img typeof=\"foaf:Image\" class=\"image-style-none\" src=\"https://theaudl.com/sites/default/files/teams/growlers/growlers_thumbnail.png\" alt=\"\" />          </td>\\n                  <td  class=\"views-field views-field-team-field-team-display-name views-align-left\">\\n            San Diego Growlers          </td>\\n                  <td  class=\"views-field views-field-wins views-align-left\">\\n            0          </td>\\n                  <td  class=\"views-field views-field-losses views-align-left\">\\n            0          </td>\\n                  <td  class=\"views-field views-field-ties\">\\n            0          </td>\\n              </tr>\\n          <tr  class=\"odd\">\\n                  <td  class=\"views-field views-field-team-field-team-thumbnail-image\">\\n            <img typeof=\"foaf:Image\" class=\"image-style-none\" src=\"https://theaudl.com/sites/default/files/teams/roughnecks/roughnecks_thumbnail.png\" alt=\"\" />          </td>\\n                  <td  class=\"views-field views-field-team-field-team-display-name views-align-left\">\\n            Dallas Roughnecks          </td>\\n                  <td  class=\"views-field views-field-wins views-align-left\">\\n            0          </td>\\n                  <td  class=\"views-field views-field-losses views-align-left\">\\n            0          </td>\\n                  <td  class=\"views-field views-field-ties\">\\n            0          </td>\\n              </tr>\\n          <tr  class=\"even\">\\n                  <td  class=\"views-field views-field-team-field-team-thumbnail-image\">\\n            <img typeof=\"foaf:Image\" class=\"image-style-none\" src=\"https://theaudl.com/sites/default/files/teams/cascades/cascades_thumbnail.png\" alt=\"\" />          </td>\\n                  <td  class=\"views-field views-field-team-field-team-display-name views-align-left\">\\n            Seattle Cascades          </td>\\n                  <td  class=\"views-field views-field-wins views-align-left\">\\n            0          </td>\\n                  <td  class=\"views-field views-field-losses views-align-left\">\\n            0          </td>\\n                  <td  class=\"views-field views-field-ties\">\\n            0          </td>\\n              </tr>\\n      </tbody>\\n</table>\\n    </div>\\n  \\n  \\n  \\n  \\n  \\n  \\n</div>\\n  </div><div class=\"one-column at-panel panel-display clearfix\" >\\n  <div class=\"region region-one-main\">\\n    <div class=\"region-inner clearfix\">\\n          </div>\\n  </div>\\n</div>\\n              </div>\\n            \\n            <!-- !Feed Icons -->\\n            \\n            \\n          </div><!-- /end #main-content -->\\n\\n          <!-- !Content Aside Region-->\\n          \\n        </div><!-- /end .content-inner -->\\n      </main><!-- /end #content-column -->\\n\\n      <!-- !Sidebar Regions -->\\n      <div class=\"region region-sidebar-first sidebar\"><div class=\"region-inner clearfix\"><div id=\"block-views-schedule-for-week-block\" class=\"block block-views no-title odd first block-count-4 block-region-sidebar-first block-schedule-for-week-block\" ><div class=\"block-inner clearfix\">  \\n  \\n  <div class=\"block-content content\"><div class=\"view view-schedule-for-week view-id-schedule_for_week view-display-id-block view-dom-id-13f5915d6de6d5e4c0242dcd45236348\">\\n        \\n  \\n  \\n      <div class=\"view-content\">\\n        <div class=\"views-row views-row-1\">\\n      \\n          <table><tbody>\\n<tr>\\n\\t<td colspan=\"2\" class=\"views-field views-field-start-time-text\">Sat, 4/4 7:00 PM EDT</td>\\n\\t<td class=\"views-field views-field-status\">Upcoming</td></tr>\\n<tr>\\n\\t<td class=\"views-field views-field-team-field-team-thumbnail-image\"><img typeof=\"foaf:Image\" class=\"image-style-thumbnail\" src=\"https://theaudl.com/sites/default/files/styles/thumbnail/public/teams/breeze/breeze_thumbnail.png?itok=oF2Q4WUv\" alt=\"\" /></td>\\n\\t<td class=\"views-field views-field-team-field-team-display-name\"><a href=\"/breeze/game/2020-04-04-DC-RAL\">DC Breeze</a></td>\\n\\t<td class=\"views-field views-field-score-away\">0</td>\\n</tr>\\n<tr>\\n\\t<td class=\"views-field views-field-team-field-team-thumbnail-image\"><img typeof=\"foaf:Image\" class=\"image-style-thumbnail\" src=\"https://theaudl.com/sites/default/files/styles/thumbnail/public/teams/flyers/flyers_thumbnail.png?itok=VsBqWTn_\" alt=\"\" /></td>\\n\\t<td class=\"views-field views-field-team-field-team-display-name\"><a href=\"/flyers/game/2020-04-04-DC-RAL\">Raleigh Flyers</a></td>\\n\\t<td class=\"views-field views-field-score-home\">0</td>\\n</tr>\\n\\n</tbody></table>\\n    </div>\\n  <div class=\"views-row views-row-2\">\\n      \\n          <table><tbody>\\n<tr>\\n\\t<td colspan=\"2\" class=\"views-field views-field-start-time-text\">Sat, 4/4 7:00 PM PDT</td>\\n\\t<td class=\"views-field views-field-status\">Upcoming</td></tr>\\n<tr>\\n\\t<td class=\"views-field views-field-team-field-team-thumbnail-image\"><img typeof=\"foaf:Image\" class=\"image-style-thumbnail\" src=\"https://theaudl.com/sites/default/files/styles/thumbnail/public/teams/spiders/spiders_thumbnail.png?itok=51VJSyZf\" alt=\"\" /></td>\\n\\t<td class=\"views-field views-field-team-field-team-display-name\"><a href=\"/spiders/game/2020-04-04-SJ-SEA\">San Jose Spiders</a></td>\\n\\t<td class=\"views-field views-field-score-away\">0</td>\\n</tr>\\n<tr>\\n\\t<td class=\"views-field views-field-team-field-team-thumbnail-image\"><img typeof=\"foaf:Image\" class=\"image-style-thumbnail\" src=\"https://theaudl.com/sites/default/files/styles/thumbnail/public/teams/cascades/cascades_thumbnail.png?itok=ewTszXBQ\" alt=\"\" /></td>\\n\\t<td class=\"views-field views-field-team-field-team-display-name\"><a href=\"/cascades/game/2020-04-04-SJ-SEA\">Seattle Cascades</a></td>\\n\\t<td class=\"views-field views-field-score-home\">0</td>\\n</tr>\\n\\n</tbody></table>\\n    </div>\\n  <div class=\"views-row views-row-3\">\\n      \\n          <table><tbody>\\n<tr>\\n\\t<td colspan=\"2\" class=\"views-field views-field-start-time-text\">Sat, 4/4 7:05 PM EDT</td>\\n\\t<td class=\"views-field views-field-status\">Upcoming</td></tr>\\n<tr>\\n\\t<td class=\"views-field views-field-team-field-team-thumbnail-image\"><img typeof=\"foaf:Image\" class=\"image-style-thumbnail\" src=\"https://theaudl.com/sites/default/files/styles/thumbnail/public/teams/hustle/hustle_thumbnail.png?itok=_UwcqpBi\" alt=\"\" /></td>\\n\\t<td class=\"views-field views-field-team-field-team-display-name\"><a href=\"/hustle/game/2020-04-04-ATL-TB\">Atlanta Hustle</a></td>\\n\\t<td class=\"views-field views-field-score-away\">0</td>\\n</tr>\\n<tr>\\n\\t<td class=\"views-field views-field-team-field-team-thumbnail-image\"><img typeof=\"foaf:Image\" class=\"image-style-thumbnail\" src=\"https://theaudl.com/sites/default/files/styles/thumbnail/public/teams/cannons/cannons_thumbnail.png?itok=2WHApmxQ\" alt=\"\" /></td>\\n\\t<td class=\"views-field views-field-team-field-team-display-name\"><a href=\"/cannons/game/2020-04-04-ATL-TB\">Tampa Bay Cannons</a></td>\\n\\t<td class=\"views-field views-field-score-home\">0</td>\\n</tr>\\n\\n</tbody></table>\\n    </div>\\n  <div class=\"views-row views-row-4\">\\n      \\n          <table><tbody>\\n<tr>\\n\\t<td colspan=\"2\" class=\"views-field views-field-start-time-text\">Sun, 4/5 2:00 PM PDT</td>\\n\\t<td class=\"views-field views-field-status\">Upcoming</td></tr>\\n<tr>\\n\\t<td class=\"views-field views-field-team-field-team-thumbnail-image\"><img typeof=\"foaf:Image\" class=\"image-style-thumbnail\" src=\"https://theaudl.com/sites/default/files/styles/thumbnail/public/teams/aviators/aviators_thumbnail.png?itok=NIFLY6av\" alt=\"\" /></td>\\n\\t<td class=\"views-field views-field-team-field-team-display-name\"><a href=\"/aviators/game/2020-04-05-LA-SD\">Los Angeles Aviators</a></td>\\n\\t<td class=\"views-field views-field-score-away\">0</td>\\n</tr>\\n<tr>\\n\\t<td class=\"views-field views-field-team-field-team-thumbnail-image\"><img typeof=\"foaf:Image\" class=\"image-style-thumbnail\" src=\"https://theaudl.com/sites/default/files/styles/thumbnail/public/teams/growlers/growlers_thumbnail.png?itok=hweYmYHw\" alt=\"\" /></td>\\n\\t<td class=\"views-field views-field-team-field-team-display-name\"><a href=\"/growlers/game/2020-04-05-LA-SD\">San Diego Growlers</a></td>\\n\\t<td class=\"views-field views-field-score-home\">0</td>\\n</tr>\\n\\n</tbody></table>\\n    </div>\\n    </div>\\n  \\n  \\n  \\n  \\n  \\n  \\n</div></div>\\n  </div></div><div id=\"block-views-current-standings-sidebar\" class=\"block block-views no-title even last block-count-5 block-region-sidebar-first block-current-standings-sidebar\" ><div class=\"block-inner clearfix\">  \\n  \\n  <div class=\"block-content content\"><div class=\"view view-current-standings view-id-current_standings view-display-id-sidebar view-dom-id-bf736d8b8ce29ef7fffff22aa6023098\">\\n        \\n  \\n  \\n      <div class=\"view-content\">\\n      <table  class=\"views-table cols-0\">\\n        <caption><div class=\"cap caption-division-atlantic\"><span class=\"cap-img\"><img typeof=\"foaf:Image\" class=\"image-style-none\" src=\"https://theaudl.com/sites/default/files/AtlanticSmall_0.png\" alt=\"\" /></span><span class=\"division-atlantic\">Atlantic</span></div></caption>\\n      <tbody>\\n          <tr  class=\"odd views-row-first\">\\n                  <td  class=\"views-field views-field-team-field-team-thumbnail-image\">\\n            <img typeof=\"foaf:Image\" class=\"image-style-none\" src=\"https://theaudl.com/sites/default/files/teams/phoenix/phoenix_thumbnail.png\" alt=\"\" />          </td>\\n                  <td  class=\"views-field views-field-team-field-team-display-name views-align-left\">\\n            <a href=\"/phoenix\">Philadelphia Phoenix</a>          </td>\\n                  <td  class=\"views-field views-field-nothing\">\\n            0-0          </td>\\n              </tr>\\n          <tr  class=\"even views-row-last\">\\n                  <td  class=\"views-field views-field-team-field-team-thumbnail-image\">\\n            <img typeof=\"foaf:Image\" class=\"image-style-none\" src=\"https://theaudl.com/sites/default/files/teams/flyers/flyers_thumbnail.png\" alt=\"\" />          </td>\\n                  <td  class=\"views-field views-field-team-field-team-display-name views-align-left\">\\n            <a href=\"/flyers\">Raleigh Flyers</a>          </td>\\n                  <td  class=\"views-field views-field-nothing\">\\n            0-0          </td>\\n              </tr>\\n          <tr  class=\"odd\">\\n                  <td  class=\"views-field views-field-team-field-team-thumbnail-image\">\\n            <img typeof=\"foaf:Image\" class=\"image-style-none\" src=\"https://theaudl.com/sites/default/files/teams/hustle/hustle_thumbnail.png\" alt=\"\" />          </td>\\n                  <td  class=\"views-field views-field-team-field-team-display-name views-align-left\">\\n            <a href=\"/hustle\">Atlanta Hustle</a>          </td>\\n                  <td  class=\"views-field views-field-nothing\">\\n            0-0          </td>\\n              </tr>\\n          <tr  class=\"even\">\\n                  <td  class=\"views-field views-field-team-field-team-thumbnail-image\">\\n            <img typeof=\"foaf:Image\" class=\"image-style-none\" src=\"https://theaudl.com/sites/default/files/teams/thunderbirds/thunderbirds_thumbnail.png\" alt=\"\" />          </td>\\n                  <td  class=\"views-field views-field-team-field-team-display-name views-align-left\">\\n            <a href=\"/thunderbirds\">Pittsburgh Thunderbirds</a>          </td>\\n                  <td  class=\"views-field views-field-nothing\">\\n            0-0          </td>\\n              </tr>\\n          <tr  class=\"odd\">\\n                  <td  class=\"views-field views-field-team-field-team-thumbnail-image\">\\n            <img typeof=\"foaf:Image\" class=\"image-style-none\" src=\"https://theaudl.com/sites/default/files/teams/breeze/breeze_thumbnail.png\" alt=\"\" />          </td>\\n                  <td  class=\"views-field views-field-team-field-team-display-name views-align-left\">\\n            <a href=\"/breeze\">DC Breeze</a>          </td>\\n                  <td  class=\"views-field views-field-nothing\">\\n            0-0          </td>\\n              </tr>\\n          <tr  class=\"even\">\\n                  <td  class=\"views-field views-field-team-field-team-thumbnail-image\">\\n            <img typeof=\"foaf:Image\" class=\"image-style-none\" src=\"https://theaudl.com/sites/default/files/teams/cannons/cannons_thumbnail.png\" alt=\"\" />          </td>\\n                  <td  class=\"views-field views-field-team-field-team-display-name views-align-left\">\\n            <a href=\"/cannons\">Tampa Bay Cannons</a>          </td>\\n                  <td  class=\"views-field views-field-nothing\">\\n            0-0          </td>\\n              </tr>\\n      </tbody>\\n</table>\\n<table  class=\"views-table cols-0\">\\n        <caption><div class=\"cap caption-division-central\"><span class=\"cap-img\"><img typeof=\"foaf:Image\" class=\"image-style-none\" src=\"https://theaudl.com/sites/default/files/CentralSmall_0.png\" alt=\"\" /></span><span class=\"division-central\">Central</span></div></caption>\\n      <tbody>\\n          <tr  class=\"odd\">\\n                  <td  class=\"views-field views-field-team-field-team-thumbnail-image\">\\n            <img typeof=\"foaf:Image\" class=\"image-style-none\" src=\"https://theaudl.com/sites/default/files/teams/windchill/windchill_thumbnail.png\" alt=\"\" />          </td>\\n                  <td  class=\"views-field views-field-team-field-team-display-name views-align-left\">\\n            <a href=\"/windchill\">Minnesota Wind Chill</a>          </td>\\n                  <td  class=\"views-field views-field-nothing\">\\n            0-0          </td>\\n              </tr>\\n          <tr  class=\"even\">\\n                  <td  class=\"views-field views-field-team-field-team-thumbnail-image\">\\n            <img typeof=\"foaf:Image\" class=\"image-style-none\" src=\"https://theaudl.com/sites/default/files/teams/mechanix/mechanix_thumbnail.png\" alt=\"\" />          </td>\\n                  <td  class=\"views-field views-field-team-field-team-display-name views-align-left\">\\n            <a href=\"/mechanix\">Detroit Mechanix</a>          </td>\\n                  <td  class=\"views-field views-field-nothing\">\\n            0-0          </td>\\n              </tr>\\n          <tr  class=\"odd\">\\n                  <td  class=\"views-field views-field-team-field-team-thumbnail-image\">\\n            <img typeof=\"foaf:Image\" class=\"image-style-none\" src=\"https://theaudl.com/sites/default/files/teams/radicals/radicals_thumbnail.png\" alt=\"\" />          </td>\\n                  <td  class=\"views-field views-field-team-field-team-display-name views-align-left\">\\n            <a href=\"/radicals\">Madison Radicals</a>          </td>\\n                  <td  class=\"views-field views-field-nothing\">\\n            0-0          </td>\\n              </tr>\\n          <tr  class=\"even\">\\n                  <td  class=\"views-field views-field-team-field-team-thumbnail-image\">\\n            <img typeof=\"foaf:Image\" class=\"image-style-none\" src=\"https://theaudl.com/sites/default/files/teams/alleycats/alleycats_thumbnail.png\" alt=\"\" />          </td>\\n                  <td  class=\"views-field views-field-team-field-team-display-name views-align-left\">\\n            <a href=\"/alleycats\">Indianapolis AlleyCats</a>          </td>\\n                  <td  class=\"views-field views-field-nothing\">\\n            0-0          </td>\\n              </tr>\\n          <tr  class=\"odd\">\\n                  <td  class=\"views-field views-field-team-field-team-thumbnail-image\">\\n            <img typeof=\"foaf:Image\" class=\"image-style-none\" src=\"https://theaudl.com/sites/default/files/teams/wildfire/wildfire_thumbnail.png\" alt=\"\" />          </td>\\n                  <td  class=\"views-field views-field-team-field-team-display-name views-align-left\">\\n            <a href=\"/wildfire\">Chicago Wildfire</a>          </td>\\n                  <td  class=\"views-field views-field-nothing\">\\n            0-0          </td>\\n              </tr>\\n      </tbody>\\n</table>\\n<table  class=\"views-table cols-0\">\\n        <caption><div class=\"cap caption-division-east\"><span class=\"cap-img\"><img typeof=\"foaf:Image\" class=\"image-style-none\" src=\"https://theaudl.com/sites/default/files/E%400%2C1x.png\" alt=\"\" /></span><span class=\"division-east\">East</span></div></caption>\\n      <tbody>\\n          <tr  class=\"odd\">\\n                  <td  class=\"views-field views-field-team-field-team-thumbnail-image\">\\n            <img typeof=\"foaf:Image\" class=\"image-style-none\" src=\"https://theaudl.com/sites/default/files/teams/empire/empire_thumbnail.png\" alt=\"\" />          </td>\\n                  <td  class=\"views-field views-field-team-field-team-display-name views-align-left\">\\n            <a href=\"/empire\">New York Empire</a>          </td>\\n                  <td  class=\"views-field views-field-nothing\">\\n            0-0          </td>\\n              </tr>\\n          <tr  class=\"even\">\\n                  <td  class=\"views-field views-field-team-field-team-thumbnail-image\">\\n            <img typeof=\"foaf:Image\" class=\"image-style-none\" src=\"https://theaudl.com/sites/default/files/teams/outlaws/outlaws_thumbnail.png\" alt=\"\" />          </td>\\n                  <td  class=\"views-field views-field-team-field-team-display-name views-align-left\">\\n            <a href=\"/outlaws\">Ottawa Outlaws</a>          </td>\\n                  <td  class=\"views-field views-field-nothing\">\\n            0-0          </td>\\n              </tr>\\n          <tr  class=\"odd\">\\n                  <td  class=\"views-field views-field-team-field-team-thumbnail-image\">\\n            <img typeof=\"foaf:Image\" class=\"image-style-none\" src=\"https://theaudl.com/sites/default/files/teams/royal/royal_thumbnail.png\" alt=\"\" />          </td>\\n                  <td  class=\"views-field views-field-team-field-team-display-name views-align-left\">\\n            <a href=\"/royal\">Montreal Royal</a>          </td>\\n                  <td  class=\"views-field views-field-nothing\">\\n            0-0          </td>\\n              </tr>\\n          <tr  class=\"even\">\\n                  <td  class=\"views-field views-field-team-field-team-thumbnail-image\">\\n            <img typeof=\"foaf:Image\" class=\"image-style-none\" src=\"https://theaudl.com/sites/default/files/teams/rush/rush_thumbnail.png\" alt=\"\" />          </td>\\n                  <td  class=\"views-field views-field-team-field-team-display-name views-align-left\">\\n            <a href=\"/rush\">Toronto Rush</a>          </td>\\n                  <td  class=\"views-field views-field-nothing\">\\n            0-0          </td>\\n              </tr>\\n          <tr  class=\"odd\">\\n                  <td  class=\"views-field views-field-team-field-team-thumbnail-image\">\\n            <img typeof=\"foaf:Image\" class=\"image-style-none\" src=\"https://theaudl.com/sites/default/files/teams/glory/glory_thumbnail.png\" alt=\"\" />          </td>\\n                  <td  class=\"views-field views-field-team-field-team-display-name views-align-left\">\\n            <a href=\"/glory\">Boston Glory</a>          </td>\\n                  <td  class=\"views-field views-field-nothing\">\\n            0-0          </td>\\n              </tr>\\n      </tbody>\\n</table>\\n<table  class=\"views-table cols-0\">\\n        <caption><div class=\"cap caption-division-west\"><span class=\"cap-img\"><img typeof=\"foaf:Image\" class=\"image-style-none\" src=\"https://theaudl.com/sites/default/files/W%400%2C1x.png\" alt=\"\" /></span><span class=\"division-west\">West</span></div></caption>\\n      <tbody>\\n          <tr  class=\"odd\">\\n                  <td  class=\"views-field views-field-team-field-team-thumbnail-image\">\\n            <img typeof=\"foaf:Image\" class=\"image-style-none\" src=\"https://theaudl.com/sites/default/files/teams/aviators/aviators_thumbnail.png\" alt=\"\" />          </td>\\n                  <td  class=\"views-field views-field-team-field-team-display-name views-align-left\">\\n            <a href=\"/aviators\">Los Angeles Aviators</a>          </td>\\n                  <td  class=\"views-field views-field-nothing\">\\n            0-0          </td>\\n              </tr>\\n          <tr  class=\"even\">\\n                  <td  class=\"views-field views-field-team-field-team-thumbnail-image\">\\n            <img typeof=\"foaf:Image\" class=\"image-style-none\" src=\"https://theaudl.com/sites/default/files/teams/spiders/spiders_thumbnail.png\" alt=\"\" />          </td>\\n                  <td  class=\"views-field views-field-team-field-team-display-name views-align-left\">\\n            <a href=\"/spiders\">San Jose Spiders</a>          </td>\\n                  <td  class=\"views-field views-field-nothing\">\\n            0-0          </td>\\n              </tr>\\n          <tr  class=\"odd\">\\n                  <td  class=\"views-field views-field-team-field-team-thumbnail-image\">\\n            <img typeof=\"foaf:Image\" class=\"image-style-none\" src=\"https://theaudl.com/sites/default/files/teams/sol/sol_thumbnail.png\" alt=\"\" />          </td>\\n                  <td  class=\"views-field views-field-team-field-team-display-name views-align-left\">\\n            <a href=\"/sol\">Austin Sol</a>          </td>\\n                  <td  class=\"views-field views-field-nothing\">\\n            0-0          </td>\\n              </tr>\\n          <tr  class=\"even\">\\n                  <td  class=\"views-field views-field-team-field-team-thumbnail-image\">\\n            <img typeof=\"foaf:Image\" class=\"image-style-none\" src=\"https://theaudl.com/sites/default/files/teams/growlers/growlers_thumbnail.png\" alt=\"\" />          </td>\\n                  <td  class=\"views-field views-field-team-field-team-display-name views-align-left\">\\n            <a href=\"/growlers\">San Diego Growlers</a>          </td>\\n                  <td  class=\"views-field views-field-nothing\">\\n            0-0          </td>\\n              </tr>\\n          <tr  class=\"odd\">\\n                  <td  class=\"views-field views-field-team-field-team-thumbnail-image\">\\n            <img typeof=\"foaf:Image\" class=\"image-style-none\" src=\"https://theaudl.com/sites/default/files/teams/roughnecks/roughnecks_thumbnail.png\" alt=\"\" />          </td>\\n                  <td  class=\"views-field views-field-team-field-team-display-name views-align-left\">\\n            <a href=\"/roughnecks\">Dallas Roughnecks</a>          </td>\\n                  <td  class=\"views-field views-field-nothing\">\\n            0-0          </td>\\n              </tr>\\n          <tr  class=\"even\">\\n                  <td  class=\"views-field views-field-team-field-team-thumbnail-image\">\\n            <img typeof=\"foaf:Image\" class=\"image-style-none\" src=\"https://theaudl.com/sites/default/files/teams/cascades/cascades_thumbnail.png\" alt=\"\" />          </td>\\n                  <td  class=\"views-field views-field-team-field-team-display-name views-align-left\">\\n            <a href=\"/cascades\">Seattle Cascades</a>          </td>\\n                  <td  class=\"views-field views-field-nothing\">\\n            0-0          </td>\\n              </tr>\\n      </tbody>\\n</table>\\n    </div>\\n  \\n  \\n  \\n  \\n  \\n  \\n</div></div>\\n  </div></div></div></div>      <div class=\"region region-sidebar-second sidebar\"><div class=\"region-inner clearfix\"><section id=\"block-views-cd6cd0efcc31750d7f502feee20d10ad\" class=\"block block-views odd first block-count-6 block-region-sidebar-second block-cd6cd0efcc31750d7f502feee20d10ad\" ><div class=\"block-inner clearfix\">  \\n      <h2 class=\"block-title\">AUDL Headlines </h2>\\n  \\n  <div class=\"block-content content\"><div class=\"view view-league-panel-main-top-headlines view-id-league_panel_main_top_headlines view-display-id-block_1 view-dom-id-a0fac51faaf3e811436403f5c8057149\">\\n        \\n  \\n  \\n      <div class=\"view-content\">\\n        <div class=\"views-row views-row-1 views-row-odd views-row-first\">\\n      \\n  <div class=\"views-field views-field-title\">        <span class=\"field-content\"><a href=\"/league/tuesday-toss/2020-audl-10-forgotten-game-week-gems-evan-lepler\">Tuesday Toss: 10 Forgotten Gems</a></span>  </div>  </div>\\n  <div class=\"views-row views-row-2 views-row-even\">\\n      \\n  <div class=\"views-field views-field-title\">        <span class=\"field-content\"><a href=\"/league/news/2020-audl-greatest-teams-all-time-tourrnament\">Greatest AUDL Teams All-Time Tournament</a></span>  </div>  </div>\\n  <div class=\"views-row views-row-3 views-row-odd\">\\n      \\n  <div class=\"views-field views-field-title\">        <span class=\"field-content\"><a href=\"/league/news/2020-top-10-offseason-additions\">Top 10 Offseason Additions</a></span>  </div>  </div>\\n  <div class=\"views-row views-row-4 views-row-even\">\\n      \\n  <div class=\"views-field views-field-title\">        <span class=\"field-content\"><a href=\"/league/news/audl-announces-delay-commencement-2020-season\">AUDL Announces Delay in Commencement of 2020 Season</a></span>  </div>  </div>\\n  <div class=\"views-row views-row-5 views-row-odd\">\\n      \\n  <div class=\"views-field views-field-title\">        <span class=\"field-content\"><a href=\"/league/news/2020-audl-update-potential-coronavirus-impact\">AUDL Update to Potential Coronavirus Impact</a></span>  </div>  </div>\\n  <div class=\"views-row views-row-6 views-row-even views-row-last\">\\n      \\n  <div class=\"views-field views-field-title\">        <span class=\"field-content\"><a href=\"/league/news/2019-audl-championship-game-empire-roughnecks-break-opportunities\">How New York Broke Down Dallas</a></span>  </div>  </div>\\n    </div>\\n  \\n  \\n  \\n  \\n  \\n  \\n</div></div>\\n  </div></section><div id=\"block-block-3\" class=\"block block-block no-title even last block-count-7 block-region-sidebar-second block-3\" ><div class=\"block-inner clearfix\">  \\n  \\n  <div class=\"block-content content\"><!--smart_paging_autop_filter--><!--smart_paging_filter--><p><a href=\"https://www.discraft.com\"><img alt=\"\" height=\"250\" src=\"/sites/default/files/pictures/audl-discraft-sidebar300x250.jpg\" width=\"300\" /></a></p>\\n</div>\\n  </div></div></div></div>\\n    </div><!-- /end #columns -->\\n\\n    <!-- !Tertiary Content Region -->\\n    \\n    <!-- !Footer -->\\n          <footer id=\"footer\" class=\"clearfix\" role=\"contentinfo\">\\n        <div class=\"region region-footer\"><div class=\"region-inner clearfix\"><div id=\"block-panels-mini-footer-bottom\" class=\"block block-panels-mini no-title odd first last block-count-8 block-region-footer block-footer-bottom\" >  \\n  \\n  <div class=\"block-content content\"><div class=\"one-column at-panel panel-display clearfix\" id=\"mini-panel-footer_bottom\">\\n  <div class=\"region region-one-main\">\\n    <div class=\"region-inner clearfix\">\\n      <div class=\"panel-pane pane-custom pane-1 no-title block\">\\n  <div class=\"block-inner clearfix\">\\n    \\n            \\n    \\n    <div class=\"block-content\">\\n      <div class=\"grey-foot\">\\n<div class=\"grey-foot-inner\">\\xc2\\xa9 2020 American Ultimate Disc League. All rights reserved. <a href=\"/league/terms\">Terms of Use</a> <a href=\"/league/privacy\">Privacy Policy</a></div>\\n</div>    </div>\\n\\n    \\n    \\n  </div>\\n</div>\\n    </div>\\n  </div>\\n</div>\\n</div>\\n  </div></div></div>              </footer>\\n    \\n  </div>\\n</div>\\n  <!-- Table Sort JS -->\\n  <script >\\n  \\t$(document).ready( function () {\\n    \\n$(\\'#myTableSort\\').DataTable( {\\n    scrollX: true\\n} );\\n\\n} );\\n  </script>\\n</body>\\n</html>\\n'"
      ]
     },
     "execution_count": 2,
     "metadata": {},
     "output_type": "execute_result"
    }
   ],
   "source": [
    "import requests\n",
    "response=requests.get('https://theaudl.com/league/standings')\n",
    "htmlContent=response.content\n",
    "htmlContent"
   ]
  },
  {
   "cell_type": "markdown",
   "metadata": {},
   "source": [
    "Importing Beautiful Soup/Description of BeautifulSoup"
   ]
  },
  {
   "cell_type": "code",
   "execution_count": null,
   "metadata": {
    "collapsed": true
   },
   "outputs": [],
   "source": []
  },
  {
   "cell_type": "markdown",
   "metadata": {},
   "source": [
    "Reading File into BeautifulSoup"
   ]
  },
  {
   "cell_type": "code",
   "execution_count": 3,
   "metadata": {
    "collapsed": true
   },
   "outputs": [],
   "source": [
    "from bs4 import BeautifulSoup\n",
    "soup = BeautifulSoup (open(r\"C:\\Users\\mwbarr\\OneDrive - Federal Bureau of Investigation\\Python_for_Data_Analysis\\Data Files\\standings.htm\"))"
   ]
  },
  {
   "cell_type": "markdown",
   "metadata": {},
   "source": [
    "Findall"
   ]
  },
  {
   "cell_type": "code",
   "execution_count": 5,
   "metadata": {},
   "outputs": [
    {
     "data": {
      "text/plain": [
       "<td class=\"views-field views-field-team-field-team-thumbnail-image\"><img alt=\"\" class=\"image-style-none\" src=\"Standings_files/empire_thumbnail.png\" typeof=\"foaf:Image\"/> </td>"
      ]
     },
     "execution_count": 5,
     "metadata": {},
     "output_type": "execute_result"
    }
   ],
   "source": [
    "soup.find_all('td')[0]"
   ]
  },
  {
   "cell_type": "markdown",
   "metadata": {},
   "source": [
    "Get"
   ]
  },
  {
   "cell_type": "code",
   "execution_count": 7,
   "metadata": {},
   "outputs": [
    {
     "data": {
      "text/plain": [
       "['views-field', 'views-field-team-field-team-thumbnail-image']"
      ]
     },
     "execution_count": 7,
     "metadata": {},
     "output_type": "execute_result"
    }
   ],
   "source": [
    "soup.find_all('td')[0].get('class')"
   ]
  },
  {
   "cell_type": "markdown",
   "metadata": {},
   "source": [
    "Contents"
   ]
  },
  {
   "cell_type": "code",
   "execution_count": 21,
   "metadata": {},
   "outputs": [
    {
     "data": {
      "text/plain": [
       "'            8-2          \\n'"
      ]
     },
     "execution_count": 21,
     "metadata": {},
     "output_type": "execute_result"
    }
   ],
   "source": [
    "soup.find_all('td')[165].contents[0]"
   ]
  },
  {
   "cell_type": "markdown",
   "metadata": {},
   "source": [
    "Putting it together with loops"
   ]
  },
  {
   "cell_type": "code",
   "execution_count": 38,
   "metadata": {
    "collapsed": true
   },
   "outputs": [],
   "source": [
    "winList=[]\n",
    "lossList=[]\n",
    "nameList=[]\n",
    "for tableCell in soup.find_all('td'):\n",
    "    for className in tableCell.get('class'):\n",
    "        if 'wins' in className:\n",
    "            winList.append(tableCell.contents[0])\n",
    "        if 'losses' in className:\n",
    "            lossList.append(tableCell.contents[0])\n",
    "        if 'display-name' in className and '\\n' in tableCell.contents[0]:\n",
    "            nameList.append(tableCell.contents[0])"
   ]
  },
  {
   "cell_type": "code",
   "execution_count": 50,
   "metadata": {},
   "outputs": [
    {
     "data": {
      "text/html": [
       "<div>\n",
       "<style scoped>\n",
       "    .dataframe tbody tr th:only-of-type {\n",
       "        vertical-align: middle;\n",
       "    }\n",
       "\n",
       "    .dataframe tbody tr th {\n",
       "        vertical-align: top;\n",
       "    }\n",
       "\n",
       "    .dataframe thead th {\n",
       "        text-align: right;\n",
       "    }\n",
       "</style>\n",
       "<table border=\"1\" class=\"dataframe\">\n",
       "  <thead>\n",
       "    <tr style=\"text-align: right;\">\n",
       "      <th></th>\n",
       "      <th>Wins</th>\n",
       "      <th>Losses</th>\n",
       "      <th>Team Name</th>\n",
       "    </tr>\n",
       "  </thead>\n",
       "  <tbody>\n",
       "    <tr>\n",
       "      <th>0</th>\n",
       "      <td>11</td>\n",
       "      <td>0</td>\n",
       "      <td>New York Empire</td>\n",
       "    </tr>\n",
       "    <tr>\n",
       "      <th>1</th>\n",
       "      <td>7</td>\n",
       "      <td>4</td>\n",
       "      <td>DC Breeze</td>\n",
       "    </tr>\n",
       "    <tr>\n",
       "      <th>2</th>\n",
       "      <td>6</td>\n",
       "      <td>5</td>\n",
       "      <td>Toronto Rush</td>\n",
       "    </tr>\n",
       "    <tr>\n",
       "      <th>3</th>\n",
       "      <td>3</td>\n",
       "      <td>6</td>\n",
       "      <td>Philadelphia Phoenix</td>\n",
       "    </tr>\n",
       "    <tr>\n",
       "      <th>4</th>\n",
       "      <td>3</td>\n",
       "      <td>7</td>\n",
       "      <td>Montreal Royal</td>\n",
       "    </tr>\n",
       "    <tr>\n",
       "      <th>5</th>\n",
       "      <td>2</td>\n",
       "      <td>8</td>\n",
       "      <td>Ottawa Outlaws</td>\n",
       "    </tr>\n",
       "    <tr>\n",
       "      <th>6</th>\n",
       "      <td>8</td>\n",
       "      <td>2</td>\n",
       "      <td>Raleigh Flyers</td>\n",
       "    </tr>\n",
       "    <tr>\n",
       "      <th>7</th>\n",
       "      <td>8</td>\n",
       "      <td>2</td>\n",
       "      <td>Dallas Roughnecks</td>\n",
       "    </tr>\n",
       "    <tr>\n",
       "      <th>8</th>\n",
       "      <td>4</td>\n",
       "      <td>7</td>\n",
       "      <td>Tampa Bay Cannons</td>\n",
       "    </tr>\n",
       "    <tr>\n",
       "      <th>9</th>\n",
       "      <td>4</td>\n",
       "      <td>7</td>\n",
       "      <td>Atlanta Hustle</td>\n",
       "    </tr>\n",
       "    <tr>\n",
       "      <th>10</th>\n",
       "      <td>3</td>\n",
       "      <td>9</td>\n",
       "      <td>Austin Sol</td>\n",
       "    </tr>\n",
       "    <tr>\n",
       "      <th>11</th>\n",
       "      <td>9</td>\n",
       "      <td>2</td>\n",
       "      <td>San Diego Growlers</td>\n",
       "    </tr>\n",
       "    <tr>\n",
       "      <th>12</th>\n",
       "      <td>8</td>\n",
       "      <td>3</td>\n",
       "      <td>Los Angeles Aviators</td>\n",
       "    </tr>\n",
       "    <tr>\n",
       "      <th>13</th>\n",
       "      <td>3</td>\n",
       "      <td>8</td>\n",
       "      <td>San Jose Spiders</td>\n",
       "    </tr>\n",
       "    <tr>\n",
       "      <th>14</th>\n",
       "      <td>2</td>\n",
       "      <td>9</td>\n",
       "      <td>Seattle Cascades</td>\n",
       "    </tr>\n",
       "    <tr>\n",
       "      <th>15</th>\n",
       "      <td>7</td>\n",
       "      <td>3</td>\n",
       "      <td>Chicago Wildfire</td>\n",
       "    </tr>\n",
       "    <tr>\n",
       "      <th>16</th>\n",
       "      <td>7</td>\n",
       "      <td>3</td>\n",
       "      <td>Indianapolis AlleyCats     ...</td>\n",
       "    </tr>\n",
       "    <tr>\n",
       "      <th>17</th>\n",
       "      <td>5</td>\n",
       "      <td>4</td>\n",
       "      <td>Pittsburgh Thunderbirds    ...</td>\n",
       "    </tr>\n",
       "    <tr>\n",
       "      <th>18</th>\n",
       "      <td>6</td>\n",
       "      <td>5</td>\n",
       "      <td>Minnesota Wind Chill</td>\n",
       "    </tr>\n",
       "    <tr>\n",
       "      <th>19</th>\n",
       "      <td>4</td>\n",
       "      <td>6</td>\n",
       "      <td>Madison Radicals</td>\n",
       "    </tr>\n",
       "    <tr>\n",
       "      <th>20</th>\n",
       "      <td>0</td>\n",
       "      <td>10</td>\n",
       "      <td>Detroit Mechanix</td>\n",
       "    </tr>\n",
       "  </tbody>\n",
       "</table>\n",
       "</div>"
      ],
      "text/plain": [
       "                               Wins                           Losses  \\\n",
       "0               11   \n",
       "                            0  \n",
       "                 \n",
       "1                7    \n",
       "                           4  \n",
       "                 \n",
       "2                6    \n",
       "                           5  \n",
       "                 \n",
       "3                3    \n",
       "                           6  \n",
       "                 \n",
       "4                3    \n",
       "                           7  \n",
       "                 \n",
       "5                2    \n",
       "                           8  \n",
       "                 \n",
       "6                8    \n",
       "                           2  \n",
       "                 \n",
       "7                8    \n",
       "                           2  \n",
       "                 \n",
       "8                4    \n",
       "                           7  \n",
       "                 \n",
       "9                4    \n",
       "                           7  \n",
       "                 \n",
       "10               3    \n",
       "                           9  \n",
       "                 \n",
       "11               9    \n",
       "                           2  \n",
       "                 \n",
       "12               8    \n",
       "                           3  \n",
       "                 \n",
       "13               3    \n",
       "                           8  \n",
       "                 \n",
       "14               2    \n",
       "                           9  \n",
       "                 \n",
       "15               7    \n",
       "                           3  \n",
       "                 \n",
       "16               7    \n",
       "                           3  \n",
       "                 \n",
       "17               5    \n",
       "                           4  \n",
       "                 \n",
       "18               6    \n",
       "                           5  \n",
       "                 \n",
       "19               4    \n",
       "                           6  \n",
       "                 \n",
       "20               0    \n",
       "                          10 \n",
       "                  \n",
       "\n",
       "                                            Team Name  \n",
       "0         \n",
       "                 New York Empire            \n",
       "1               \n",
       "                 DC Breeze            \n",
       "2            \n",
       "                 Toronto Rush            \n",
       "3    \n",
       "                 Philadelphia Phoenix            \n",
       "4          \n",
       "                 Montreal Royal            \n",
       "5          \n",
       "                 Ottawa Outlaws            \n",
       "6          \n",
       "                 Raleigh Flyers            \n",
       "7       \n",
       "                 Dallas Roughnecks            \n",
       "8       \n",
       "                 Tampa Bay Cannons            \n",
       "9          \n",
       "                 Atlanta Hustle            \n",
       "10             \n",
       "                 Austin Sol            \n",
       "11     \n",
       "                 San Diego Growlers            \n",
       "12   \n",
       "                 Los Angeles Aviators            \n",
       "13       \n",
       "                 San Jose Spiders            \n",
       "14       \n",
       "                 Seattle Cascades            \n",
       "15       \n",
       "                 Chicago Wildfire            \n",
       "16   \n",
       "                 Indianapolis AlleyCats     ...  \n",
       "17   \n",
       "                 Pittsburgh Thunderbirds    ...  \n",
       "18   \n",
       "                 Minnesota Wind Chill            \n",
       "19       \n",
       "                 Madison Radicals            \n",
       "20       \n",
       "                 Detroit Mechanix            "
      ]
     },
     "execution_count": 50,
     "metadata": {},
     "output_type": "execute_result"
    }
   ],
   "source": [
    "import pandas as pd\n",
    "    \n",
    "pd.DataFrame({'Wins':winList,'Losses':lossList,'Team Name':nameList})"
   ]
  },
  {
   "cell_type": "code",
   "execution_count": null,
   "metadata": {
    "collapsed": true
   },
   "outputs": [],
   "source": []
  }
 ],
 "metadata": {
  "kernelspec": {
   "display_name": "Python 3",
   "language": "python",
   "name": "python3"
  },
  "language_info": {
   "codemirror_mode": {
    "name": "ipython",
    "version": 3
   },
   "file_extension": ".py",
   "mimetype": "text/x-python",
   "name": "python",
   "nbconvert_exporter": "python",
   "pygments_lexer": "ipython3",
   "version": "3.7.6"
  }
 },
 "nbformat": 4,
 "nbformat_minor": 2
}
