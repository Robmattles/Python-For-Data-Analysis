{
 "cells": [
  {
   "cell_type": "markdown",
   "metadata": {},
   "source": [
    "# Module 1 Exercise - Base Python Review"
   ]
  },
  {
   "cell_type": "markdown",
   "metadata": {},
   "source": [
    "### Part 1 - Syntax for loops, conditionals, and functions"
   ]
  },
  {
   "cell_type": "markdown",
   "metadata": {},
   "source": [
    "Let's start by creating a list.  We'll be working with this list for the rest of this exercise."
   ]
  },
  {
   "cell_type": "code",
   "execution_count": null,
   "metadata": {
    "collapsed": true
   },
   "outputs": [],
   "source": [
    "bankRobbers=['Adams','Ashley','Bailey','Bates','Barker','Best','Burke','Coy']"
   ]
  },
  {
   "cell_type": "markdown",
   "metadata": {},
   "source": [
    "**1a** Write a for loop in the below cell that prints each item in the list"
   ]
  },
  {
   "cell_type": "code",
   "execution_count": null,
   "metadata": {},
   "outputs": [],
   "source": [
    "##Your for loop here\n"
   ]
  },
  {
   "cell_type": "markdown",
   "metadata": {},
   "source": [
    "**1b** Deleted!  Go straight to 1c"
   ]
  },
  {
   "cell_type": "markdown",
   "metadata": {},
   "source": [
    "**1c** Now, let's write a function called initial that just takes one name and returns the first letter of that name.  For example:  initial('Adams') should return 'A'"
   ]
  },
  {
   "cell_type": "code",
   "execution_count": null,
   "metadata": {},
   "outputs": [],
   "source": [
    "##Your definition of the function named initial here\n",
    "\n",
    "print(initial('Adams'))\n"
   ]
  },
  {
   "cell_type": "markdown",
   "metadata": {},
   "source": [
    "**1d** Copy your for loop from 1a into the below cell and amend it to use the function you just wrote inside the for loop to print only the first letter of each name"
   ]
  },
  {
   "cell_type": "code",
   "execution_count": null,
   "metadata": {},
   "outputs": [],
   "source": [
    "##Your for loop here\n"
   ]
  },
  {
   "cell_type": "markdown",
   "metadata": {},
   "source": [
    "**1e** Copy your for loop from 1d into the below cell.  Use your for loop to identify which names start with the letter B and print only those names."
   ]
  },
  {
   "cell_type": "code",
   "execution_count": null,
   "metadata": {},
   "outputs": [],
   "source": [
    "##Your for loop here\n",
    "\n"
   ]
  },
  {
   "cell_type": "markdown",
   "metadata": {},
   "source": [
    "### Part 2 - Dictionaries"
   ]
  },
  {
   "cell_type": "markdown",
   "metadata": {},
   "source": [
    "Let's add second variable - a dictionary called robberies.  This will contain the name of the bank robber and the amount of money stolen"
   ]
  },
  {
   "cell_type": "code",
   "execution_count": null,
   "metadata": {
    "collapsed": true
   },
   "outputs": [],
   "source": [
    "robberies={'Ashley':15676758,'Best':67535667,'Burke':2453223}"
   ]
  },
  {
   "cell_type": "markdown",
   "metadata": {},
   "source": [
    "**2a** Now that we have a dictionary and a list, you'll write a function called completeRobberies.  completeRobberies should take two inputs, the list of bank robbers and the dictionary of robberies.  It should return a dictionary linking each bank robber to the value in robberies (if they have one) or 0 (if not). Specifically, \n",
    "\n",
    "completeRobberies(bankRobbers,robberies)\n",
    "\n",
    "should return: {'Adams':0,'Ashley':15676758,'Bailey':0,'Bates':0,'Barker':0,'Best':67535667,'Burke':2453223}\n"
   ]
  },
  {
   "cell_type": "code",
   "execution_count": null,
   "metadata": {},
   "outputs": [],
   "source": [
    "def completeRobberies(bankRobbers, robberies):\n",
    "    fullDictionary={}\n",
    "    \n",
    "    ##Your code here to fill in fullDictionary\n",
    "    \n",
    "    return fullDictionary\n",
    "completeRobberies(bankRobbers,robberies)"
   ]
  },
  {
   "cell_type": "markdown",
   "metadata": {},
   "source": [
    "### If you have time"
   ]
  },
  {
   "cell_type": "markdown",
   "metadata": {},
   "source": [
    "**Extra 1**  Select a random item from bankRobbers"
   ]
  },
  {
   "cell_type": "code",
   "execution_count": null,
   "metadata": {},
   "outputs": [],
   "source": [
    "\n",
    "import ## Your code here\n",
    "randomItem=##Your code here\n",
    "print(randomItem)"
   ]
  },
  {
   "cell_type": "markdown",
   "metadata": {},
   "source": [
    "**Extra 2** Use the dict and zip functions to create a new dictionary connecting the bank robbers name to their life time hauls.  For example, haulDict['Ashley'] should be 8"
   ]
  },
  {
   "cell_type": "code",
   "execution_count": null,
   "metadata": {},
   "outputs": [],
   "source": [
    "lifetimeHauls=[8*i for i in range(len(bankRobbers))]\n",
    "haulDict=##Your code here\n",
    "print(haulDict['Ashley'])"
   ]
  },
  {
   "cell_type": "markdown",
   "metadata": {},
   "source": [
    "**Extra 3** Find the number of unique letters in all of the bank robbers names put together (you should get 17)"
   ]
  },
  {
   "cell_type": "code",
   "execution_count": null,
   "metadata": {},
   "outputs": [],
   "source": [
    "##Your code here"
   ]
  },
  {
   "cell_type": "markdown",
   "metadata": {},
   "source": [
    "**Extra 4** Use set and intersect to write a function to find any/all letters that appear as the first letter of a word **and** the second letter of a word.  For example overlap(['cat','apple','pony']) would return ['p','a']"
   ]
  },
  {
   "cell_type": "code",
   "execution_count": null,
   "metadata": {},
   "outputs": [],
   "source": [
    "##Your code here\n",
    "def overlap(words):\n",
    "##Your code here\n",
    "print(overlap(['cat','apple','pony']))"
   ]
  },
  {
   "cell_type": "code",
   "execution_count": null,
   "metadata": {
    "collapsed": true
   },
   "outputs": [],
   "source": []
  }
 ],
 "metadata": {
  "kernelspec": {
   "display_name": "Python 3",
   "language": "python",
   "name": "python3"
  },
  "language_info": {
   "codemirror_mode": {
    "name": "ipython",
    "version": 3
   },
   "file_extension": ".py",
   "mimetype": "text/x-python",
   "name": "python",
   "nbconvert_exporter": "python",
   "pygments_lexer": "ipython3",
   "version": "3.7.6"
  }
 },
 "nbformat": 4,
 "nbformat_minor": 2
}
