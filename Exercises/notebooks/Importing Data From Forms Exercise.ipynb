{
 "cells": [
  {
   "cell_type": "markdown",
   "metadata": {},
   "source": [
    "# Importing Data from Forms Exercise"
   ]
  },
  {
   "cell_type": "markdown",
   "metadata": {},
   "source": [
    "### Prelude"
   ]
  },
  {
   "cell_type": "markdown",
   "metadata": {},
   "source": [
    "Using a text editor, open the file \"Victim 2.txt\" from this module's folder in the data files section of the course materials.  Observe how there are some basic pieces of information as well as a two-column table in the document (columns are service type and number of services)"
   ]
  },
  {
   "cell_type": "markdown",
   "metadata": {},
   "source": [
    "### Part 1: Working with a Single File"
   ]
  },
  {
   "cell_type": "markdown",
   "metadata": {},
   "source": [
    "**1a** Use python to open the Victim 2.txt.  Print the contents of the file line-by-line"
   ]
  },
  {
   "cell_type": "code",
   "execution_count": null,
   "metadata": {},
   "outputs": [],
   "source": [
    "##Your code here"
   ]
  },
  {
   "cell_type": "markdown",
   "metadata": {},
   "source": [
    "**1b** Identify and store the victim's name from the file in a variable called victimName.  Store the case number in a variable called caseNumber (note: for this and subsequent pieces of the exercise, you may want to copy and paste your code from earlier cells)"
   ]
  },
  {
   "cell_type": "code",
   "execution_count": null,
   "metadata": {},
   "outputs": [],
   "source": [
    "##Your code here          \n",
    "print(victimName,caseNumber)"
   ]
  },
  {
   "cell_type": "markdown",
   "metadata": {},
   "source": [
    "**1c** Using a toggle variable to identify the beginning and end of the table, find the rows of the table embedded in the file.  Split each row using the split() function, then add the split row to the list called tableRows.  Your output should be a list of lists in the format:\n",
    "[[Row1Word1, Row1Word2, Row1Word3']...[Row4Word1,Row4Word2,Row4Word3]]\n",
    "\n",
    "\n",
    "As with most items in this exercise, it probably makes sense to copy/paste your old code and build on it."
   ]
  },
  {
   "cell_type": "code",
   "execution_count": null,
   "metadata": {},
   "outputs": [],
   "source": [
    "tableRows=[]\n",
    "##Your code here\n",
    "print(tableRows)"
   ]
  },
  {
   "cell_type": "markdown",
   "metadata": {},
   "source": [
    "**1d**  Review the below code that joins together all but the last word of every column. newRows is still a list of lists, but now, the first item in each list corresponds to the first column and the second corresponds to the second column"
   ]
  },
  {
   "cell_type": "code",
   "execution_count": null,
   "metadata": {},
   "outputs": [],
   "source": [
    "newRows=[]\n",
    "for t in tableRows:\n",
    "    newRows.append([' '.join(t[:-1]),t[-1]])\n",
    "print(newRows)"
   ]
  },
  {
   "cell_type": "markdown",
   "metadata": {},
   "source": [
    "**1e** Convert newRows to a Data Frame.  Make any necessary adjustments to ensure proper column headers"
   ]
  },
  {
   "cell_type": "code",
   "execution_count": null,
   "metadata": {},
   "outputs": [],
   "source": [
    "import pandas as pd\n",
    "myDataFrame=##Your code here\n",
    "##Your code here\n",
    "myDataFrame.head()"
   ]
  },
  {
   "cell_type": "markdown",
   "metadata": {},
   "source": [
    "### Part 2:  Combining Data From Multiple Files"
   ]
  },
  {
   "cell_type": "markdown",
   "metadata": {},
   "source": [
    "**2a** Generate a list of all files in the 'Documentation of Services Samples' folder.  "
   ]
  },
  {
   "cell_type": "code",
   "execution_count": null,
   "metadata": {},
   "outputs": [],
   "source": [
    "files=[]\n",
    "import os\n",
    "files=##Your code here\n",
    "print(files)"
   ]
  },
  {
   "cell_type": "markdown",
   "metadata": {},
   "source": [
    "**2b** Loop over that list.  Open each file, extract victim name and FBI case number from each file, and store those in a 2-column dataframe called df. [Hint:  You can use the technique and/or code from 1b to do so]"
   ]
  },
  {
   "cell_type": "code",
   "execution_count": null,
   "metadata": {},
   "outputs": [],
   "source": [
    "##Your code here\n",
    "print(df)"
   ]
  },
  {
   "cell_type": "markdown",
   "metadata": {},
   "source": [
    "**2c** Loop over the list again.  This time, extract each nested table and combine them into a single dataframe called finalDF.  You will need to use code from 1c AND 1d to do this"
   ]
  },
  {
   "cell_type": "code",
   "execution_count": null,
   "metadata": {},
   "outputs": [],
   "source": [
    "##Your code here\n",
    "print(finalDF)"
   ]
  },
  {
   "cell_type": "markdown",
   "metadata": {},
   "source": [
    "### If you have time..."
   ]
  },
  {
   "cell_type": "markdown",
   "metadata": {},
   "source": [
    "Extract all the data from all three files not in the nested tables.  Do so in as few lines of code as possible."
   ]
  },
  {
   "cell_type": "code",
   "execution_count": null,
   "metadata": {},
   "outputs": [],
   "source": [
    "##Your code here\n",
    "print(df)"
   ]
  },
  {
   "cell_type": "markdown",
   "metadata": {},
   "source": [
    "Create a table that includes all of the data from the table from 2c, as well as columns for Victim Name and FBI Case Number (corresponding to the appropriate case number and victim from each file)"
   ]
  },
  {
   "cell_type": "code",
   "execution_count": null,
   "metadata": {},
   "outputs": [],
   "source": [
    "##Your code here\n",
    "print(finalDF)"
   ]
  },
  {
   "cell_type": "markdown",
   "metadata": {},
   "source": [
    "Use tools from other lessons to summarize and obtain descriptive statistics for this data.  At least in the approach I used, there is a significant flaw in the data that may become apparent when you do so"
   ]
  },
  {
   "cell_type": "code",
   "execution_count": null,
   "metadata": {},
   "outputs": [],
   "source": [
    "##Your code here"
   ]
  }
 ],
 "metadata": {
  "kernelspec": {
   "display_name": "Python 3",
   "language": "python",
   "name": "python3"
  },
  "language_info": {
   "codemirror_mode": {
    "name": "ipython",
    "version": 3
   },
   "file_extension": ".py",
   "mimetype": "text/x-python",
   "name": "python",
   "nbconvert_exporter": "python",
   "pygments_lexer": "ipython3",
   "version": "3.7.6"
  }
 },
 "nbformat": 4,
 "nbformat_minor": 2
}
