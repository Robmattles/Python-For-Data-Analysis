{
 "cells": [
  {
   "cell_type": "markdown",
   "metadata": {},
   "source": [
    "# Module 5 Exercise - Manipulating Dataframes"
   ]
  },
  {
   "cell_type": "markdown",
   "metadata": {},
   "source": [
    "### Prelude\n",
    "Setup your notebook - import pandas as pd, numpy as np, and setup plotting in this notebook using %matplotlib inline"
   ]
  },
  {
   "cell_type": "code",
   "execution_count": 2,
   "metadata": {},
   "outputs": [],
   "source": [
    "import pandas as pd"
   ]
  },
  {
   "cell_type": "markdown",
   "metadata": {},
   "source": [
    "Read the file https://github.com/Robmattles/Python-For-Data-Analysis/raw/master/Data%20Files/enronRenamed.csv"
   ]
  },
  {
   "cell_type": "code",
   "execution_count": 3,
   "metadata": {},
   "outputs": [
    {
     "data": {
      "text/html": [
       "<div>\n",
       "<style scoped>\n",
       "    .dataframe tbody tr th:only-of-type {\n",
       "        vertical-align: middle;\n",
       "    }\n",
       "\n",
       "    .dataframe tbody tr th {\n",
       "        vertical-align: top;\n",
       "    }\n",
       "\n",
       "    .dataframe thead th {\n",
       "        text-align: right;\n",
       "    }\n",
       "</style>\n",
       "<table border=\"1\" class=\"dataframe\">\n",
       "  <thead>\n",
       "    <tr style=\"text-align: right;\">\n",
       "      <th></th>\n",
       "      <th>Unnamed: 0</th>\n",
       "      <th>Subject</th>\n",
       "      <th>From</th>\n",
       "      <th>To</th>\n",
       "      <th>cc</th>\n",
       "      <th>bcc</th>\n",
       "      <th>Folder</th>\n",
       "      <th>Origin</th>\n",
       "      <th>FileName</th>\n",
       "      <th>content</th>\n",
       "      <th>user</th>\n",
       "      <th>labeled</th>\n",
       "      <th>dollarValueMentionedinMessage</th>\n",
       "      <th>messageLength</th>\n",
       "      <th>Date</th>\n",
       "    </tr>\n",
       "  </thead>\n",
       "  <tbody>\n",
       "    <tr>\n",
       "      <th>0</th>\n",
       "      <td>0</td>\n",
       "      <td>RTO Orders - Grid South, SE Trans, SPP and Ent...</td>\n",
       "      <td>Fulton, Donna &lt;/O=ENRON/OU=NA/CN=RECIPIENTS/CN...</td>\n",
       "      <td>Kean, Steven &lt;/O=ENRON/OU=NA/CN=RECIPIENTS/CN=...</td>\n",
       "      <td>NaN</td>\n",
       "      <td>NaN</td>\n",
       "      <td>\\GWHALLE (Non-Privileged)\\Markets</td>\n",
       "      <td>WHALLEY-G</td>\n",
       "      <td>GWHALLE (Non-Privileged).pst</td>\n",
       "      <td>The Southeast RTO orders are out and have foll...</td>\n",
       "      <td>whalley-g</td>\n",
       "      <td>False</td>\n",
       "      <td>NaN</td>\n",
       "      <td>2570</td>\n",
       "      <td>2001-07-13 19:47:20</td>\n",
       "    </tr>\n",
       "    <tr>\n",
       "      <th>1</th>\n",
       "      <td>1</td>\n",
       "      <td>More UC/CSU Info</td>\n",
       "      <td>Delainey, David &lt;/O=ENRON/OU=NA/CN=RECIPIENTS/...</td>\n",
       "      <td>Greg Whalley/HOU/ECT@ENRON, Lavorato, John &lt;/O...</td>\n",
       "      <td>NaN</td>\n",
       "      <td>NaN</td>\n",
       "      <td>\\GWHALLE (Non-Privileged)\\Markets</td>\n",
       "      <td>WHALLEY-G</td>\n",
       "      <td>GWHALLE (Non-Privileged).pst</td>\n",
       "      <td>---------------------- Forwarded by David W De...</td>\n",
       "      <td>whalley-g</td>\n",
       "      <td>False</td>\n",
       "      <td>NaN</td>\n",
       "      <td>3761</td>\n",
       "      <td>2001-07-12 11:36:58</td>\n",
       "    </tr>\n",
       "    <tr>\n",
       "      <th>2</th>\n",
       "      <td>2</td>\n",
       "      <td>California Update 07.09.01</td>\n",
       "      <td>Dasovich, Jeff &lt;/O=ENRON/OU=NA/CN=RECIPIENTS/C...</td>\n",
       "      <td>skean@enron.com, Shapiro, Richard &lt;/O=ENRON/OU...</td>\n",
       "      <td>NaN</td>\n",
       "      <td>NaN</td>\n",
       "      <td>\\GWHALLE (Non-Privileged)\\Markets</td>\n",
       "      <td>WHALLEY-G</td>\n",
       "      <td>GWHALLE (Non-Privileged).pst</td>\n",
       "      <td>The Bond Legislation The Democrats in the Asse...</td>\n",
       "      <td>whalley-g</td>\n",
       "      <td>False</td>\n",
       "      <td>NaN</td>\n",
       "      <td>1348</td>\n",
       "      <td>2001-07-10 00:47:51</td>\n",
       "    </tr>\n",
       "    <tr>\n",
       "      <th>3</th>\n",
       "      <td>3</td>\n",
       "      <td>Davis &amp; Company -- incompetence personified</td>\n",
       "      <td>Shapiro, Richard &lt;/O=ENRON/OU=NA/CN=RECIPIENTS...</td>\n",
       "      <td>Lavorato, John &lt;/O=ENRON/OU=NA/CN=RECIPIENTS/C...</td>\n",
       "      <td>NaN</td>\n",
       "      <td>NaN</td>\n",
       "      <td>\\GWHALLE (Non-Privileged)\\Markets</td>\n",
       "      <td>WHALLEY-G</td>\n",
       "      <td>GWHALLE (Non-Privileged).pst</td>\n",
       "      <td>FYI ---------------------- Forwarded by Richar...</td>\n",
       "      <td>whalley-g</td>\n",
       "      <td>False</td>\n",
       "      <td>37.0</td>\n",
       "      <td>2592</td>\n",
       "      <td>2001-07-06 20:45:05</td>\n",
       "    </tr>\n",
       "    <tr>\n",
       "      <th>4</th>\n",
       "      <td>4</td>\n",
       "      <td>Link to DWR contract info</td>\n",
       "      <td>Shapiro, Richard &lt;/O=ENRON/OU=NA/CN=RECIPIENTS...</td>\n",
       "      <td>Lavorato, John &lt;/O=ENRON/OU=NA/CN=RECIPIENTS/C...</td>\n",
       "      <td>NaN</td>\n",
       "      <td>NaN</td>\n",
       "      <td>\\GWHALLE (Non-Privileged)\\Markets</td>\n",
       "      <td>WHALLEY-G</td>\n",
       "      <td>GWHALLE (Non-Privileged).pst</td>\n",
       "      <td>FYI ---------------------- Forwarded by Richar...</td>\n",
       "      <td>whalley-g</td>\n",
       "      <td>False</td>\n",
       "      <td>43.0</td>\n",
       "      <td>1774</td>\n",
       "      <td>2001-07-06 20:44:33</td>\n",
       "    </tr>\n",
       "  </tbody>\n",
       "</table>\n",
       "</div>"
      ],
      "text/plain": [
       "   Unnamed: 0                                            Subject  \\\n",
       "0           0  RTO Orders - Grid South, SE Trans, SPP and Ent...   \n",
       "1           1                                   More UC/CSU Info   \n",
       "2           2                         California Update 07.09.01   \n",
       "3           3        Davis & Company -- incompetence personified   \n",
       "4           4                          Link to DWR contract info   \n",
       "\n",
       "                                                From  \\\n",
       "0  Fulton, Donna </O=ENRON/OU=NA/CN=RECIPIENTS/CN...   \n",
       "1  Delainey, David </O=ENRON/OU=NA/CN=RECIPIENTS/...   \n",
       "2  Dasovich, Jeff </O=ENRON/OU=NA/CN=RECIPIENTS/C...   \n",
       "3  Shapiro, Richard </O=ENRON/OU=NA/CN=RECIPIENTS...   \n",
       "4  Shapiro, Richard </O=ENRON/OU=NA/CN=RECIPIENTS...   \n",
       "\n",
       "                                                  To   cc  bcc  \\\n",
       "0  Kean, Steven </O=ENRON/OU=NA/CN=RECIPIENTS/CN=...  NaN  NaN   \n",
       "1  Greg Whalley/HOU/ECT@ENRON, Lavorato, John </O...  NaN  NaN   \n",
       "2  skean@enron.com, Shapiro, Richard </O=ENRON/OU...  NaN  NaN   \n",
       "3  Lavorato, John </O=ENRON/OU=NA/CN=RECIPIENTS/C...  NaN  NaN   \n",
       "4  Lavorato, John </O=ENRON/OU=NA/CN=RECIPIENTS/C...  NaN  NaN   \n",
       "\n",
       "                              Folder     Origin                      FileName  \\\n",
       "0  \\GWHALLE (Non-Privileged)\\Markets  WHALLEY-G  GWHALLE (Non-Privileged).pst   \n",
       "1  \\GWHALLE (Non-Privileged)\\Markets  WHALLEY-G  GWHALLE (Non-Privileged).pst   \n",
       "2  \\GWHALLE (Non-Privileged)\\Markets  WHALLEY-G  GWHALLE (Non-Privileged).pst   \n",
       "3  \\GWHALLE (Non-Privileged)\\Markets  WHALLEY-G  GWHALLE (Non-Privileged).pst   \n",
       "4  \\GWHALLE (Non-Privileged)\\Markets  WHALLEY-G  GWHALLE (Non-Privileged).pst   \n",
       "\n",
       "                                             content       user  labeled  \\\n",
       "0  The Southeast RTO orders are out and have foll...  whalley-g    False   \n",
       "1  ---------------------- Forwarded by David W De...  whalley-g    False   \n",
       "2  The Bond Legislation The Democrats in the Asse...  whalley-g    False   \n",
       "3  FYI ---------------------- Forwarded by Richar...  whalley-g    False   \n",
       "4  FYI ---------------------- Forwarded by Richar...  whalley-g    False   \n",
       "\n",
       "   dollarValueMentionedinMessage  messageLength                 Date  \n",
       "0                            NaN           2570  2001-07-13 19:47:20  \n",
       "1                            NaN           3761  2001-07-12 11:36:58  \n",
       "2                            NaN           1348  2001-07-10 00:47:51  \n",
       "3                           37.0           2592  2001-07-06 20:45:05  \n",
       "4                           43.0           1774  2001-07-06 20:44:33  "
      ]
     },
     "execution_count": 3,
     "metadata": {},
     "output_type": "execute_result"
    }
   ],
   "source": [
    "df=pd.read_csv('https://github.com/Robmattles/Python-For-Data-Analysis/raw/master/Data%20Files/enronRenamed.csv')\n",
    "df.head()"
   ]
  },
  {
   "cell_type": "markdown",
   "metadata": {},
   "source": [
    "### Part 1 - Subsetting (Filtering)"
   ]
  },
  {
   "cell_type": "markdown",
   "metadata": {},
   "source": [
    "**1a** Select just the rows in the dataframe with messageLength greater than 1000"
   ]
  },
  {
   "cell_type": "code",
   "execution_count": null,
   "metadata": {},
   "outputs": [],
   "source": [
    "longMessages=##Your code here\n",
    "longMessages.head()"
   ]
  },
  {
   "cell_type": "markdown",
   "metadata": {},
   "source": [
    "**1b** Select only messages from user whalley-g"
   ]
  },
  {
   "cell_type": "code",
   "execution_count": null,
   "metadata": {},
   "outputs": [],
   "source": [
    "whalleyMsgs=##Your code here\n",
    "whalleyMsgs.head()"
   ]
  },
  {
   "cell_type": "markdown",
   "metadata": {},
   "source": [
    "**1c** What is the average messageLength of messages sent by whalley?"
   ]
  },
  {
   "cell_type": "code",
   "execution_count": null,
   "metadata": {},
   "outputs": [],
   "source": [
    "##Your code here"
   ]
  },
  {
   "cell_type": "markdown",
   "metadata": {},
   "source": [
    "**1d** Select messages from user whalley-g longer than 1000"
   ]
  },
  {
   "cell_type": "code",
   "execution_count": null,
   "metadata": {},
   "outputs": [],
   "source": [
    "longWhalley=##Your code here\n",
    "longWhalley.head()"
   ]
  },
  {
   "cell_type": "markdown",
   "metadata": {},
   "source": [
    "**1e** Find the number of rows in the longWhalley dataframe you created above"
   ]
  },
  {
   "cell_type": "code",
   "execution_count": null,
   "metadata": {},
   "outputs": [],
   "source": [
    "##Your code here"
   ]
  },
  {
   "cell_type": "markdown",
   "metadata": {},
   "source": [
    "**1f** Create a new column in the dataframe called isMessageLong.  Start by setting all of these to false"
   ]
  },
  {
   "cell_type": "code",
   "execution_count": null,
   "metadata": {
    "collapsed": true
   },
   "outputs": [],
   "source": [
    "##Your code here\n",
    "df['isMessageLong'].head()"
   ]
  },
  {
   "cell_type": "markdown",
   "metadata": {},
   "source": [
    "**1g** In rows where messageLength is greater than 1000, set your isMessageLong column to True.  Do not change the other values"
   ]
  },
  {
   "cell_type": "code",
   "execution_count": null,
   "metadata": {},
   "outputs": [],
   "source": [
    "##Your code here\n",
    "print('Number of long messages: ', df['isMessageLong'].sum())"
   ]
  },
  {
   "cell_type": "markdown",
   "metadata": {},
   "source": [
    "### Part 2: Sorting"
   ]
  },
  {
   "cell_type": "markdown",
   "metadata": {},
   "source": [
    "**2a** Sort the dataframe by messageLength, with the largest values at the top"
   ]
  },
  {
   "cell_type": "code",
   "execution_count": null,
   "metadata": {},
   "outputs": [],
   "source": [
    "lengthSorted=##Your code here\n",
    "lengthSorted.head()"
   ]
  },
  {
   "cell_type": "markdown",
   "metadata": {},
   "source": [
    "**2b** Sort the dataframe by FileName, ascending"
   ]
  },
  {
   "cell_type": "code",
   "execution_count": null,
   "metadata": {},
   "outputs": [],
   "source": [
    "fileNameSorted=##Your code here\n",
    "fileNameSorted.head()"
   ]
  },
  {
   "cell_type": "markdown",
   "metadata": {},
   "source": [
    "**2c** Sort the dataframe by user (ascending) and messageLength (descending)"
   ]
  },
  {
   "cell_type": "code",
   "execution_count": null,
   "metadata": {},
   "outputs": [],
   "source": [
    "doubleSort=##Your code here\n",
    "doubleSort.head()"
   ]
  },
  {
   "cell_type": "markdown",
   "metadata": {},
   "source": [
    "### Part 2: Combining Dataframes"
   ]
  },
  {
   "cell_type": "markdown",
   "metadata": {},
   "source": [
    "Start by loading the Positions.csv from the class documents into a dataframe"
   ]
  },
  {
   "cell_type": "code",
   "execution_count": null,
   "metadata": {},
   "outputs": [],
   "source": [
    "positions=##Your code here\n",
    "positions"
   ]
  },
  {
   "cell_type": "markdown",
   "metadata": {},
   "source": [
    "We'll be using this dataframe to add a position to column to the main dataframe.  We'll do this in two ways.  "
   ]
  },
  {
   "cell_type": "markdown",
   "metadata": {},
   "source": [
    "**2a** Use merge with how='left' to join the two dataframes using user from df and Username from positions as the keys"
   ]
  },
  {
   "cell_type": "code",
   "execution_count": null,
   "metadata": {},
   "outputs": [],
   "source": [
    "leftMerged=##Your code here\n",
    "leftMerged.head()"
   ]
  },
  {
   "cell_type": "markdown",
   "metadata": {},
   "source": [
    "Note that that number of rows in the original dataframe is the same as the number of rows in the new dataframe"
   ]
  },
  {
   "cell_type": "code",
   "execution_count": null,
   "metadata": {},
   "outputs": [],
   "source": [
    "print ('Original dataframe: ',len(df))\n",
    "print('New dataframe: ',len(leftMerged))"
   ]
  },
  {
   "cell_type": "markdown",
   "metadata": {},
   "source": [
    "**2b** Use merge with an inner join to join the two dataframes"
   ]
  },
  {
   "cell_type": "code",
   "execution_count": null,
   "metadata": {},
   "outputs": [],
   "source": [
    "innerMerged=##Your code here\n",
    "innerMerged.head()"
   ]
  },
  {
   "cell_type": "markdown",
   "metadata": {},
   "source": [
    "Note that this time, there are fewer rows in the merged dataframe, because rows in the original dataframe that did not match Username in the position columns were dropped"
   ]
  },
  {
   "cell_type": "code",
   "execution_count": null,
   "metadata": {},
   "outputs": [],
   "source": [
    "print ('Original dataframe: ',len(df))\n",
    "print('New dataframe: ',len(innerMerged))"
   ]
  },
  {
   "cell_type": "markdown",
   "metadata": {},
   "source": [
    "Now we'll switch gears and combine two dataframes, not by joining, but by concatenating - just sticking the data either on the bottom as more rows, or the side as more columns"
   ]
  },
  {
   "cell_type": "markdown",
   "metadata": {},
   "source": [
    "**2c** Read in the messageImportance.csv file from the course materials"
   ]
  },
  {
   "cell_type": "code",
   "execution_count": null,
   "metadata": {},
   "outputs": [],
   "source": [
    "additionalColumn=##Your code here\n",
    "additionalColumn.head()"
   ]
  },
  {
   "cell_type": "markdown",
   "metadata": {},
   "source": [
    "**2d** Use concat to add the two columns in the dataframe you just read in to the main dataframe"
   ]
  },
  {
   "cell_type": "code",
   "execution_count": null,
   "metadata": {},
   "outputs": [],
   "source": [
    "withNewColumn=##Your code here\n",
    "withNewColumn.head()"
   ]
  },
  {
   "cell_type": "markdown",
   "metadata": {},
   "source": [
    "**2e** Read the moreEnron.csv file in from the course materials."
   ]
  },
  {
   "cell_type": "code",
   "execution_count": null,
   "metadata": {},
   "outputs": [],
   "source": [
    "additionalData=##Your code here\n",
    "additionalData.head()"
   ]
  },
  {
   "cell_type": "markdown",
   "metadata": {},
   "source": [
    "**2f** Use concat to add the additionalData to the main dataframe as new rows"
   ]
  },
  {
   "cell_type": "code",
   "execution_count": null,
   "metadata": {},
   "outputs": [],
   "source": [
    "withAddedRows=##Your code here\n",
    "withAddedRows.tail()"
   ]
  },
  {
   "cell_type": "markdown",
   "metadata": {},
   "source": [
    "Note that all columns from both dataframes are included - the columns starting with \"X-\" from the additional data (because you haven't renamed it) and the column called \"isMessageLong\".  All columns from all concatenated dataframes will be included when concatenating row-wise - missing columns will be filled with NaN."
   ]
  },
  {
   "cell_type": "code",
   "execution_count": null,
   "metadata": {},
   "outputs": [],
   "source": [
    "list(additionalData.columns)\n"
   ]
  },
  {
   "cell_type": "markdown",
   "metadata": {},
   "source": [
    "### Part 3: Melting Data"
   ]
  },
  {
   "cell_type": "markdown",
   "metadata": {},
   "source": [
    "Let's take a closer look at the additionalData dataframe, particularly the category columns."
   ]
  },
  {
   "cell_type": "code",
   "execution_count": null,
   "metadata": {},
   "outputs": [],
   "source": [
    "additionalData[['Cat_1_level_1', 'Cat_2_level_1','Cat_3_level_1']].head(15)"
   ]
  },
  {
   "cell_type": "markdown",
   "metadata": {},
   "source": [
    "Eesh.  What a mess.  Each email can be in as many as three categories.  As the data is currently arranged, it would be a real pain to even do something as simple as counting how many emails are in each category. "
   ]
  },
  {
   "cell_type": "markdown",
   "metadata": {},
   "source": [
    "**3a** Use the melt function with id variables Message-ID, subject and user and the three category columns as value columns to reshape the additionData data frame"
   ]
  },
  {
   "cell_type": "code",
   "execution_count": null,
   "metadata": {},
   "outputs": [],
   "source": [
    "melted=##Your code here\n",
    "melted.sort_values('Subject').head(15)"
   ]
  },
  {
   "cell_type": "markdown",
   "metadata": {},
   "source": [
    "**3b** Count the number of times each category appears in the data (using the new value column)"
   ]
  },
  {
   "cell_type": "code",
   "execution_count": null,
   "metadata": {},
   "outputs": [],
   "source": [
    "categoryCounts=##Your code here\n",
    "categoryCounts"
   ]
  },
  {
   "cell_type": "markdown",
   "metadata": {},
   "source": [
    "**3c** Convert the melted part of the dataframe back to a dataframe with columns for each cat level"
   ]
  },
  {
   "cell_type": "code",
   "execution_count": null,
   "metadata": {},
   "outputs": [],
   "source": [
    "unmelted=##Your code here\n",
    "unmelted.tail()"
   ]
  },
  {
   "cell_type": "markdown",
   "metadata": {},
   "source": [
    "### Part 4: Applying functions to columns"
   ]
  },
  {
   "cell_type": "markdown",
   "metadata": {},
   "source": [
    "Note:  Many of the functions in this section can be performed more efficiently using Pandas built-in functions.  It's always best practice to use pandas built-in functions when possible, and resort to the apply function only when necessary.   "
   ]
  },
  {
   "cell_type": "markdown",
   "metadata": {},
   "source": [
    "**4a** Define a function to take a string and return its first letter, unless that letter is \"A\", in which case, return \"Z\""
   ]
  },
  {
   "cell_type": "code",
   "execution_count": null,
   "metadata": {
    "collapsed": true
   },
   "outputs": [],
   "source": [
    "def firstLetter(someString):\n",
    "##Your code here"
   ]
  },
  {
   "cell_type": "markdown",
   "metadata": {},
   "source": [
    "**4b** We'll be applying that function to the Subject column.  But first, we need to make sure every item in that column is a string.  Convert the Subject column to strings"
   ]
  },
  {
   "cell_type": "code",
   "execution_count": null,
   "metadata": {
    "collapsed": true
   },
   "outputs": [],
   "source": [
    "df['Subject']=##Your code here"
   ]
  },
  {
   "cell_type": "markdown",
   "metadata": {},
   "source": [
    "**4c** Apply firstLetter to the Subject column of the main df"
   ]
  },
  {
   "cell_type": "code",
   "execution_count": null,
   "metadata": {},
   "outputs": [],
   "source": [
    "newSubject=##Your code here\n",
    "newSubject.head()"
   ]
  },
  {
   "cell_type": "markdown",
   "metadata": {},
   "source": [
    "### Part 5: Removing Duplicates"
   ]
  },
  {
   "cell_type": "markdown",
   "metadata": {},
   "source": [
    "**5a** Remove all duplicate rows from the original df"
   ]
  },
  {
   "cell_type": "code",
   "execution_count": null,
   "metadata": {},
   "outputs": [],
   "source": [
    "deduped=##Your code here\n",
    "print('Original Length:',len(df))\n",
    "print('Deduped Length:',len(deduped))"
   ]
  },
  {
   "cell_type": "markdown",
   "metadata": {},
   "source": [
    "Don't panic.  There actually weren't any completely duplicative rows in the dataframe"
   ]
  },
  {
   "cell_type": "markdown",
   "metadata": {},
   "source": [
    "**5b** Remove all rows with duplicative subject lines"
   ]
  },
  {
   "cell_type": "code",
   "execution_count": null,
   "metadata": {},
   "outputs": [],
   "source": [
    "noDupeSubjects=##Your code here\n",
    "print('Original Length:',len(df))\n",
    "print('Deduped Length:',len(noDupeSubjects))\n",
    "df.head()"
   ]
  },
  {
   "cell_type": "markdown",
   "metadata": {},
   "source": [
    "### If you have time"
   ]
  },
  {
   "cell_type": "markdown",
   "metadata": {},
   "source": [
    "Create a function that takes a string and return True if that string contains the word 'Lay' (the former Enron CEO).  Apply it to the 'To' column of the dataframe (we'll learn a better way to do this later)  "
   ]
  },
  {
   "cell_type": "code",
   "execution_count": null,
   "metadata": {},
   "outputs": [],
   "source": [
    "def containsLay(someString):\n",
    "##Your code here\n",
    "containsLay=##Your code here\n",
    "print('Number of emails to Ken Lay: ',containsLay.sum())"
   ]
  },
  {
   "cell_type": "markdown",
   "metadata": {},
   "source": [
    "Find the sum of dollarValueMentionedinMessage in emails sent to Ken Lay"
   ]
  },
  {
   "cell_type": "code",
   "execution_count": null,
   "metadata": {},
   "outputs": [],
   "source": [
    "dollarsToLay=##Your code here\n",
    "print(dollarsToLay)"
   ]
  },
  {
   "cell_type": "markdown",
   "metadata": {},
   "source": [
    "Find the most common senders of messages longer than 1000 words"
   ]
  },
  {
   "cell_type": "code",
   "execution_count": null,
   "metadata": {},
   "outputs": [],
   "source": [
    "##Your code here"
   ]
  }
 ],
 "metadata": {
  "kernelspec": {
   "display_name": "Python 3",
   "language": "python",
   "name": "python3"
  },
  "language_info": {
   "codemirror_mode": {
    "name": "ipython",
    "version": 3
   },
   "file_extension": ".py",
   "mimetype": "text/x-python",
   "name": "python",
   "nbconvert_exporter": "python",
   "pygments_lexer": "ipython3",
   "version": "3.7.6"
  }
 },
 "nbformat": 4,
 "nbformat_minor": 2
}
