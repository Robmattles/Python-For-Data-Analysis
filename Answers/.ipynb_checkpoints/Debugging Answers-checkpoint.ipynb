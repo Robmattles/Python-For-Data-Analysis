{
 "cells": [
  {
   "cell_type": "markdown",
   "metadata": {},
   "source": [
    "# Module 11:  Debugging Common Problems"
   ]
  },
  {
   "cell_type": "markdown",
   "metadata": {},
   "source": [
    "This exercise will be a little different.  I'll give you some segments of code - you'll need to fix them.  "
   ]
  },
  {
   "cell_type": "code",
   "execution_count": 1,
   "metadata": {},
   "outputs": [],
   "source": [
    "import pandas as pd\n",
    "import numpy as np"
   ]
  },
  {
   "cell_type": "markdown",
   "metadata": {},
   "source": [
    "Read in the csv file from Exercise 4"
   ]
  },
  {
   "cell_type": "code",
   "execution_count": 21,
   "metadata": {},
   "outputs": [
    {
     "data": {
      "text/html": [
       "<div>\n",
       "<style scoped>\n",
       "    .dataframe tbody tr th:only-of-type {\n",
       "        vertical-align: middle;\n",
       "    }\n",
       "\n",
       "    .dataframe tbody tr th {\n",
       "        vertical-align: top;\n",
       "    }\n",
       "\n",
       "    .dataframe thead th {\n",
       "        text-align: right;\n",
       "    }\n",
       "</style>\n",
       "<table border=\"1\" class=\"dataframe\">\n",
       "  <thead>\n",
       "    <tr style=\"text-align: right;\">\n",
       "      <th></th>\n",
       "      <th>Unnamed: 0</th>\n",
       "      <th>Subject</th>\n",
       "      <th>From</th>\n",
       "      <th>To</th>\n",
       "      <th>cc</th>\n",
       "      <th>bcc</th>\n",
       "      <th>Folder</th>\n",
       "      <th>Origin</th>\n",
       "      <th>FileName</th>\n",
       "      <th>content</th>\n",
       "      <th>user</th>\n",
       "      <th>labeled</th>\n",
       "      <th>dollarValueMentionedinMessage</th>\n",
       "      <th>messageLength</th>\n",
       "      <th>Date</th>\n",
       "    </tr>\n",
       "  </thead>\n",
       "  <tbody>\n",
       "    <tr>\n",
       "      <th>0</th>\n",
       "      <td>0</td>\n",
       "      <td>RTO Orders - Grid South, SE Trans, SPP and Ent...</td>\n",
       "      <td>Fulton, Donna &lt;/O=ENRON/OU=NA/CN=RECIPIENTS/CN...</td>\n",
       "      <td>Kean, Steven &lt;/O=ENRON/OU=NA/CN=RECIPIENTS/CN=...</td>\n",
       "      <td>NaN</td>\n",
       "      <td>NaN</td>\n",
       "      <td>\\GWHALLE (Non-Privileged)\\Markets</td>\n",
       "      <td>WHALLEY-G</td>\n",
       "      <td>GWHALLE (Non-Privileged).pst</td>\n",
       "      <td>The Southeast RTO orders are out and have foll...</td>\n",
       "      <td>whalley-g</td>\n",
       "      <td>False</td>\n",
       "      <td>NaN</td>\n",
       "      <td>2570</td>\n",
       "      <td>2001-07-13 19:47:20</td>\n",
       "    </tr>\n",
       "    <tr>\n",
       "      <th>1</th>\n",
       "      <td>1</td>\n",
       "      <td>More UC/CSU Info</td>\n",
       "      <td>Delainey, David &lt;/O=ENRON/OU=NA/CN=RECIPIENTS/...</td>\n",
       "      <td>Greg Whalley/HOU/ECT@ENRON, Lavorato, John &lt;/O...</td>\n",
       "      <td>NaN</td>\n",
       "      <td>NaN</td>\n",
       "      <td>\\GWHALLE (Non-Privileged)\\Markets</td>\n",
       "      <td>WHALLEY-G</td>\n",
       "      <td>GWHALLE (Non-Privileged).pst</td>\n",
       "      <td>---------------------- Forwarded by David W De...</td>\n",
       "      <td>whalley-g</td>\n",
       "      <td>False</td>\n",
       "      <td>NaN</td>\n",
       "      <td>3761</td>\n",
       "      <td>2001-07-12 11:36:58</td>\n",
       "    </tr>\n",
       "    <tr>\n",
       "      <th>2</th>\n",
       "      <td>2</td>\n",
       "      <td>California Update 07.09.01</td>\n",
       "      <td>Dasovich, Jeff &lt;/O=ENRON/OU=NA/CN=RECIPIENTS/C...</td>\n",
       "      <td>skean@enron.com, Shapiro, Richard &lt;/O=ENRON/OU...</td>\n",
       "      <td>NaN</td>\n",
       "      <td>NaN</td>\n",
       "      <td>\\GWHALLE (Non-Privileged)\\Markets</td>\n",
       "      <td>WHALLEY-G</td>\n",
       "      <td>GWHALLE (Non-Privileged).pst</td>\n",
       "      <td>The Bond Legislation The Democrats in the Asse...</td>\n",
       "      <td>whalley-g</td>\n",
       "      <td>False</td>\n",
       "      <td>NaN</td>\n",
       "      <td>1348</td>\n",
       "      <td>2001-07-10 00:47:51</td>\n",
       "    </tr>\n",
       "    <tr>\n",
       "      <th>3</th>\n",
       "      <td>3</td>\n",
       "      <td>Davis &amp; Company -- incompetence personified</td>\n",
       "      <td>Shapiro, Richard &lt;/O=ENRON/OU=NA/CN=RECIPIENTS...</td>\n",
       "      <td>Lavorato, John &lt;/O=ENRON/OU=NA/CN=RECIPIENTS/C...</td>\n",
       "      <td>NaN</td>\n",
       "      <td>NaN</td>\n",
       "      <td>\\GWHALLE (Non-Privileged)\\Markets</td>\n",
       "      <td>WHALLEY-G</td>\n",
       "      <td>GWHALLE (Non-Privileged).pst</td>\n",
       "      <td>FYI ---------------------- Forwarded by Richar...</td>\n",
       "      <td>whalley-g</td>\n",
       "      <td>False</td>\n",
       "      <td>37.0</td>\n",
       "      <td>2592</td>\n",
       "      <td>2001-07-06 20:45:05</td>\n",
       "    </tr>\n",
       "    <tr>\n",
       "      <th>4</th>\n",
       "      <td>4</td>\n",
       "      <td>Link to DWR contract info</td>\n",
       "      <td>Shapiro, Richard &lt;/O=ENRON/OU=NA/CN=RECIPIENTS...</td>\n",
       "      <td>Lavorato, John &lt;/O=ENRON/OU=NA/CN=RECIPIENTS/C...</td>\n",
       "      <td>NaN</td>\n",
       "      <td>NaN</td>\n",
       "      <td>\\GWHALLE (Non-Privileged)\\Markets</td>\n",
       "      <td>WHALLEY-G</td>\n",
       "      <td>GWHALLE (Non-Privileged).pst</td>\n",
       "      <td>FYI ---------------------- Forwarded by Richar...</td>\n",
       "      <td>whalley-g</td>\n",
       "      <td>False</td>\n",
       "      <td>43.0</td>\n",
       "      <td>1774</td>\n",
       "      <td>2001-07-06 20:44:33</td>\n",
       "    </tr>\n",
       "  </tbody>\n",
       "</table>\n",
       "</div>"
      ],
      "text/plain": [
       "   Unnamed: 0                                            Subject  \\\n",
       "0           0  RTO Orders - Grid South, SE Trans, SPP and Ent...   \n",
       "1           1                                   More UC/CSU Info   \n",
       "2           2                         California Update 07.09.01   \n",
       "3           3        Davis & Company -- incompetence personified   \n",
       "4           4                          Link to DWR contract info   \n",
       "\n",
       "                                                From  \\\n",
       "0  Fulton, Donna </O=ENRON/OU=NA/CN=RECIPIENTS/CN...   \n",
       "1  Delainey, David </O=ENRON/OU=NA/CN=RECIPIENTS/...   \n",
       "2  Dasovich, Jeff </O=ENRON/OU=NA/CN=RECIPIENTS/C...   \n",
       "3  Shapiro, Richard </O=ENRON/OU=NA/CN=RECIPIENTS...   \n",
       "4  Shapiro, Richard </O=ENRON/OU=NA/CN=RECIPIENTS...   \n",
       "\n",
       "                                                  To   cc  bcc  \\\n",
       "0  Kean, Steven </O=ENRON/OU=NA/CN=RECIPIENTS/CN=...  NaN  NaN   \n",
       "1  Greg Whalley/HOU/ECT@ENRON, Lavorato, John </O...  NaN  NaN   \n",
       "2  skean@enron.com, Shapiro, Richard </O=ENRON/OU...  NaN  NaN   \n",
       "3  Lavorato, John </O=ENRON/OU=NA/CN=RECIPIENTS/C...  NaN  NaN   \n",
       "4  Lavorato, John </O=ENRON/OU=NA/CN=RECIPIENTS/C...  NaN  NaN   \n",
       "\n",
       "                              Folder     Origin                      FileName  \\\n",
       "0  \\GWHALLE (Non-Privileged)\\Markets  WHALLEY-G  GWHALLE (Non-Privileged).pst   \n",
       "1  \\GWHALLE (Non-Privileged)\\Markets  WHALLEY-G  GWHALLE (Non-Privileged).pst   \n",
       "2  \\GWHALLE (Non-Privileged)\\Markets  WHALLEY-G  GWHALLE (Non-Privileged).pst   \n",
       "3  \\GWHALLE (Non-Privileged)\\Markets  WHALLEY-G  GWHALLE (Non-Privileged).pst   \n",
       "4  \\GWHALLE (Non-Privileged)\\Markets  WHALLEY-G  GWHALLE (Non-Privileged).pst   \n",
       "\n",
       "                                             content       user  labeled  \\\n",
       "0  The Southeast RTO orders are out and have foll...  whalley-g    False   \n",
       "1  ---------------------- Forwarded by David W De...  whalley-g    False   \n",
       "2  The Bond Legislation The Democrats in the Asse...  whalley-g    False   \n",
       "3  FYI ---------------------- Forwarded by Richar...  whalley-g    False   \n",
       "4  FYI ---------------------- Forwarded by Richar...  whalley-g    False   \n",
       "\n",
       "   dollarValueMentionedinMessage  messageLength                 Date  \n",
       "0                            NaN           2570  2001-07-13 19:47:20  \n",
       "1                            NaN           3761  2001-07-12 11:36:58  \n",
       "2                            NaN           1348  2001-07-10 00:47:51  \n",
       "3                           37.0           2592  2001-07-06 20:45:05  \n",
       "4                           43.0           1774  2001-07-06 20:44:33  "
      ]
     },
     "execution_count": 21,
     "metadata": {},
     "output_type": "execute_result"
    }
   ],
   "source": [
    "df=pd.read_csv(r'C:\\Users\\mwbarr\\OneDrive - Federal Bureau of Investigation\\Python_for_Data_Analysis\\Python for Data Analysis\\enronRenamed.csv')\n",
    "df.head()"
   ]
  },
  {
   "cell_type": "code",
   "execution_count": 22,
   "metadata": {},
   "outputs": [
    {
     "data": {
      "text/html": [
       "<div>\n",
       "<style scoped>\n",
       "    .dataframe tbody tr th:only-of-type {\n",
       "        vertical-align: middle;\n",
       "    }\n",
       "\n",
       "    .dataframe tbody tr th {\n",
       "        vertical-align: top;\n",
       "    }\n",
       "\n",
       "    .dataframe thead th {\n",
       "        text-align: right;\n",
       "    }\n",
       "</style>\n",
       "<table border=\"1\" class=\"dataframe\">\n",
       "  <thead>\n",
       "    <tr style=\"text-align: right;\">\n",
       "      <th></th>\n",
       "      <th>messageLength</th>\n",
       "    </tr>\n",
       "    <tr>\n",
       "      <th>Date</th>\n",
       "      <th></th>\n",
       "    </tr>\n",
       "  </thead>\n",
       "  <tbody>\n",
       "    <tr>\n",
       "      <th>1980-12-31</th>\n",
       "      <td>21730</td>\n",
       "    </tr>\n",
       "    <tr>\n",
       "      <th>1981-12-31</th>\n",
       "      <td>0</td>\n",
       "    </tr>\n",
       "    <tr>\n",
       "      <th>1982-12-31</th>\n",
       "      <td>0</td>\n",
       "    </tr>\n",
       "    <tr>\n",
       "      <th>1983-12-31</th>\n",
       "      <td>0</td>\n",
       "    </tr>\n",
       "    <tr>\n",
       "      <th>1984-12-31</th>\n",
       "      <td>0</td>\n",
       "    </tr>\n",
       "  </tbody>\n",
       "</table>\n",
       "</div>"
      ],
      "text/plain": [
       "            messageLength\n",
       "Date                     \n",
       "1980-12-31          21730\n",
       "1981-12-31              0\n",
       "1982-12-31              0\n",
       "1983-12-31              0\n",
       "1984-12-31              0"
      ]
     },
     "execution_count": 22,
     "metadata": {},
     "output_type": "execute_result"
    }
   ],
   "source": [
    "df['Date']=pd.to_datetime(df['Date'])\n",
    "df.groupby(pd.Grouper(key='Date',freq='Y')).agg({'messageLength':sum}).head()"
   ]
  },
  {
   "cell_type": "code",
   "execution_count": 6,
   "metadata": {},
   "outputs": [
    {
     "data": {
      "text/plain": [
       "0    False\n",
       "1    False\n",
       "2    False\n",
       "3    False\n",
       "4    False\n",
       "Name: cc, dtype: bool"
      ]
     },
     "execution_count": 6,
     "metadata": {},
     "output_type": "execute_result"
    }
   ],
   "source": [
    "df['cc']=df['cc'].astype(str)\n",
    "df['cc'].apply(lambda x: 'Lay' in x).head()"
   ]
  },
  {
   "cell_type": "code",
   "execution_count": 7,
   "metadata": {},
   "outputs": [
    {
     "name": "stdout",
     "output_type": "stream",
     "text": [
      "Unnamed: 0                                                                       0\n",
      "Subject                          RTO Orders - Grid South, SE Trans, SPP and Ent...\n",
      "From                             Fulton, Donna </O=ENRON/OU=NA/CN=RECIPIENTS/CN...\n",
      "To                               Kean, Steven </O=ENRON/OU=NA/CN=RECIPIENTS/CN=...\n",
      "cc                                                                             nan\n",
      "bcc                                                                            NaN\n",
      "Folder                                           \\GWHALLE (Non-Privileged)\\Markets\n",
      "Origin                                                                   WHALLEY-G\n",
      "FileName                                              GWHALLE (Non-Privileged).pst\n",
      "content                          The Southeast RTO orders are out and have foll...\n",
      "user                                                                     whalley-g\n",
      "labeled                                                                      False\n",
      "dollarValueMentionedinMessage                                                  NaN\n",
      "messageLength                                                                 2570\n",
      "Date                                                           2001-07-13 19:47:20\n",
      "Name: 0, dtype: object\n"
     ]
    }
   ],
   "source": [
    "firstRow=df.iloc[0]\n",
    "print(firstRow)"
   ]
  },
  {
   "cell_type": "code",
   "execution_count": 11,
   "metadata": {},
   "outputs": [
    {
     "data": {
      "text/plain": [
       "0   2001-07-13 19:47:20\n",
       "1   2001-07-12 11:36:58\n",
       "2   2001-07-10 00:47:51\n",
       "3   2001-07-06 20:45:05\n",
       "4   2001-07-06 20:44:33\n",
       "Name: Date, dtype: datetime64[ns]"
      ]
     },
     "execution_count": 11,
     "metadata": {},
     "output_type": "execute_result"
    }
   ],
   "source": [
    "dateColumn=df['Date']\n",
    "dateColumn.head()"
   ]
  },
  {
   "cell_type": "code",
   "execution_count": 13,
   "metadata": {},
   "outputs": [
    {
     "data": {
      "text/html": [
       "<div>\n",
       "<style scoped>\n",
       "    .dataframe tbody tr th:only-of-type {\n",
       "        vertical-align: middle;\n",
       "    }\n",
       "\n",
       "    .dataframe tbody tr th {\n",
       "        vertical-align: top;\n",
       "    }\n",
       "\n",
       "    .dataframe thead th {\n",
       "        text-align: right;\n",
       "    }\n",
       "</style>\n",
       "<table border=\"1\" class=\"dataframe\">\n",
       "  <thead>\n",
       "    <tr style=\"text-align: right;\">\n",
       "      <th></th>\n",
       "      <th>Unnamed: 0</th>\n",
       "      <th>Subject</th>\n",
       "      <th>From</th>\n",
       "      <th>To</th>\n",
       "      <th>cc</th>\n",
       "      <th>bcc</th>\n",
       "      <th>Folder</th>\n",
       "      <th>Origin</th>\n",
       "      <th>FileName</th>\n",
       "      <th>content</th>\n",
       "      <th>user</th>\n",
       "      <th>labeled</th>\n",
       "      <th>dollarValueMentionedinMessage</th>\n",
       "      <th>messageLength</th>\n",
       "      <th>Date</th>\n",
       "    </tr>\n",
       "  </thead>\n",
       "  <tbody>\n",
       "    <tr>\n",
       "      <th>0</th>\n",
       "      <td>0</td>\n",
       "      <td>RTO Orders - Grid South, SE Trans, SPP and Ent...</td>\n",
       "      <td>Fulton, Donna &lt;/O=ENRON/OU=NA/CN=RECIPIENTS/CN...</td>\n",
       "      <td>Kean, Steven &lt;/O=ENRON/OU=NA/CN=RECIPIENTS/CN=...</td>\n",
       "      <td>nan</td>\n",
       "      <td>NaN</td>\n",
       "      <td>\\GWHALLE (Non-Privileged)\\Markets</td>\n",
       "      <td>WHALLEY-G</td>\n",
       "      <td>GWHALLE (Non-Privileged).pst</td>\n",
       "      <td>The Southeast RTO orders are out and have foll...</td>\n",
       "      <td>whalley-g</td>\n",
       "      <td>False</td>\n",
       "      <td>NaN</td>\n",
       "      <td>2570</td>\n",
       "      <td>2001-07-13 19:47:20</td>\n",
       "    </tr>\n",
       "    <tr>\n",
       "      <th>1</th>\n",
       "      <td>1</td>\n",
       "      <td>More UC/CSU Info</td>\n",
       "      <td>Delainey, David &lt;/O=ENRON/OU=NA/CN=RECIPIENTS/...</td>\n",
       "      <td>Greg Whalley/HOU/ECT@ENRON, Lavorato, John &lt;/O...</td>\n",
       "      <td>nan</td>\n",
       "      <td>NaN</td>\n",
       "      <td>\\GWHALLE (Non-Privileged)\\Markets</td>\n",
       "      <td>WHALLEY-G</td>\n",
       "      <td>GWHALLE (Non-Privileged).pst</td>\n",
       "      <td>---------------------- Forwarded by David W De...</td>\n",
       "      <td>whalley-g</td>\n",
       "      <td>False</td>\n",
       "      <td>NaN</td>\n",
       "      <td>3761</td>\n",
       "      <td>2001-07-12 11:36:58</td>\n",
       "    </tr>\n",
       "    <tr>\n",
       "      <th>2</th>\n",
       "      <td>2</td>\n",
       "      <td>California Update 07.09.01</td>\n",
       "      <td>Dasovich, Jeff &lt;/O=ENRON/OU=NA/CN=RECIPIENTS/C...</td>\n",
       "      <td>skean@enron.com, Shapiro, Richard &lt;/O=ENRON/OU...</td>\n",
       "      <td>nan</td>\n",
       "      <td>NaN</td>\n",
       "      <td>\\GWHALLE (Non-Privileged)\\Markets</td>\n",
       "      <td>WHALLEY-G</td>\n",
       "      <td>GWHALLE (Non-Privileged).pst</td>\n",
       "      <td>The Bond Legislation The Democrats in the Asse...</td>\n",
       "      <td>whalley-g</td>\n",
       "      <td>False</td>\n",
       "      <td>NaN</td>\n",
       "      <td>1348</td>\n",
       "      <td>2001-07-10 00:47:51</td>\n",
       "    </tr>\n",
       "    <tr>\n",
       "      <th>3</th>\n",
       "      <td>3</td>\n",
       "      <td>Davis &amp; Company -- incompetence personified</td>\n",
       "      <td>Shapiro, Richard &lt;/O=ENRON/OU=NA/CN=RECIPIENTS...</td>\n",
       "      <td>Lavorato, John &lt;/O=ENRON/OU=NA/CN=RECIPIENTS/C...</td>\n",
       "      <td>nan</td>\n",
       "      <td>NaN</td>\n",
       "      <td>\\GWHALLE (Non-Privileged)\\Markets</td>\n",
       "      <td>WHALLEY-G</td>\n",
       "      <td>GWHALLE (Non-Privileged).pst</td>\n",
       "      <td>FYI ---------------------- Forwarded by Richar...</td>\n",
       "      <td>whalley-g</td>\n",
       "      <td>False</td>\n",
       "      <td>37.0</td>\n",
       "      <td>2592</td>\n",
       "      <td>2001-07-06 20:45:05</td>\n",
       "    </tr>\n",
       "    <tr>\n",
       "      <th>4</th>\n",
       "      <td>4</td>\n",
       "      <td>Link to DWR contract info</td>\n",
       "      <td>Shapiro, Richard &lt;/O=ENRON/OU=NA/CN=RECIPIENTS...</td>\n",
       "      <td>Lavorato, John &lt;/O=ENRON/OU=NA/CN=RECIPIENTS/C...</td>\n",
       "      <td>nan</td>\n",
       "      <td>NaN</td>\n",
       "      <td>\\GWHALLE (Non-Privileged)\\Markets</td>\n",
       "      <td>WHALLEY-G</td>\n",
       "      <td>GWHALLE (Non-Privileged).pst</td>\n",
       "      <td>FYI ---------------------- Forwarded by Richar...</td>\n",
       "      <td>whalley-g</td>\n",
       "      <td>False</td>\n",
       "      <td>43.0</td>\n",
       "      <td>1774</td>\n",
       "      <td>2001-07-06 20:44:33</td>\n",
       "    </tr>\n",
       "  </tbody>\n",
       "</table>\n",
       "</div>"
      ],
      "text/plain": [
       "   Unnamed: 0                                            Subject  \\\n",
       "0           0  RTO Orders - Grid South, SE Trans, SPP and Ent...   \n",
       "1           1                                   More UC/CSU Info   \n",
       "2           2                         California Update 07.09.01   \n",
       "3           3        Davis & Company -- incompetence personified   \n",
       "4           4                          Link to DWR contract info   \n",
       "\n",
       "                                                From  \\\n",
       "0  Fulton, Donna </O=ENRON/OU=NA/CN=RECIPIENTS/CN...   \n",
       "1  Delainey, David </O=ENRON/OU=NA/CN=RECIPIENTS/...   \n",
       "2  Dasovich, Jeff </O=ENRON/OU=NA/CN=RECIPIENTS/C...   \n",
       "3  Shapiro, Richard </O=ENRON/OU=NA/CN=RECIPIENTS...   \n",
       "4  Shapiro, Richard </O=ENRON/OU=NA/CN=RECIPIENTS...   \n",
       "\n",
       "                                                  To   cc  bcc  \\\n",
       "0  Kean, Steven </O=ENRON/OU=NA/CN=RECIPIENTS/CN=...  nan  NaN   \n",
       "1  Greg Whalley/HOU/ECT@ENRON, Lavorato, John </O...  nan  NaN   \n",
       "2  skean@enron.com, Shapiro, Richard </O=ENRON/OU...  nan  NaN   \n",
       "3  Lavorato, John </O=ENRON/OU=NA/CN=RECIPIENTS/C...  nan  NaN   \n",
       "4  Lavorato, John </O=ENRON/OU=NA/CN=RECIPIENTS/C...  nan  NaN   \n",
       "\n",
       "                              Folder     Origin                      FileName  \\\n",
       "0  \\GWHALLE (Non-Privileged)\\Markets  WHALLEY-G  GWHALLE (Non-Privileged).pst   \n",
       "1  \\GWHALLE (Non-Privileged)\\Markets  WHALLEY-G  GWHALLE (Non-Privileged).pst   \n",
       "2  \\GWHALLE (Non-Privileged)\\Markets  WHALLEY-G  GWHALLE (Non-Privileged).pst   \n",
       "3  \\GWHALLE (Non-Privileged)\\Markets  WHALLEY-G  GWHALLE (Non-Privileged).pst   \n",
       "4  \\GWHALLE (Non-Privileged)\\Markets  WHALLEY-G  GWHALLE (Non-Privileged).pst   \n",
       "\n",
       "                                             content       user  labeled  \\\n",
       "0  The Southeast RTO orders are out and have foll...  whalley-g    False   \n",
       "1  ---------------------- Forwarded by David W De...  whalley-g    False   \n",
       "2  The Bond Legislation The Democrats in the Asse...  whalley-g    False   \n",
       "3  FYI ---------------------- Forwarded by Richar...  whalley-g    False   \n",
       "4  FYI ---------------------- Forwarded by Richar...  whalley-g    False   \n",
       "\n",
       "   dollarValueMentionedinMessage  messageLength                Date  \n",
       "0                            NaN           2570 2001-07-13 19:47:20  \n",
       "1                            NaN           3761 2001-07-12 11:36:58  \n",
       "2                            NaN           1348 2001-07-10 00:47:51  \n",
       "3                           37.0           2592 2001-07-06 20:45:05  \n",
       "4                           43.0           1774 2001-07-06 20:44:33  "
      ]
     },
     "execution_count": 13,
     "metadata": {},
     "output_type": "execute_result"
    }
   ],
   "source": [
    "emailsWithCC=df[df['cc'].notnull()]\n",
    "emailsWithCC.head()"
   ]
  },
  {
   "cell_type": "code",
   "execution_count": 14,
   "metadata": {},
   "outputs": [],
   "source": [
    "for i in df['cc']:\n",
    "    if 'LAY' in i: \n",
    "        print(i)"
   ]
  },
  {
   "cell_type": "code",
   "execution_count": 19,
   "metadata": {},
   "outputs": [
    {
     "data": {
      "text/html": [
       "<div>\n",
       "<style scoped>\n",
       "    .dataframe tbody tr th:only-of-type {\n",
       "        vertical-align: middle;\n",
       "    }\n",
       "\n",
       "    .dataframe tbody tr th {\n",
       "        vertical-align: top;\n",
       "    }\n",
       "\n",
       "    .dataframe thead th {\n",
       "        text-align: right;\n",
       "    }\n",
       "</style>\n",
       "<table border=\"1\" class=\"dataframe\">\n",
       "  <thead>\n",
       "    <tr style=\"text-align: right;\">\n",
       "      <th></th>\n",
       "      <th>name</th>\n",
       "    </tr>\n",
       "  </thead>\n",
       "  <tbody>\n",
       "    <tr>\n",
       "      <th>0</th>\n",
       "      <td>apple</td>\n",
       "    </tr>\n",
       "    <tr>\n",
       "      <th>1</th>\n",
       "      <td>banana</td>\n",
       "    </tr>\n",
       "    <tr>\n",
       "      <th>2</th>\n",
       "      <td>orange</td>\n",
       "    </tr>\n",
       "  </tbody>\n",
       "</table>\n",
       "</div>"
      ],
      "text/plain": [
       "     name\n",
       "0   apple\n",
       "1  banana\n",
       "2  orange"
      ]
     },
     "execution_count": 19,
     "metadata": {},
     "output_type": "execute_result"
    }
   ],
   "source": [
    "###Set-up: no errors - do not change###\n",
    "fruits={'name':['apple','banana','orange']}\n",
    "fruitdf=pd.DataFrame(fruits)\n",
    "fruitdf"
   ]
  },
  {
   "cell_type": "code",
   "execution_count": 20,
   "metadata": {},
   "outputs": [
    {
     "data": {
      "text/html": [
       "<div>\n",
       "<style scoped>\n",
       "    .dataframe tbody tr th:only-of-type {\n",
       "        vertical-align: middle;\n",
       "    }\n",
       "\n",
       "    .dataframe tbody tr th {\n",
       "        vertical-align: top;\n",
       "    }\n",
       "\n",
       "    .dataframe thead th {\n",
       "        text-align: right;\n",
       "    }\n",
       "</style>\n",
       "<table border=\"1\" class=\"dataframe\">\n",
       "  <thead>\n",
       "    <tr style=\"text-align: right;\">\n",
       "      <th></th>\n",
       "      <th>name</th>\n",
       "      <th>price</th>\n",
       "    </tr>\n",
       "  </thead>\n",
       "  <tbody>\n",
       "    <tr>\n",
       "      <th>0</th>\n",
       "      <td>apple</td>\n",
       "      <td>3</td>\n",
       "    </tr>\n",
       "    <tr>\n",
       "      <th>1</th>\n",
       "      <td>banana</td>\n",
       "      <td>4</td>\n",
       "    </tr>\n",
       "    <tr>\n",
       "      <th>2</th>\n",
       "      <td>orange</td>\n",
       "      <td>5</td>\n",
       "    </tr>\n",
       "  </tbody>\n",
       "</table>\n",
       "</div>"
      ],
      "text/plain": [
       "     name  price\n",
       "0   apple      3\n",
       "1  banana      4\n",
       "2  orange      5"
      ]
     },
     "execution_count": 20,
     "metadata": {},
     "output_type": "execute_result"
    }
   ],
   "source": [
    "fruitdf['price']=[3,4,5]\n",
    "fruitdf"
   ]
  },
  {
   "cell_type": "code",
   "execution_count": 28,
   "metadata": {},
   "outputs": [
    {
     "data": {
      "text/plain": [
       "0   2001-07-13 19:47:20\n",
       "1   2001-07-12 11:36:58\n",
       "2   2001-07-10 00:47:51\n",
       "3   2001-07-06 20:45:05\n",
       "4   2001-07-06 20:44:33\n",
       "Name: Date, dtype: datetime64[ns]"
      ]
     },
     "execution_count": 28,
     "metadata": {},
     "output_type": "execute_result"
    }
   ],
   "source": [
    "dateColumn=df['Date']\n",
    "dateColumn.head()"
   ]
  },
  {
   "cell_type": "code",
   "execution_count": 25,
   "metadata": {},
   "outputs": [
    {
     "data": {
      "text/plain": [
       "0   2001-07-13 19:47:20\n",
       "1   2001-07-12 11:36:58\n",
       "2   2001-07-10 00:47:51\n",
       "3   2001-07-06 20:45:05\n",
       "4   2001-07-06 20:44:33\n",
       "Name: Date, dtype: datetime64[ns]"
      ]
     },
     "execution_count": 25,
     "metadata": {},
     "output_type": "execute_result"
    }
   ],
   "source": [
    "dateColumn=df['Date']\n",
    "dateColumn.head()"
   ]
  },
  {
   "cell_type": "code",
   "execution_count": 26,
   "metadata": {},
   "outputs": [
    {
     "name": "stdout",
     "output_type": "stream",
     "text": [
      "21277667\n"
     ]
    }
   ],
   "source": [
    "totalMessageLength=df['messageLength'].sum()\n",
    "print(totalMessageLength)"
   ]
  },
  {
   "cell_type": "code",
   "execution_count": 27,
   "metadata": {},
   "outputs": [
    {
     "name": "stdout",
     "output_type": "stream",
     "text": [
      "Unnamed: 0                                                                       0\n",
      "Subject                          RTO Orders - Grid South, SE Trans, SPP and Ent...\n",
      "From                             Fulton, Donna </O=ENRON/OU=NA/CN=RECIPIENTS/CN...\n",
      "To                               Kean, Steven </O=ENRON/OU=NA/CN=RECIPIENTS/CN=...\n",
      "cc                                                                             NaN\n",
      "bcc                                                                            NaN\n",
      "Folder                                           \\GWHALLE (Non-Privileged)\\Markets\n",
      "Origin                                                                   WHALLEY-G\n",
      "FileName                                              GWHALLE (Non-Privileged).pst\n",
      "content                          The Southeast RTO orders are out and have foll...\n",
      "user                                                                     whalley-g\n",
      "labeled                                                                      False\n",
      "dollarValueMentionedinMessage                                                  NaN\n",
      "messageLength                                                                 2570\n",
      "Date                                                           2001-07-13 19:47:20\n",
      "Name: 0, dtype: object\n"
     ]
    }
   ],
   "source": [
    "firstRow=df.iloc[0]\n",
    "print(firstRow)"
   ]
  }
 ],
 "metadata": {
  "kernelspec": {
   "display_name": "Python 3",
   "language": "python",
   "name": "python3"
  },
  "language_info": {
   "codemirror_mode": {
    "name": "ipython",
    "version": 3
   },
   "file_extension": ".py",
   "mimetype": "text/x-python",
   "name": "python",
   "nbconvert_exporter": "python",
   "pygments_lexer": "ipython3",
   "version": "3.7.6"
  }
 },
 "nbformat": 4,
 "nbformat_minor": 2
}
