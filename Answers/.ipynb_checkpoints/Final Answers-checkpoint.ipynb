{
 "cells": [
  {
   "cell_type": "markdown",
   "metadata": {},
   "source": [
    "# Python for Data Analysis - Final"
   ]
  },
  {
   "cell_type": "markdown",
   "metadata": {},
   "source": [
    "**1.** Import pandas and numpy"
   ]
  },
  {
   "cell_type": "code",
   "execution_count": null,
   "metadata": {},
   "outputs": [],
   "source": [
    "import pandas as pd\n",
    "import numpy as np"
   ]
  },
  {
   "cell_type": "markdown",
   "metadata": {},
   "source": [
    "**2.** Read the yelp_training_set_review_small.csv file from the course materials into a pandas dataframe"
   ]
  },
  {
   "cell_type": "code",
   "execution_count": null,
   "metadata": {},
   "outputs": [],
   "source": [
    "df=pd.read_csv(r'C:\\Users\\mwbarr\\OneDrive - Federal Bureau of Investigation\\Python_for_Data_Analysis\\data files\\yelp_training_set_review_small.csv')\n",
    "df.head()\n",
    "df['business_neighborhoods'].isnull().mean()"
   ]
  },
  {
   "cell_type": "markdown",
   "metadata": {},
   "source": [
    "**3.** Select the first row of the dataframe"
   ]
  },
  {
   "cell_type": "code",
   "execution_count": null,
   "metadata": {},
   "outputs": [],
   "source": [
    "firstRow=df.iloc[0]\n",
    "firstRow"
   ]
  },
  {
   "cell_type": "markdown",
   "metadata": {},
   "source": [
    "**4.**  Select the business_city column of the dataframe"
   ]
  },
  {
   "cell_type": "code",
   "execution_count": null,
   "metadata": {},
   "outputs": [],
   "source": [
    "cities=df['business_city']\n",
    "cities.head()"
   ]
  },
  {
   "cell_type": "markdown",
   "metadata": {},
   "source": [
    "**5.** Add a column called 'firstLetter' to the dataframe containing the first latter of each business name"
   ]
  },
  {
   "cell_type": "code",
   "execution_count": null,
   "metadata": {},
   "outputs": [],
   "source": [
    "df['firstLetter']=df['business_name'].apply(lambda x:x[0])\n",
    "df['firstLetter'].head()"
   ]
  },
  {
   "cell_type": "markdown",
   "metadata": {},
   "source": [
    "**6.** Use any single function on the entire to get a summary of the whole dataframe"
   ]
  },
  {
   "cell_type": "code",
   "execution_count": null,
   "metadata": {},
   "outputs": [],
   "source": [
    "df.info()"
   ]
  },
  {
   "cell_type": "markdown",
   "metadata": {},
   "source": [
    "**7.** Create a histogram of business_stars"
   ]
  },
  {
   "cell_type": "code",
   "execution_count": null,
   "metadata": {},
   "outputs": [],
   "source": [
    "%matplotlib inline\n",
    "df['business_stars'].plot.hist()"
   ]
  },
  {
   "cell_type": "markdown",
   "metadata": {},
   "source": [
    "**8.** Filter the data to only include rows with greater than 4 business_stars"
   ]
  },
  {
   "cell_type": "code",
   "execution_count": null,
   "metadata": {},
   "outputs": [],
   "source": [
    "filtered=df[df['business_stars']>4]\n",
    "filtered['business_stars'].head()"
   ]
  },
  {
   "cell_type": "markdown",
   "metadata": {},
   "source": [
    "**9.** Get the mean number of business stars"
   ]
  },
  {
   "cell_type": "code",
   "execution_count": null,
   "metadata": {},
   "outputs": [],
   "source": [
    "meanStars=df['business_stars'].mean()\n",
    "meanStars"
   ]
  },
  {
   "cell_type": "markdown",
   "metadata": {},
   "source": [
    "**10.** Get the number of rows with each value in reviewer_name.  The answer should have each reviewer_name and the number of times it appears in the data"
   ]
  },
  {
   "cell_type": "code",
   "execution_count": null,
   "metadata": {},
   "outputs": [],
   "source": [
    "reviewers=df['reviewer_name'].value_counts()\n",
    "reviewers.head()"
   ]
  },
  {
   "cell_type": "code",
   "execution_count": null,
   "metadata": {},
   "outputs": [],
   "source": [
    "##Do not change this cell\n",
    "population=pd.Series(np.random.random(100)*100000)\n",
    "cityNames=pd.Series(df['business_city'].unique())[:100]\n",
    "cityPopulations=pd.concat([population,cityNames],axis=1)\n",
    "cityPopulations.columns=['Population','City']\n",
    "cityPopulations.head()"
   ]
  },
  {
   "cell_type": "markdown",
   "metadata": {},
   "source": [
    "**11.** The above cell creates and displays the start of a small data frame called cityPopulations.  Merge this dataframe with your main dataframe (df) to add the population column to your dataframe.  The column 'City' in the cityPopulations data frame corresponds to the column 'business_city' in the main dataframe"
   ]
  },
  {
   "cell_type": "code",
   "execution_count": null,
   "metadata": {},
   "outputs": [],
   "source": [
    "merged=df.merge(cityPopulations,left_on='business_city',right_on='City')\n",
    "merged[['City','business_city','Population']].tail()"
   ]
  },
  {
   "cell_type": "markdown",
   "metadata": {},
   "source": [
    "**12.** Count the number of missing values in the 'cool' column"
   ]
  },
  {
   "cell_type": "code",
   "execution_count": null,
   "metadata": {},
   "outputs": [],
   "source": [
    "numMissing=df['cool'].isnull().sum()\n",
    "numMissing"
   ]
  },
  {
   "cell_type": "markdown",
   "metadata": {},
   "source": [
    "**13.** Fill those missing values with the mean of the column"
   ]
  },
  {
   "cell_type": "code",
   "execution_count": null,
   "metadata": {},
   "outputs": [],
   "source": [
    "df['cool']=df['cool'].fillna(df['cool'].mean())\n",
    "df['cool'].head(10)"
   ]
  },
  {
   "cell_type": "markdown",
   "metadata": {},
   "source": [
    "**14.** Group the data by business name and aggregate by the mean of 'stars' and median of 'useful'"
   ]
  },
  {
   "cell_type": "code",
   "execution_count": null,
   "metadata": {},
   "outputs": [],
   "source": [
    "averageStarsPerBusiness=df.groupby('business_name').agg({'stars':np.mean, 'useful':np.median})\n",
    "averageStarsPerBusiness.head()"
   ]
  },
  {
   "cell_type": "markdown",
   "metadata": {},
   "source": [
    "**15.** Using the date column, group by month and find the mean number of stars each month"
   ]
  },
  {
   "cell_type": "code",
   "execution_count": null,
   "metadata": {},
   "outputs": [],
   "source": [
    "df['date']=pd.to_datetime(df['date'])\n",
    "monthGroups=df.groupby(pd.Grouper(key='date',freq='M')).agg({'stars':np.mean})\n",
    "monthGroups.tail()"
   ]
  },
  {
   "cell_type": "code",
   "execution_count": null,
   "metadata": {},
   "outputs": [],
   "source": [
    "df['business_categories'].head()"
   ]
  },
  {
   "cell_type": "markdown",
   "metadata": {},
   "source": [
    "**16.** Note that the business_categories column can have multiple values, separated by semi-colons.  Separate these values into distinct columns."
   ]
  },
  {
   "cell_type": "code",
   "execution_count": null,
   "metadata": {},
   "outputs": [],
   "source": [
    "businessCategories=df['business_categories'].str.split(';',expand=True)\n",
    "businessCategories.head()"
   ]
  },
  {
   "cell_type": "markdown",
   "metadata": {},
   "source": [
    "**17.** Add the business_name column from the main dataframe to the businessCategories dataframe"
   ]
  },
  {
   "cell_type": "code",
   "execution_count": null,
   "metadata": {},
   "outputs": [],
   "source": [
    "businessCategories['business_name']=df['business_name']\n",
    "businessCategories.head()"
   ]
  },
  {
   "cell_type": "markdown",
   "metadata": {},
   "source": [
    "**18.** Reshape the businessCategories data frame so that there is one row per category.  Your result will have a single column for category (instead of 10) as well as a column for business_name"
   ]
  },
  {
   "cell_type": "code",
   "execution_count": null,
   "metadata": {},
   "outputs": [],
   "source": [
    "reshaped=businessCategories.melt(id_vars=['business_name'])\n",
    "reshaped.head()"
   ]
  },
  {
   "cell_type": "markdown",
   "metadata": {},
   "source": [
    "**19.** How many businesses of each business category are there (same structure as #10)"
   ]
  },
  {
   "cell_type": "code",
   "execution_count": null,
   "metadata": {},
   "outputs": [],
   "source": [
    "categoryCounts=reshaped['value'].str.strip().value_counts()\n",
    "categoryCounts.head()"
   ]
  },
  {
   "cell_type": "markdown",
   "metadata": {},
   "source": [
    "**20.** Extract all words preceded by hashtags from the text column.  Do **not** extract numbers preceded by hashtags"
   ]
  },
  {
   "cell_type": "code",
   "execution_count": null,
   "metadata": {},
   "outputs": [],
   "source": [
    "matches=df['text'].str.extractall('#([a-zA-Z]*)')\n",
    "matches.head()"
   ]
  },
  {
   "cell_type": "markdown",
   "metadata": {},
   "source": [
    "**21.** Remove rows with no hashtags from your 'matches' data"
   ]
  },
  {
   "cell_type": "code",
   "execution_count": null,
   "metadata": {},
   "outputs": [],
   "source": [
    "matches=matches[matches[0].notnull()]\n",
    "matches.head()"
   ]
  },
  {
   "cell_type": "markdown",
   "metadata": {},
   "source": [
    "**22.** How many instances of each hashtag are there (same structure as #10)"
   ]
  },
  {
   "cell_type": "code",
   "execution_count": null,
   "metadata": {},
   "outputs": [],
   "source": [
    "hashtagCounts=matches[0].value_counts()\n",
    "hashtagCounts.head()"
   ]
  },
  {
   "cell_type": "markdown",
   "metadata": {},
   "source": [
    "### If you have time"
   ]
  },
  {
   "cell_type": "markdown",
   "metadata": {},
   "source": [
    "Follow the principles in the last module to continue cleaning and performing basic analysis on the data. Directions include:\n",
    "- Splitting the business_full_address column into separate columns for street, city, state, and zip\n",
    "- Renaming the first and anyother innapporiately named columns\n",
    "- Remove any columns where 100% of the data is missing\n",
    "- Check for and remove duplicates\n",
    "- Look for trends in rating over time\n",
    "- Identify most prolific reviewers\n",
    "- Identify harshest reviewers with a substantial number of reviews\n",
    "- Identify cities with strong/weak restaurants of certain cuisines"
   ]
  },
  {
   "cell_type": "code",
   "execution_count": null,
   "metadata": {},
   "outputs": [],
   "source": []
  }
 ],
 "metadata": {
  "kernelspec": {
   "display_name": "Python 3",
   "language": "python",
   "name": "python3"
  },
  "language_info": {
   "codemirror_mode": {
    "name": "ipython",
    "version": 3
   },
   "file_extension": ".py",
   "mimetype": "text/x-python",
   "name": "python",
   "nbconvert_exporter": "python",
   "pygments_lexer": "ipython3",
   "version": "3.7.6"
  }
 },
 "nbformat": 4,
 "nbformat_minor": 2
}
