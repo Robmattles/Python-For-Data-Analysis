{
 "cells": [
  {
   "cell_type": "markdown",
   "metadata": {},
   "source": [
    "# Module 8: Dates and Times"
   ]
  },
  {
   "cell_type": "markdown",
   "metadata": {},
   "source": [
    "### Prelude\n",
    "Import numpy and pandas"
   ]
  },
  {
   "cell_type": "code",
   "execution_count": 8,
   "metadata": {},
   "outputs": [],
   "source": [
    "import pandas as pd\n",
    "import numpy as np"
   ]
  },
  {
   "cell_type": "markdown",
   "metadata": {},
   "source": [
    "Read in the file whiteCollar.csv from the course materials"
   ]
  },
  {
   "cell_type": "code",
   "execution_count": 14,
   "metadata": {},
   "outputs": [
    {
     "data": {
      "text/html": [
       "<div>\n",
       "<style scoped>\n",
       "    .dataframe tbody tr th:only-of-type {\n",
       "        vertical-align: middle;\n",
       "    }\n",
       "\n",
       "    .dataframe tbody tr th {\n",
       "        vertical-align: top;\n",
       "    }\n",
       "\n",
       "    .dataframe thead th {\n",
       "        text-align: right;\n",
       "    }\n",
       "</style>\n",
       "<table border=\"1\" class=\"dataframe\">\n",
       "  <thead>\n",
       "    <tr style=\"text-align: right;\">\n",
       "      <th></th>\n",
       "      <th>Crime Type</th>\n",
       "      <th>Date of Initial Criminal Activity</th>\n",
       "      <th>Date Charges Filed</th>\n",
       "      <th>Dollars Involved</th>\n",
       "    </tr>\n",
       "  </thead>\n",
       "  <tbody>\n",
       "    <tr>\n",
       "      <th>0</th>\n",
       "      <td>Securities Fraud</td>\n",
       "      <td>7/1/10 17:37</td>\n",
       "      <td>5/9/12 16:10</td>\n",
       "      <td>6797221</td>\n",
       "    </tr>\n",
       "    <tr>\n",
       "      <th>1</th>\n",
       "      <td>Ponzi Scheme</td>\n",
       "      <td>6/23/08 2:58</td>\n",
       "      <td>5/12/11 17:09</td>\n",
       "      <td>5595577</td>\n",
       "    </tr>\n",
       "    <tr>\n",
       "      <th>2</th>\n",
       "      <td>Insider Trading</td>\n",
       "      <td>12/8/13 6:39</td>\n",
       "      <td>11/15/17 11:03</td>\n",
       "      <td>3824915</td>\n",
       "    </tr>\n",
       "    <tr>\n",
       "      <th>3</th>\n",
       "      <td>Ponzi Scheme</td>\n",
       "      <td>7/9/14 15:57</td>\n",
       "      <td>1/23/17 17:43</td>\n",
       "      <td>7205045</td>\n",
       "    </tr>\n",
       "    <tr>\n",
       "      <th>4</th>\n",
       "      <td>Embezzlement</td>\n",
       "      <td>12/17/09 2:39</td>\n",
       "      <td>6/3/14 1:37</td>\n",
       "      <td>6447170</td>\n",
       "    </tr>\n",
       "  </tbody>\n",
       "</table>\n",
       "</div>"
      ],
      "text/plain": [
       "         Crime Type Date of Initial Criminal Activity Date Charges Filed  \\\n",
       "0  Securities Fraud                      7/1/10 17:37       5/9/12 16:10   \n",
       "1      Ponzi Scheme                      6/23/08 2:58      5/12/11 17:09   \n",
       "2   Insider Trading                      12/8/13 6:39     11/15/17 11:03   \n",
       "3      Ponzi Scheme                      7/9/14 15:57      1/23/17 17:43   \n",
       "4      Embezzlement                     12/17/09 2:39        6/3/14 1:37   \n",
       "\n",
       "   Dollars Involved  \n",
       "0           6797221  \n",
       "1           5595577  \n",
       "2           3824915  \n",
       "3           7205045  \n",
       "4           6447170  "
      ]
     },
     "execution_count": 14,
     "metadata": {},
     "output_type": "execute_result"
    }
   ],
   "source": [
    "df=pd.read_csv(r'C:\\Users\\mwbarr\\OneDrive - Federal Bureau of Investigation\\Python_for_Data_Analysis\\Python for Data Analysis\\whitecollar.csv')\n",
    "df.head()"
   ]
  },
  {
   "cell_type": "markdown",
   "metadata": {},
   "source": [
    "### Part 1 Date Formatting and Timedeltas"
   ]
  },
  {
   "cell_type": "code",
   "execution_count": 10,
   "metadata": {},
   "outputs": [
    {
     "name": "stdout",
     "output_type": "stream",
     "text": [
      "<class 'pandas.core.frame.DataFrame'>\n",
      "RangeIndex: 9999 entries, 0 to 9998\n",
      "Data columns (total 4 columns):\n",
      "Crime Type                           9999 non-null object\n",
      "Date of Initial Criminal Activity    9999 non-null object\n",
      "Date Charges Filed                   9999 non-null object\n",
      "Dollars Involved                     9999 non-null int64\n",
      "dtypes: int64(1), object(3)\n",
      "memory usage: 312.5+ KB\n"
     ]
    }
   ],
   "source": [
    "df.info()"
   ]
  },
  {
   "cell_type": "markdown",
   "metadata": {},
   "source": [
    "**1a** Note that the date fields are objects, not dates.  Convert both date columns to dates"
   ]
  },
  {
   "cell_type": "code",
   "execution_count": 15,
   "metadata": {},
   "outputs": [
    {
     "name": "stdout",
     "output_type": "stream",
     "text": [
      "<class 'pandas.core.frame.DataFrame'>\n",
      "RangeIndex: 9999 entries, 0 to 9998\n",
      "Data columns (total 4 columns):\n",
      "Crime Type                           9999 non-null object\n",
      "Date of Initial Criminal Activity    9999 non-null datetime64[ns]\n",
      "Date Charges Filed                   9999 non-null datetime64[ns]\n",
      "Dollars Involved                     9999 non-null int64\n",
      "dtypes: datetime64[ns](2), int64(1), object(1)\n",
      "memory usage: 312.5+ KB\n"
     ]
    }
   ],
   "source": [
    "df['Date of Initial Criminal Activity']=pd.to_datetime(df['Date of Initial Criminal Activity'])\n",
    "df['Date Charges Filed']=pd.to_datetime(df['Date Charges Filed'])\n",
    "df.info()"
   ]
  },
  {
   "cell_type": "markdown",
   "metadata": {},
   "source": [
    "**1b** Create a column called crimeLength that will hold the difference between the date charges were filed and the date of initial criminal activity"
   ]
  },
  {
   "cell_type": "code",
   "execution_count": 17,
   "metadata": {},
   "outputs": [
    {
     "data": {
      "text/plain": [
       "0    677 days 22:33:00\n",
       "1   1053 days 14:11:00\n",
       "2   1438 days 04:24:00\n",
       "3    929 days 01:46:00\n",
       "4   1628 days 22:58:00\n",
       "Name: crimeLength, dtype: timedelta64[ns]"
      ]
     },
     "execution_count": 17,
     "metadata": {},
     "output_type": "execute_result"
    }
   ],
   "source": [
    "df['crimeLength']=df['Date Charges Filed']-df['Date of Initial Criminal Activity']\n",
    "df['crimeLength'].head()"
   ]
  },
  {
   "cell_type": "markdown",
   "metadata": {},
   "source": [
    "**1c** Find all rows with crimeLength greater than 1000 days"
   ]
  },
  {
   "cell_type": "code",
   "execution_count": 23,
   "metadata": {},
   "outputs": [
    {
     "name": "stdout",
     "output_type": "stream",
     "text": [
      "        Crime Type Date of Initial Criminal Activity  Date Charges Filed  \\\n",
      "1     Ponzi Scheme               2008-06-23 02:58:00 2011-05-12 17:09:00   \n",
      "2  Insider Trading               2013-12-08 06:39:00 2017-11-15 11:03:00   \n",
      "4     Embezzlement               2009-12-17 02:39:00 2014-06-03 01:37:00   \n",
      "7     Ponzi Scheme               2013-04-12 06:15:00 2016-09-29 07:51:00   \n",
      "8     Embezzlement               2013-01-19 15:52:00 2016-02-15 06:32:00   \n",
      "\n",
      "   Dollars Involved        crimeLength  \n",
      "1           5595577 1053 days 14:11:00  \n",
      "2           3824915 1438 days 04:24:00  \n",
      "4           6447170 1628 days 22:58:00  \n",
      "7           2069398 1266 days 01:36:00  \n",
      "8           7803675 1121 days 14:40:00  \n"
     ]
    }
   ],
   "source": [
    "longCrime=df[df['crimeLength']>=pd.Timedelta(unit='D',value=1000)]\n",
    "print(longCrime.head())"
   ]
  },
  {
   "cell_type": "markdown",
   "metadata": {},
   "source": [
    "**1d** Find the row with the longest crimeLength"
   ]
  },
  {
   "cell_type": "code",
   "execution_count": 28,
   "metadata": {},
   "outputs": [
    {
     "name": "stdout",
     "output_type": "stream",
     "text": [
      "Crime Type                               Insider Trading\n",
      "Date of Initial Criminal Activity    2012-12-10 03:15:00\n",
      "Date Charges Filed                   2018-06-02 15:48:00\n",
      "Dollars Involved                                 9872089\n",
      "crimeLength                           2000 days 12:33:00\n",
      "Name: 599, dtype: object\n"
     ]
    }
   ],
   "source": [
    "longestCrime=df.sort_values(by='crimeLength',ascending=False).iloc[0]\n",
    "print(longestCrime)"
   ]
  },
  {
   "cell_type": "markdown",
   "metadata": {},
   "source": [
    "**1e** Create a new column called lengthInSeconds that contains crimeLength converted to an float number of seconds"
   ]
  },
  {
   "cell_type": "code",
   "execution_count": 32,
   "metadata": {},
   "outputs": [
    {
     "name": "stdout",
     "output_type": "stream",
     "text": [
      "0     58573980.0\n",
      "1     91030260.0\n",
      "2    124259040.0\n",
      "3     80271960.0\n",
      "4    140741880.0\n",
      "Name: lengthInSeconds, dtype: float64\n"
     ]
    }
   ],
   "source": [
    "df['lengthInSeconds']=df['crimeLength'].dt.total_seconds()\n",
    "print(df['lengthInSeconds'].head())"
   ]
  },
  {
   "cell_type": "markdown",
   "metadata": {},
   "source": [
    "**1f** Convert the Date Charges Filed back to a string in the format 'MM/DD/YYYY'"
   ]
  },
  {
   "cell_type": "code",
   "execution_count": 42,
   "metadata": {},
   "outputs": [
    {
     "name": "stdout",
     "output_type": "stream",
     "text": [
      "0    05/09/2012\n",
      "1    05/12/2011\n",
      "2    11/15/2017\n",
      "3    01/23/2017\n",
      "4    06/03/2014\n",
      "Name: stringDate, dtype: object\n"
     ]
    }
   ],
   "source": [
    "df['stringDate']=df['Date Charges Filed'].dt.strftime('%m/%d/%Y')\n",
    "print(df['stringDate'].head())"
   ]
  },
  {
   "cell_type": "markdown",
   "metadata": {},
   "source": [
    "### Part 2: Grouping and Rounding Time Information"
   ]
  },
  {
   "cell_type": "markdown",
   "metadata": {},
   "source": [
    "**2a** Create a new column called dayCharges that contains the date of charges rounded (down) to the day"
   ]
  },
  {
   "cell_type": "code",
   "execution_count": 47,
   "metadata": {},
   "outputs": [
    {
     "name": "stdout",
     "output_type": "stream",
     "text": [
      "Total number of distinct days: 3804\n"
     ]
    },
    {
     "data": {
      "text/plain": [
       "0   2012-05-09\n",
       "1   2011-05-12\n",
       "2   2017-11-15\n",
       "3   2017-01-23\n",
       "4   2014-06-03\n",
       "Name: dayCharges, dtype: datetime64[ns]"
      ]
     },
     "execution_count": 47,
     "metadata": {},
     "output_type": "execute_result"
    }
   ],
   "source": [
    "df['dayCharges']=df['Date Charges Filed'].dt.floor(freq='d')\n",
    "print('Total number of distinct days:', df['dayCharges'].nunique())\n",
    "df['dayCharges'].head()"
   ]
  },
  {
   "cell_type": "markdown",
   "metadata": {},
   "source": [
    "**2b** Use a time grouping (instead of your dayCharges column) to group the data by month charges were filed"
   ]
  },
  {
   "cell_type": "code",
   "execution_count": 53,
   "metadata": {},
   "outputs": [
    {
     "data": {
      "text/plain": [
       "<pandas.core.groupby.generic.DataFrameGroupBy object at 0x000000000A7BCEF0>"
      ]
     },
     "execution_count": 53,
     "metadata": {},
     "output_type": "execute_result"
    }
   ],
   "source": [
    "groupedByMonth=df.groupby(pd.Grouper(key='Date Charges Filed',freq='M'))\n",
    "groupedByMonth"
   ]
  },
  {
   "cell_type": "markdown",
   "metadata": {},
   "source": [
    "**2c** Use your groupedByMonth object to aggegate the total dollars involved using the sum function"
   ]
  },
  {
   "cell_type": "code",
   "execution_count": 55,
   "metadata": {},
   "outputs": [
    {
     "data": {
      "text/html": [
       "<div>\n",
       "<style scoped>\n",
       "    .dataframe tbody tr th:only-of-type {\n",
       "        vertical-align: middle;\n",
       "    }\n",
       "\n",
       "    .dataframe tbody tr th {\n",
       "        vertical-align: top;\n",
       "    }\n",
       "\n",
       "    .dataframe thead th {\n",
       "        text-align: right;\n",
       "    }\n",
       "</style>\n",
       "<table border=\"1\" class=\"dataframe\">\n",
       "  <thead>\n",
       "    <tr style=\"text-align: right;\">\n",
       "      <th></th>\n",
       "      <th>Dollars Involved</th>\n",
       "    </tr>\n",
       "    <tr>\n",
       "      <th>Date Charges Filed</th>\n",
       "      <th></th>\n",
       "    </tr>\n",
       "  </thead>\n",
       "  <tbody>\n",
       "    <tr>\n",
       "      <th>2006-12-31</th>\n",
       "      <td>30671618</td>\n",
       "    </tr>\n",
       "    <tr>\n",
       "      <th>2007-01-31</th>\n",
       "      <td>63895742</td>\n",
       "    </tr>\n",
       "    <tr>\n",
       "      <th>2007-02-28</th>\n",
       "      <td>31100156</td>\n",
       "    </tr>\n",
       "    <tr>\n",
       "      <th>2007-03-31</th>\n",
       "      <td>53491660</td>\n",
       "    </tr>\n",
       "    <tr>\n",
       "      <th>2007-04-30</th>\n",
       "      <td>42587083</td>\n",
       "    </tr>\n",
       "  </tbody>\n",
       "</table>\n",
       "</div>"
      ],
      "text/plain": [
       "                    Dollars Involved\n",
       "Date Charges Filed                  \n",
       "2006-12-31                  30671618\n",
       "2007-01-31                  63895742\n",
       "2007-02-28                  31100156\n",
       "2007-03-31                  53491660\n",
       "2007-04-30                  42587083"
      ]
     },
     "execution_count": 55,
     "metadata": {},
     "output_type": "execute_result"
    }
   ],
   "source": [
    "dollarsPerMonth=groupedByMonth.agg({'Dollars Involved':sum})\n",
    "dollarsPerMonth.head()"
   ]
  },
  {
   "cell_type": "markdown",
   "metadata": {},
   "source": [
    "**2d** Create a simple line plot of dollarsPerMonth"
   ]
  },
  {
   "cell_type": "code",
   "execution_count": 58,
   "metadata": {},
   "outputs": [
    {
     "data": {
      "text/plain": [
       "<matplotlib.axes._subplots.AxesSubplot at 0xd42f518>"
      ]
     },
     "execution_count": 58,
     "metadata": {},
     "output_type": "execute_result"
    },
    {
     "data": {
      "image/png": "[encoded data removed]",
      "text/plain": [
       "<Figure size 432x288 with 1 Axes>"
      ]
     },
     "metadata": {
      "needs_background": "light"
     },
     "output_type": "display_data"
    }
   ],
   "source": [
    "%matplotlib inline\n",
    "dollarsPerMonth.plot.line()"
   ]
  },
  {
   "cell_type": "markdown",
   "metadata": {},
   "source": [
    "**2f** Group the data by month AND crime type"
   ]
  },
  {
   "cell_type": "code",
   "execution_count": 59,
   "metadata": {},
   "outputs": [
    {
     "data": {
      "text/plain": [
       "<pandas.core.groupby.generic.DataFrameGroupBy object at 0x000000000D49F940>"
      ]
     },
     "execution_count": 59,
     "metadata": {},
     "output_type": "execute_result"
    }
   ],
   "source": [
    "monthAndType=df.groupby([pd.Grouper(freq='m',key='Date Charges Filed'), 'Crime Type'])\n",
    "monthAndType"
   ]
  },
  {
   "cell_type": "markdown",
   "metadata": {},
   "source": [
    "**2g** Aggregate the the dollars involved with the sum function (same as above, except with new grouping"
   ]
  },
  {
   "cell_type": "code",
   "execution_count": 62,
   "metadata": {},
   "outputs": [
    {
     "data": {
      "text/html": [
       "<div>\n",
       "<style scoped>\n",
       "    .dataframe tbody tr th:only-of-type {\n",
       "        vertical-align: middle;\n",
       "    }\n",
       "\n",
       "    .dataframe tbody tr th {\n",
       "        vertical-align: top;\n",
       "    }\n",
       "\n",
       "    .dataframe thead th {\n",
       "        text-align: right;\n",
       "    }\n",
       "</style>\n",
       "<table border=\"1\" class=\"dataframe\">\n",
       "  <thead>\n",
       "    <tr style=\"text-align: right;\">\n",
       "      <th></th>\n",
       "      <th></th>\n",
       "      <th>Dollars Involved</th>\n",
       "    </tr>\n",
       "    <tr>\n",
       "      <th>Date Charges Filed</th>\n",
       "      <th>Crime Type</th>\n",
       "      <th></th>\n",
       "    </tr>\n",
       "  </thead>\n",
       "  <tbody>\n",
       "    <tr>\n",
       "      <th rowspan=\"3\" valign=\"top\">2006-12-31</th>\n",
       "      <th>Insider Trading</th>\n",
       "      <td>14055171</td>\n",
       "    </tr>\n",
       "    <tr>\n",
       "      <th>Ponzi Scheme</th>\n",
       "      <td>14189884</td>\n",
       "    </tr>\n",
       "    <tr>\n",
       "      <th>Securities Fraud</th>\n",
       "      <td>2426563</td>\n",
       "    </tr>\n",
       "    <tr>\n",
       "      <th rowspan=\"2\" valign=\"top\">2007-01-31</th>\n",
       "      <th>Embezzlement</th>\n",
       "      <td>9749677</td>\n",
       "    </tr>\n",
       "    <tr>\n",
       "      <th>Insider Trading</th>\n",
       "      <td>15388256</td>\n",
       "    </tr>\n",
       "  </tbody>\n",
       "</table>\n",
       "</div>"
      ],
      "text/plain": [
       "                                     Dollars Involved\n",
       "Date Charges Filed Crime Type                        \n",
       "2006-12-31         Insider Trading           14055171\n",
       "                   Ponzi Scheme              14189884\n",
       "                   Securities Fraud           2426563\n",
       "2007-01-31         Embezzlement               9749677\n",
       "                   Insider Trading           15388256"
      ]
     },
     "execution_count": 62,
     "metadata": {},
     "output_type": "execute_result"
    }
   ],
   "source": [
    "dollarsMonthAndType=monthAndType.agg({'Dollars Involved':sum})\n",
    "dollarsMonthAndType.head()"
   ]
  },
  {
   "cell_type": "markdown",
   "metadata": {},
   "source": [
    "### If you have time"
   ]
  },
  {
   "cell_type": "markdown",
   "metadata": {},
   "source": [
    "Convert the dollarsMonthAndType to dataframe with columns for each crime type"
   ]
  },
  {
   "cell_type": "code",
   "execution_count": 67,
   "metadata": {},
   "outputs": [
    {
     "data": {
      "text/html": [
       "<div>\n",
       "<style scoped>\n",
       "    .dataframe tbody tr th:only-of-type {\n",
       "        vertical-align: middle;\n",
       "    }\n",
       "\n",
       "    .dataframe tbody tr th {\n",
       "        vertical-align: top;\n",
       "    }\n",
       "\n",
       "    .dataframe thead tr th {\n",
       "        text-align: left;\n",
       "    }\n",
       "\n",
       "    .dataframe thead tr:last-of-type th {\n",
       "        text-align: right;\n",
       "    }\n",
       "</style>\n",
       "<table border=\"1\" class=\"dataframe\">\n",
       "  <thead>\n",
       "    <tr>\n",
       "      <th></th>\n",
       "      <th colspan=\"4\" halign=\"left\">Dollars Involved</th>\n",
       "    </tr>\n",
       "    <tr>\n",
       "      <th>Crime Type</th>\n",
       "      <th>Embezzlement</th>\n",
       "      <th>Insider Trading</th>\n",
       "      <th>Ponzi Scheme</th>\n",
       "      <th>Securities Fraud</th>\n",
       "    </tr>\n",
       "    <tr>\n",
       "      <th>Date Charges Filed</th>\n",
       "      <th></th>\n",
       "      <th></th>\n",
       "      <th></th>\n",
       "      <th></th>\n",
       "    </tr>\n",
       "  </thead>\n",
       "  <tbody>\n",
       "    <tr>\n",
       "      <th>2006-12-31</th>\n",
       "      <td>NaN</td>\n",
       "      <td>14055171.0</td>\n",
       "      <td>14189884.0</td>\n",
       "      <td>2426563.0</td>\n",
       "    </tr>\n",
       "    <tr>\n",
       "      <th>2007-01-31</th>\n",
       "      <td>9749677.0</td>\n",
       "      <td>15388256.0</td>\n",
       "      <td>6631518.0</td>\n",
       "      <td>32126291.0</td>\n",
       "    </tr>\n",
       "    <tr>\n",
       "      <th>2007-02-28</th>\n",
       "      <td>13077645.0</td>\n",
       "      <td>7798542.0</td>\n",
       "      <td>10223969.0</td>\n",
       "      <td>NaN</td>\n",
       "    </tr>\n",
       "    <tr>\n",
       "      <th>2007-03-31</th>\n",
       "      <td>23434213.0</td>\n",
       "      <td>3473452.0</td>\n",
       "      <td>10502759.0</td>\n",
       "      <td>16081236.0</td>\n",
       "    </tr>\n",
       "    <tr>\n",
       "      <th>2007-04-30</th>\n",
       "      <td>10112252.0</td>\n",
       "      <td>7851334.0</td>\n",
       "      <td>19167991.0</td>\n",
       "      <td>5455506.0</td>\n",
       "    </tr>\n",
       "  </tbody>\n",
       "</table>\n",
       "</div>"
      ],
      "text/plain": [
       "                   Dollars Involved                               \\\n",
       "Crime Type             Embezzlement Insider Trading Ponzi Scheme   \n",
       "Date Charges Filed                                                 \n",
       "2006-12-31                      NaN      14055171.0   14189884.0   \n",
       "2007-01-31                9749677.0      15388256.0    6631518.0   \n",
       "2007-02-28               13077645.0       7798542.0   10223969.0   \n",
       "2007-03-31               23434213.0       3473452.0   10502759.0   \n",
       "2007-04-30               10112252.0       7851334.0   19167991.0   \n",
       "\n",
       "                                     \n",
       "Crime Type         Securities Fraud  \n",
       "Date Charges Filed                   \n",
       "2006-12-31                2426563.0  \n",
       "2007-01-31               32126291.0  \n",
       "2007-02-28                      NaN  \n",
       "2007-03-31               16081236.0  \n",
       "2007-04-30                5455506.0  "
      ]
     },
     "execution_count": 67,
     "metadata": {},
     "output_type": "execute_result"
    }
   ],
   "source": [
    "groupedDataframe=dollarsMonthAndType.unstack()\n",
    "groupedDataframe.head()"
   ]
  },
  {
   "cell_type": "markdown",
   "metadata": {},
   "source": [
    "Create a line plot with lines for each crime type"
   ]
  },
  {
   "cell_type": "code",
   "execution_count": 68,
   "metadata": {},
   "outputs": [
    {
     "data": {
      "text/plain": [
       "<matplotlib.axes._subplots.AxesSubplot at 0xd4d3438>"
      ]
     },
     "execution_count": 68,
     "metadata": {},
     "output_type": "execute_result"
    },
    {
     "data": {
      "image/png": "[encoded data removed]",
      "text/plain": [
       "<Figure size 432x288 with 1 Axes>"
      ]
     },
     "metadata": {
      "needs_background": "light"
     },
     "output_type": "display_data"
    }
   ],
   "source": [
    "groupedDataframe.plot.line()"
   ]
  }
 ],
 "metadata": {
  "kernelspec": {
   "display_name": "Python 3",
   "language": "python",
   "name": "python3"
  },
  "language_info": {
   "codemirror_mode": {
    "name": "ipython",
    "version": 3
   },
   "file_extension": ".py",
   "mimetype": "text/x-python",
   "name": "python",
   "nbconvert_exporter": "python",
   "pygments_lexer": "ipython3",
   "version": "3.7.6"
  }
 },
 "nbformat": 4,
 "nbformat_minor": 2
}
