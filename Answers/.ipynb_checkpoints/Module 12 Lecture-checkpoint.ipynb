{
 "cells": [
  {
   "cell_type": "markdown",
   "metadata": {},
   "source": [
    "# Module 12: Structuring a Complete Data Processing Notebook"
   ]
  },
  {
   "cell_type": "code",
   "execution_count": 149,
   "metadata": {},
   "outputs": [],
   "source": [
    "import pandas as pd\n",
    "import numpy as np"
   ]
  },
  {
   "cell_type": "markdown",
   "metadata": {},
   "source": [
    "### Load and Perform Basic Cleaning Operations\n",
    "This data comes from an open source repository of tweets of known isis sympathizers, available at data.world"
   ]
  },
  {
   "cell_type": "code",
   "execution_count": 150,
   "metadata": {},
   "outputs": [
    {
     "data": {
      "text/html": [
       "<div>\n",
       "<style scoped>\n",
       "    .dataframe tbody tr th:only-of-type {\n",
       "        vertical-align: middle;\n",
       "    }\n",
       "\n",
       "    .dataframe tbody tr th {\n",
       "        vertical-align: top;\n",
       "    }\n",
       "\n",
       "    .dataframe thead th {\n",
       "        text-align: right;\n",
       "    }\n",
       "</style>\n",
       "<table border=\"1\" class=\"dataframe\">\n",
       "  <thead>\n",
       "    <tr style=\"text-align: right;\">\n",
       "      <th></th>\n",
       "      <th>Unnamed: 0</th>\n",
       "      <th>name</th>\n",
       "      <th>username</th>\n",
       "      <th>description</th>\n",
       "      <th>location</th>\n",
       "      <th>followers</th>\n",
       "      <th>numberstatuses</th>\n",
       "      <th>time</th>\n",
       "      <th>tweets</th>\n",
       "      <th>Hashtag 0</th>\n",
       "      <th>Hashtag 1</th>\n",
       "      <th>Hashtag 2</th>\n",
       "      <th>Hashtag 3</th>\n",
       "      <th>Hashtag 4</th>\n",
       "      <th>Hashtag 5</th>\n",
       "      <th>Hashtag 6</th>\n",
       "    </tr>\n",
       "  </thead>\n",
       "  <tbody>\n",
       "    <tr>\n",
       "      <th>0</th>\n",
       "      <td>0</td>\n",
       "      <td>GunsandCoffee</td>\n",
       "      <td>GunsandCoffee70</td>\n",
       "      <td>ENGLISH TRANSLATIONS: http://t.co/QLdJ0ftews</td>\n",
       "      <td>NaN</td>\n",
       "      <td>640</td>\n",
       "      <td>49</td>\n",
       "      <td>1/6/2015 21:07</td>\n",
       "      <td>ENGLISH TRANSLATION: 'A MESSAGE TO THE TRUTHFU...</td>\n",
       "      <td>NaN</td>\n",
       "      <td>NaN</td>\n",
       "      <td>NaN</td>\n",
       "      <td>NaN</td>\n",
       "      <td>NaN</td>\n",
       "      <td>NaN</td>\n",
       "      <td>NaN</td>\n",
       "    </tr>\n",
       "    <tr>\n",
       "      <th>1</th>\n",
       "      <td>1</td>\n",
       "      <td>GunsandCoffee</td>\n",
       "      <td>GunsandCoffee70</td>\n",
       "      <td>ENGLISH TRANSLATIONS: http://t.co/QLdJ0ftews</td>\n",
       "      <td>NaN</td>\n",
       "      <td>640</td>\n",
       "      <td>49</td>\n",
       "      <td>1/6/2015 21:27</td>\n",
       "      <td>ENGLISH TRANSLATION: SHEIKH FATIH AL JAWLANI '...</td>\n",
       "      <td>NaN</td>\n",
       "      <td>NaN</td>\n",
       "      <td>NaN</td>\n",
       "      <td>NaN</td>\n",
       "      <td>NaN</td>\n",
       "      <td>NaN</td>\n",
       "      <td>NaN</td>\n",
       "    </tr>\n",
       "    <tr>\n",
       "      <th>2</th>\n",
       "      <td>2</td>\n",
       "      <td>GunsandCoffee</td>\n",
       "      <td>GunsandCoffee70</td>\n",
       "      <td>ENGLISH TRANSLATIONS: http://t.co/QLdJ0ftews</td>\n",
       "      <td>NaN</td>\n",
       "      <td>640</td>\n",
       "      <td>49</td>\n",
       "      <td>1/6/2015 21:29</td>\n",
       "      <td>ENGLISH TRANSLATION: FIRST AUDIO MEETING WITH ...</td>\n",
       "      <td>NaN</td>\n",
       "      <td>NaN</td>\n",
       "      <td>NaN</td>\n",
       "      <td>NaN</td>\n",
       "      <td>NaN</td>\n",
       "      <td>NaN</td>\n",
       "      <td>NaN</td>\n",
       "    </tr>\n",
       "    <tr>\n",
       "      <th>3</th>\n",
       "      <td>3</td>\n",
       "      <td>GunsandCoffee</td>\n",
       "      <td>GunsandCoffee70</td>\n",
       "      <td>ENGLISH TRANSLATIONS: http://t.co/QLdJ0ftews</td>\n",
       "      <td>NaN</td>\n",
       "      <td>640</td>\n",
       "      <td>49</td>\n",
       "      <td>1/6/2015 21:37</td>\n",
       "      <td>ENGLISH TRANSLATION: SHEIKH NASIR AL WUHAYSHI ...</td>\n",
       "      <td>NaN</td>\n",
       "      <td>NaN</td>\n",
       "      <td>NaN</td>\n",
       "      <td>NaN</td>\n",
       "      <td>NaN</td>\n",
       "      <td>NaN</td>\n",
       "      <td>NaN</td>\n",
       "    </tr>\n",
       "    <tr>\n",
       "      <th>4</th>\n",
       "      <td>4</td>\n",
       "      <td>GunsandCoffee</td>\n",
       "      <td>GunsandCoffee70</td>\n",
       "      <td>ENGLISH TRANSLATIONS: http://t.co/QLdJ0ftews</td>\n",
       "      <td>NaN</td>\n",
       "      <td>640</td>\n",
       "      <td>49</td>\n",
       "      <td>1/6/2015 21:45</td>\n",
       "      <td>ENGLISH TRANSLATION: AQAP: 'RESPONSE TO SHEIKH...</td>\n",
       "      <td>NaN</td>\n",
       "      <td>NaN</td>\n",
       "      <td>NaN</td>\n",
       "      <td>NaN</td>\n",
       "      <td>NaN</td>\n",
       "      <td>NaN</td>\n",
       "      <td>NaN</td>\n",
       "    </tr>\n",
       "  </tbody>\n",
       "</table>\n",
       "</div>"
      ],
      "text/plain": [
       "   Unnamed: 0           name         username  \\\n",
       "0           0  GunsandCoffee  GunsandCoffee70   \n",
       "1           1  GunsandCoffee  GunsandCoffee70   \n",
       "2           2  GunsandCoffee  GunsandCoffee70   \n",
       "3           3  GunsandCoffee  GunsandCoffee70   \n",
       "4           4  GunsandCoffee  GunsandCoffee70   \n",
       "\n",
       "                                    description location  followers  \\\n",
       "0  ENGLISH TRANSLATIONS: http://t.co/QLdJ0ftews      NaN        640   \n",
       "1  ENGLISH TRANSLATIONS: http://t.co/QLdJ0ftews      NaN        640   \n",
       "2  ENGLISH TRANSLATIONS: http://t.co/QLdJ0ftews      NaN        640   \n",
       "3  ENGLISH TRANSLATIONS: http://t.co/QLdJ0ftews      NaN        640   \n",
       "4  ENGLISH TRANSLATIONS: http://t.co/QLdJ0ftews      NaN        640   \n",
       "\n",
       "   numberstatuses            time  \\\n",
       "0              49  1/6/2015 21:07   \n",
       "1              49  1/6/2015 21:27   \n",
       "2              49  1/6/2015 21:29   \n",
       "3              49  1/6/2015 21:37   \n",
       "4              49  1/6/2015 21:45   \n",
       "\n",
       "                                              tweets Hashtag 0 Hashtag 1  \\\n",
       "0  ENGLISH TRANSLATION: 'A MESSAGE TO THE TRUTHFU...       NaN       NaN   \n",
       "1  ENGLISH TRANSLATION: SHEIKH FATIH AL JAWLANI '...       NaN       NaN   \n",
       "2  ENGLISH TRANSLATION: FIRST AUDIO MEETING WITH ...       NaN       NaN   \n",
       "3  ENGLISH TRANSLATION: SHEIKH NASIR AL WUHAYSHI ...       NaN       NaN   \n",
       "4  ENGLISH TRANSLATION: AQAP: 'RESPONSE TO SHEIKH...       NaN       NaN   \n",
       "\n",
       "  Hashtag 2 Hashtag 3 Hashtag 4 Hashtag 5 Hashtag 6  \n",
       "0       NaN       NaN       NaN       NaN       NaN  \n",
       "1       NaN       NaN       NaN       NaN       NaN  \n",
       "2       NaN       NaN       NaN       NaN       NaN  \n",
       "3       NaN       NaN       NaN       NaN       NaN  \n",
       "4       NaN       NaN       NaN       NaN       NaN  "
      ]
     },
     "execution_count": 150,
     "metadata": {},
     "output_type": "execute_result"
    }
   ],
   "source": [
    "isisTweets=pd.read_csv(r'C:\\Users\\mwbarr\\OneDrive - Federal Bureau of Investigation\\Python_for_Data_Analysis\\Data Files\\isistweetsenhanced.csv')\n",
    "isisTweets.head()"
   ]
  },
  {
   "cell_type": "code",
   "execution_count": 151,
   "metadata": {},
   "outputs": [
    {
     "name": "stdout",
     "output_type": "stream",
     "text": [
      "<class 'pandas.core.frame.DataFrame'>\n",
      "RangeIndex: 17410 entries, 0 to 17409\n",
      "Data columns (total 16 columns):\n",
      "Unnamed: 0        17410 non-null int64\n",
      "name              17410 non-null object\n",
      "username          17410 non-null object\n",
      "description       14728 non-null object\n",
      "location          11432 non-null object\n",
      "followers         17410 non-null int64\n",
      "numberstatuses    17410 non-null int64\n",
      "time              17410 non-null object\n",
      "tweets            17410 non-null object\n",
      "Hashtag 0         7136 non-null object\n",
      "Hashtag 1         4864 non-null object\n",
      "Hashtag 2         2900 non-null object\n",
      "Hashtag 3         1436 non-null object\n",
      "Hashtag 4         602 non-null object\n",
      "Hashtag 5         252 non-null object\n",
      "Hashtag 6         101 non-null object\n",
      "dtypes: int64(3), object(13)\n",
      "memory usage: 2.1+ MB\n"
     ]
    }
   ],
   "source": [
    "isisTweets.info()"
   ]
  },
  {
   "cell_type": "code",
   "execution_count": 152,
   "metadata": {},
   "outputs": [],
   "source": [
    "##Convert the time column to a date-time\n",
    "isisTweets['time']=pd.to_datetime(isisTweets['time'])"
   ]
  },
  {
   "cell_type": "code",
   "execution_count": 153,
   "metadata": {},
   "outputs": [
    {
     "data": {
      "text/plain": [
       "['Row Number',\n",
       " 'name',\n",
       " 'username',\n",
       " 'description',\n",
       " 'location',\n",
       " 'followers',\n",
       " 'numberstatuses',\n",
       " 'time',\n",
       " 'text',\n",
       " 'Hashtag 0',\n",
       " 'Hashtag 1',\n",
       " 'Hashtag 2',\n",
       " 'Hashtag 3',\n",
       " 'Hashtag 4',\n",
       " 'Hashtag 5',\n",
       " 'Hashtag 6']"
      ]
     },
     "execution_count": 153,
     "metadata": {},
     "output_type": "execute_result"
    }
   ],
   "source": [
    "##Rename several columns for clarity\n",
    "isisTweets=isisTweets.rename(columns={'Unnamed: 0':'Row Number'})\n",
    "isisTweets=isisTweets.rename(columns={'tweets':'text'})\n",
    "list(isisTweets.columns)"
   ]
  },
  {
   "cell_type": "markdown",
   "metadata": {},
   "source": [
    "The followers and numberstatuses columns shouldn't have null values.  If they do, they should be converted to 0."
   ]
  },
  {
   "cell_type": "code",
   "execution_count": 154,
   "metadata": {},
   "outputs": [
    {
     "name": "stdout",
     "output_type": "stream",
     "text": [
      "Proportion of rows with null followers:  0.0\n",
      "Proportion of rows with null numberstatus:  0.0\n"
     ]
    }
   ],
   "source": [
    "print('Proportion of rows with null followers: ',isisTweets['followers'].isnull().mean())\n",
    "print('Proportion of rows with null numberstatus: ',isisTweets['numberstatuses'].isnull().mean())\n"
   ]
  },
  {
   "cell_type": "markdown",
   "metadata": {},
   "source": [
    "To maintain proper one-to-one data structures, the 6 hashtag columns should be reshaped into its own table and removed from the main table.  "
   ]
  },
  {
   "cell_type": "code",
   "execution_count": 155,
   "metadata": {},
   "outputs": [
    {
     "data": {
      "text/html": [
       "<div>\n",
       "<style scoped>\n",
       "    .dataframe tbody tr th:only-of-type {\n",
       "        vertical-align: middle;\n",
       "    }\n",
       "\n",
       "    .dataframe tbody tr th {\n",
       "        vertical-align: top;\n",
       "    }\n",
       "\n",
       "    .dataframe thead th {\n",
       "        text-align: right;\n",
       "    }\n",
       "</style>\n",
       "<table border=\"1\" class=\"dataframe\">\n",
       "  <thead>\n",
       "    <tr style=\"text-align: right;\">\n",
       "      <th></th>\n",
       "      <th>username</th>\n",
       "      <th>text</th>\n",
       "      <th>time</th>\n",
       "      <th>variable</th>\n",
       "      <th>value</th>\n",
       "    </tr>\n",
       "  </thead>\n",
       "  <tbody>\n",
       "    <tr>\n",
       "      <th>21</th>\n",
       "      <td>GunsandCoffee70</td>\n",
       "      <td>NEW links for #JN Video - ENG Subs: The Path o...</td>\n",
       "      <td>2015-02-26 20:36:00</td>\n",
       "      <td>Hashtag 0</td>\n",
       "      <td>JN</td>\n",
       "    </tr>\n",
       "    <tr>\n",
       "      <th>22</th>\n",
       "      <td>GunsandCoffee70</td>\n",
       "      <td>DOWNLOAD #JN Video With English Subtitles: The...</td>\n",
       "      <td>2015-02-26 20:40:00</td>\n",
       "      <td>Hashtag 0</td>\n",
       "      <td>JN</td>\n",
       "    </tr>\n",
       "    <tr>\n",
       "      <th>24</th>\n",
       "      <td>GunsandCoffee70</td>\n",
       "      <td>ENGLISH TRANSLATION: A Pamphlet Released By #J...</td>\n",
       "      <td>2015-03-04 07:31:00</td>\n",
       "      <td>Hashtag 0</td>\n",
       "      <td>JN</td>\n",
       "    </tr>\n",
       "    <tr>\n",
       "      <th>29</th>\n",
       "      <td>AbuLaythAlHindi</td>\n",
       "      <td>‍‌‌‌‌‍‌‌‌🔻‌‌[ الإثنين  1436/9/19 هـ ]‍‌‌‌‌‍‍‍‍...</td>\n",
       "      <td>2015-07-07 06:02:00</td>\n",
       "      <td>Hashtag 0</td>\n",
       "      <td>دولة_الخلافة</td>\n",
       "    </tr>\n",
       "    <tr>\n",
       "      <th>30</th>\n",
       "      <td>AbuLaythAlHindi</td>\n",
       "      <td>#BREAKING #CONFIRMED Islamic State takes contr...</td>\n",
       "      <td>2015-08-17 20:20:00</td>\n",
       "      <td>Hashtag 0</td>\n",
       "      <td>BREAKING</td>\n",
       "    </tr>\n",
       "  </tbody>\n",
       "</table>\n",
       "</div>"
      ],
      "text/plain": [
       "           username                                               text  \\\n",
       "21  GunsandCoffee70  NEW links for #JN Video - ENG Subs: The Path o...   \n",
       "22  GunsandCoffee70  DOWNLOAD #JN Video With English Subtitles: The...   \n",
       "24  GunsandCoffee70  ENGLISH TRANSLATION: A Pamphlet Released By #J...   \n",
       "29  AbuLaythAlHindi  ‍‌‌‌‌‍‌‌‌🔻‌‌[ الإثنين  1436/9/19 هـ ]‍‌‌‌‌‍‍‍‍...   \n",
       "30  AbuLaythAlHindi  #BREAKING #CONFIRMED Islamic State takes contr...   \n",
       "\n",
       "                  time   variable         value  \n",
       "21 2015-02-26 20:36:00  Hashtag 0            JN  \n",
       "22 2015-02-26 20:40:00  Hashtag 0            JN  \n",
       "24 2015-03-04 07:31:00  Hashtag 0            JN  \n",
       "29 2015-07-07 06:02:00  Hashtag 0  دولة_الخلافة  \n",
       "30 2015-08-17 20:20:00  Hashtag 0      BREAKING  "
      ]
     },
     "execution_count": 155,
     "metadata": {},
     "output_type": "execute_result"
    }
   ],
   "source": [
    "hashtags=pd.melt(isisTweets,id_vars=['username','text','time'],value_vars=['Hashtag '+str(x) for x in range(7)])\n",
    "hashtags=hashtags[hashtags['value'].notnull()]\n",
    "hashtags.head()"
   ]
  },
  {
   "cell_type": "code",
   "execution_count": 156,
   "metadata": {},
   "outputs": [
    {
     "data": {
      "text/html": [
       "<div>\n",
       "<style scoped>\n",
       "    .dataframe tbody tr th:only-of-type {\n",
       "        vertical-align: middle;\n",
       "    }\n",
       "\n",
       "    .dataframe tbody tr th {\n",
       "        vertical-align: top;\n",
       "    }\n",
       "\n",
       "    .dataframe thead th {\n",
       "        text-align: right;\n",
       "    }\n",
       "</style>\n",
       "<table border=\"1\" class=\"dataframe\">\n",
       "  <thead>\n",
       "    <tr style=\"text-align: right;\">\n",
       "      <th></th>\n",
       "      <th>Row Number</th>\n",
       "      <th>name</th>\n",
       "      <th>username</th>\n",
       "      <th>description</th>\n",
       "      <th>location</th>\n",
       "      <th>followers</th>\n",
       "      <th>numberstatuses</th>\n",
       "      <th>time</th>\n",
       "      <th>text</th>\n",
       "    </tr>\n",
       "  </thead>\n",
       "  <tbody>\n",
       "    <tr>\n",
       "      <th>0</th>\n",
       "      <td>0</td>\n",
       "      <td>GunsandCoffee</td>\n",
       "      <td>GunsandCoffee70</td>\n",
       "      <td>ENGLISH TRANSLATIONS: http://t.co/QLdJ0ftews</td>\n",
       "      <td>NaN</td>\n",
       "      <td>640</td>\n",
       "      <td>49</td>\n",
       "      <td>2015-01-06 21:07:00</td>\n",
       "      <td>ENGLISH TRANSLATION: 'A MESSAGE TO THE TRUTHFU...</td>\n",
       "    </tr>\n",
       "    <tr>\n",
       "      <th>1</th>\n",
       "      <td>1</td>\n",
       "      <td>GunsandCoffee</td>\n",
       "      <td>GunsandCoffee70</td>\n",
       "      <td>ENGLISH TRANSLATIONS: http://t.co/QLdJ0ftews</td>\n",
       "      <td>NaN</td>\n",
       "      <td>640</td>\n",
       "      <td>49</td>\n",
       "      <td>2015-01-06 21:27:00</td>\n",
       "      <td>ENGLISH TRANSLATION: SHEIKH FATIH AL JAWLANI '...</td>\n",
       "    </tr>\n",
       "    <tr>\n",
       "      <th>2</th>\n",
       "      <td>2</td>\n",
       "      <td>GunsandCoffee</td>\n",
       "      <td>GunsandCoffee70</td>\n",
       "      <td>ENGLISH TRANSLATIONS: http://t.co/QLdJ0ftews</td>\n",
       "      <td>NaN</td>\n",
       "      <td>640</td>\n",
       "      <td>49</td>\n",
       "      <td>2015-01-06 21:29:00</td>\n",
       "      <td>ENGLISH TRANSLATION: FIRST AUDIO MEETING WITH ...</td>\n",
       "    </tr>\n",
       "    <tr>\n",
       "      <th>3</th>\n",
       "      <td>3</td>\n",
       "      <td>GunsandCoffee</td>\n",
       "      <td>GunsandCoffee70</td>\n",
       "      <td>ENGLISH TRANSLATIONS: http://t.co/QLdJ0ftews</td>\n",
       "      <td>NaN</td>\n",
       "      <td>640</td>\n",
       "      <td>49</td>\n",
       "      <td>2015-01-06 21:37:00</td>\n",
       "      <td>ENGLISH TRANSLATION: SHEIKH NASIR AL WUHAYSHI ...</td>\n",
       "    </tr>\n",
       "    <tr>\n",
       "      <th>4</th>\n",
       "      <td>4</td>\n",
       "      <td>GunsandCoffee</td>\n",
       "      <td>GunsandCoffee70</td>\n",
       "      <td>ENGLISH TRANSLATIONS: http://t.co/QLdJ0ftews</td>\n",
       "      <td>NaN</td>\n",
       "      <td>640</td>\n",
       "      <td>49</td>\n",
       "      <td>2015-01-06 21:45:00</td>\n",
       "      <td>ENGLISH TRANSLATION: AQAP: 'RESPONSE TO SHEIKH...</td>\n",
       "    </tr>\n",
       "    <tr>\n",
       "      <th>5</th>\n",
       "      <td>5</td>\n",
       "      <td>GunsandCoffee</td>\n",
       "      <td>GunsandCoffee70</td>\n",
       "      <td>ENGLISH TRANSLATIONS: http://t.co/QLdJ0ftews</td>\n",
       "      <td>NaN</td>\n",
       "      <td>640</td>\n",
       "      <td>49</td>\n",
       "      <td>2015-01-06 21:51:00</td>\n",
       "      <td>THE SECOND CLIP IN A DA'WAH SERIES BY A SOLDIE...</td>\n",
       "    </tr>\n",
       "    <tr>\n",
       "      <th>6</th>\n",
       "      <td>6</td>\n",
       "      <td>GunsandCoffee</td>\n",
       "      <td>GunsandCoffee70</td>\n",
       "      <td>ENGLISH TRANSLATIONS: http://t.co/QLdJ0ftews</td>\n",
       "      <td>NaN</td>\n",
       "      <td>640</td>\n",
       "      <td>49</td>\n",
       "      <td>2015-01-06 22:04:00</td>\n",
       "      <td>ENGLISH TRANSCRIPT : OH MURABIT! : http://t.co...</td>\n",
       "    </tr>\n",
       "    <tr>\n",
       "      <th>7</th>\n",
       "      <td>7</td>\n",
       "      <td>GunsandCoffee</td>\n",
       "      <td>GunsandCoffee70</td>\n",
       "      <td>ENGLISH TRANSLATIONS: http://t.co/QLdJ0ftews</td>\n",
       "      <td>NaN</td>\n",
       "      <td>640</td>\n",
       "      <td>49</td>\n",
       "      <td>2015-01-06 22:06:00</td>\n",
       "      <td>ENGLISH TRANSLATION: 'A COLLECTION OF THE WORD...</td>\n",
       "    </tr>\n",
       "    <tr>\n",
       "      <th>8</th>\n",
       "      <td>8</td>\n",
       "      <td>GunsandCoffee</td>\n",
       "      <td>GunsandCoffee70</td>\n",
       "      <td>ENGLISH TRANSLATIONS: http://t.co/QLdJ0ftews</td>\n",
       "      <td>NaN</td>\n",
       "      <td>640</td>\n",
       "      <td>49</td>\n",
       "      <td>2015-01-06 22:17:00</td>\n",
       "      <td>Aslm Please share our new account after the pr...</td>\n",
       "    </tr>\n",
       "    <tr>\n",
       "      <th>9</th>\n",
       "      <td>9</td>\n",
       "      <td>GunsandCoffee</td>\n",
       "      <td>GunsandCoffee70</td>\n",
       "      <td>ENGLISH TRANSLATIONS: http://t.co/QLdJ0ftews</td>\n",
       "      <td>NaN</td>\n",
       "      <td>640</td>\n",
       "      <td>49</td>\n",
       "      <td>2015-01-10 00:05:00</td>\n",
       "      <td>ENGLISH TRANSLATION: AQAP STATEMENT REGARDING ...</td>\n",
       "    </tr>\n",
       "  </tbody>\n",
       "</table>\n",
       "</div>"
      ],
      "text/plain": [
       "   Row Number           name         username  \\\n",
       "0           0  GunsandCoffee  GunsandCoffee70   \n",
       "1           1  GunsandCoffee  GunsandCoffee70   \n",
       "2           2  GunsandCoffee  GunsandCoffee70   \n",
       "3           3  GunsandCoffee  GunsandCoffee70   \n",
       "4           4  GunsandCoffee  GunsandCoffee70   \n",
       "5           5  GunsandCoffee  GunsandCoffee70   \n",
       "6           6  GunsandCoffee  GunsandCoffee70   \n",
       "7           7  GunsandCoffee  GunsandCoffee70   \n",
       "8           8  GunsandCoffee  GunsandCoffee70   \n",
       "9           9  GunsandCoffee  GunsandCoffee70   \n",
       "\n",
       "                                    description location  followers  \\\n",
       "0  ENGLISH TRANSLATIONS: http://t.co/QLdJ0ftews      NaN        640   \n",
       "1  ENGLISH TRANSLATIONS: http://t.co/QLdJ0ftews      NaN        640   \n",
       "2  ENGLISH TRANSLATIONS: http://t.co/QLdJ0ftews      NaN        640   \n",
       "3  ENGLISH TRANSLATIONS: http://t.co/QLdJ0ftews      NaN        640   \n",
       "4  ENGLISH TRANSLATIONS: http://t.co/QLdJ0ftews      NaN        640   \n",
       "5  ENGLISH TRANSLATIONS: http://t.co/QLdJ0ftews      NaN        640   \n",
       "6  ENGLISH TRANSLATIONS: http://t.co/QLdJ0ftews      NaN        640   \n",
       "7  ENGLISH TRANSLATIONS: http://t.co/QLdJ0ftews      NaN        640   \n",
       "8  ENGLISH TRANSLATIONS: http://t.co/QLdJ0ftews      NaN        640   \n",
       "9  ENGLISH TRANSLATIONS: http://t.co/QLdJ0ftews      NaN        640   \n",
       "\n",
       "   numberstatuses                time  \\\n",
       "0              49 2015-01-06 21:07:00   \n",
       "1              49 2015-01-06 21:27:00   \n",
       "2              49 2015-01-06 21:29:00   \n",
       "3              49 2015-01-06 21:37:00   \n",
       "4              49 2015-01-06 21:45:00   \n",
       "5              49 2015-01-06 21:51:00   \n",
       "6              49 2015-01-06 22:04:00   \n",
       "7              49 2015-01-06 22:06:00   \n",
       "8              49 2015-01-06 22:17:00   \n",
       "9              49 2015-01-10 00:05:00   \n",
       "\n",
       "                                                text  \n",
       "0  ENGLISH TRANSLATION: 'A MESSAGE TO THE TRUTHFU...  \n",
       "1  ENGLISH TRANSLATION: SHEIKH FATIH AL JAWLANI '...  \n",
       "2  ENGLISH TRANSLATION: FIRST AUDIO MEETING WITH ...  \n",
       "3  ENGLISH TRANSLATION: SHEIKH NASIR AL WUHAYSHI ...  \n",
       "4  ENGLISH TRANSLATION: AQAP: 'RESPONSE TO SHEIKH...  \n",
       "5  THE SECOND CLIP IN A DA'WAH SERIES BY A SOLDIE...  \n",
       "6  ENGLISH TRANSCRIPT : OH MURABIT! : http://t.co...  \n",
       "7  ENGLISH TRANSLATION: 'A COLLECTION OF THE WORD...  \n",
       "8  Aslm Please share our new account after the pr...  \n",
       "9  ENGLISH TRANSLATION: AQAP STATEMENT REGARDING ...  "
      ]
     },
     "execution_count": 156,
     "metadata": {},
     "output_type": "execute_result"
    }
   ],
   "source": [
    "isisTweets=isisTweets[[column for column in isisTweets.columns if 'Hashtag' not in column]]\n",
    "isisTweets.head(10)"
   ]
  },
  {
   "cell_type": "markdown",
   "metadata": {},
   "source": [
    "Some of the tweets and descriptions start with the words English Translation(s).  This awkwardly combines the content of the text with an indicator that it has been translated, and could lead to errors in text analytics (i.e. finding long tweets).  It does contain valuable information, so we move it to separate, boolean columns, rather than simply removing"
   ]
  },
  {
   "cell_type": "code",
   "execution_count": 157,
   "metadata": {},
   "outputs": [
    {
     "data": {
      "text/html": [
       "<div>\n",
       "<style scoped>\n",
       "    .dataframe tbody tr th:only-of-type {\n",
       "        vertical-align: middle;\n",
       "    }\n",
       "\n",
       "    .dataframe tbody tr th {\n",
       "        vertical-align: top;\n",
       "    }\n",
       "\n",
       "    .dataframe thead th {\n",
       "        text-align: right;\n",
       "    }\n",
       "</style>\n",
       "<table border=\"1\" class=\"dataframe\">\n",
       "  <thead>\n",
       "    <tr style=\"text-align: right;\">\n",
       "      <th></th>\n",
       "      <th>Row Number</th>\n",
       "      <th>name</th>\n",
       "      <th>username</th>\n",
       "      <th>description</th>\n",
       "      <th>location</th>\n",
       "      <th>followers</th>\n",
       "      <th>numberstatuses</th>\n",
       "      <th>time</th>\n",
       "      <th>text</th>\n",
       "      <th>is text translated</th>\n",
       "      <th>is description translated</th>\n",
       "    </tr>\n",
       "  </thead>\n",
       "  <tbody>\n",
       "    <tr>\n",
       "      <th>0</th>\n",
       "      <td>0</td>\n",
       "      <td>GunsandCoffee</td>\n",
       "      <td>GunsandCoffee70</td>\n",
       "      <td>http://t.co/QLdJ0ftews</td>\n",
       "      <td>NaN</td>\n",
       "      <td>640</td>\n",
       "      <td>49</td>\n",
       "      <td>2015-01-06 21:07:00</td>\n",
       "      <td>'A MESSAGE TO THE TRUTHFUL IN SYRIA - SHEIKH ...</td>\n",
       "      <td>True</td>\n",
       "      <td>True</td>\n",
       "    </tr>\n",
       "    <tr>\n",
       "      <th>1</th>\n",
       "      <td>1</td>\n",
       "      <td>GunsandCoffee</td>\n",
       "      <td>GunsandCoffee70</td>\n",
       "      <td>http://t.co/QLdJ0ftews</td>\n",
       "      <td>NaN</td>\n",
       "      <td>640</td>\n",
       "      <td>49</td>\n",
       "      <td>2015-01-06 21:27:00</td>\n",
       "      <td>SHEIKH FATIH AL JAWLANI 'FOR THE PEOPLE OF IN...</td>\n",
       "      <td>True</td>\n",
       "      <td>True</td>\n",
       "    </tr>\n",
       "    <tr>\n",
       "      <th>2</th>\n",
       "      <td>2</td>\n",
       "      <td>GunsandCoffee</td>\n",
       "      <td>GunsandCoffee70</td>\n",
       "      <td>http://t.co/QLdJ0ftews</td>\n",
       "      <td>NaN</td>\n",
       "      <td>640</td>\n",
       "      <td>49</td>\n",
       "      <td>2015-01-06 21:29:00</td>\n",
       "      <td>FIRST AUDIO MEETING WITH SHEIKH FATIH AL JAWL...</td>\n",
       "      <td>True</td>\n",
       "      <td>True</td>\n",
       "    </tr>\n",
       "    <tr>\n",
       "      <th>3</th>\n",
       "      <td>3</td>\n",
       "      <td>GunsandCoffee</td>\n",
       "      <td>GunsandCoffee70</td>\n",
       "      <td>http://t.co/QLdJ0ftews</td>\n",
       "      <td>NaN</td>\n",
       "      <td>640</td>\n",
       "      <td>49</td>\n",
       "      <td>2015-01-06 21:37:00</td>\n",
       "      <td>SHEIKH NASIR AL WUHAYSHI (HA), LEADER OF AQAP...</td>\n",
       "      <td>True</td>\n",
       "      <td>True</td>\n",
       "    </tr>\n",
       "    <tr>\n",
       "      <th>4</th>\n",
       "      <td>4</td>\n",
       "      <td>GunsandCoffee</td>\n",
       "      <td>GunsandCoffee70</td>\n",
       "      <td>http://t.co/QLdJ0ftews</td>\n",
       "      <td>NaN</td>\n",
       "      <td>640</td>\n",
       "      <td>49</td>\n",
       "      <td>2015-01-06 21:45:00</td>\n",
       "      <td>AQAP: 'RESPONSE TO SHEIKH BAGHDADIS STATEMENT...</td>\n",
       "      <td>True</td>\n",
       "      <td>True</td>\n",
       "    </tr>\n",
       "  </tbody>\n",
       "</table>\n",
       "</div>"
      ],
      "text/plain": [
       "   Row Number           name         username              description  \\\n",
       "0           0  GunsandCoffee  GunsandCoffee70   http://t.co/QLdJ0ftews   \n",
       "1           1  GunsandCoffee  GunsandCoffee70   http://t.co/QLdJ0ftews   \n",
       "2           2  GunsandCoffee  GunsandCoffee70   http://t.co/QLdJ0ftews   \n",
       "3           3  GunsandCoffee  GunsandCoffee70   http://t.co/QLdJ0ftews   \n",
       "4           4  GunsandCoffee  GunsandCoffee70   http://t.co/QLdJ0ftews   \n",
       "\n",
       "  location  followers  numberstatuses                time  \\\n",
       "0      NaN        640              49 2015-01-06 21:07:00   \n",
       "1      NaN        640              49 2015-01-06 21:27:00   \n",
       "2      NaN        640              49 2015-01-06 21:29:00   \n",
       "3      NaN        640              49 2015-01-06 21:37:00   \n",
       "4      NaN        640              49 2015-01-06 21:45:00   \n",
       "\n",
       "                                                text  is text translated  \\\n",
       "0   'A MESSAGE TO THE TRUTHFUL IN SYRIA - SHEIKH ...                True   \n",
       "1   SHEIKH FATIH AL JAWLANI 'FOR THE PEOPLE OF IN...                True   \n",
       "2   FIRST AUDIO MEETING WITH SHEIKH FATIH AL JAWL...                True   \n",
       "3   SHEIKH NASIR AL WUHAYSHI (HA), LEADER OF AQAP...                True   \n",
       "4   AQAP: 'RESPONSE TO SHEIKH BAGHDADIS STATEMENT...                True   \n",
       "\n",
       "   is description translated  \n",
       "0                       True  \n",
       "1                       True  \n",
       "2                       True  \n",
       "3                       True  \n",
       "4                       True  "
      ]
     },
     "execution_count": 157,
     "metadata": {},
     "output_type": "execute_result"
    }
   ],
   "source": [
    "##Removing the translated indicator it into its own columns to avoid having mixed info in column\n",
    "##Note small regex for handling the word translations in the description column vs singular in text xolumn\n",
    "def moveTranslationIndicator(df,columnName):\n",
    "    ##This function takes a column of a dataframe containing both text and an indicator \n",
    "    ##that a row has been translated.  That indicator takes the form of the words 'ENGLISH TRANSLATION'\n",
    "    ##This function takes such a column, creates a new column in the dataframe to indicate whether the\n",
    "    ##column has been translated, and removes the indicator for the original column\n",
    "    ##Input:\n",
    "    ## df: A dataframe\n",
    "    ## columnName:  The name of a text column within df that may contain the word ENGLISH TRANSLATION(S)\n",
    "    ##Output:\n",
    "    ## df:  A revised data frame with a new column to indicate whether the text has been translated\n",
    "    ## and the words ENGLISH TRANSLATION(S) stripped from the specified column\n",
    "    df['is '+columnName+' translated']=df[columnName].str.contains('ENGLISH TRANSLATIONS*:')\n",
    "    df[columnName]=df[columnName].str.replace('ENGLISH TRANSLATIONS*:','')  \n",
    "    return df\n",
    "isisTweets['text']=isisTweets['text'].astype(str)\n",
    "isisTweets['description']=isisTweets['description'].astype(str)\n",
    "\n",
    "isisTweets=moveTranslationIndicator(isisTweets,'text')\n",
    "isisTweets=moveTranslationIndicator(isisTweets,'description')\n",
    "isisTweets.head()"
   ]
  },
  {
   "cell_type": "markdown",
   "metadata": {},
   "source": [
    "## Analytics\n",
    "Since this is an instructional exercise, this section will be briefer than a complete intelligence effort"
   ]
  },
  {
   "cell_type": "markdown",
   "metadata": {},
   "source": [
    "Who are the 5 most prolific accounts?"
   ]
  },
  {
   "cell_type": "code",
   "execution_count": 158,
   "metadata": {},
   "outputs": [
    {
     "data": {
      "text/plain": [
       "Rami                 1475\n",
       "War BreakingNews     1191\n",
       "Conflict Reporter    1095\n",
       "Salahuddin Ayubi     1056\n",
       "Ibni Haneefah         709\n",
       "Name: name, dtype: int64"
      ]
     },
     "execution_count": 158,
     "metadata": {},
     "output_type": "execute_result"
    }
   ],
   "source": [
    "isisTweets['name'].value_counts().head()"
   ]
  },
  {
   "cell_type": "markdown",
   "metadata": {},
   "source": [
    "Which locations have the most accounts?"
   ]
  },
  {
   "cell_type": "code",
   "execution_count": 159,
   "metadata": {},
   "outputs": [
    {
     "data": {
      "text/plain": [
       "28th Street, Qamar Precint    2\n",
       "Geneva, Switzerland           2\n",
       "Middle of Nowhere             2\n",
       "خارج الخلافة                  1\n",
       "world                         1\n",
       "Name: location, dtype: int64"
      ]
     },
     "execution_count": 159,
     "metadata": {},
     "output_type": "execute_result"
    }
   ],
   "source": [
    "##Since each account only has one location, we can safely drop the duplicate accounts to leave one row per account\n",
    "##Without losing and useful location information.  Once we have one row per account, we can easily count the number\n",
    "##of locations\n",
    "singleAccounts=isisTweets.drop_duplicates('username')\n",
    "singleAccounts['location'].value_counts().head()"
   ]
  },
  {
   "cell_type": "markdown",
   "metadata": {},
   "source": [
    "How has Twitter activity changed over time?"
   ]
  },
  {
   "cell_type": "code",
   "execution_count": 160,
   "metadata": {},
   "outputs": [
    {
     "data": {
      "text/plain": [
       "<matplotlib.axes._subplots.AxesSubplot at 0x121a5be0>"
      ]
     },
     "execution_count": 160,
     "metadata": {},
     "output_type": "execute_result"
    },
    {
     "data": {
      "image/png": "[encoded data removed]",
      "text/plain": [
       "<Figure size 432x288 with 1 Axes>"
      ]
     },
     "metadata": {
      "needs_background": "light"
     },
     "output_type": "display_data"
    }
   ],
   "source": [
    "%matplotlib inline\n",
    "tweetsByMonth=isisTweets.groupby(pd.Grouper(freq='m',key='time')).size()\n",
    "tweetsByMonth.plot.line()"
   ]
  },
  {
   "cell_type": "markdown",
   "metadata": {},
   "source": [
    "The social network aspect is particularly interesting.  Below, I begin analysis of who is tweeting at whom"
   ]
  },
  {
   "cell_type": "code",
   "execution_count": 161,
   "metadata": {},
   "outputs": [
    {
     "data": {
      "text/html": [
       "<div>\n",
       "<style scoped>\n",
       "    .dataframe tbody tr th:only-of-type {\n",
       "        vertical-align: middle;\n",
       "    }\n",
       "\n",
       "    .dataframe tbody tr th {\n",
       "        vertical-align: top;\n",
       "    }\n",
       "\n",
       "    .dataframe thead th {\n",
       "        text-align: right;\n",
       "    }\n",
       "</style>\n",
       "<table border=\"1\" class=\"dataframe\">\n",
       "  <thead>\n",
       "    <tr style=\"text-align: right;\">\n",
       "      <th></th>\n",
       "      <th>time</th>\n",
       "      <th>username</th>\n",
       "      <th>text</th>\n",
       "      <th>Tagged Account</th>\n",
       "    </tr>\n",
       "  </thead>\n",
       "  <tbody>\n",
       "    <tr>\n",
       "      <th>0</th>\n",
       "      <td>2015-01-06 22:17:00</td>\n",
       "      <td>GunsandCoffee70</td>\n",
       "      <td>Aslm Please share our new account after the pr...</td>\n",
       "      <td>KhalidMaghrebi</td>\n",
       "    </tr>\n",
       "    <tr>\n",
       "      <th>1</th>\n",
       "      <td>2015-01-06 22:17:00</td>\n",
       "      <td>GunsandCoffee70</td>\n",
       "      <td>Aslm Please share our new account after the pr...</td>\n",
       "      <td>seifulmaslul123</td>\n",
       "    </tr>\n",
       "    <tr>\n",
       "      <th>2</th>\n",
       "      <td>2015-01-10 00:08:00</td>\n",
       "      <td>GunsandCoffee70</td>\n",
       "      <td>@KhalidMaghrebi @seifulmaslul123 @CheerLeadUni...</td>\n",
       "      <td>KhalidMaghrebi</td>\n",
       "    </tr>\n",
       "    <tr>\n",
       "      <th>3</th>\n",
       "      <td>2015-01-10 00:08:00</td>\n",
       "      <td>GunsandCoffee70</td>\n",
       "      <td>@KhalidMaghrebi @seifulmaslul123 @CheerLeadUni...</td>\n",
       "      <td>seifulmaslul123</td>\n",
       "    </tr>\n",
       "    <tr>\n",
       "      <th>4</th>\n",
       "      <td>2015-01-10 00:08:00</td>\n",
       "      <td>GunsandCoffee70</td>\n",
       "      <td>@KhalidMaghrebi @seifulmaslul123 @CheerLeadUni...</td>\n",
       "      <td>CheerLeadUnited</td>\n",
       "    </tr>\n",
       "  </tbody>\n",
       "</table>\n",
       "</div>"
      ],
      "text/plain": [
       "                 time         username  \\\n",
       "0 2015-01-06 22:17:00  GunsandCoffee70   \n",
       "1 2015-01-06 22:17:00  GunsandCoffee70   \n",
       "2 2015-01-10 00:08:00  GunsandCoffee70   \n",
       "3 2015-01-10 00:08:00  GunsandCoffee70   \n",
       "4 2015-01-10 00:08:00  GunsandCoffee70   \n",
       "\n",
       "                                                text   Tagged Account  \n",
       "0  Aslm Please share our new account after the pr...   KhalidMaghrebi  \n",
       "1  Aslm Please share our new account after the pr...  seifulmaslul123  \n",
       "2  @KhalidMaghrebi @seifulmaslul123 @CheerLeadUni...   KhalidMaghrebi  \n",
       "3  @KhalidMaghrebi @seifulmaslul123 @CheerLeadUni...  seifulmaslul123  \n",
       "4  @KhalidMaghrebi @seifulmaslul123 @CheerLeadUni...  CheerLeadUnited  "
      ]
     },
     "execution_count": 161,
     "metadata": {},
     "output_type": "execute_result"
    }
   ],
   "source": [
    "##Extract text between and @ symbol and a space\n",
    "tweetAts=isisTweets['text'].str.extractall('@(\\w*)\\s')\n",
    "tweetAts=tweetAts.reset_index()\n",
    "##Rename the results\n",
    "tweetAts.columns=['Row Number','Match Number','Tagged Account']\n",
    "#Merge back with main dataframe to get other useful columns\n",
    "tweetAts=tweetAts.merge(isisTweets,on='Row Number')\n",
    "tweetAts=tweetAts[['time','username','text','Tagged Account']]\n",
    "tweetAts.head()"
   ]
  },
  {
   "cell_type": "markdown",
   "metadata": {},
   "source": [
    "The top 5 \"most tweeted at\" accounts"
   ]
  },
  {
   "cell_type": "code",
   "execution_count": 162,
   "metadata": {},
   "outputs": [
    {
     "data": {
      "text/plain": [
       "WarReporter1       145\n",
       "ScotsmanInfidel     79\n",
       "RamiAlLolah         67\n",
       "spicylatte123       61\n",
       "1_texanna           56\n",
       "Name: Tagged Account, dtype: int64"
      ]
     },
     "execution_count": 162,
     "metadata": {},
     "output_type": "execute_result"
    }
   ],
   "source": [
    "tweetAts['Tagged Account'].value_counts().head()"
   ]
  },
  {
   "cell_type": "markdown",
   "metadata": {},
   "source": [
    "How many **different** accounts have tweeted at each account"
   ]
  },
  {
   "cell_type": "code",
   "execution_count": 163,
   "metadata": {},
   "outputs": [
    {
     "data": {
      "text/plain": [
       "RamiAlLolah        20\n",
       "Nidalgazaui        15\n",
       "WarReporter1       13\n",
       "NusantarWitness    10\n",
       "MiddleEastEye       8\n",
       "Name: Tagged Account, dtype: int64"
      ]
     },
     "execution_count": 163,
     "metadata": {},
     "output_type": "execute_result"
    }
   ],
   "source": [
    "##Drop duplicates on tagged account and username to get one row per writer and tagged account pairing\n",
    "##Then count the number of (distinct) pairings each tagged account appears in\n",
    "tweetAts.drop_duplicates(subset=['username','Tagged Account'])['Tagged Account'].value_counts().head()"
   ]
  },
  {
   "cell_type": "markdown",
   "metadata": {},
   "source": [
    "A sample of tweets at RamiAllolah (the account at which 20 other accounts have tweeted)"
   ]
  },
  {
   "cell_type": "code",
   "execution_count": 164,
   "metadata": {},
   "outputs": [
    {
     "data": {
      "text/html": [
       "<div>\n",
       "<style scoped>\n",
       "    .dataframe tbody tr th:only-of-type {\n",
       "        vertical-align: middle;\n",
       "    }\n",
       "\n",
       "    .dataframe tbody tr th {\n",
       "        vertical-align: top;\n",
       "    }\n",
       "\n",
       "    .dataframe thead th {\n",
       "        text-align: right;\n",
       "    }\n",
       "</style>\n",
       "<table border=\"1\" class=\"dataframe\">\n",
       "  <thead>\n",
       "    <tr style=\"text-align: right;\">\n",
       "      <th></th>\n",
       "      <th>time</th>\n",
       "      <th>username</th>\n",
       "      <th>text</th>\n",
       "      <th>Tagged Account</th>\n",
       "    </tr>\n",
       "  </thead>\n",
       "  <tbody>\n",
       "    <tr>\n",
       "      <th>2881</th>\n",
       "      <td>2016-03-17 20:53:00</td>\n",
       "      <td>DabiqsweetsMan</td>\n",
       "      <td>@RamiAlLolah https://t.co/LLew97Waus</td>\n",
       "      <td>RamiAlLolah</td>\n",
       "    </tr>\n",
       "    <tr>\n",
       "      <th>1832</th>\n",
       "      <td>2016-02-22 20:30:00</td>\n",
       "      <td>WarReporter1</td>\n",
       "      <td>@apollo_next @RamiAlLolah You're right. The ma...</td>\n",
       "      <td>RamiAlLolah</td>\n",
       "    </tr>\n",
       "    <tr>\n",
       "      <th>5355</th>\n",
       "      <td>2016-05-06 19:29:00</td>\n",
       "      <td>st3erer</td>\n",
       "      <td>RT @PrinceOfFreakz: @RamiAlLolah\\nGraphic\\nOne...</td>\n",
       "      <td>RamiAlLolah</td>\n",
       "    </tr>\n",
       "    <tr>\n",
       "      <th>1963</th>\n",
       "      <td>2016-02-25 16:34:00</td>\n",
       "      <td>WarReporter1</td>\n",
       "      <td>@TheHourIsNear4 @RamiAlLolah Arabs r not known...</td>\n",
       "      <td>RamiAlLolah</td>\n",
       "    </tr>\n",
       "    <tr>\n",
       "      <th>571</th>\n",
       "      <td>2016-01-05 19:36:00</td>\n",
       "      <td>maisaraghereeb</td>\n",
       "      <td>RT @Zeropoint164: @RamiAlLolah @maisaraghereeb...</td>\n",
       "      <td>RamiAlLolah</td>\n",
       "    </tr>\n",
       "    <tr>\n",
       "      <th>3546</th>\n",
       "      <td>2016-03-27 14:31:00</td>\n",
       "      <td>RamiAlLolah</td>\n",
       "      <td>RT @Ratman198556Www: @freedaraa11 @RamiAlLolah...</td>\n",
       "      <td>RamiAlLolah</td>\n",
       "    </tr>\n",
       "    <tr>\n",
       "      <th>591</th>\n",
       "      <td>2016-01-09 23:17:00</td>\n",
       "      <td>warreporter2</td>\n",
       "      <td>@RamiAlLolah no they're not lol</td>\n",
       "      <td>RamiAlLolah</td>\n",
       "    </tr>\n",
       "    <tr>\n",
       "      <th>2883</th>\n",
       "      <td>2016-03-17 20:56:00</td>\n",
       "      <td>DabiqsweetsMan</td>\n",
       "      <td>@RamiAlLolah https://t.co/4WxPSgYxbV</td>\n",
       "      <td>RamiAlLolah</td>\n",
       "    </tr>\n",
       "    <tr>\n",
       "      <th>4375</th>\n",
       "      <td>2016-04-13 00:15:00</td>\n",
       "      <td>WarReporter1</td>\n",
       "      <td>RT @Rikar_Hussein: @RamiAlLolah Kurdish offici...</td>\n",
       "      <td>RamiAlLolah</td>\n",
       "    </tr>\n",
       "    <tr>\n",
       "      <th>3945</th>\n",
       "      <td>2016-04-05 13:51:00</td>\n",
       "      <td>WarReporter1</td>\n",
       "      <td>@Bigbox_42 @RamiAlLolah It's not ridiculous. I...</td>\n",
       "      <td>RamiAlLolah</td>\n",
       "    </tr>\n",
       "  </tbody>\n",
       "</table>\n",
       "</div>"
      ],
      "text/plain": [
       "                    time        username  \\\n",
       "2881 2016-03-17 20:53:00  DabiqsweetsMan   \n",
       "1832 2016-02-22 20:30:00    WarReporter1   \n",
       "5355 2016-05-06 19:29:00         st3erer   \n",
       "1963 2016-02-25 16:34:00    WarReporter1   \n",
       "571  2016-01-05 19:36:00  maisaraghereeb   \n",
       "3546 2016-03-27 14:31:00     RamiAlLolah   \n",
       "591  2016-01-09 23:17:00    warreporter2   \n",
       "2883 2016-03-17 20:56:00  DabiqsweetsMan   \n",
       "4375 2016-04-13 00:15:00    WarReporter1   \n",
       "3945 2016-04-05 13:51:00    WarReporter1   \n",
       "\n",
       "                                                   text Tagged Account  \n",
       "2881               @RamiAlLolah https://t.co/LLew97Waus    RamiAlLolah  \n",
       "1832  @apollo_next @RamiAlLolah You're right. The ma...    RamiAlLolah  \n",
       "5355  RT @PrinceOfFreakz: @RamiAlLolah\\nGraphic\\nOne...    RamiAlLolah  \n",
       "1963  @TheHourIsNear4 @RamiAlLolah Arabs r not known...    RamiAlLolah  \n",
       "571   RT @Zeropoint164: @RamiAlLolah @maisaraghereeb...    RamiAlLolah  \n",
       "3546  RT @Ratman198556Www: @freedaraa11 @RamiAlLolah...    RamiAlLolah  \n",
       "591                     @RamiAlLolah no they're not lol    RamiAlLolah  \n",
       "2883               @RamiAlLolah https://t.co/4WxPSgYxbV    RamiAlLolah  \n",
       "4375  RT @Rikar_Hussein: @RamiAlLolah Kurdish offici...    RamiAlLolah  \n",
       "3945  @Bigbox_42 @RamiAlLolah It's not ridiculous. I...    RamiAlLolah  "
      ]
     },
     "execution_count": 164,
     "metadata": {},
     "output_type": "execute_result"
    }
   ],
   "source": [
    "tweetAts[tweetAts['Tagged Account']=='RamiAlLolah'].sample(10)"
   ]
  },
  {
   "cell_type": "markdown",
   "metadata": {},
   "source": [
    "## Write Cleaned Data to CSV for future analysis"
   ]
  },
  {
   "cell_type": "code",
   "execution_count": 165,
   "metadata": {},
   "outputs": [],
   "source": [
    "hashtags.to_csv('C:/users/mwbarr/hashtags.csv')\n",
    "isisTweets.to_csv('C:/users/mwbarr/isisTweets.csv')\n",
    "tweetAts.to_csv('C:/users/mwbarr/tweetAts.csv')"
   ]
  }
 ],
 "metadata": {
  "kernelspec": {
   "display_name": "Python 3",
   "language": "python",
   "name": "python3"
  },
  "language_info": {
   "codemirror_mode": {
    "name": "ipython",
    "version": 3
   },
   "file_extension": ".py",
   "mimetype": "text/x-python",
   "name": "python",
   "nbconvert_exporter": "python",
   "pygments_lexer": "ipython3",
   "version": "3.7.3"
  }
 },
 "nbformat": 4,
 "nbformat_minor": 2
}
