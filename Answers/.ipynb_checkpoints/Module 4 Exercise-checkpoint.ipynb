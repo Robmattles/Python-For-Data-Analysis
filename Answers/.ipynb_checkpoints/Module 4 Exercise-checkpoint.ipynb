{
 "cells": [
  {
   "cell_type": "markdown",
   "metadata": {},
   "source": [
    "# Module 4 Exercise - Core Pandas Concepts"
   ]
  },
  {
   "cell_type": "markdown",
   "metadata": {},
   "source": [
    "### Prelude - Importing Libraries\n",
    "Typically, it's best practice to import all of the packages (aka libraries) that you will need for a notebook/script/project right at the beginning.  For almost all data-related projects, you will start by importing numpy (numerical Python) and Pandas.  Its traditional to abbrieviate these two libraries as np and pd respectively, using the 'as' keyword.\n",
    "\n",
    "**In the below cell, import numpy and pandas as np and pd respectively**"
   ]
  },
  {
   "cell_type": "code",
   "execution_count": null,
   "metadata": {},
   "outputs": [],
   "source": [
    "##Your code here\n",
    "import pandas as pd\n",
    "import numpy as np"
   ]
  },
  {
   "cell_type": "markdown",
   "metadata": {},
   "source": [
    "### Part 1:  Reading Data\n",
    "\n",
    "In the below section, you will read and write data to/from pandas dataframes.  The files you will be reading from have the same data, but slightly different quirks that will necessitate slightly different approaches to reading the data.  Feel free to open the files in Excel to see what these quirks might be, and, as always, use Google to seek resources."
   ]
  },
  {
   "cell_type": "markdown",
   "metadata": {},
   "source": [
    "**1a.**  Read the file enronEnriched.csv from the Module 4 folder into a pandas dataframe "
   ]
  },
  {
   "cell_type": "code",
   "execution_count": null,
   "metadata": {},
   "outputs": [],
   "source": [
    "df=pd.read_csv(r'C:\\Users\\mwbarr\\OneDrive - Federal Bureau of Investigation\\Python_for_Data_Analysis\\Python for Data Analysis\\Module 4\\enronEnriched.csv')\n",
    "df.head()"
   ]
  },
  {
   "cell_type": "markdown",
   "metadata": {},
   "source": [
    "**1b.** Read the file enronEnrichedNonLatin.csv from the Module 4 folder into a pandas dataframe. This file has strange characters"
   ]
  },
  {
   "cell_type": "code",
   "execution_count": null,
   "metadata": {},
   "outputs": [],
   "source": [
    "df1b=pd.read_csv(r'C:\\Users\\mwbarr\\OneDrive - Federal Bureau of Investigation\\Python_for_Data_Analysis\\Python for Data Analysis\\Module 4\\enronEnrichedNonLatin.csv', encoding='ISO-8859-1')\n",
    "df1b.head()"
   ]
  },
  {
   "cell_type": "markdown",
   "metadata": {},
   "source": [
    "**1c.** Read the file enronEnrichedWithClass.csv from the Module 4 folder into a pandas dataframe.  This file has a fake classification banner in the first row.\n"
   ]
  },
  {
   "cell_type": "code",
   "execution_count": null,
   "metadata": {},
   "outputs": [],
   "source": [
    "df1c=pd.read_csv(r'C:\\Users\\mwbarr\\OneDrive - Federal Bureau of Investigation\\Python_for_Data_Analysis\\Python for Data Analysis\\Module 4\\enronEnrichedWithClass.csv', skiprows=1)\n",
    "df1c.head()"
   ]
  },
  {
   "cell_type": "markdown",
   "metadata": {},
   "source": [
    "**1d** Read the second and third sheets of enronEnriched**.xlsx** into a pandas dataframe.  \n"
   ]
  },
  {
   "cell_type": "code",
   "execution_count": null,
   "metadata": {},
   "outputs": [],
   "source": [
    "\n",
    "secondSheet=pd.read_excel(r'C:\\Users\\mwbarr\\OneDrive - Federal Bureau of Investigation\\Python_for_Data_Analysis\\Python for Data Analysis\\Module 4\\enronEnriched.xlsx', sheet_name=1)\n",
    "print(secondSheet.shape)\n",
    "thirdSheet=pd.read_excel(r'C:\\Users\\mwbarr\\OneDrive - Federal Bureau of Investigation\\Python_for_Data_Analysis\\Python for Data Analysis\\Module 4\\enronEnriched.xlsx', sheet_name=2)\n",
    "print(thirdSheet.shape)"
   ]
  },
  {
   "cell_type": "markdown",
   "metadata": {},
   "source": [
    "### Part 2:  Performing Basic Cleaning Operations"
   ]
  },
  {
   "cell_type": "markdown",
   "metadata": {},
   "source": [
    "**2a** Remove all columns from the data frame except for the following:  'Subject', 'X-From', 'X-To', 'X-cc',\n",
    "       'X-bcc', 'X-Folder', 'X-Origin', 'X-FileName', 'content', 'user', 'labeled', 'dollarValueMentionedinMessage', 'messageLength', 'Date'"
   ]
  },
  {
   "cell_type": "code",
   "execution_count": null,
   "metadata": {},
   "outputs": [],
   "source": [
    "##Your code here\n",
    "df=df[[ 'Subject', 'X-From', 'X-To', 'X-cc', 'X-bcc', 'X-Folder', 'X-Origin', 'X-FileName', 'content', 'user', 'labeled', 'dollarValueMentionedinMessage', 'messageLength','Date']]\n",
    "df.head()"
   ]
  },
  {
   "cell_type": "markdown",
   "metadata": {},
   "source": [
    "**2b** Rename the columns, removing the \"X-\" from all columns starting with \"X-\""
   ]
  },
  {
   "cell_type": "code",
   "execution_count": null,
   "metadata": {},
   "outputs": [],
   "source": [
    "##Your code here\n",
    "df.columns=[colName.replace('X-','') for colName in df.columns]\n",
    "df.head()"
   ]
  },
  {
   "cell_type": "markdown",
   "metadata": {},
   "source": [
    "**2c** Write the renamed file to a csv called enronRenamed.csv"
   ]
  },
  {
   "cell_type": "code",
   "execution_count": null,
   "metadata": {},
   "outputs": [],
   "source": [
    "df.to_csv(r'C:\\Users\\mwbarr\\OneDrive - Federal Bureau of Investigation\\Python_for_Data_Analysis\\Python for Data Analysis\\enronRenamed.csv')"
   ]
  },
  {
   "cell_type": "markdown",
   "metadata": {},
   "source": [
    "### Part 3 - Basic Exploratory Data Analysis"
   ]
  },
  {
   "cell_type": "markdown",
   "metadata": {},
   "source": [
    "**3a**  Get the number of rows and columns from the dataframe (called df) that you worked with in part 2"
   ]
  },
  {
   "cell_type": "code",
   "execution_count": null,
   "metadata": {},
   "outputs": [],
   "source": [
    "numberOfRows=df.shape[0]\n",
    "numberOfColumns=df.shape[1]\n",
    "print('Dataframe has ',numberOfRows,' rows ',numberOfColumns,' columns')"
   ]
  },
  {
   "cell_type": "markdown",
   "metadata": {},
   "source": [
    "**3b** Use the describe function to get summary statistics for each column of the dataframe (still using df from 1a)"
   ]
  },
  {
   "cell_type": "code",
   "execution_count": null,
   "metadata": {},
   "outputs": [],
   "source": [
    "df.describe()\n",
    "##Your code here"
   ]
  },
  {
   "cell_type": "markdown",
   "metadata": {},
   "source": [
    "**3c** Use the info function to get a different summary of the dataframe"
   ]
  },
  {
   "cell_type": "code",
   "execution_count": null,
   "metadata": {},
   "outputs": [],
   "source": [
    "##Your code here\n",
    "df.info()"
   ]
  },
  {
   "cell_type": "markdown",
   "metadata": {},
   "source": [
    "**3d** Get a list of all the columns in the dataframe"
   ]
  },
  {
   "cell_type": "code",
   "execution_count": null,
   "metadata": {},
   "outputs": [],
   "source": [
    "df.columns\n",
    "##Your code here"
   ]
  },
  {
   "cell_type": "markdown",
   "metadata": {},
   "source": [
    "**3e** Get counts of the number of times each email sender appears in the 'From' column of the dataframe"
   ]
  },
  {
   "cell_type": "code",
   "execution_count": null,
   "metadata": {},
   "outputs": [],
   "source": [
    "df['From'].value_counts()\n"
   ]
  },
  {
   "cell_type": "markdown",
   "metadata": {},
   "source": [
    "(We'll learn how to clean this up in module 10)"
   ]
  },
  {
   "cell_type": "markdown",
   "metadata": {},
   "source": [
    "**3f** Create a histogram of the messageLength column"
   ]
  },
  {
   "cell_type": "code",
   "execution_count": null,
   "metadata": {},
   "outputs": [],
   "source": [
    "%matplotlib inline\n",
    "df['messageLength'].plot.hist()"
   ]
  },
  {
   "cell_type": "markdown",
   "metadata": {},
   "source": [
    "**3g** Make a scatterplot of dollarValueMentionedinMessage and messageLength"
   ]
  },
  {
   "cell_type": "code",
   "execution_count": null,
   "metadata": {},
   "outputs": [],
   "source": [
    "df.plot.scatter(x='dollarValueMentionedinMessage',y='messageLength')"
   ]
  },
  {
   "cell_type": "markdown",
   "metadata": {},
   "source": [
    "### Part 4 - Selecting rows and columns"
   ]
  },
  {
   "cell_type": "markdown",
   "metadata": {},
   "source": [
    "**4a** Select just the 'From' column of the data frame"
   ]
  },
  {
   "cell_type": "code",
   "execution_count": null,
   "metadata": {},
   "outputs": [],
   "source": [
    "fromColumn=df['From']\n",
    "fromColumn.head()"
   ]
  },
  {
   "cell_type": "markdown",
   "metadata": {},
   "source": [
    "**4b** Select the 4th row of the dataframe"
   ]
  },
  {
   "cell_type": "code",
   "execution_count": null,
   "metadata": {},
   "outputs": [],
   "source": [
    "fourthRow=df.iloc[0]"
   ]
  },
  {
   "cell_type": "markdown",
   "metadata": {},
   "source": [
    "**4c** Select only the item in the from column from the fourth row of the data frame"
   ]
  },
  {
   "cell_type": "code",
   "execution_count": null,
   "metadata": {},
   "outputs": [],
   "source": [
    "fourthFrom=df['From'][0]\n",
    "fourthFrom"
   ]
  },
  {
   "cell_type": "markdown",
   "metadata": {},
   "source": [
    "### If you have time"
   ]
  },
  {
   "cell_type": "markdown",
   "metadata": {},
   "source": [
    "Select rows 5 through 7 of the dataframe"
   ]
  },
  {
   "cell_type": "code",
   "execution_count": null,
   "metadata": {},
   "outputs": [],
   "source": [
    "fiveThroughSeven=df.iloc[5:8]\n",
    "fiveThroughSeven"
   ]
  },
  {
   "cell_type": "markdown",
   "metadata": {},
   "source": [
    "Select the to and from columns of the dataframe with a single line of code"
   ]
  },
  {
   "cell_type": "code",
   "execution_count": null,
   "metadata": {},
   "outputs": [],
   "source": [
    "toAndFrom=df[['To','From']]\n",
    "toAndFrom.head()"
   ]
  },
  {
   "cell_type": "markdown",
   "metadata": {},
   "source": [
    "Select the 4th and 5th columns of the dataframe"
   ]
  },
  {
   "cell_type": "code",
   "execution_count": null,
   "metadata": {},
   "outputs": [],
   "source": [
    "colsFourAndFive=df.iloc[:,4:6]\n",
    "colsFourAndFive.head()"
   ]
  },
  {
   "cell_type": "markdown",
   "metadata": {},
   "source": [
    "Get the average (mean, median, or mode) of the dollarValueMentionedinMessage column"
   ]
  },
  {
   "cell_type": "code",
   "execution_count": null,
   "metadata": {},
   "outputs": [],
   "source": [
    "dollarAverage=df['dollarValueMentionedinMessage'].mean()\n",
    "dollarAverage"
   ]
  }
 ],
 "metadata": {
  "kernelspec": {
   "display_name": "Python 3",
   "language": "python",
   "name": "python3"
  },
  "language_info": {
   "codemirror_mode": {
    "name": "ipython",
    "version": 3
   },
   "file_extension": ".py",
   "mimetype": "text/x-python",
   "name": "python",
   "nbconvert_exporter": "python",
   "pygments_lexer": "ipython3",
   "version": "3.7.3"
  }
 },
 "nbformat": 4,
 "nbformat_minor": 2
}
