{
 "cells": [
  {
   "cell_type": "markdown",
   "metadata": {},
   "source": [
    "# Importing Data from Forms Exercise"
   ]
  },
  {
   "cell_type": "markdown",
   "metadata": {},
   "source": [
    "### Prelude"
   ]
  },
  {
   "cell_type": "markdown",
   "metadata": {},
   "source": [
    "Using a text editor, open the file \"Victim 2.txt\" from this module's folder in the data files section of the course materials.  Observe how there are some basic pieces of information as well as a two-column table in the document (columns are service type and number of services)"
   ]
  },
  {
   "cell_type": "markdown",
   "metadata": {},
   "source": [
    "### Part 1: Working with a Single File"
   ]
  },
  {
   "cell_type": "markdown",
   "metadata": {},
   "source": [
    "**1a** Use python to open the Victim 2.txt.  Print the contents of the file line-by-line"
   ]
  },
  {
   "cell_type": "code",
   "execution_count": 2,
   "metadata": {},
   "outputs": [
    {
     "name": "stdout",
     "output_type": "stream",
     "text": [
      "Victim Services Division Documentation of Services\n",
      "\n",
      "\n",
      "\n",
      "\n",
      "\n",
      "Download Date: 03-OCT-19\n",
      "\n",
      "\n",
      "\n",
      "From: 01-JAN-00\n",
      "\n",
      "\n",
      "\n",
      "To: 03-OCT-19\n",
      "\n",
      "\n",
      "\n",
      "Victim Name: Leia  Organna \n",
      "\n",
      "\n",
      "\n",
      "FBI Case Number: 123H-DN-IP-2345\n",
      "\n",
      "\n",
      "\n",
      "Downloaded By: Matthew Barr\n",
      "\n",
      "\n",
      "\n",
      " Service Type\tNumber of Services\n",
      "\n",
      "Ante Mortem Data Collection Assistance\t4\n",
      "\n",
      "Accompany Victim Counseling Appointment\t2\n",
      "\n",
      "Case Status Update (Non-VNS)\t1\n",
      "\n",
      "Accompany Victim Court\t2\n",
      "\n",
      "Forensic Interview Accompanied\t1\n",
      "\n",
      "\n",
      "\n",
      " Additional Notes and Services:\n",
      "\n",
      "\n",
      "\n",
      "\n",
      "\n",
      " \n",
      "\n",
      " *This document will become a permanent record in the case file and is discoverable.  Please limit comments to logistical or service referral information.  Do not reference mental health information or personal opinion.\n",
      "\n",
      "\n",
      "\n",
      " \n",
      "\n",
      "\n",
      "\n",
      "\n",
      "\n"
     ]
    }
   ],
   "source": [
    "with open('C:/users/mwbarr/documentation of services samples/victim 2.txt', 'r') as file:\n",
    "    for line in file:\n",
    "        print(line)"
   ]
  },
  {
   "cell_type": "markdown",
   "metadata": {},
   "source": [
    "**1b** Identify and store the victim's name from the file in a variable called victimName. Store the case number in a variable called caseNumber (note: for this and subsequent pieces of the exercise, you may want to copy and paste your code from earlier cells)"
   ]
  },
  {
   "cell_type": "code",
   "execution_count": 5,
   "metadata": {},
   "outputs": [
    {
     "name": "stdout",
     "output_type": "stream",
     "text": [
      "Leia  Organna 123H-DN-IP-2345\n"
     ]
    }
   ],
   "source": [
    "with open('C:/users/mwbarr/documentation of services samples/victim 2.txt', 'r') as file:\n",
    "    for line in file:\n",
    "        if 'Victim Name' in line: victimName=line.replace('Victim Name:','').strip()\n",
    "        if 'FBI Case' in line: caseNumber=line.replace('FBI Case Number:','').strip()            \n",
    "print(victimName,caseNumber)"
   ]
  },
  {
   "cell_type": "markdown",
   "metadata": {},
   "source": [
    "**1c** Using a toggle variable to identify the beginning and end of the table, find the rows of the table embedded in the file.  Split each row using the split() function, then add the split row to the list called tableRows.  Your output should be a list of lists in the format:\n",
    "[[Row1Word1, Row1Word2, Row1Word3']...[Row4Word1,Row4Word2,Row4Word3]]\n",
    "\n",
    "\n",
    "As with most items in this exercise, it probably makes sense to copy/paste your old code and build on it."
   ]
  },
  {
   "cell_type": "code",
   "execution_count": 13,
   "metadata": {},
   "outputs": [
    {
     "name": "stdout",
     "output_type": "stream",
     "text": [
      "[['Ante', 'Mortem', 'Data', 'Collection', 'Assistance', '4'], ['Accompany', 'Victim', 'Counseling', 'Appointment', '2'], ['Case', 'Status', 'Update', '(Non-VNS)', '1'], ['Accompany', 'Victim', 'Court', '2'], ['Forensic', 'Interview', 'Accompanied', '1']]\n"
     ]
    }
   ],
   "source": [
    "inTable=False\n",
    "tableRows=[]\n",
    "with open('C:/users/mwbarr/documentation of services samples/victim 2.txt', 'r') as file:\n",
    "    for line in file:\n",
    "        if 'Additional Notes' in line:\n",
    "            inTable=False\n",
    "        if inTable and len(line)>10:\n",
    "            tableRows.append(line.split())\n",
    "        if 'Service Type' in line:\n",
    "            inTable=True\n",
    "print(tableRows)"
   ]
  },
  {
   "cell_type": "markdown",
   "metadata": {},
   "source": [
    "**1d**  Review the below code that joins together all but the last word of every column. newRows is still a list of lists, but now, the first item in each list corresponds to the first column and the second corresponds to the second column"
   ]
  },
  {
   "cell_type": "code",
   "execution_count": 15,
   "metadata": {},
   "outputs": [
    {
     "name": "stdout",
     "output_type": "stream",
     "text": [
      "[['Ante Mortem Data Collection Assistance', '4'], ['Accompany Victim Counseling Appointment', '2'], ['Case Status Update (Non-VNS)', '1'], ['Accompany Victim Court', '2'], ['Forensic Interview Accompanied', '1']]\n"
     ]
    }
   ],
   "source": [
    "newRows=[]\n",
    "for t in tableRows:\n",
    "    newRows.append([' '.join(t[:-1]),t[-1]])\n",
    "print(newRows)"
   ]
  },
  {
   "cell_type": "markdown",
   "metadata": {},
   "source": [
    "**1e** Convert newRows to a Data Frame.  Make any necessary adjustments to ensure proper column headers"
   ]
  },
  {
   "cell_type": "code",
   "execution_count": 19,
   "metadata": {},
   "outputs": [
    {
     "data": {
      "text/html": [
       "<div>\n",
       "<style>\n",
       "    .dataframe thead tr:only-child th {\n",
       "        text-align: right;\n",
       "    }\n",
       "\n",
       "    .dataframe thead th {\n",
       "        text-align: left;\n",
       "    }\n",
       "\n",
       "    .dataframe tbody tr th {\n",
       "        vertical-align: top;\n",
       "    }\n",
       "</style>\n",
       "<table border=\"1\" class=\"dataframe\">\n",
       "  <thead>\n",
       "    <tr style=\"text-align: right;\">\n",
       "      <th></th>\n",
       "      <th>Service Type</th>\n",
       "      <th>Number of Services</th>\n",
       "    </tr>\n",
       "  </thead>\n",
       "  <tbody>\n",
       "    <tr>\n",
       "      <th>0</th>\n",
       "      <td>Ante Mortem Data Collection Assistance</td>\n",
       "      <td>4</td>\n",
       "    </tr>\n",
       "    <tr>\n",
       "      <th>1</th>\n",
       "      <td>Accompany Victim Counseling Appointment</td>\n",
       "      <td>2</td>\n",
       "    </tr>\n",
       "    <tr>\n",
       "      <th>2</th>\n",
       "      <td>Case Status Update (Non-VNS)</td>\n",
       "      <td>1</td>\n",
       "    </tr>\n",
       "    <tr>\n",
       "      <th>3</th>\n",
       "      <td>Accompany Victim Court</td>\n",
       "      <td>2</td>\n",
       "    </tr>\n",
       "    <tr>\n",
       "      <th>4</th>\n",
       "      <td>Forensic Interview Accompanied</td>\n",
       "      <td>1</td>\n",
       "    </tr>\n",
       "  </tbody>\n",
       "</table>\n",
       "</div>"
      ],
      "text/plain": [
       "                              Service Type Number of Services\n",
       "0   Ante Mortem Data Collection Assistance                  4\n",
       "1  Accompany Victim Counseling Appointment                  2\n",
       "2             Case Status Update (Non-VNS)                  1\n",
       "3                   Accompany Victim Court                  2\n",
       "4           Forensic Interview Accompanied                  1"
      ]
     },
     "execution_count": 19,
     "metadata": {},
     "output_type": "execute_result"
    }
   ],
   "source": [
    "import pandas as pd\n",
    "myDataFrame=pd.DataFrame(newRows)\n",
    "myDataFrame.columns=['Service Type','Number of Services']\n",
    "myDataFrame.head()"
   ]
  },
  {
   "cell_type": "markdown",
   "metadata": {},
   "source": [
    "### Part 2:  Combining Data From Multiple Files"
   ]
  },
  {
   "cell_type": "markdown",
   "metadata": {},
   "source": [
    "**2a** Generate a list of all files in the 'Documentation of Services Samples' folder"
   ]
  },
  {
   "cell_type": "code",
   "execution_count": 20,
   "metadata": {},
   "outputs": [
    {
     "name": "stdout",
     "output_type": "stream",
     "text": [
      "['Victim 1.txt', 'Victim 2.txt', 'Victim 3.txt']\n"
     ]
    }
   ],
   "source": [
    "files=[]\n",
    "import os\n",
    "files=os.listdir('C:/users/mwbarr/Documentation of Services Samples')\n",
    "print(files)"
   ]
  },
  {
   "cell_type": "markdown",
   "metadata": {},
   "source": [
    "**2b** Loop over that list.  Open each file, extract victim name and FBI case number from each file, and store those in a 2-column dataframe. [Hint:  You can use the technique and/or code from 1b to do so]"
   ]
  },
  {
   "cell_type": "code",
   "execution_count": 25,
   "metadata": {},
   "outputs": [
    {
     "data": {
      "text/html": [
       "<div>\n",
       "<style>\n",
       "    .dataframe thead tr:only-child th {\n",
       "        text-align: right;\n",
       "    }\n",
       "\n",
       "    .dataframe thead th {\n",
       "        text-align: left;\n",
       "    }\n",
       "\n",
       "    .dataframe tbody tr th {\n",
       "        vertical-align: top;\n",
       "    }\n",
       "</style>\n",
       "<table border=\"1\" class=\"dataframe\">\n",
       "  <thead>\n",
       "    <tr style=\"text-align: right;\">\n",
       "      <th></th>\n",
       "      <th>Name</th>\n",
       "      <th>Case Number</th>\n",
       "    </tr>\n",
       "  </thead>\n",
       "  <tbody>\n",
       "    <tr>\n",
       "      <th>0</th>\n",
       "      <td>Bill  Smith</td>\n",
       "      <td>123H-DN-IP-2345</td>\n",
       "    </tr>\n",
       "    <tr>\n",
       "      <th>1</th>\n",
       "      <td>Leia  Organna</td>\n",
       "      <td>123H-DN-IP-2345</td>\n",
       "    </tr>\n",
       "    <tr>\n",
       "      <th>2</th>\n",
       "      <td>Harry  Potter</td>\n",
       "      <td>123H-DN-IP-2345</td>\n",
       "    </tr>\n",
       "  </tbody>\n",
       "</table>\n",
       "</div>"
      ],
      "text/plain": [
       "            Name      Case Number\n",
       "0    Bill  Smith  123H-DN-IP-2345\n",
       "1  Leia  Organna  123H-DN-IP-2345\n",
       "2  Harry  Potter  123H-DN-IP-2345"
      ]
     },
     "execution_count": 25,
     "metadata": {},
     "output_type": "execute_result"
    }
   ],
   "source": [
    "rows=[]\n",
    "for f in files:\n",
    "    with open('C:/users/mwbarr/documentation of services samples/'+f, 'r') as file:\n",
    "        for line in file:\n",
    "            if 'Victim Name' in line: victimName=line.replace('Victim Name:','').strip()\n",
    "            if 'FBI Case' in line: caseNumber=line.replace('FBI Case Number:','').strip()\n",
    "        rows.append([victimName,caseNumber])\n",
    "df=pd.DataFrame(rows)\n",
    "df.columns=['Name','Case Number']\n",
    "df"
   ]
  },
  {
   "cell_type": "markdown",
   "metadata": {},
   "source": [
    "**2c** Loop over the list again.  This time, extract each nested table and combine them into a single dataframe.  You will need to use code from 1c AND 1d to do this"
   ]
  },
  {
   "cell_type": "code",
   "execution_count": 41,
   "metadata": {},
   "outputs": [
    {
     "data": {
      "text/html": [
       "<div>\n",
       "<style>\n",
       "    .dataframe thead tr:only-child th {\n",
       "        text-align: right;\n",
       "    }\n",
       "\n",
       "    .dataframe thead th {\n",
       "        text-align: left;\n",
       "    }\n",
       "\n",
       "    .dataframe tbody tr th {\n",
       "        vertical-align: top;\n",
       "    }\n",
       "</style>\n",
       "<table border=\"1\" class=\"dataframe\">\n",
       "  <thead>\n",
       "    <tr style=\"text-align: right;\">\n",
       "      <th></th>\n",
       "      <th>Service Type</th>\n",
       "      <th>Number of Services</th>\n",
       "    </tr>\n",
       "  </thead>\n",
       "  <tbody>\n",
       "    <tr>\n",
       "      <th>0</th>\n",
       "      <td>Initial Contact In Person</td>\n",
       "      <td>1</td>\n",
       "    </tr>\n",
       "    <tr>\n",
       "      <th>1</th>\n",
       "      <td>Crisis Intervention</td>\n",
       "      <td>1</td>\n",
       "    </tr>\n",
       "    <tr>\n",
       "      <th>0</th>\n",
       "      <td>Ante Mortem Data Collection Assistance</td>\n",
       "      <td>4</td>\n",
       "    </tr>\n",
       "    <tr>\n",
       "      <th>1</th>\n",
       "      <td>Accompany Victim Counseling Appointment</td>\n",
       "      <td>2</td>\n",
       "    </tr>\n",
       "    <tr>\n",
       "      <th>2</th>\n",
       "      <td>Case Status Update (Non-VNS)</td>\n",
       "      <td>1</td>\n",
       "    </tr>\n",
       "    <tr>\n",
       "      <th>3</th>\n",
       "      <td>Accompany Victim Court</td>\n",
       "      <td>2</td>\n",
       "    </tr>\n",
       "    <tr>\n",
       "      <th>4</th>\n",
       "      <td>Forensic Interview Accompanied</td>\n",
       "      <td>1</td>\n",
       "    </tr>\n",
       "    <tr>\n",
       "      <th>0</th>\n",
       "      <td>Ante Mortem Data Collection Assistance</td>\n",
       "      <td>1</td>\n",
       "    </tr>\n",
       "    <tr>\n",
       "      <th>1</th>\n",
       "      <td>Accompany Victim Counseling Appointment</td>\n",
       "      <td>1</td>\n",
       "    </tr>\n",
       "    <tr>\n",
       "      <th>2</th>\n",
       "      <td>Case Status Update (Non-VNS)</td>\n",
       "      <td>1</td>\n",
       "    </tr>\n",
       "  </tbody>\n",
       "</table>\n",
       "</div>"
      ],
      "text/plain": [
       "                              Service Type Number of Services\n",
       "0                Initial Contact In Person                  1\n",
       "1                      Crisis Intervention                  1\n",
       "0   Ante Mortem Data Collection Assistance                  4\n",
       "1  Accompany Victim Counseling Appointment                  2\n",
       "2             Case Status Update (Non-VNS)                  1\n",
       "3                   Accompany Victim Court                  2\n",
       "4           Forensic Interview Accompanied                  1\n",
       "0   Ante Mortem Data Collection Assistance                  1\n",
       "1  Accompany Victim Counseling Appointment                  1\n",
       "2             Case Status Update (Non-VNS)                  1"
      ]
     },
     "execution_count": 41,
     "metadata": {},
     "output_type": "execute_result"
    }
   ],
   "source": [
    "rows=[]\n",
    "finalDF=pd.DataFrame()\n",
    "for f in files:\n",
    "    inTable=False\n",
    "    tableRows=[]\n",
    "    with open('C:/users/mwbarr/documentation of services samples/'+f, 'r') as file:\n",
    "        for line in file:\n",
    "            if 'Additional Notes' in line:\n",
    "                inTable=False\n",
    "            if inTable and len(line)>10:\n",
    "                tableRows.append(line.split())\n",
    "            if 'Service Type' in line:\n",
    "                inTable=True\n",
    "        newRows=[]\n",
    "        for t in tableRows:\n",
    "            newRows.append([' '.join(t[:-1]),t[-1]])\n",
    "    finalDF=pd.concat([finalDF,pd.DataFrame(newRows)])\n",
    "finalDF.columns=['Service Type','Number of Services']\n",
    "finalDF"
   ]
  },
  {
   "cell_type": "markdown",
   "metadata": {},
   "source": [
    "### If you have time..."
   ]
  },
  {
   "cell_type": "markdown",
   "metadata": {},
   "source": [
    "Extract all the data from all three files not in the nested tables.  Do so in as few lines of code as possible."
   ]
  },
  {
   "cell_type": "code",
   "execution_count": 42,
   "metadata": {},
   "outputs": [
    {
     "data": {
      "text/html": [
       "<div>\n",
       "<style>\n",
       "    .dataframe thead tr:only-child th {\n",
       "        text-align: right;\n",
       "    }\n",
       "\n",
       "    .dataframe thead th {\n",
       "        text-align: left;\n",
       "    }\n",
       "\n",
       "    .dataframe tbody tr th {\n",
       "        vertical-align: top;\n",
       "    }\n",
       "</style>\n",
       "<table border=\"1\" class=\"dataframe\">\n",
       "  <thead>\n",
       "    <tr style=\"text-align: right;\">\n",
       "      <th></th>\n",
       "      <th>Additional Notes and Services</th>\n",
       "      <th>Download Date</th>\n",
       "      <th>Downloaded By</th>\n",
       "      <th>FBI Case Number</th>\n",
       "      <th>From</th>\n",
       "      <th>To</th>\n",
       "      <th>Victim Name</th>\n",
       "    </tr>\n",
       "  </thead>\n",
       "  <tbody>\n",
       "    <tr>\n",
       "      <th>0</th>\n",
       "      <td></td>\n",
       "      <td>03-OCT-19</td>\n",
       "      <td>Matthew Barr</td>\n",
       "      <td>123H-DN-IP-2345</td>\n",
       "      <td>01-JAN-00</td>\n",
       "      <td>03-OCT-19</td>\n",
       "      <td>Bill  Smith</td>\n",
       "    </tr>\n",
       "    <tr>\n",
       "      <th>1</th>\n",
       "      <td></td>\n",
       "      <td>03-OCT-19</td>\n",
       "      <td>Matthew Barr</td>\n",
       "      <td>123H-DN-IP-2345</td>\n",
       "      <td>01-JAN-00</td>\n",
       "      <td>03-OCT-19</td>\n",
       "      <td>Leia  Organna</td>\n",
       "    </tr>\n",
       "    <tr>\n",
       "      <th>2</th>\n",
       "      <td></td>\n",
       "      <td>03-OCT-19</td>\n",
       "      <td>Matthew Barr</td>\n",
       "      <td>123H-DN-IP-2345</td>\n",
       "      <td>01-JAN-00</td>\n",
       "      <td>03-OCT-19</td>\n",
       "      <td>Harry  Potter</td>\n",
       "    </tr>\n",
       "  </tbody>\n",
       "</table>\n",
       "</div>"
      ],
      "text/plain": [
       "   Additional Notes and Services Download Date Downloaded By  FBI Case Number  \\\n",
       "0                                    03-OCT-19  Matthew Barr  123H-DN-IP-2345   \n",
       "1                                    03-OCT-19  Matthew Barr  123H-DN-IP-2345   \n",
       "2                                    03-OCT-19  Matthew Barr  123H-DN-IP-2345   \n",
       "\n",
       "        From         To    Victim Name  \n",
       "0  01-JAN-00  03-OCT-19    Bill  Smith  \n",
       "1  01-JAN-00  03-OCT-19  Leia  Organna  \n",
       "2  01-JAN-00  03-OCT-19  Harry  Potter  "
      ]
     },
     "execution_count": 42,
     "metadata": {},
     "output_type": "execute_result"
    }
   ],
   "source": [
    "rows=[]\n",
    "for f in files:\n",
    "    with open('C:/users/mwbarr/documentation of services samples/'+f, 'r') as file:\n",
    "        ##Note the use of a dictionary here, which is better practice than using individual variables, like I did earlier\n",
    "        row={}\n",
    "        for line in file:\n",
    "            if ':' in line:\n",
    "                row[line[:line.find(':')]]=line[line.find(':')+1:].strip()\n",
    "        rows.append(row)\n",
    "df=pd.DataFrame(rows)\n",
    "df"
   ]
  },
  {
   "cell_type": "markdown",
   "metadata": {},
   "source": [
    "Create a table that includes all of the data from the table from 2c, as well as columns for Victim Name and FBI Case Number (corresponding to the appropriate case number and victim from each file)"
   ]
  },
  {
   "cell_type": "code",
   "execution_count": 43,
   "metadata": {},
   "outputs": [
    {
     "data": {
      "text/html": [
       "<div>\n",
       "<style>\n",
       "    .dataframe thead tr:only-child th {\n",
       "        text-align: right;\n",
       "    }\n",
       "\n",
       "    .dataframe thead th {\n",
       "        text-align: left;\n",
       "    }\n",
       "\n",
       "    .dataframe tbody tr th {\n",
       "        vertical-align: top;\n",
       "    }\n",
       "</style>\n",
       "<table border=\"1\" class=\"dataframe\">\n",
       "  <thead>\n",
       "    <tr style=\"text-align: right;\">\n",
       "      <th></th>\n",
       "      <th>Service Type</th>\n",
       "      <th>Number of Services</th>\n",
       "      <th>Victim Name</th>\n",
       "      <th>Case Number</th>\n",
       "    </tr>\n",
       "  </thead>\n",
       "  <tbody>\n",
       "    <tr>\n",
       "      <th>0</th>\n",
       "      <td>Initial Contact In Person</td>\n",
       "      <td>1</td>\n",
       "      <td>Bill  Smith</td>\n",
       "      <td>123H-DN-IP-2345</td>\n",
       "    </tr>\n",
       "    <tr>\n",
       "      <th>1</th>\n",
       "      <td>Crisis Intervention</td>\n",
       "      <td>1</td>\n",
       "      <td>Bill  Smith</td>\n",
       "      <td>123H-DN-IP-2345</td>\n",
       "    </tr>\n",
       "    <tr>\n",
       "      <th>0</th>\n",
       "      <td>Ante Mortem Data Collection Assistance</td>\n",
       "      <td>4</td>\n",
       "      <td>Leia  Organna</td>\n",
       "      <td>123H-DN-IP-2345</td>\n",
       "    </tr>\n",
       "    <tr>\n",
       "      <th>1</th>\n",
       "      <td>Accompany Victim Counseling Appointment</td>\n",
       "      <td>2</td>\n",
       "      <td>Leia  Organna</td>\n",
       "      <td>123H-DN-IP-2345</td>\n",
       "    </tr>\n",
       "    <tr>\n",
       "      <th>2</th>\n",
       "      <td>Case Status Update (Non-VNS)</td>\n",
       "      <td>1</td>\n",
       "      <td>Leia  Organna</td>\n",
       "      <td>123H-DN-IP-2345</td>\n",
       "    </tr>\n",
       "    <tr>\n",
       "      <th>3</th>\n",
       "      <td>Accompany Victim Court</td>\n",
       "      <td>2</td>\n",
       "      <td>Leia  Organna</td>\n",
       "      <td>123H-DN-IP-2345</td>\n",
       "    </tr>\n",
       "    <tr>\n",
       "      <th>4</th>\n",
       "      <td>Forensic Interview Accompanied</td>\n",
       "      <td>1</td>\n",
       "      <td>Leia  Organna</td>\n",
       "      <td>123H-DN-IP-2345</td>\n",
       "    </tr>\n",
       "    <tr>\n",
       "      <th>0</th>\n",
       "      <td>Ante Mortem Data Collection Assistance</td>\n",
       "      <td>1</td>\n",
       "      <td>Harry  Potter</td>\n",
       "      <td>123H-DN-IP-2345</td>\n",
       "    </tr>\n",
       "    <tr>\n",
       "      <th>1</th>\n",
       "      <td>Accompany Victim Counseling Appointment</td>\n",
       "      <td>1</td>\n",
       "      <td>Harry  Potter</td>\n",
       "      <td>123H-DN-IP-2345</td>\n",
       "    </tr>\n",
       "    <tr>\n",
       "      <th>2</th>\n",
       "      <td>Case Status Update (Non-VNS)</td>\n",
       "      <td>1</td>\n",
       "      <td>Harry  Potter</td>\n",
       "      <td>123H-DN-IP-2345</td>\n",
       "    </tr>\n",
       "  </tbody>\n",
       "</table>\n",
       "</div>"
      ],
      "text/plain": [
       "                              Service Type Number of Services    Victim Name  \\\n",
       "0                Initial Contact In Person                  1    Bill  Smith   \n",
       "1                      Crisis Intervention                  1    Bill  Smith   \n",
       "0   Ante Mortem Data Collection Assistance                  4  Leia  Organna   \n",
       "1  Accompany Victim Counseling Appointment                  2  Leia  Organna   \n",
       "2             Case Status Update (Non-VNS)                  1  Leia  Organna   \n",
       "3                   Accompany Victim Court                  2  Leia  Organna   \n",
       "4           Forensic Interview Accompanied                  1  Leia  Organna   \n",
       "0   Ante Mortem Data Collection Assistance                  1  Harry  Potter   \n",
       "1  Accompany Victim Counseling Appointment                  1  Harry  Potter   \n",
       "2             Case Status Update (Non-VNS)                  1  Harry  Potter   \n",
       "\n",
       "       Case Number  \n",
       "0  123H-DN-IP-2345  \n",
       "1  123H-DN-IP-2345  \n",
       "0  123H-DN-IP-2345  \n",
       "1  123H-DN-IP-2345  \n",
       "2  123H-DN-IP-2345  \n",
       "3  123H-DN-IP-2345  \n",
       "4  123H-DN-IP-2345  \n",
       "0  123H-DN-IP-2345  \n",
       "1  123H-DN-IP-2345  \n",
       "2  123H-DN-IP-2345  "
      ]
     },
     "execution_count": 43,
     "metadata": {},
     "output_type": "execute_result"
    }
   ],
   "source": [
    "rows=[]\n",
    "finalDF=pd.DataFrame()\n",
    "for f in files:\n",
    "    inTable=False\n",
    "    tableRows=[]\n",
    "    with open('C:/users/mwbarr/documentation of services samples/'+f, 'r') as file:\n",
    "        for line in file:\n",
    "            if 'Victim Name' in line: victimName=line.replace('Victim Name:','').strip()\n",
    "            if 'FBI Case' in line: caseNumber=line.replace('FBI Case Number:','').strip()  \n",
    "            if 'Additional Notes' in line:\n",
    "                inTable=False\n",
    "            if inTable and len(line)>10:\n",
    "                tableRows.append(line.split())\n",
    "            if 'Service Type' in line:\n",
    "                inTable=True\n",
    "        newRows=[]\n",
    "        for t in tableRows:\n",
    "            newRows.append([' '.join(t[:-1]),t[-1],victimName,caseNumber])\n",
    "    finalDF=pd.concat([finalDF,pd.DataFrame(newRows)])\n",
    "finalDF.columns=['Service Type','Number of Services','Victim Name','Case Number']\n",
    "finalDF"
   ]
  },
  {
   "cell_type": "markdown",
   "metadata": {},
   "source": [
    "Use tools from other lessons to summarize and obtain descriptive statistics for this data.  At least in the approach I used, there is a significant flaw in the data that may become apparent when you do so"
   ]
  },
  {
   "cell_type": "code",
   "execution_count": 46,
   "metadata": {},
   "outputs": [
    {
     "data": {
      "text/html": [
       "<div>\n",
       "<style>\n",
       "    .dataframe thead tr:only-child th {\n",
       "        text-align: right;\n",
       "    }\n",
       "\n",
       "    .dataframe thead th {\n",
       "        text-align: left;\n",
       "    }\n",
       "\n",
       "    .dataframe tbody tr th {\n",
       "        vertical-align: top;\n",
       "    }\n",
       "</style>\n",
       "<table border=\"1\" class=\"dataframe\">\n",
       "  <thead>\n",
       "    <tr style=\"text-align: right;\">\n",
       "      <th></th>\n",
       "      <th>Service Type</th>\n",
       "      <th>Number of Services</th>\n",
       "      <th>Victim Name</th>\n",
       "      <th>Case Number</th>\n",
       "    </tr>\n",
       "  </thead>\n",
       "  <tbody>\n",
       "    <tr>\n",
       "      <th>count</th>\n",
       "      <td>10</td>\n",
       "      <td>10</td>\n",
       "      <td>10</td>\n",
       "      <td>10</td>\n",
       "    </tr>\n",
       "    <tr>\n",
       "      <th>unique</th>\n",
       "      <td>7</td>\n",
       "      <td>3</td>\n",
       "      <td>3</td>\n",
       "      <td>1</td>\n",
       "    </tr>\n",
       "    <tr>\n",
       "      <th>top</th>\n",
       "      <td>Case Status Update (Non-VNS)</td>\n",
       "      <td>1</td>\n",
       "      <td>Leia  Organna</td>\n",
       "      <td>123H-DN-IP-2345</td>\n",
       "    </tr>\n",
       "    <tr>\n",
       "      <th>freq</th>\n",
       "      <td>2</td>\n",
       "      <td>7</td>\n",
       "      <td>5</td>\n",
       "      <td>10</td>\n",
       "    </tr>\n",
       "  </tbody>\n",
       "</table>\n",
       "</div>"
      ],
      "text/plain": [
       "                        Service Type Number of Services    Victim Name  \\\n",
       "count                             10                 10             10   \n",
       "unique                             7                  3              3   \n",
       "top     Case Status Update (Non-VNS)                  1  Leia  Organna   \n",
       "freq                               2                  7              5   \n",
       "\n",
       "            Case Number  \n",
       "count                10  \n",
       "unique                1  \n",
       "top     123H-DN-IP-2345  \n",
       "freq                 10  "
      ]
     },
     "execution_count": 46,
     "metadata": {},
     "output_type": "execute_result"
    }
   ],
   "source": [
    "finalDF.describe()"
   ]
  },
  {
   "cell_type": "code",
   "execution_count": 47,
   "metadata": {},
   "outputs": [
    {
     "name": "stdout",
     "output_type": "stream",
     "text": [
      "<class 'pandas.core.frame.DataFrame'>\n",
      "Int64Index: 10 entries, 0 to 2\n",
      "Data columns (total 4 columns):\n",
      "Service Type          10 non-null object\n",
      "Number of Services    10 non-null object\n",
      "Victim Name           10 non-null object\n",
      "Case Number           10 non-null object\n",
      "dtypes: object(4)\n",
      "memory usage: 400.0+ bytes\n"
     ]
    }
   ],
   "source": [
    "finalDF.info()"
   ]
  },
  {
   "cell_type": "code",
   "execution_count": 51,
   "metadata": {
    "collapsed": true
   },
   "outputs": [],
   "source": [
    "finalDF['Number of Services']=finalDF['Number of Services'].astype(int)"
   ]
  },
  {
   "cell_type": "code",
   "execution_count": 52,
   "metadata": {},
   "outputs": [
    {
     "data": {
      "text/plain": [
       "Victim Name\n",
       "Bill  Smith       2\n",
       "Harry  Potter     3\n",
       "Leia  Organna    10\n",
       "Name: Number of Services, dtype: int32"
      ]
     },
     "execution_count": 52,
     "metadata": {},
     "output_type": "execute_result"
    }
   ],
   "source": [
    "finalDF.groupby('Victim Name').agg(sum)['Number of Services']"
   ]
  }
 ],
 "metadata": {
  "kernelspec": {
   "display_name": "Python 3",
   "language": "python",
   "name": "python3"
  },
  "language_info": {
   "codemirror_mode": {
    "name": "ipython",
    "version": 3
   },
   "file_extension": ".py",
   "mimetype": "text/x-python",
   "name": "python",
   "nbconvert_exporter": "python",
   "pygments_lexer": "ipython3",
   "version": "3.7.6"
  }
 },
 "nbformat": 4,
 "nbformat_minor": 2
}
