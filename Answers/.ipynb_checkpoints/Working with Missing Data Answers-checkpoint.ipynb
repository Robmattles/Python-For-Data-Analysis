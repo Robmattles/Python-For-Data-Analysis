{
 "cells": [
  {
   "cell_type": "markdown",
   "metadata": {},
   "source": [
    "# Module 6 - Working with Missing Data"
   ]
  },
  {
   "cell_type": "markdown",
   "metadata": {},
   "source": [
    "### Prelude"
   ]
  },
  {
   "cell_type": "markdown",
   "metadata": {},
   "source": [
    "Import pandas as pd and numpy as np"
   ]
  },
  {
   "cell_type": "code",
   "execution_count": 1,
   "metadata": {},
   "outputs": [],
   "source": [
    "import pandas as pd\n",
    "import numpy as np"
   ]
  },
  {
   "cell_type": "markdown",
   "metadata": {},
   "source": [
    "Read the file enronRenamed.csv "
   ]
  },
  {
   "cell_type": "code",
   "execution_count": 2,
   "metadata": {},
   "outputs": [
    {
     "data": {
      "text/html": [
       "<div>\n",
       "<style scoped>\n",
       "    .dataframe tbody tr th:only-of-type {\n",
       "        vertical-align: middle;\n",
       "    }\n",
       "\n",
       "    .dataframe tbody tr th {\n",
       "        vertical-align: top;\n",
       "    }\n",
       "\n",
       "    .dataframe thead th {\n",
       "        text-align: right;\n",
       "    }\n",
       "</style>\n",
       "<table border=\"1\" class=\"dataframe\">\n",
       "  <thead>\n",
       "    <tr style=\"text-align: right;\">\n",
       "      <th></th>\n",
       "      <th>Unnamed: 0</th>\n",
       "      <th>Subject</th>\n",
       "      <th>From</th>\n",
       "      <th>To</th>\n",
       "      <th>cc</th>\n",
       "      <th>bcc</th>\n",
       "      <th>Folder</th>\n",
       "      <th>Origin</th>\n",
       "      <th>FileName</th>\n",
       "      <th>content</th>\n",
       "      <th>user</th>\n",
       "      <th>labeled</th>\n",
       "      <th>dollarValueMentionedinMessage</th>\n",
       "      <th>messageLength</th>\n",
       "      <th>Date</th>\n",
       "    </tr>\n",
       "  </thead>\n",
       "  <tbody>\n",
       "    <tr>\n",
       "      <th>0</th>\n",
       "      <td>0</td>\n",
       "      <td>RTO Orders - Grid South, SE Trans, SPP and Ent...</td>\n",
       "      <td>Fulton, Donna &lt;/O=ENRON/OU=NA/CN=RECIPIENTS/CN...</td>\n",
       "      <td>Kean, Steven &lt;/O=ENRON/OU=NA/CN=RECIPIENTS/CN=...</td>\n",
       "      <td>NaN</td>\n",
       "      <td>NaN</td>\n",
       "      <td>\\GWHALLE (Non-Privileged)\\Markets</td>\n",
       "      <td>WHALLEY-G</td>\n",
       "      <td>GWHALLE (Non-Privileged).pst</td>\n",
       "      <td>The Southeast RTO orders are out and have foll...</td>\n",
       "      <td>whalley-g</td>\n",
       "      <td>False</td>\n",
       "      <td>NaN</td>\n",
       "      <td>2570</td>\n",
       "      <td>2001-07-13 19:47:20</td>\n",
       "    </tr>\n",
       "    <tr>\n",
       "      <th>1</th>\n",
       "      <td>1</td>\n",
       "      <td>More UC/CSU Info</td>\n",
       "      <td>Delainey, David &lt;/O=ENRON/OU=NA/CN=RECIPIENTS/...</td>\n",
       "      <td>Greg Whalley/HOU/ECT@ENRON, Lavorato, John &lt;/O...</td>\n",
       "      <td>NaN</td>\n",
       "      <td>NaN</td>\n",
       "      <td>\\GWHALLE (Non-Privileged)\\Markets</td>\n",
       "      <td>WHALLEY-G</td>\n",
       "      <td>GWHALLE (Non-Privileged).pst</td>\n",
       "      <td>---------------------- Forwarded by David W De...</td>\n",
       "      <td>whalley-g</td>\n",
       "      <td>False</td>\n",
       "      <td>NaN</td>\n",
       "      <td>3761</td>\n",
       "      <td>2001-07-12 11:36:58</td>\n",
       "    </tr>\n",
       "    <tr>\n",
       "      <th>2</th>\n",
       "      <td>2</td>\n",
       "      <td>California Update 07.09.01</td>\n",
       "      <td>Dasovich, Jeff &lt;/O=ENRON/OU=NA/CN=RECIPIENTS/C...</td>\n",
       "      <td>skean@enron.com, Shapiro, Richard &lt;/O=ENRON/OU...</td>\n",
       "      <td>NaN</td>\n",
       "      <td>NaN</td>\n",
       "      <td>\\GWHALLE (Non-Privileged)\\Markets</td>\n",
       "      <td>WHALLEY-G</td>\n",
       "      <td>GWHALLE (Non-Privileged).pst</td>\n",
       "      <td>The Bond Legislation The Democrats in the Asse...</td>\n",
       "      <td>whalley-g</td>\n",
       "      <td>False</td>\n",
       "      <td>NaN</td>\n",
       "      <td>1348</td>\n",
       "      <td>2001-07-10 00:47:51</td>\n",
       "    </tr>\n",
       "    <tr>\n",
       "      <th>3</th>\n",
       "      <td>3</td>\n",
       "      <td>Davis &amp; Company -- incompetence personified</td>\n",
       "      <td>Shapiro, Richard &lt;/O=ENRON/OU=NA/CN=RECIPIENTS...</td>\n",
       "      <td>Lavorato, John &lt;/O=ENRON/OU=NA/CN=RECIPIENTS/C...</td>\n",
       "      <td>NaN</td>\n",
       "      <td>NaN</td>\n",
       "      <td>\\GWHALLE (Non-Privileged)\\Markets</td>\n",
       "      <td>WHALLEY-G</td>\n",
       "      <td>GWHALLE (Non-Privileged).pst</td>\n",
       "      <td>FYI ---------------------- Forwarded by Richar...</td>\n",
       "      <td>whalley-g</td>\n",
       "      <td>False</td>\n",
       "      <td>37.0</td>\n",
       "      <td>2592</td>\n",
       "      <td>2001-07-06 20:45:05</td>\n",
       "    </tr>\n",
       "    <tr>\n",
       "      <th>4</th>\n",
       "      <td>4</td>\n",
       "      <td>Link to DWR contract info</td>\n",
       "      <td>Shapiro, Richard &lt;/O=ENRON/OU=NA/CN=RECIPIENTS...</td>\n",
       "      <td>Lavorato, John &lt;/O=ENRON/OU=NA/CN=RECIPIENTS/C...</td>\n",
       "      <td>NaN</td>\n",
       "      <td>NaN</td>\n",
       "      <td>\\GWHALLE (Non-Privileged)\\Markets</td>\n",
       "      <td>WHALLEY-G</td>\n",
       "      <td>GWHALLE (Non-Privileged).pst</td>\n",
       "      <td>FYI ---------------------- Forwarded by Richar...</td>\n",
       "      <td>whalley-g</td>\n",
       "      <td>False</td>\n",
       "      <td>43.0</td>\n",
       "      <td>1774</td>\n",
       "      <td>2001-07-06 20:44:33</td>\n",
       "    </tr>\n",
       "  </tbody>\n",
       "</table>\n",
       "</div>"
      ],
      "text/plain": [
       "   Unnamed: 0                                            Subject  \\\n",
       "0           0  RTO Orders - Grid South, SE Trans, SPP and Ent...   \n",
       "1           1                                   More UC/CSU Info   \n",
       "2           2                         California Update 07.09.01   \n",
       "3           3        Davis & Company -- incompetence personified   \n",
       "4           4                          Link to DWR contract info   \n",
       "\n",
       "                                                From  \\\n",
       "0  Fulton, Donna </O=ENRON/OU=NA/CN=RECIPIENTS/CN...   \n",
       "1  Delainey, David </O=ENRON/OU=NA/CN=RECIPIENTS/...   \n",
       "2  Dasovich, Jeff </O=ENRON/OU=NA/CN=RECIPIENTS/C...   \n",
       "3  Shapiro, Richard </O=ENRON/OU=NA/CN=RECIPIENTS...   \n",
       "4  Shapiro, Richard </O=ENRON/OU=NA/CN=RECIPIENTS...   \n",
       "\n",
       "                                                  To   cc  bcc  \\\n",
       "0  Kean, Steven </O=ENRON/OU=NA/CN=RECIPIENTS/CN=...  NaN  NaN   \n",
       "1  Greg Whalley/HOU/ECT@ENRON, Lavorato, John </O...  NaN  NaN   \n",
       "2  skean@enron.com, Shapiro, Richard </O=ENRON/OU...  NaN  NaN   \n",
       "3  Lavorato, John </O=ENRON/OU=NA/CN=RECIPIENTS/C...  NaN  NaN   \n",
       "4  Lavorato, John </O=ENRON/OU=NA/CN=RECIPIENTS/C...  NaN  NaN   \n",
       "\n",
       "                              Folder     Origin                      FileName  \\\n",
       "0  \\GWHALLE (Non-Privileged)\\Markets  WHALLEY-G  GWHALLE (Non-Privileged).pst   \n",
       "1  \\GWHALLE (Non-Privileged)\\Markets  WHALLEY-G  GWHALLE (Non-Privileged).pst   \n",
       "2  \\GWHALLE (Non-Privileged)\\Markets  WHALLEY-G  GWHALLE (Non-Privileged).pst   \n",
       "3  \\GWHALLE (Non-Privileged)\\Markets  WHALLEY-G  GWHALLE (Non-Privileged).pst   \n",
       "4  \\GWHALLE (Non-Privileged)\\Markets  WHALLEY-G  GWHALLE (Non-Privileged).pst   \n",
       "\n",
       "                                             content       user  labeled  \\\n",
       "0  The Southeast RTO orders are out and have foll...  whalley-g    False   \n",
       "1  ---------------------- Forwarded by David W De...  whalley-g    False   \n",
       "2  The Bond Legislation The Democrats in the Asse...  whalley-g    False   \n",
       "3  FYI ---------------------- Forwarded by Richar...  whalley-g    False   \n",
       "4  FYI ---------------------- Forwarded by Richar...  whalley-g    False   \n",
       "\n",
       "   dollarValueMentionedinMessage  messageLength                 Date  \n",
       "0                            NaN           2570  2001-07-13 19:47:20  \n",
       "1                            NaN           3761  2001-07-12 11:36:58  \n",
       "2                            NaN           1348  2001-07-10 00:47:51  \n",
       "3                           37.0           2592  2001-07-06 20:45:05  \n",
       "4                           43.0           1774  2001-07-06 20:44:33  "
      ]
     },
     "execution_count": 2,
     "metadata": {},
     "output_type": "execute_result"
    }
   ],
   "source": [
    "df=pd.read_csv(r'C:\\Users\\mwbarr\\OneDrive - Federal Bureau of Investigation\\Python_for_Data_Analysis\\Python for Data Analysis\\enronRenamed.csv')\n",
    "df.head()"
   ]
  },
  {
   "cell_type": "markdown",
   "metadata": {},
   "source": [
    "### Part 1: Identifying and Removing Missing Values"
   ]
  },
  {
   "cell_type": "markdown",
   "metadata": {},
   "source": [
    "**1a** Get the number of missing values in the cc column"
   ]
  },
  {
   "cell_type": "code",
   "execution_count": 3,
   "metadata": {},
   "outputs": [
    {
     "data": {
      "text/plain": [
       "12149"
      ]
     },
     "execution_count": 3,
     "metadata": {},
     "output_type": "execute_result"
    }
   ],
   "source": [
    "df['cc'].isnull().sum()"
   ]
  },
  {
   "cell_type": "markdown",
   "metadata": {},
   "source": [
    "**1b** Get the proportion of null values in the cc column"
   ]
  },
  {
   "cell_type": "code",
   "execution_count": 4,
   "metadata": {},
   "outputs": [
    {
     "data": {
      "text/plain": [
       "0.6981782656169185"
      ]
     },
     "execution_count": 4,
     "metadata": {},
     "output_type": "execute_result"
    }
   ],
   "source": [
    "df['cc'].isnull().mean()"
   ]
  },
  {
   "cell_type": "markdown",
   "metadata": {},
   "source": [
    "**1c** Filter the dataframe to include only rows with values in cc column"
   ]
  },
  {
   "cell_type": "code",
   "execution_count": 5,
   "metadata": {},
   "outputs": [
    {
     "data": {
      "text/html": [
       "<div>\n",
       "<style scoped>\n",
       "    .dataframe tbody tr th:only-of-type {\n",
       "        vertical-align: middle;\n",
       "    }\n",
       "\n",
       "    .dataframe tbody tr th {\n",
       "        vertical-align: top;\n",
       "    }\n",
       "\n",
       "    .dataframe thead th {\n",
       "        text-align: right;\n",
       "    }\n",
       "</style>\n",
       "<table border=\"1\" class=\"dataframe\">\n",
       "  <thead>\n",
       "    <tr style=\"text-align: right;\">\n",
       "      <th></th>\n",
       "      <th>Unnamed: 0</th>\n",
       "      <th>Subject</th>\n",
       "      <th>From</th>\n",
       "      <th>To</th>\n",
       "      <th>cc</th>\n",
       "      <th>bcc</th>\n",
       "      <th>Folder</th>\n",
       "      <th>Origin</th>\n",
       "      <th>FileName</th>\n",
       "      <th>content</th>\n",
       "      <th>user</th>\n",
       "      <th>labeled</th>\n",
       "      <th>dollarValueMentionedinMessage</th>\n",
       "      <th>messageLength</th>\n",
       "      <th>Date</th>\n",
       "    </tr>\n",
       "  </thead>\n",
       "  <tbody>\n",
       "    <tr>\n",
       "      <th>6</th>\n",
       "      <td>6</td>\n",
       "      <td>CPUC Decision Suspending Direct Access</td>\n",
       "      <td>James D Steffes &lt;James D Steffes/NA/Enron@ENRON&gt;</td>\n",
       "      <td>David W Delainey &lt;David W Delainey/HOU/EES@EES...</td>\n",
       "      <td>Harry Kingerski &lt;Harry Kingerski/NA/Enron@Enro...</td>\n",
       "      <td>NaN</td>\n",
       "      <td>\\GWHALLE (Non-Privileged)\\Markets</td>\n",
       "      <td>WHALLEY-G</td>\n",
       "      <td>GWHALLE (Non-Privileged).pst</td>\n",
       "      <td>The following points highlight legal/regulator...</td>\n",
       "      <td>whalley-g</td>\n",
       "      <td>False</td>\n",
       "      <td>NaN</td>\n",
       "      <td>2042</td>\n",
       "      <td>2001-06-21 21:29:00</td>\n",
       "    </tr>\n",
       "    <tr>\n",
       "      <th>7</th>\n",
       "      <td>7</td>\n",
       "      <td>California 7/31</td>\n",
       "      <td>Johnston, Robert &lt;/O=ENRON/OU=NA/CN=RECIPIENTS...</td>\n",
       "      <td>Whalley, Greg &lt;/O=ENRON/OU=NA/CN=RECIPIENTS/CN...</td>\n",
       "      <td>Hickerson, Gary &lt;/O=ENRON/OU=NA/CN=RECIPIENTS/...</td>\n",
       "      <td>NaN</td>\n",
       "      <td>\\GWHALLE (Non-Privileged)\\Markets</td>\n",
       "      <td>WHALLEY-G</td>\n",
       "      <td>GWHALLE (Non-Privileged).pst</td>\n",
       "      <td>The train wreck known as California utility cr...</td>\n",
       "      <td>whalley-g</td>\n",
       "      <td>False</td>\n",
       "      <td>NaN</td>\n",
       "      <td>5417</td>\n",
       "      <td>2001-07-31 22:31:57</td>\n",
       "    </tr>\n",
       "    <tr>\n",
       "      <th>8</th>\n",
       "      <td>8</td>\n",
       "      <td>FW: California Update 7/26/01 p.3</td>\n",
       "      <td>Johnston, Robert &lt;/O=ENRON/OU=NA/CN=RECIPIENTS...</td>\n",
       "      <td>Whalley, Greg &lt;/O=ENRON/OU=NA/CN=RECIPIENTS/CN...</td>\n",
       "      <td>Hickerson, Gary &lt;/O=ENRON/OU=NA/CN=RECIPIENTS/...</td>\n",
       "      <td>NaN</td>\n",
       "      <td>\\GWHALLE (Non-Privileged)\\Markets</td>\n",
       "      <td>WHALLEY-G</td>\n",
       "      <td>GWHALLE (Non-Privileged).pst</td>\n",
       "      <td>Senator Burton spoke with the Speaker Wednesda...</td>\n",
       "      <td>whalley-g</td>\n",
       "      <td>False</td>\n",
       "      <td>2.0</td>\n",
       "      <td>4064</td>\n",
       "      <td>2001-07-27 11:32:47</td>\n",
       "    </tr>\n",
       "    <tr>\n",
       "      <th>9</th>\n",
       "      <td>9</td>\n",
       "      <td>FW: California Update 7/26/01</td>\n",
       "      <td>Johnston, Robert &lt;/O=ENRON/OU=NA/CN=RECIPIENTS...</td>\n",
       "      <td>Whalley, Greg &lt;/O=ENRON/OU=NA/CN=RECIPIENTS/CN...</td>\n",
       "      <td>Hickerson, Gary &lt;/O=ENRON/OU=NA/CN=RECIPIENTS/...</td>\n",
       "      <td>NaN</td>\n",
       "      <td>\\GWHALLE (Non-Privileged)\\Markets</td>\n",
       "      <td>WHALLEY-G</td>\n",
       "      <td>GWHALLE (Non-Privileged).pst</td>\n",
       "      <td>This is a long one... Let me know if you have ...</td>\n",
       "      <td>whalley-g</td>\n",
       "      <td>False</td>\n",
       "      <td>500.0</td>\n",
       "      <td>10947</td>\n",
       "      <td>2001-07-27 11:22:43</td>\n",
       "    </tr>\n",
       "    <tr>\n",
       "      <th>14</th>\n",
       "      <td>14</td>\n",
       "      <td>Amber and StorageApps Acquired</td>\n",
       "      <td>Garland, Kevin &lt;/O=ENRON/OU=NA/CN=RECIPIENTS/C...</td>\n",
       "      <td>Rice, Ken &lt;/O=ENRON/OU=NA/CN=RECIPIENTS/CN=Not...</td>\n",
       "      <td>Sheldon, Steven &lt;/O=ENRON/OU=NA/CN=RECIPIENTS/...</td>\n",
       "      <td>NaN</td>\n",
       "      <td>\\GWHALLE (Non-Privileged)\\Merchant Investments</td>\n",
       "      <td>WHALLEY-G</td>\n",
       "      <td>GWHALLE (Non-Privileged).pst</td>\n",
       "      <td>In a absolutely dead tech market, two of the E...</td>\n",
       "      <td>whalley-g</td>\n",
       "      <td>False</td>\n",
       "      <td>350.0</td>\n",
       "      <td>813</td>\n",
       "      <td>2001-07-25 22:13:40</td>\n",
       "    </tr>\n",
       "  </tbody>\n",
       "</table>\n",
       "</div>"
      ],
      "text/plain": [
       "    Unnamed: 0                                 Subject  \\\n",
       "6            6  CPUC Decision Suspending Direct Access   \n",
       "7            7                         California 7/31   \n",
       "8            8       FW: California Update 7/26/01 p.3   \n",
       "9            9           FW: California Update 7/26/01   \n",
       "14          14          Amber and StorageApps Acquired   \n",
       "\n",
       "                                                 From  \\\n",
       "6    James D Steffes <James D Steffes/NA/Enron@ENRON>   \n",
       "7   Johnston, Robert </O=ENRON/OU=NA/CN=RECIPIENTS...   \n",
       "8   Johnston, Robert </O=ENRON/OU=NA/CN=RECIPIENTS...   \n",
       "9   Johnston, Robert </O=ENRON/OU=NA/CN=RECIPIENTS...   \n",
       "14  Garland, Kevin </O=ENRON/OU=NA/CN=RECIPIENTS/C...   \n",
       "\n",
       "                                                   To  \\\n",
       "6   David W Delainey <David W Delainey/HOU/EES@EES...   \n",
       "7   Whalley, Greg </O=ENRON/OU=NA/CN=RECIPIENTS/CN...   \n",
       "8   Whalley, Greg </O=ENRON/OU=NA/CN=RECIPIENTS/CN...   \n",
       "9   Whalley, Greg </O=ENRON/OU=NA/CN=RECIPIENTS/CN...   \n",
       "14  Rice, Ken </O=ENRON/OU=NA/CN=RECIPIENTS/CN=Not...   \n",
       "\n",
       "                                                   cc  bcc  \\\n",
       "6   Harry Kingerski <Harry Kingerski/NA/Enron@Enro...  NaN   \n",
       "7   Hickerson, Gary </O=ENRON/OU=NA/CN=RECIPIENTS/...  NaN   \n",
       "8   Hickerson, Gary </O=ENRON/OU=NA/CN=RECIPIENTS/...  NaN   \n",
       "9   Hickerson, Gary </O=ENRON/OU=NA/CN=RECIPIENTS/...  NaN   \n",
       "14  Sheldon, Steven </O=ENRON/OU=NA/CN=RECIPIENTS/...  NaN   \n",
       "\n",
       "                                            Folder     Origin  \\\n",
       "6                \\GWHALLE (Non-Privileged)\\Markets  WHALLEY-G   \n",
       "7                \\GWHALLE (Non-Privileged)\\Markets  WHALLEY-G   \n",
       "8                \\GWHALLE (Non-Privileged)\\Markets  WHALLEY-G   \n",
       "9                \\GWHALLE (Non-Privileged)\\Markets  WHALLEY-G   \n",
       "14  \\GWHALLE (Non-Privileged)\\Merchant Investments  WHALLEY-G   \n",
       "\n",
       "                        FileName  \\\n",
       "6   GWHALLE (Non-Privileged).pst   \n",
       "7   GWHALLE (Non-Privileged).pst   \n",
       "8   GWHALLE (Non-Privileged).pst   \n",
       "9   GWHALLE (Non-Privileged).pst   \n",
       "14  GWHALLE (Non-Privileged).pst   \n",
       "\n",
       "                                              content       user  labeled  \\\n",
       "6   The following points highlight legal/regulator...  whalley-g    False   \n",
       "7   The train wreck known as California utility cr...  whalley-g    False   \n",
       "8   Senator Burton spoke with the Speaker Wednesda...  whalley-g    False   \n",
       "9   This is a long one... Let me know if you have ...  whalley-g    False   \n",
       "14  In a absolutely dead tech market, two of the E...  whalley-g    False   \n",
       "\n",
       "    dollarValueMentionedinMessage  messageLength                 Date  \n",
       "6                             NaN           2042  2001-06-21 21:29:00  \n",
       "7                             NaN           5417  2001-07-31 22:31:57  \n",
       "8                             2.0           4064  2001-07-27 11:32:47  \n",
       "9                           500.0          10947  2001-07-27 11:22:43  \n",
       "14                          350.0            813  2001-07-25 22:13:40  "
      ]
     },
     "execution_count": 5,
     "metadata": {},
     "output_type": "execute_result"
    }
   ],
   "source": [
    "onlyCC=df[df['cc'].isnull()==False]\n",
    "onlyCC.head()"
   ]
  },
  {
   "cell_type": "markdown",
   "metadata": {},
   "source": [
    "### Part 2: Filling missing values"
   ]
  },
  {
   "cell_type": "markdown",
   "metadata": {},
   "source": [
    "**2a** Fill all missing values in the dollarValueMentionedinMessage column with 0"
   ]
  },
  {
   "cell_type": "code",
   "execution_count": 7,
   "metadata": {},
   "outputs": [
    {
     "data": {
      "text/plain": [
       "0     0.0\n",
       "1     0.0\n",
       "2     0.0\n",
       "3    37.0\n",
       "4    43.0\n",
       "Name: dollarValueMentionedinMessage, dtype: float64"
      ]
     },
     "execution_count": 7,
     "metadata": {},
     "output_type": "execute_result"
    }
   ],
   "source": [
    "filledDollars=df['dollarValueMentionedinMessage'].fillna(0)\n",
    "filledDollars.head()"
   ]
  },
  {
   "cell_type": "markdown",
   "metadata": {},
   "source": [
    "**2b** Fill all missing values in the dollarValueMentionedinMessage with the closest filled value following the missing value"
   ]
  },
  {
   "cell_type": "code",
   "execution_count": 12,
   "metadata": {},
   "outputs": [
    {
     "data": {
      "text/plain": [
       "0    37.0\n",
       "1    37.0\n",
       "2    37.0\n",
       "3    37.0\n",
       "4    43.0\n",
       "Name: dollarValueMentionedinMessage, dtype: float64"
      ]
     },
     "execution_count": 12,
     "metadata": {},
     "output_type": "execute_result"
    }
   ],
   "source": [
    "filledDollars=df['dollarValueMentionedinMessage'].fillna(method='bfill')\n",
    "filledDollars.head()"
   ]
  },
  {
   "cell_type": "markdown",
   "metadata": {},
   "source": [
    "**2c** Fill all missing values in the dollarValueMentionedinMessage column with the value in messageLength from that row"
   ]
  },
  {
   "cell_type": "code",
   "execution_count": 13,
   "metadata": {},
   "outputs": [
    {
     "data": {
      "text/plain": [
       "0    2570.0\n",
       "1    3761.0\n",
       "2    1348.0\n",
       "3      37.0\n",
       "4      43.0\n",
       "Name: dollarValueMentionedinMessage, dtype: float64"
      ]
     },
     "execution_count": 13,
     "metadata": {},
     "output_type": "execute_result"
    }
   ],
   "source": [
    "filledDollars=df['dollarValueMentionedinMessage'].fillna(df['messageLength'])\n",
    "filledDollars.head()"
   ]
  },
  {
   "cell_type": "code",
   "execution_count": null,
   "metadata": {},
   "outputs": [],
   "source": []
  }
 ],
 "metadata": {
  "kernelspec": {
   "display_name": "Python 3",
   "language": "python",
   "name": "python3"
  },
  "language_info": {
   "codemirror_mode": {
    "name": "ipython",
    "version": 3
   },
   "file_extension": ".py",
   "mimetype": "text/x-python",
   "name": "python",
   "nbconvert_exporter": "python",
   "pygments_lexer": "ipython3",
   "version": "3.7.6"
  }
 },
 "nbformat": 4,
 "nbformat_minor": 2
}
