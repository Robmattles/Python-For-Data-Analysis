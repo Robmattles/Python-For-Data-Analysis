{
 "cells": [
  {
   "cell_type": "markdown",
   "metadata": {},
   "source": [
    "# Module 1 Exercise - Base Python Review"
   ]
  },
  {
   "cell_type": "markdown",
   "metadata": {},
   "source": [
    "### Part 1 - Syntax for loops, conditionals, and functions"
   ]
  },
  {
   "cell_type": "markdown",
   "metadata": {},
   "source": [
    "Let's start by creating a list.  We'll be working with this list for the rest of this exercise."
   ]
  },
  {
   "cell_type": "code",
   "execution_count": 3,
   "metadata": {},
   "outputs": [],
   "source": [
    "bankRobbers=['Adams','Ashley','Bailey','Bates','Barker','Best','Burke','Coy']"
   ]
  },
  {
   "cell_type": "markdown",
   "metadata": {},
   "source": [
    "**1a** Write a for loop in the below cell that prints each item in the list"
   ]
  },
  {
   "cell_type": "code",
   "execution_count": 5,
   "metadata": {},
   "outputs": [
    {
     "name": "stdout",
     "output_type": "stream",
     "text": [
      "Adams\n",
      "Ashley\n",
      "Bailey\n",
      "Bates\n",
      "Barker\n",
      "Best\n",
      "Burke\n",
      "Coy\n"
     ]
    }
   ],
   "source": [
    "##Your for loop here\n",
    "for robber in bankRobbers:\n",
    "    print(robber)"
   ]
  },
  {
   "cell_type": "markdown",
   "metadata": {},
   "source": [
    "**1b** Use a while loop paired to do the same thing"
   ]
  },
  {
   "cell_type": "code",
   "execution_count": 7,
   "metadata": {},
   "outputs": [
    {
     "name": "stdout",
     "output_type": "stream",
     "text": [
      "Adams\n",
      "Ashley\n",
      "Bailey\n",
      "Bates\n",
      "Barker\n",
      "Best\n",
      "Burke\n",
      "Coy\n"
     ]
    }
   ],
   "source": [
    "##Your while loop here\n",
    "i=0\n",
    "while i<len(bankRobbers):\n",
    "    print(bankRobbers[i])\n",
    "    i+=1"
   ]
  },
  {
   "cell_type": "markdown",
   "metadata": {},
   "source": [
    "**1c** Now, let's write a function called initial that just takes one name and returns the first letter of that name.  For example:  initial('Adams') should return 'A'"
   ]
  },
  {
   "cell_type": "code",
   "execution_count": 8,
   "metadata": {},
   "outputs": [
    {
     "name": "stdout",
     "output_type": "stream",
     "text": [
      "A\n"
     ]
    }
   ],
   "source": [
    "##Your definition of the function named initial here\n",
    "def initial(name):\n",
    "    return name[0]\n",
    "print(initial('Adams'))\n"
   ]
  },
  {
   "cell_type": "markdown",
   "metadata": {},
   "source": [
    "**1d** Copy your for loop from 1a into the below cell and amend it to use the function you just wrote to print only the first letter of each name"
   ]
  },
  {
   "cell_type": "code",
   "execution_count": 9,
   "metadata": {},
   "outputs": [
    {
     "name": "stdout",
     "output_type": "stream",
     "text": [
      "A\n",
      "A\n",
      "B\n",
      "B\n",
      "B\n",
      "B\n",
      "B\n",
      "C\n"
     ]
    }
   ],
   "source": [
    "##Your for loop here\n",
    "for robber in bankRobbers:\n",
    "    print(initial(robber))\n",
    "##Your loop here"
   ]
  },
  {
   "cell_type": "markdown",
   "metadata": {},
   "source": [
    "**1e** Copy your for loop from 1d into the below cell.  Use your for loop to identify which names start with the letter B and print only those names."
   ]
  },
  {
   "cell_type": "code",
   "execution_count": 10,
   "metadata": {},
   "outputs": [
    {
     "name": "stdout",
     "output_type": "stream",
     "text": [
      "Bailey\n",
      "Bates\n",
      "Barker\n",
      "Best\n",
      "Burke\n"
     ]
    }
   ],
   "source": [
    "##Your for loop here\n",
    "for robber in bankRobbers:\n",
    "    if initial(robber)=='B':\n",
    "        print(robber)\n"
   ]
  },
  {
   "cell_type": "markdown",
   "metadata": {},
   "source": [
    "### Part 2 - Dictionaries"
   ]
  },
  {
   "cell_type": "markdown",
   "metadata": {},
   "source": [
    "Let's add second variable - a dictionary called robberies.  This will contain the name of the bank robber and the amount of money stolen"
   ]
  },
  {
   "cell_type": "code",
   "execution_count": 11,
   "metadata": {},
   "outputs": [],
   "source": [
    "robberies={'Ashley':15676758,'Best':67535667,'Burke':2453223}"
   ]
  },
  {
   "cell_type": "markdown",
   "metadata": {},
   "source": [
    "**2a** Now that we have a dictionary and a list, you'll write a function called completeRobberies.  completeRobberies should take two inputs, the list of bank robbers and the dictionary of robberies.  It should return a dictionary linking each bank robber to the value in robberies (if they have one) or 0 (if not). Specifically, \n",
    "\n",
    "completeRobberies(bankRobbers,robberies)\n",
    "\n",
    "should return: {'Adams':0,'Ashley':15676758,'Bailey':0,'Bates':0,'Barker':0,'Best':67535667,'Burke':2453223}\n"
   ]
  },
  {
   "cell_type": "code",
   "execution_count": 13,
   "metadata": {},
   "outputs": [
    {
     "data": {
      "text/plain": [
       "{'Adams': 0,\n",
       " 'Ashley': 15676758,\n",
       " 'Bailey': 0,\n",
       " 'Bates': 0,\n",
       " 'Barker': 0,\n",
       " 'Best': 67535667,\n",
       " 'Burke': 2453223,\n",
       " 'Coy': 0}"
      ]
     },
     "execution_count": 13,
     "metadata": {},
     "output_type": "execute_result"
    }
   ],
   "source": [
    "def completeRobberies(bankRobbers, robberies):\n",
    "    fullDictionary={}\n",
    "    for robber in bankRobbers:\n",
    "        if robber in robberies:\n",
    "            fullDictionary[robber]=robberies[robber]\n",
    "        else:\n",
    "            fullDictionary[robber]=0\n",
    "    \n",
    "    ##Your code here to fill in fullDictionary\n",
    "    \n",
    "    return fullDictionary\n",
    "completeRobberies(bankRobbers,robberies)"
   ]
  },
  {
   "cell_type": "markdown",
   "metadata": {},
   "source": [
    "### Part 3 - List Comprehensions (with a little bit of set)"
   ]
  },
  {
   "cell_type": "markdown",
   "metadata": {},
   "source": [
    "**3a** Use a list comprehension to create a list of the **last** letter of each name in bankRobbers.  The output should be ['s', 'y', 'y', 's', 'r', 't', 'e', 'y']"
   ]
  },
  {
   "cell_type": "code",
   "execution_count": 15,
   "metadata": {},
   "outputs": [
    {
     "name": "stdout",
     "output_type": "stream",
     "text": [
      "['s', 'y', 'y', 's', 'r', 't', 'e', 'y']\n"
     ]
    }
   ],
   "source": [
    "lastLetters=[robber[-1] for robber in bankRobbers]\n",
    "print(lastLetters)"
   ]
  },
  {
   "cell_type": "markdown",
   "metadata": {},
   "source": [
    "**3b** Convert lastLetters to a set.  Note the order of the set compared to the order of the initial list."
   ]
  },
  {
   "cell_type": "code",
   "execution_count": 16,
   "metadata": {},
   "outputs": [
    {
     "name": "stdout",
     "output_type": "stream",
     "text": [
      "{'t', 'r', 'e', 'y', 's'}\n"
     ]
    }
   ],
   "source": [
    "letterSet=set(lastLetters)\n",
    "print(letterSet)"
   ]
  },
  {
   "cell_type": "markdown",
   "metadata": {},
   "source": [
    "The below cell uses the dictionary.values function to create a list called amountStolen.  The values function is one of many useful built-in functions that allow you to use basic python data structures like dictionaries"
   ]
  },
  {
   "cell_type": "code",
   "execution_count": 18,
   "metadata": {},
   "outputs": [
    {
     "data": {
      "text/plain": [
       "dict_values([15676758, 67535667, 2453223])"
      ]
     },
     "execution_count": 18,
     "metadata": {},
     "output_type": "execute_result"
    }
   ],
   "source": [
    "amountStolen=robberies.values()\n",
    "amountStolen"
   ]
  },
  {
   "cell_type": "markdown",
   "metadata": {},
   "source": [
    "**3c** Write a list comprehension that doubles each item in amountStolen"
   ]
  },
  {
   "cell_type": "code",
   "execution_count": 19,
   "metadata": {},
   "outputs": [
    {
     "name": "stdout",
     "output_type": "stream",
     "text": [
      "[31353516, 135071334, 4906446]\n"
     ]
    }
   ],
   "source": [
    "double=[value*2 for value in amountStolen]\n",
    "print(double)"
   ]
  },
  {
   "cell_type": "markdown",
   "metadata": {},
   "source": [
    "**3d** Use the amountStolen list for a list comprehension to create a new list of amountsStolen that are greater than $10 million"
   ]
  },
  {
   "cell_type": "code",
   "execution_count": 20,
   "metadata": {},
   "outputs": [
    {
     "name": "stdout",
     "output_type": "stream",
     "text": [
      "[15676758, 67535667]\n"
     ]
    }
   ],
   "source": [
    "bigThefts=[value for value in amountStolen if value>10000000]\n",
    "print(bigThefts)"
   ]
  },
  {
   "cell_type": "markdown",
   "metadata": {},
   "source": [
    "**3e** Using the lastLetters list you made in part a, write a list comprehension to create a list that contains every item in the lastLetters that is **not** the letter y.  Your output should be: ['s', 's', 'r', 't', 'e']\n"
   ]
  },
  {
   "cell_type": "code",
   "execution_count": 22,
   "metadata": {},
   "outputs": [
    {
     "data": {
      "text/plain": [
       "['s', 's', 'r', 't', 'e']"
      ]
     },
     "execution_count": 22,
     "metadata": {},
     "output_type": "execute_result"
    }
   ],
   "source": [
    "notY=[letter for letter in lastLetters if letter!='y']\n",
    "notY"
   ]
  },
  {
   "cell_type": "markdown",
   "metadata": {},
   "source": [
    "### If you have time"
   ]
  },
  {
   "cell_type": "markdown",
   "metadata": {},
   "source": [
    "**Extra 1**  Select a random item from bankRobbers"
   ]
  },
  {
   "cell_type": "code",
   "execution_count": 25,
   "metadata": {},
   "outputs": [
    {
     "name": "stdout",
     "output_type": "stream",
     "text": [
      "Bailey\n"
     ]
    }
   ],
   "source": [
    "##Your import here\n",
    "import random\n",
    "randomItem=random.choice(bankRobbers)\n",
    "print(randomItem)"
   ]
  },
  {
   "cell_type": "markdown",
   "metadata": {},
   "source": [
    "**Extra 2** Use the dict and zip functions to create a new dictionary connecting the bank robbers name to their life time hauls.  For example, haulDict['Ashley'] should be 8"
   ]
  },
  {
   "cell_type": "code",
   "execution_count": 26,
   "metadata": {},
   "outputs": [
    {
     "name": "stdout",
     "output_type": "stream",
     "text": [
      "8\n"
     ]
    }
   ],
   "source": [
    "lifetimeHauls=[8*i for i in range(len(bankRobbers))]\n",
    "haulDict=dict(zip(bankRobbers,lifetimeHauls))\n",
    "print(haulDict['Ashley'])"
   ]
  },
  {
   "cell_type": "markdown",
   "metadata": {},
   "source": [
    "**Extra 3** Find the number of unique letters in all of the bank robbers names put together (you should get 17)"
   ]
  },
  {
   "cell_type": "code",
   "execution_count": 29,
   "metadata": {},
   "outputs": [
    {
     "data": {
      "text/plain": [
       "17"
      ]
     },
     "execution_count": 29,
     "metadata": {},
     "output_type": "execute_result"
    }
   ],
   "source": [
    "len(set(''.join(bankRobbers)))"
   ]
  },
  {
   "cell_type": "markdown",
   "metadata": {},
   "source": [
    "**Extra 4** Use set and intersect to write a function to find any/all letters that appear as the first letter of a word **and** the second letter of a word.  For example overlap(['cat','apple','pony']) would return ['p','a']"
   ]
  },
  {
   "cell_type": "code",
   "execution_count": 35,
   "metadata": {},
   "outputs": [
    {
     "name": "stdout",
     "output_type": "stream",
     "text": [
      "{'a', 'p', 'c'} {'a', 'o', 'p'}\n",
      "{'a', 'p'}\n"
     ]
    }
   ],
   "source": [
    "##Your code here\n",
    "def overlap(words):\n",
    "    last=set([word[1] for word in words])\n",
    "    first=set(word[0] for word in words)\n",
    "    return first.intersection(last)\n",
    "print(overlap(['cat','apple','pony']))"
   ]
  },
  {
   "cell_type": "code",
   "execution_count": null,
   "metadata": {},
   "outputs": [],
   "source": []
  }
 ],
 "metadata": {
  "kernelspec": {
   "display_name": "Python 3",
   "language": "python",
   "name": "python3"
  },
  "language_info": {
   "codemirror_mode": {
    "name": "ipython",
    "version": 3
   },
   "file_extension": ".py",
   "mimetype": "text/x-python",
   "name": "python",
   "nbconvert_exporter": "python",
   "pygments_lexer": "ipython3",
   "version": "3.7.3"
  }
 },
 "nbformat": 4,
 "nbformat_minor": 2
}
